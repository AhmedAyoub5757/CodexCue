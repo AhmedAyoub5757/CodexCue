{
 "cells": [
  {
   "cell_type": "code",
   "execution_count": 2,
   "metadata": {},
   "outputs": [],
   "source": [
    "import pandas as pd\n",
    "import numpy as np\n",
    "import plotly.express as px\n",
    "import plotly.graph_objects as go\n",
    "import matplotlib.pyplot as plt\n"
   ]
  },
  {
   "cell_type": "code",
   "execution_count": 3,
   "metadata": {},
   "outputs": [],
   "source": [
    "# Load the dataset\n",
    "file_path = 'Suicide_bombing_attacks.csv'  # Replace with your file path\n",
    "df = pd.read_csv(file_path)"
   ]
  },
  {
   "cell_type": "code",
   "execution_count": 4,
   "metadata": {},
   "outputs": [],
   "source": [
    "# Convert Date column to datetime\n",
    "df['Date'] = pd.to_datetime(df['Date'], errors='coerce')"
   ]
  },
  {
   "cell_type": "code",
   "execution_count": 5,
   "metadata": {},
   "outputs": [],
   "source": [
    "# Extract date-related features\n",
    "df['Year'] = df['Date'].dt.year\n",
    "df['Month'] = df['Date'].dt.month\n",
    "df['Day'] = df['Date'].dt.day\n",
    "df['DayOfWeek'] = df['Date'].dt.dayofweek\n",
    "df['Hour'] = pd.to_datetime(df['Time'], format='%I:%M %p', errors='coerce').dt.hour"
   ]
  },
  {
   "cell_type": "code",
   "execution_count": 6,
   "metadata": {},
   "outputs": [],
   "source": [
    "# Extract time of day\n",
    "def get_time_of_day(time):\n",
    "    if pd.isnull(time):\n",
    "        return None\n",
    "    try:\n",
    "        hour = pd.to_datetime(time, format='%I:%M %p').hour\n",
    "    except ValueError:\n",
    "        return None\n",
    "    if 5 <= hour < 12:\n",
    "        return 'Morning'\n",
    "    elif 12 <= hour < 17:\n",
    "        return 'Afternoon'\n",
    "    else:\n",
    "        return 'Evening'\n",
    "\n",
    "df['TimeOfDay'] = df['Time'].apply(get_time_of_day)"
   ]
  },
  {
   "cell_type": "code",
   "execution_count": 7,
   "metadata": {},
   "outputs": [],
   "source": [
    "# One-hot encoding for categorical variables\n",
    "df = pd.get_dummies(df, columns=['Blast Day Type', 'Holiday Type', 'City', 'Province', 'Targeted Sect if any', 'TimeOfDay'], drop_first=True)"
   ]
  },
  {
   "cell_type": "code",
   "execution_count": 8,
   "metadata": {},
   "outputs": [],
   "source": [
    "# Remove duplicates\n",
    "df_cleaned = df.drop_duplicates()"
   ]
  },
  {
   "cell_type": "code",
   "execution_count": 9,
   "metadata": {},
   "outputs": [
    {
     "name": "stderr",
     "output_type": "stream",
     "text": [
      "C:\\Users\\Lenovo\\AppData\\Local\\Temp\\ipykernel_12416\\976960826.py:6: FutureWarning: A value is trying to be set on a copy of a DataFrame or Series through chained assignment using an inplace method.\n",
      "The behavior will change in pandas 3.0. This inplace method will never work because the intermediate object on which we are setting values always behaves as a copy.\n",
      "\n",
      "For example, when doing 'df[col].method(value, inplace=True)', try using 'df.method({col: value}, inplace=True)' or df[col] = df[col].method(value) instead, to perform the operation inplace on the original object.\n",
      "\n",
      "\n",
      "  df_cleaned[column].fillna(df_cleaned[column].median(), inplace=True)\n",
      "C:\\Users\\Lenovo\\AppData\\Local\\Temp\\ipykernel_12416\\976960826.py:6: SettingWithCopyWarning: \n",
      "A value is trying to be set on a copy of a slice from a DataFrame\n",
      "\n",
      "See the caveats in the documentation: https://pandas.pydata.org/pandas-docs/stable/user_guide/indexing.html#returning-a-view-versus-a-copy\n",
      "  df_cleaned[column].fillna(df_cleaned[column].median(), inplace=True)\n",
      "C:\\Users\\Lenovo\\AppData\\Local\\Temp\\ipykernel_12416\\976960826.py:4: FutureWarning: A value is trying to be set on a copy of a DataFrame or Series through chained assignment using an inplace method.\n",
      "The behavior will change in pandas 3.0. This inplace method will never work because the intermediate object on which we are setting values always behaves as a copy.\n",
      "\n",
      "For example, when doing 'df[col].method(value, inplace=True)', try using 'df.method({col: value}, inplace=True)' or df[col] = df[col].method(value) instead, to perform the operation inplace on the original object.\n",
      "\n",
      "\n",
      "  df_cleaned[column].fillna(df_cleaned[column].mode()[0], inplace=True)\n",
      "C:\\Users\\Lenovo\\AppData\\Local\\Temp\\ipykernel_12416\\976960826.py:4: SettingWithCopyWarning: \n",
      "A value is trying to be set on a copy of a slice from a DataFrame\n",
      "\n",
      "See the caveats in the documentation: https://pandas.pydata.org/pandas-docs/stable/user_guide/indexing.html#returning-a-view-versus-a-copy\n",
      "  df_cleaned[column].fillna(df_cleaned[column].mode()[0], inplace=True)\n",
      "C:\\Users\\Lenovo\\AppData\\Local\\Temp\\ipykernel_12416\\976960826.py:6: FutureWarning: A value is trying to be set on a copy of a DataFrame or Series through chained assignment using an inplace method.\n",
      "The behavior will change in pandas 3.0. This inplace method will never work because the intermediate object on which we are setting values always behaves as a copy.\n",
      "\n",
      "For example, when doing 'df[col].method(value, inplace=True)', try using 'df.method({col: value}, inplace=True)' or df[col] = df[col].method(value) instead, to perform the operation inplace on the original object.\n",
      "\n",
      "\n",
      "  df_cleaned[column].fillna(df_cleaned[column].median(), inplace=True)\n",
      "C:\\Users\\Lenovo\\AppData\\Local\\Temp\\ipykernel_12416\\976960826.py:6: SettingWithCopyWarning: \n",
      "A value is trying to be set on a copy of a slice from a DataFrame\n",
      "\n",
      "See the caveats in the documentation: https://pandas.pydata.org/pandas-docs/stable/user_guide/indexing.html#returning-a-view-versus-a-copy\n",
      "  df_cleaned[column].fillna(df_cleaned[column].median(), inplace=True)\n",
      "C:\\Users\\Lenovo\\AppData\\Local\\Temp\\ipykernel_12416\\976960826.py:4: FutureWarning: A value is trying to be set on a copy of a DataFrame or Series through chained assignment using an inplace method.\n",
      "The behavior will change in pandas 3.0. This inplace method will never work because the intermediate object on which we are setting values always behaves as a copy.\n",
      "\n",
      "For example, when doing 'df[col].method(value, inplace=True)', try using 'df.method({col: value}, inplace=True)' or df[col] = df[col].method(value) instead, to perform the operation inplace on the original object.\n",
      "\n",
      "\n",
      "  df_cleaned[column].fillna(df_cleaned[column].mode()[0], inplace=True)\n",
      "C:\\Users\\Lenovo\\AppData\\Local\\Temp\\ipykernel_12416\\976960826.py:4: SettingWithCopyWarning: \n",
      "A value is trying to be set on a copy of a slice from a DataFrame\n",
      "\n",
      "See the caveats in the documentation: https://pandas.pydata.org/pandas-docs/stable/user_guide/indexing.html#returning-a-view-versus-a-copy\n",
      "  df_cleaned[column].fillna(df_cleaned[column].mode()[0], inplace=True)\n",
      "C:\\Users\\Lenovo\\AppData\\Local\\Temp\\ipykernel_12416\\976960826.py:6: FutureWarning: A value is trying to be set on a copy of a DataFrame or Series through chained assignment using an inplace method.\n",
      "The behavior will change in pandas 3.0. This inplace method will never work because the intermediate object on which we are setting values always behaves as a copy.\n",
      "\n",
      "For example, when doing 'df[col].method(value, inplace=True)', try using 'df.method({col: value}, inplace=True)' or df[col] = df[col].method(value) instead, to perform the operation inplace on the original object.\n",
      "\n",
      "\n",
      "  df_cleaned[column].fillna(df_cleaned[column].median(), inplace=True)\n",
      "C:\\Users\\Lenovo\\AppData\\Local\\Temp\\ipykernel_12416\\976960826.py:6: SettingWithCopyWarning: \n",
      "A value is trying to be set on a copy of a slice from a DataFrame\n",
      "\n",
      "See the caveats in the documentation: https://pandas.pydata.org/pandas-docs/stable/user_guide/indexing.html#returning-a-view-versus-a-copy\n",
      "  df_cleaned[column].fillna(df_cleaned[column].median(), inplace=True)\n",
      "C:\\Users\\Lenovo\\AppData\\Local\\Temp\\ipykernel_12416\\976960826.py:6: FutureWarning: A value is trying to be set on a copy of a DataFrame or Series through chained assignment using an inplace method.\n",
      "The behavior will change in pandas 3.0. This inplace method will never work because the intermediate object on which we are setting values always behaves as a copy.\n",
      "\n",
      "For example, when doing 'df[col].method(value, inplace=True)', try using 'df.method({col: value}, inplace=True)' or df[col] = df[col].method(value) instead, to perform the operation inplace on the original object.\n",
      "\n",
      "\n",
      "  df_cleaned[column].fillna(df_cleaned[column].median(), inplace=True)\n",
      "C:\\Users\\Lenovo\\AppData\\Local\\Temp\\ipykernel_12416\\976960826.py:6: SettingWithCopyWarning: \n",
      "A value is trying to be set on a copy of a slice from a DataFrame\n",
      "\n",
      "See the caveats in the documentation: https://pandas.pydata.org/pandas-docs/stable/user_guide/indexing.html#returning-a-view-versus-a-copy\n",
      "  df_cleaned[column].fillna(df_cleaned[column].median(), inplace=True)\n",
      "C:\\Users\\Lenovo\\AppData\\Local\\Temp\\ipykernel_12416\\976960826.py:6: FutureWarning: A value is trying to be set on a copy of a DataFrame or Series through chained assignment using an inplace method.\n",
      "The behavior will change in pandas 3.0. This inplace method will never work because the intermediate object on which we are setting values always behaves as a copy.\n",
      "\n",
      "For example, when doing 'df[col].method(value, inplace=True)', try using 'df.method({col: value}, inplace=True)' or df[col] = df[col].method(value) instead, to perform the operation inplace on the original object.\n",
      "\n",
      "\n",
      "  df_cleaned[column].fillna(df_cleaned[column].median(), inplace=True)\n",
      "C:\\Users\\Lenovo\\AppData\\Local\\Temp\\ipykernel_12416\\976960826.py:6: SettingWithCopyWarning: \n",
      "A value is trying to be set on a copy of a slice from a DataFrame\n",
      "\n",
      "See the caveats in the documentation: https://pandas.pydata.org/pandas-docs/stable/user_guide/indexing.html#returning-a-view-versus-a-copy\n",
      "  df_cleaned[column].fillna(df_cleaned[column].median(), inplace=True)\n",
      "C:\\Users\\Lenovo\\AppData\\Local\\Temp\\ipykernel_12416\\976960826.py:4: FutureWarning: A value is trying to be set on a copy of a DataFrame or Series through chained assignment using an inplace method.\n",
      "The behavior will change in pandas 3.0. This inplace method will never work because the intermediate object on which we are setting values always behaves as a copy.\n",
      "\n",
      "For example, when doing 'df[col].method(value, inplace=True)', try using 'df.method({col: value}, inplace=True)' or df[col] = df[col].method(value) instead, to perform the operation inplace on the original object.\n",
      "\n",
      "\n",
      "  df_cleaned[column].fillna(df_cleaned[column].mode()[0], inplace=True)\n",
      "C:\\Users\\Lenovo\\AppData\\Local\\Temp\\ipykernel_12416\\976960826.py:4: SettingWithCopyWarning: \n",
      "A value is trying to be set on a copy of a slice from a DataFrame\n",
      "\n",
      "See the caveats in the documentation: https://pandas.pydata.org/pandas-docs/stable/user_guide/indexing.html#returning-a-view-versus-a-copy\n",
      "  df_cleaned[column].fillna(df_cleaned[column].mode()[0], inplace=True)\n",
      "C:\\Users\\Lenovo\\AppData\\Local\\Temp\\ipykernel_12416\\976960826.py:6: FutureWarning: A value is trying to be set on a copy of a DataFrame or Series through chained assignment using an inplace method.\n",
      "The behavior will change in pandas 3.0. This inplace method will never work because the intermediate object on which we are setting values always behaves as a copy.\n",
      "\n",
      "For example, when doing 'df[col].method(value, inplace=True)', try using 'df.method({col: value}, inplace=True)' or df[col] = df[col].method(value) instead, to perform the operation inplace on the original object.\n",
      "\n",
      "\n",
      "  df_cleaned[column].fillna(df_cleaned[column].median(), inplace=True)\n",
      "C:\\Users\\Lenovo\\AppData\\Local\\Temp\\ipykernel_12416\\976960826.py:6: SettingWithCopyWarning: \n",
      "A value is trying to be set on a copy of a slice from a DataFrame\n",
      "\n",
      "See the caveats in the documentation: https://pandas.pydata.org/pandas-docs/stable/user_guide/indexing.html#returning-a-view-versus-a-copy\n",
      "  df_cleaned[column].fillna(df_cleaned[column].median(), inplace=True)\n",
      "C:\\Users\\Lenovo\\AppData\\Local\\Temp\\ipykernel_12416\\976960826.py:4: FutureWarning: A value is trying to be set on a copy of a DataFrame or Series through chained assignment using an inplace method.\n",
      "The behavior will change in pandas 3.0. This inplace method will never work because the intermediate object on which we are setting values always behaves as a copy.\n",
      "\n",
      "For example, when doing 'df[col].method(value, inplace=True)', try using 'df.method({col: value}, inplace=True)' or df[col] = df[col].method(value) instead, to perform the operation inplace on the original object.\n",
      "\n",
      "\n",
      "  df_cleaned[column].fillna(df_cleaned[column].mode()[0], inplace=True)\n",
      "C:\\Users\\Lenovo\\AppData\\Local\\Temp\\ipykernel_12416\\976960826.py:4: SettingWithCopyWarning: \n",
      "A value is trying to be set on a copy of a slice from a DataFrame\n",
      "\n",
      "See the caveats in the documentation: https://pandas.pydata.org/pandas-docs/stable/user_guide/indexing.html#returning-a-view-versus-a-copy\n",
      "  df_cleaned[column].fillna(df_cleaned[column].mode()[0], inplace=True)\n",
      "C:\\Users\\Lenovo\\AppData\\Local\\Temp\\ipykernel_12416\\976960826.py:6: FutureWarning: A value is trying to be set on a copy of a DataFrame or Series through chained assignment using an inplace method.\n",
      "The behavior will change in pandas 3.0. This inplace method will never work because the intermediate object on which we are setting values always behaves as a copy.\n",
      "\n",
      "For example, when doing 'df[col].method(value, inplace=True)', try using 'df.method({col: value}, inplace=True)' or df[col] = df[col].method(value) instead, to perform the operation inplace on the original object.\n",
      "\n",
      "\n",
      "  df_cleaned[column].fillna(df_cleaned[column].median(), inplace=True)\n",
      "C:\\Users\\Lenovo\\AppData\\Local\\Temp\\ipykernel_12416\\976960826.py:6: SettingWithCopyWarning: \n",
      "A value is trying to be set on a copy of a slice from a DataFrame\n",
      "\n",
      "See the caveats in the documentation: https://pandas.pydata.org/pandas-docs/stable/user_guide/indexing.html#returning-a-view-versus-a-copy\n",
      "  df_cleaned[column].fillna(df_cleaned[column].median(), inplace=True)\n",
      "C:\\Users\\Lenovo\\AppData\\Local\\Temp\\ipykernel_12416\\976960826.py:6: FutureWarning: A value is trying to be set on a copy of a DataFrame or Series through chained assignment using an inplace method.\n",
      "The behavior will change in pandas 3.0. This inplace method will never work because the intermediate object on which we are setting values always behaves as a copy.\n",
      "\n",
      "For example, when doing 'df[col].method(value, inplace=True)', try using 'df.method({col: value}, inplace=True)' or df[col] = df[col].method(value) instead, to perform the operation inplace on the original object.\n",
      "\n",
      "\n",
      "  df_cleaned[column].fillna(df_cleaned[column].median(), inplace=True)\n",
      "C:\\Users\\Lenovo\\AppData\\Local\\Temp\\ipykernel_12416\\976960826.py:6: SettingWithCopyWarning: \n",
      "A value is trying to be set on a copy of a slice from a DataFrame\n",
      "\n",
      "See the caveats in the documentation: https://pandas.pydata.org/pandas-docs/stable/user_guide/indexing.html#returning-a-view-versus-a-copy\n",
      "  df_cleaned[column].fillna(df_cleaned[column].median(), inplace=True)\n",
      "C:\\Users\\Lenovo\\AppData\\Local\\Temp\\ipykernel_12416\\976960826.py:6: FutureWarning: A value is trying to be set on a copy of a DataFrame or Series through chained assignment using an inplace method.\n",
      "The behavior will change in pandas 3.0. This inplace method will never work because the intermediate object on which we are setting values always behaves as a copy.\n",
      "\n",
      "For example, when doing 'df[col].method(value, inplace=True)', try using 'df.method({col: value}, inplace=True)' or df[col] = df[col].method(value) instead, to perform the operation inplace on the original object.\n",
      "\n",
      "\n",
      "  df_cleaned[column].fillna(df_cleaned[column].median(), inplace=True)\n",
      "C:\\Users\\Lenovo\\AppData\\Local\\Temp\\ipykernel_12416\\976960826.py:6: SettingWithCopyWarning: \n",
      "A value is trying to be set on a copy of a slice from a DataFrame\n",
      "\n",
      "See the caveats in the documentation: https://pandas.pydata.org/pandas-docs/stable/user_guide/indexing.html#returning-a-view-versus-a-copy\n",
      "  df_cleaned[column].fillna(df_cleaned[column].median(), inplace=True)\n",
      "C:\\Users\\Lenovo\\AppData\\Local\\Temp\\ipykernel_12416\\976960826.py:6: FutureWarning: A value is trying to be set on a copy of a DataFrame or Series through chained assignment using an inplace method.\n",
      "The behavior will change in pandas 3.0. This inplace method will never work because the intermediate object on which we are setting values always behaves as a copy.\n",
      "\n",
      "For example, when doing 'df[col].method(value, inplace=True)', try using 'df.method({col: value}, inplace=True)' or df[col] = df[col].method(value) instead, to perform the operation inplace on the original object.\n",
      "\n",
      "\n",
      "  df_cleaned[column].fillna(df_cleaned[column].median(), inplace=True)\n",
      "C:\\Users\\Lenovo\\AppData\\Local\\Temp\\ipykernel_12416\\976960826.py:6: SettingWithCopyWarning: \n",
      "A value is trying to be set on a copy of a slice from a DataFrame\n",
      "\n",
      "See the caveats in the documentation: https://pandas.pydata.org/pandas-docs/stable/user_guide/indexing.html#returning-a-view-versus-a-copy\n",
      "  df_cleaned[column].fillna(df_cleaned[column].median(), inplace=True)\n",
      "C:\\Users\\Lenovo\\AppData\\Local\\Temp\\ipykernel_12416\\976960826.py:6: FutureWarning: A value is trying to be set on a copy of a DataFrame or Series through chained assignment using an inplace method.\n",
      "The behavior will change in pandas 3.0. This inplace method will never work because the intermediate object on which we are setting values always behaves as a copy.\n",
      "\n",
      "For example, when doing 'df[col].method(value, inplace=True)', try using 'df.method({col: value}, inplace=True)' or df[col] = df[col].method(value) instead, to perform the operation inplace on the original object.\n",
      "\n",
      "\n",
      "  df_cleaned[column].fillna(df_cleaned[column].median(), inplace=True)\n",
      "C:\\Users\\Lenovo\\AppData\\Local\\Temp\\ipykernel_12416\\976960826.py:6: SettingWithCopyWarning: \n",
      "A value is trying to be set on a copy of a slice from a DataFrame\n",
      "\n",
      "See the caveats in the documentation: https://pandas.pydata.org/pandas-docs/stable/user_guide/indexing.html#returning-a-view-versus-a-copy\n",
      "  df_cleaned[column].fillna(df_cleaned[column].median(), inplace=True)\n",
      "C:\\Users\\Lenovo\\AppData\\Local\\Temp\\ipykernel_12416\\976960826.py:6: FutureWarning: A value is trying to be set on a copy of a DataFrame or Series through chained assignment using an inplace method.\n",
      "The behavior will change in pandas 3.0. This inplace method will never work because the intermediate object on which we are setting values always behaves as a copy.\n",
      "\n",
      "For example, when doing 'df[col].method(value, inplace=True)', try using 'df.method({col: value}, inplace=True)' or df[col] = df[col].method(value) instead, to perform the operation inplace on the original object.\n",
      "\n",
      "\n",
      "  df_cleaned[column].fillna(df_cleaned[column].median(), inplace=True)\n",
      "C:\\Users\\Lenovo\\AppData\\Local\\Temp\\ipykernel_12416\\976960826.py:6: SettingWithCopyWarning: \n",
      "A value is trying to be set on a copy of a slice from a DataFrame\n",
      "\n",
      "See the caveats in the documentation: https://pandas.pydata.org/pandas-docs/stable/user_guide/indexing.html#returning-a-view-versus-a-copy\n",
      "  df_cleaned[column].fillna(df_cleaned[column].median(), inplace=True)\n",
      "C:\\Users\\Lenovo\\AppData\\Local\\Temp\\ipykernel_12416\\976960826.py:6: FutureWarning: A value is trying to be set on a copy of a DataFrame or Series through chained assignment using an inplace method.\n",
      "The behavior will change in pandas 3.0. This inplace method will never work because the intermediate object on which we are setting values always behaves as a copy.\n",
      "\n",
      "For example, when doing 'df[col].method(value, inplace=True)', try using 'df.method({col: value}, inplace=True)' or df[col] = df[col].method(value) instead, to perform the operation inplace on the original object.\n",
      "\n",
      "\n",
      "  df_cleaned[column].fillna(df_cleaned[column].median(), inplace=True)\n",
      "C:\\Users\\Lenovo\\AppData\\Local\\Temp\\ipykernel_12416\\976960826.py:6: SettingWithCopyWarning: \n",
      "A value is trying to be set on a copy of a slice from a DataFrame\n",
      "\n",
      "See the caveats in the documentation: https://pandas.pydata.org/pandas-docs/stable/user_guide/indexing.html#returning-a-view-versus-a-copy\n",
      "  df_cleaned[column].fillna(df_cleaned[column].median(), inplace=True)\n",
      "C:\\Users\\Lenovo\\AppData\\Local\\Temp\\ipykernel_12416\\976960826.py:6: FutureWarning: A value is trying to be set on a copy of a DataFrame or Series through chained assignment using an inplace method.\n",
      "The behavior will change in pandas 3.0. This inplace method will never work because the intermediate object on which we are setting values always behaves as a copy.\n",
      "\n",
      "For example, when doing 'df[col].method(value, inplace=True)', try using 'df.method({col: value}, inplace=True)' or df[col] = df[col].method(value) instead, to perform the operation inplace on the original object.\n",
      "\n",
      "\n",
      "  df_cleaned[column].fillna(df_cleaned[column].median(), inplace=True)\n",
      "C:\\Users\\Lenovo\\AppData\\Local\\Temp\\ipykernel_12416\\976960826.py:6: SettingWithCopyWarning: \n",
      "A value is trying to be set on a copy of a slice from a DataFrame\n",
      "\n",
      "See the caveats in the documentation: https://pandas.pydata.org/pandas-docs/stable/user_guide/indexing.html#returning-a-view-versus-a-copy\n",
      "  df_cleaned[column].fillna(df_cleaned[column].median(), inplace=True)\n",
      "C:\\Users\\Lenovo\\AppData\\Local\\Temp\\ipykernel_12416\\976960826.py:6: FutureWarning: A value is trying to be set on a copy of a DataFrame or Series through chained assignment using an inplace method.\n",
      "The behavior will change in pandas 3.0. This inplace method will never work because the intermediate object on which we are setting values always behaves as a copy.\n",
      "\n",
      "For example, when doing 'df[col].method(value, inplace=True)', try using 'df.method({col: value}, inplace=True)' or df[col] = df[col].method(value) instead, to perform the operation inplace on the original object.\n",
      "\n",
      "\n",
      "  df_cleaned[column].fillna(df_cleaned[column].median(), inplace=True)\n",
      "C:\\Users\\Lenovo\\AppData\\Local\\Temp\\ipykernel_12416\\976960826.py:6: SettingWithCopyWarning: \n",
      "A value is trying to be set on a copy of a slice from a DataFrame\n",
      "\n",
      "See the caveats in the documentation: https://pandas.pydata.org/pandas-docs/stable/user_guide/indexing.html#returning-a-view-versus-a-copy\n",
      "  df_cleaned[column].fillna(df_cleaned[column].median(), inplace=True)\n",
      "C:\\Users\\Lenovo\\AppData\\Local\\Temp\\ipykernel_12416\\976960826.py:6: FutureWarning: A value is trying to be set on a copy of a DataFrame or Series through chained assignment using an inplace method.\n",
      "The behavior will change in pandas 3.0. This inplace method will never work because the intermediate object on which we are setting values always behaves as a copy.\n",
      "\n",
      "For example, when doing 'df[col].method(value, inplace=True)', try using 'df.method({col: value}, inplace=True)' or df[col] = df[col].method(value) instead, to perform the operation inplace on the original object.\n",
      "\n",
      "\n",
      "  df_cleaned[column].fillna(df_cleaned[column].median(), inplace=True)\n",
      "C:\\Users\\Lenovo\\AppData\\Local\\Temp\\ipykernel_12416\\976960826.py:6: SettingWithCopyWarning: \n",
      "A value is trying to be set on a copy of a slice from a DataFrame\n",
      "\n",
      "See the caveats in the documentation: https://pandas.pydata.org/pandas-docs/stable/user_guide/indexing.html#returning-a-view-versus-a-copy\n",
      "  df_cleaned[column].fillna(df_cleaned[column].median(), inplace=True)\n",
      "C:\\Users\\Lenovo\\AppData\\Local\\Temp\\ipykernel_12416\\976960826.py:6: FutureWarning: A value is trying to be set on a copy of a DataFrame or Series through chained assignment using an inplace method.\n",
      "The behavior will change in pandas 3.0. This inplace method will never work because the intermediate object on which we are setting values always behaves as a copy.\n",
      "\n",
      "For example, when doing 'df[col].method(value, inplace=True)', try using 'df.method({col: value}, inplace=True)' or df[col] = df[col].method(value) instead, to perform the operation inplace on the original object.\n",
      "\n",
      "\n",
      "  df_cleaned[column].fillna(df_cleaned[column].median(), inplace=True)\n",
      "C:\\Users\\Lenovo\\AppData\\Local\\Temp\\ipykernel_12416\\976960826.py:6: SettingWithCopyWarning: \n",
      "A value is trying to be set on a copy of a slice from a DataFrame\n",
      "\n",
      "See the caveats in the documentation: https://pandas.pydata.org/pandas-docs/stable/user_guide/indexing.html#returning-a-view-versus-a-copy\n",
      "  df_cleaned[column].fillna(df_cleaned[column].median(), inplace=True)\n",
      "C:\\Users\\Lenovo\\AppData\\Local\\Temp\\ipykernel_12416\\976960826.py:6: FutureWarning: A value is trying to be set on a copy of a DataFrame or Series through chained assignment using an inplace method.\n",
      "The behavior will change in pandas 3.0. This inplace method will never work because the intermediate object on which we are setting values always behaves as a copy.\n",
      "\n",
      "For example, when doing 'df[col].method(value, inplace=True)', try using 'df.method({col: value}, inplace=True)' or df[col] = df[col].method(value) instead, to perform the operation inplace on the original object.\n",
      "\n",
      "\n",
      "  df_cleaned[column].fillna(df_cleaned[column].median(), inplace=True)\n",
      "C:\\Users\\Lenovo\\AppData\\Local\\Temp\\ipykernel_12416\\976960826.py:6: SettingWithCopyWarning: \n",
      "A value is trying to be set on a copy of a slice from a DataFrame\n",
      "\n",
      "See the caveats in the documentation: https://pandas.pydata.org/pandas-docs/stable/user_guide/indexing.html#returning-a-view-versus-a-copy\n",
      "  df_cleaned[column].fillna(df_cleaned[column].median(), inplace=True)\n",
      "C:\\Users\\Lenovo\\AppData\\Local\\Temp\\ipykernel_12416\\976960826.py:6: FutureWarning: A value is trying to be set on a copy of a DataFrame or Series through chained assignment using an inplace method.\n",
      "The behavior will change in pandas 3.0. This inplace method will never work because the intermediate object on which we are setting values always behaves as a copy.\n",
      "\n",
      "For example, when doing 'df[col].method(value, inplace=True)', try using 'df.method({col: value}, inplace=True)' or df[col] = df[col].method(value) instead, to perform the operation inplace on the original object.\n",
      "\n",
      "\n",
      "  df_cleaned[column].fillna(df_cleaned[column].median(), inplace=True)\n",
      "C:\\Users\\Lenovo\\AppData\\Local\\Temp\\ipykernel_12416\\976960826.py:6: SettingWithCopyWarning: \n",
      "A value is trying to be set on a copy of a slice from a DataFrame\n",
      "\n",
      "See the caveats in the documentation: https://pandas.pydata.org/pandas-docs/stable/user_guide/indexing.html#returning-a-view-versus-a-copy\n",
      "  df_cleaned[column].fillna(df_cleaned[column].median(), inplace=True)\n",
      "C:\\Users\\Lenovo\\AppData\\Local\\Temp\\ipykernel_12416\\976960826.py:6: FutureWarning: A value is trying to be set on a copy of a DataFrame or Series through chained assignment using an inplace method.\n",
      "The behavior will change in pandas 3.0. This inplace method will never work because the intermediate object on which we are setting values always behaves as a copy.\n",
      "\n",
      "For example, when doing 'df[col].method(value, inplace=True)', try using 'df.method({col: value}, inplace=True)' or df[col] = df[col].method(value) instead, to perform the operation inplace on the original object.\n",
      "\n",
      "\n",
      "  df_cleaned[column].fillna(df_cleaned[column].median(), inplace=True)\n",
      "C:\\Users\\Lenovo\\AppData\\Local\\Temp\\ipykernel_12416\\976960826.py:6: SettingWithCopyWarning: \n",
      "A value is trying to be set on a copy of a slice from a DataFrame\n",
      "\n",
      "See the caveats in the documentation: https://pandas.pydata.org/pandas-docs/stable/user_guide/indexing.html#returning-a-view-versus-a-copy\n",
      "  df_cleaned[column].fillna(df_cleaned[column].median(), inplace=True)\n",
      "C:\\Users\\Lenovo\\AppData\\Local\\Temp\\ipykernel_12416\\976960826.py:6: FutureWarning: A value is trying to be set on a copy of a DataFrame or Series through chained assignment using an inplace method.\n",
      "The behavior will change in pandas 3.0. This inplace method will never work because the intermediate object on which we are setting values always behaves as a copy.\n",
      "\n",
      "For example, when doing 'df[col].method(value, inplace=True)', try using 'df.method({col: value}, inplace=True)' or df[col] = df[col].method(value) instead, to perform the operation inplace on the original object.\n",
      "\n",
      "\n",
      "  df_cleaned[column].fillna(df_cleaned[column].median(), inplace=True)\n",
      "C:\\Users\\Lenovo\\AppData\\Local\\Temp\\ipykernel_12416\\976960826.py:6: SettingWithCopyWarning: \n",
      "A value is trying to be set on a copy of a slice from a DataFrame\n",
      "\n",
      "See the caveats in the documentation: https://pandas.pydata.org/pandas-docs/stable/user_guide/indexing.html#returning-a-view-versus-a-copy\n",
      "  df_cleaned[column].fillna(df_cleaned[column].median(), inplace=True)\n",
      "C:\\Users\\Lenovo\\AppData\\Local\\Temp\\ipykernel_12416\\976960826.py:6: FutureWarning: A value is trying to be set on a copy of a DataFrame or Series through chained assignment using an inplace method.\n",
      "The behavior will change in pandas 3.0. This inplace method will never work because the intermediate object on which we are setting values always behaves as a copy.\n",
      "\n",
      "For example, when doing 'df[col].method(value, inplace=True)', try using 'df.method({col: value}, inplace=True)' or df[col] = df[col].method(value) instead, to perform the operation inplace on the original object.\n",
      "\n",
      "\n",
      "  df_cleaned[column].fillna(df_cleaned[column].median(), inplace=True)\n",
      "C:\\Users\\Lenovo\\AppData\\Local\\Temp\\ipykernel_12416\\976960826.py:6: SettingWithCopyWarning: \n",
      "A value is trying to be set on a copy of a slice from a DataFrame\n",
      "\n",
      "See the caveats in the documentation: https://pandas.pydata.org/pandas-docs/stable/user_guide/indexing.html#returning-a-view-versus-a-copy\n",
      "  df_cleaned[column].fillna(df_cleaned[column].median(), inplace=True)\n",
      "C:\\Users\\Lenovo\\AppData\\Local\\Temp\\ipykernel_12416\\976960826.py:6: FutureWarning: A value is trying to be set on a copy of a DataFrame or Series through chained assignment using an inplace method.\n",
      "The behavior will change in pandas 3.0. This inplace method will never work because the intermediate object on which we are setting values always behaves as a copy.\n",
      "\n",
      "For example, when doing 'df[col].method(value, inplace=True)', try using 'df.method({col: value}, inplace=True)' or df[col] = df[col].method(value) instead, to perform the operation inplace on the original object.\n",
      "\n",
      "\n",
      "  df_cleaned[column].fillna(df_cleaned[column].median(), inplace=True)\n",
      "C:\\Users\\Lenovo\\AppData\\Local\\Temp\\ipykernel_12416\\976960826.py:6: SettingWithCopyWarning: \n",
      "A value is trying to be set on a copy of a slice from a DataFrame\n",
      "\n",
      "See the caveats in the documentation: https://pandas.pydata.org/pandas-docs/stable/user_guide/indexing.html#returning-a-view-versus-a-copy\n",
      "  df_cleaned[column].fillna(df_cleaned[column].median(), inplace=True)\n",
      "C:\\Users\\Lenovo\\AppData\\Local\\Temp\\ipykernel_12416\\976960826.py:6: FutureWarning: A value is trying to be set on a copy of a DataFrame or Series through chained assignment using an inplace method.\n",
      "The behavior will change in pandas 3.0. This inplace method will never work because the intermediate object on which we are setting values always behaves as a copy.\n",
      "\n",
      "For example, when doing 'df[col].method(value, inplace=True)', try using 'df.method({col: value}, inplace=True)' or df[col] = df[col].method(value) instead, to perform the operation inplace on the original object.\n",
      "\n",
      "\n",
      "  df_cleaned[column].fillna(df_cleaned[column].median(), inplace=True)\n",
      "C:\\Users\\Lenovo\\AppData\\Local\\Temp\\ipykernel_12416\\976960826.py:6: SettingWithCopyWarning: \n",
      "A value is trying to be set on a copy of a slice from a DataFrame\n",
      "\n",
      "See the caveats in the documentation: https://pandas.pydata.org/pandas-docs/stable/user_guide/indexing.html#returning-a-view-versus-a-copy\n",
      "  df_cleaned[column].fillna(df_cleaned[column].median(), inplace=True)\n",
      "C:\\Users\\Lenovo\\AppData\\Local\\Temp\\ipykernel_12416\\976960826.py:6: FutureWarning: A value is trying to be set on a copy of a DataFrame or Series through chained assignment using an inplace method.\n",
      "The behavior will change in pandas 3.0. This inplace method will never work because the intermediate object on which we are setting values always behaves as a copy.\n",
      "\n",
      "For example, when doing 'df[col].method(value, inplace=True)', try using 'df.method({col: value}, inplace=True)' or df[col] = df[col].method(value) instead, to perform the operation inplace on the original object.\n",
      "\n",
      "\n",
      "  df_cleaned[column].fillna(df_cleaned[column].median(), inplace=True)\n",
      "C:\\Users\\Lenovo\\AppData\\Local\\Temp\\ipykernel_12416\\976960826.py:6: SettingWithCopyWarning: \n",
      "A value is trying to be set on a copy of a slice from a DataFrame\n",
      "\n",
      "See the caveats in the documentation: https://pandas.pydata.org/pandas-docs/stable/user_guide/indexing.html#returning-a-view-versus-a-copy\n",
      "  df_cleaned[column].fillna(df_cleaned[column].median(), inplace=True)\n",
      "C:\\Users\\Lenovo\\AppData\\Local\\Temp\\ipykernel_12416\\976960826.py:6: FutureWarning: A value is trying to be set on a copy of a DataFrame or Series through chained assignment using an inplace method.\n",
      "The behavior will change in pandas 3.0. This inplace method will never work because the intermediate object on which we are setting values always behaves as a copy.\n",
      "\n",
      "For example, when doing 'df[col].method(value, inplace=True)', try using 'df.method({col: value}, inplace=True)' or df[col] = df[col].method(value) instead, to perform the operation inplace on the original object.\n",
      "\n",
      "\n",
      "  df_cleaned[column].fillna(df_cleaned[column].median(), inplace=True)\n",
      "C:\\Users\\Lenovo\\AppData\\Local\\Temp\\ipykernel_12416\\976960826.py:6: SettingWithCopyWarning: \n",
      "A value is trying to be set on a copy of a slice from a DataFrame\n",
      "\n",
      "See the caveats in the documentation: https://pandas.pydata.org/pandas-docs/stable/user_guide/indexing.html#returning-a-view-versus-a-copy\n",
      "  df_cleaned[column].fillna(df_cleaned[column].median(), inplace=True)\n",
      "C:\\Users\\Lenovo\\AppData\\Local\\Temp\\ipykernel_12416\\976960826.py:6: FutureWarning: A value is trying to be set on a copy of a DataFrame or Series through chained assignment using an inplace method.\n",
      "The behavior will change in pandas 3.0. This inplace method will never work because the intermediate object on which we are setting values always behaves as a copy.\n",
      "\n",
      "For example, when doing 'df[col].method(value, inplace=True)', try using 'df.method({col: value}, inplace=True)' or df[col] = df[col].method(value) instead, to perform the operation inplace on the original object.\n",
      "\n",
      "\n",
      "  df_cleaned[column].fillna(df_cleaned[column].median(), inplace=True)\n",
      "C:\\Users\\Lenovo\\AppData\\Local\\Temp\\ipykernel_12416\\976960826.py:6: SettingWithCopyWarning: \n",
      "A value is trying to be set on a copy of a slice from a DataFrame\n",
      "\n",
      "See the caveats in the documentation: https://pandas.pydata.org/pandas-docs/stable/user_guide/indexing.html#returning-a-view-versus-a-copy\n",
      "  df_cleaned[column].fillna(df_cleaned[column].median(), inplace=True)\n",
      "C:\\Users\\Lenovo\\AppData\\Local\\Temp\\ipykernel_12416\\976960826.py:6: FutureWarning: A value is trying to be set on a copy of a DataFrame or Series through chained assignment using an inplace method.\n",
      "The behavior will change in pandas 3.0. This inplace method will never work because the intermediate object on which we are setting values always behaves as a copy.\n",
      "\n",
      "For example, when doing 'df[col].method(value, inplace=True)', try using 'df.method({col: value}, inplace=True)' or df[col] = df[col].method(value) instead, to perform the operation inplace on the original object.\n",
      "\n",
      "\n",
      "  df_cleaned[column].fillna(df_cleaned[column].median(), inplace=True)\n",
      "C:\\Users\\Lenovo\\AppData\\Local\\Temp\\ipykernel_12416\\976960826.py:6: SettingWithCopyWarning: \n",
      "A value is trying to be set on a copy of a slice from a DataFrame\n",
      "\n",
      "See the caveats in the documentation: https://pandas.pydata.org/pandas-docs/stable/user_guide/indexing.html#returning-a-view-versus-a-copy\n",
      "  df_cleaned[column].fillna(df_cleaned[column].median(), inplace=True)\n",
      "C:\\Users\\Lenovo\\AppData\\Local\\Temp\\ipykernel_12416\\976960826.py:6: FutureWarning: A value is trying to be set on a copy of a DataFrame or Series through chained assignment using an inplace method.\n",
      "The behavior will change in pandas 3.0. This inplace method will never work because the intermediate object on which we are setting values always behaves as a copy.\n",
      "\n",
      "For example, when doing 'df[col].method(value, inplace=True)', try using 'df.method({col: value}, inplace=True)' or df[col] = df[col].method(value) instead, to perform the operation inplace on the original object.\n",
      "\n",
      "\n",
      "  df_cleaned[column].fillna(df_cleaned[column].median(), inplace=True)\n",
      "C:\\Users\\Lenovo\\AppData\\Local\\Temp\\ipykernel_12416\\976960826.py:6: SettingWithCopyWarning: \n",
      "A value is trying to be set on a copy of a slice from a DataFrame\n",
      "\n",
      "See the caveats in the documentation: https://pandas.pydata.org/pandas-docs/stable/user_guide/indexing.html#returning-a-view-versus-a-copy\n",
      "  df_cleaned[column].fillna(df_cleaned[column].median(), inplace=True)\n",
      "C:\\Users\\Lenovo\\AppData\\Local\\Temp\\ipykernel_12416\\976960826.py:6: FutureWarning: A value is trying to be set on a copy of a DataFrame or Series through chained assignment using an inplace method.\n",
      "The behavior will change in pandas 3.0. This inplace method will never work because the intermediate object on which we are setting values always behaves as a copy.\n",
      "\n",
      "For example, when doing 'df[col].method(value, inplace=True)', try using 'df.method({col: value}, inplace=True)' or df[col] = df[col].method(value) instead, to perform the operation inplace on the original object.\n",
      "\n",
      "\n",
      "  df_cleaned[column].fillna(df_cleaned[column].median(), inplace=True)\n",
      "C:\\Users\\Lenovo\\AppData\\Local\\Temp\\ipykernel_12416\\976960826.py:6: SettingWithCopyWarning: \n",
      "A value is trying to be set on a copy of a slice from a DataFrame\n",
      "\n",
      "See the caveats in the documentation: https://pandas.pydata.org/pandas-docs/stable/user_guide/indexing.html#returning-a-view-versus-a-copy\n",
      "  df_cleaned[column].fillna(df_cleaned[column].median(), inplace=True)\n",
      "C:\\Users\\Lenovo\\AppData\\Local\\Temp\\ipykernel_12416\\976960826.py:6: FutureWarning: A value is trying to be set on a copy of a DataFrame or Series through chained assignment using an inplace method.\n",
      "The behavior will change in pandas 3.0. This inplace method will never work because the intermediate object on which we are setting values always behaves as a copy.\n",
      "\n",
      "For example, when doing 'df[col].method(value, inplace=True)', try using 'df.method({col: value}, inplace=True)' or df[col] = df[col].method(value) instead, to perform the operation inplace on the original object.\n",
      "\n",
      "\n",
      "  df_cleaned[column].fillna(df_cleaned[column].median(), inplace=True)\n",
      "C:\\Users\\Lenovo\\AppData\\Local\\Temp\\ipykernel_12416\\976960826.py:6: SettingWithCopyWarning: \n",
      "A value is trying to be set on a copy of a slice from a DataFrame\n",
      "\n",
      "See the caveats in the documentation: https://pandas.pydata.org/pandas-docs/stable/user_guide/indexing.html#returning-a-view-versus-a-copy\n",
      "  df_cleaned[column].fillna(df_cleaned[column].median(), inplace=True)\n",
      "C:\\Users\\Lenovo\\AppData\\Local\\Temp\\ipykernel_12416\\976960826.py:6: FutureWarning: A value is trying to be set on a copy of a DataFrame or Series through chained assignment using an inplace method.\n",
      "The behavior will change in pandas 3.0. This inplace method will never work because the intermediate object on which we are setting values always behaves as a copy.\n",
      "\n",
      "For example, when doing 'df[col].method(value, inplace=True)', try using 'df.method({col: value}, inplace=True)' or df[col] = df[col].method(value) instead, to perform the operation inplace on the original object.\n",
      "\n",
      "\n",
      "  df_cleaned[column].fillna(df_cleaned[column].median(), inplace=True)\n",
      "C:\\Users\\Lenovo\\AppData\\Local\\Temp\\ipykernel_12416\\976960826.py:6: SettingWithCopyWarning: \n",
      "A value is trying to be set on a copy of a slice from a DataFrame\n",
      "\n",
      "See the caveats in the documentation: https://pandas.pydata.org/pandas-docs/stable/user_guide/indexing.html#returning-a-view-versus-a-copy\n",
      "  df_cleaned[column].fillna(df_cleaned[column].median(), inplace=True)\n",
      "C:\\Users\\Lenovo\\AppData\\Local\\Temp\\ipykernel_12416\\976960826.py:6: FutureWarning: A value is trying to be set on a copy of a DataFrame or Series through chained assignment using an inplace method.\n",
      "The behavior will change in pandas 3.0. This inplace method will never work because the intermediate object on which we are setting values always behaves as a copy.\n",
      "\n",
      "For example, when doing 'df[col].method(value, inplace=True)', try using 'df.method({col: value}, inplace=True)' or df[col] = df[col].method(value) instead, to perform the operation inplace on the original object.\n",
      "\n",
      "\n",
      "  df_cleaned[column].fillna(df_cleaned[column].median(), inplace=True)\n",
      "C:\\Users\\Lenovo\\AppData\\Local\\Temp\\ipykernel_12416\\976960826.py:6: SettingWithCopyWarning: \n",
      "A value is trying to be set on a copy of a slice from a DataFrame\n",
      "\n",
      "See the caveats in the documentation: https://pandas.pydata.org/pandas-docs/stable/user_guide/indexing.html#returning-a-view-versus-a-copy\n",
      "  df_cleaned[column].fillna(df_cleaned[column].median(), inplace=True)\n",
      "C:\\Users\\Lenovo\\AppData\\Local\\Temp\\ipykernel_12416\\976960826.py:6: FutureWarning: A value is trying to be set on a copy of a DataFrame or Series through chained assignment using an inplace method.\n",
      "The behavior will change in pandas 3.0. This inplace method will never work because the intermediate object on which we are setting values always behaves as a copy.\n",
      "\n",
      "For example, when doing 'df[col].method(value, inplace=True)', try using 'df.method({col: value}, inplace=True)' or df[col] = df[col].method(value) instead, to perform the operation inplace on the original object.\n",
      "\n",
      "\n",
      "  df_cleaned[column].fillna(df_cleaned[column].median(), inplace=True)\n",
      "C:\\Users\\Lenovo\\AppData\\Local\\Temp\\ipykernel_12416\\976960826.py:6: SettingWithCopyWarning: \n",
      "A value is trying to be set on a copy of a slice from a DataFrame\n",
      "\n",
      "See the caveats in the documentation: https://pandas.pydata.org/pandas-docs/stable/user_guide/indexing.html#returning-a-view-versus-a-copy\n",
      "  df_cleaned[column].fillna(df_cleaned[column].median(), inplace=True)\n",
      "C:\\Users\\Lenovo\\AppData\\Local\\Temp\\ipykernel_12416\\976960826.py:6: FutureWarning: A value is trying to be set on a copy of a DataFrame or Series through chained assignment using an inplace method.\n",
      "The behavior will change in pandas 3.0. This inplace method will never work because the intermediate object on which we are setting values always behaves as a copy.\n",
      "\n",
      "For example, when doing 'df[col].method(value, inplace=True)', try using 'df.method({col: value}, inplace=True)' or df[col] = df[col].method(value) instead, to perform the operation inplace on the original object.\n",
      "\n",
      "\n",
      "  df_cleaned[column].fillna(df_cleaned[column].median(), inplace=True)\n",
      "C:\\Users\\Lenovo\\AppData\\Local\\Temp\\ipykernel_12416\\976960826.py:6: SettingWithCopyWarning: \n",
      "A value is trying to be set on a copy of a slice from a DataFrame\n",
      "\n",
      "See the caveats in the documentation: https://pandas.pydata.org/pandas-docs/stable/user_guide/indexing.html#returning-a-view-versus-a-copy\n",
      "  df_cleaned[column].fillna(df_cleaned[column].median(), inplace=True)\n",
      "C:\\Users\\Lenovo\\AppData\\Local\\Temp\\ipykernel_12416\\976960826.py:6: FutureWarning: A value is trying to be set on a copy of a DataFrame or Series through chained assignment using an inplace method.\n",
      "The behavior will change in pandas 3.0. This inplace method will never work because the intermediate object on which we are setting values always behaves as a copy.\n",
      "\n",
      "For example, when doing 'df[col].method(value, inplace=True)', try using 'df.method({col: value}, inplace=True)' or df[col] = df[col].method(value) instead, to perform the operation inplace on the original object.\n",
      "\n",
      "\n",
      "  df_cleaned[column].fillna(df_cleaned[column].median(), inplace=True)\n",
      "C:\\Users\\Lenovo\\AppData\\Local\\Temp\\ipykernel_12416\\976960826.py:6: SettingWithCopyWarning: \n",
      "A value is trying to be set on a copy of a slice from a DataFrame\n",
      "\n",
      "See the caveats in the documentation: https://pandas.pydata.org/pandas-docs/stable/user_guide/indexing.html#returning-a-view-versus-a-copy\n",
      "  df_cleaned[column].fillna(df_cleaned[column].median(), inplace=True)\n",
      "C:\\Users\\Lenovo\\AppData\\Local\\Temp\\ipykernel_12416\\976960826.py:6: FutureWarning: A value is trying to be set on a copy of a DataFrame or Series through chained assignment using an inplace method.\n",
      "The behavior will change in pandas 3.0. This inplace method will never work because the intermediate object on which we are setting values always behaves as a copy.\n",
      "\n",
      "For example, when doing 'df[col].method(value, inplace=True)', try using 'df.method({col: value}, inplace=True)' or df[col] = df[col].method(value) instead, to perform the operation inplace on the original object.\n",
      "\n",
      "\n",
      "  df_cleaned[column].fillna(df_cleaned[column].median(), inplace=True)\n",
      "C:\\Users\\Lenovo\\AppData\\Local\\Temp\\ipykernel_12416\\976960826.py:6: SettingWithCopyWarning: \n",
      "A value is trying to be set on a copy of a slice from a DataFrame\n",
      "\n",
      "See the caveats in the documentation: https://pandas.pydata.org/pandas-docs/stable/user_guide/indexing.html#returning-a-view-versus-a-copy\n",
      "  df_cleaned[column].fillna(df_cleaned[column].median(), inplace=True)\n",
      "C:\\Users\\Lenovo\\AppData\\Local\\Temp\\ipykernel_12416\\976960826.py:6: FutureWarning: A value is trying to be set on a copy of a DataFrame or Series through chained assignment using an inplace method.\n",
      "The behavior will change in pandas 3.0. This inplace method will never work because the intermediate object on which we are setting values always behaves as a copy.\n",
      "\n",
      "For example, when doing 'df[col].method(value, inplace=True)', try using 'df.method({col: value}, inplace=True)' or df[col] = df[col].method(value) instead, to perform the operation inplace on the original object.\n",
      "\n",
      "\n",
      "  df_cleaned[column].fillna(df_cleaned[column].median(), inplace=True)\n",
      "C:\\Users\\Lenovo\\AppData\\Local\\Temp\\ipykernel_12416\\976960826.py:6: SettingWithCopyWarning: \n",
      "A value is trying to be set on a copy of a slice from a DataFrame\n",
      "\n",
      "See the caveats in the documentation: https://pandas.pydata.org/pandas-docs/stable/user_guide/indexing.html#returning-a-view-versus-a-copy\n",
      "  df_cleaned[column].fillna(df_cleaned[column].median(), inplace=True)\n",
      "C:\\Users\\Lenovo\\AppData\\Local\\Temp\\ipykernel_12416\\976960826.py:6: FutureWarning: A value is trying to be set on a copy of a DataFrame or Series through chained assignment using an inplace method.\n",
      "The behavior will change in pandas 3.0. This inplace method will never work because the intermediate object on which we are setting values always behaves as a copy.\n",
      "\n",
      "For example, when doing 'df[col].method(value, inplace=True)', try using 'df.method({col: value}, inplace=True)' or df[col] = df[col].method(value) instead, to perform the operation inplace on the original object.\n",
      "\n",
      "\n",
      "  df_cleaned[column].fillna(df_cleaned[column].median(), inplace=True)\n",
      "C:\\Users\\Lenovo\\AppData\\Local\\Temp\\ipykernel_12416\\976960826.py:6: SettingWithCopyWarning: \n",
      "A value is trying to be set on a copy of a slice from a DataFrame\n",
      "\n",
      "See the caveats in the documentation: https://pandas.pydata.org/pandas-docs/stable/user_guide/indexing.html#returning-a-view-versus-a-copy\n",
      "  df_cleaned[column].fillna(df_cleaned[column].median(), inplace=True)\n",
      "C:\\Users\\Lenovo\\AppData\\Local\\Temp\\ipykernel_12416\\976960826.py:6: FutureWarning: A value is trying to be set on a copy of a DataFrame or Series through chained assignment using an inplace method.\n",
      "The behavior will change in pandas 3.0. This inplace method will never work because the intermediate object on which we are setting values always behaves as a copy.\n",
      "\n",
      "For example, when doing 'df[col].method(value, inplace=True)', try using 'df.method({col: value}, inplace=True)' or df[col] = df[col].method(value) instead, to perform the operation inplace on the original object.\n",
      "\n",
      "\n",
      "  df_cleaned[column].fillna(df_cleaned[column].median(), inplace=True)\n",
      "C:\\Users\\Lenovo\\AppData\\Local\\Temp\\ipykernel_12416\\976960826.py:6: SettingWithCopyWarning: \n",
      "A value is trying to be set on a copy of a slice from a DataFrame\n",
      "\n",
      "See the caveats in the documentation: https://pandas.pydata.org/pandas-docs/stable/user_guide/indexing.html#returning-a-view-versus-a-copy\n",
      "  df_cleaned[column].fillna(df_cleaned[column].median(), inplace=True)\n",
      "C:\\Users\\Lenovo\\AppData\\Local\\Temp\\ipykernel_12416\\976960826.py:6: FutureWarning: A value is trying to be set on a copy of a DataFrame or Series through chained assignment using an inplace method.\n",
      "The behavior will change in pandas 3.0. This inplace method will never work because the intermediate object on which we are setting values always behaves as a copy.\n",
      "\n",
      "For example, when doing 'df[col].method(value, inplace=True)', try using 'df.method({col: value}, inplace=True)' or df[col] = df[col].method(value) instead, to perform the operation inplace on the original object.\n",
      "\n",
      "\n",
      "  df_cleaned[column].fillna(df_cleaned[column].median(), inplace=True)\n",
      "C:\\Users\\Lenovo\\AppData\\Local\\Temp\\ipykernel_12416\\976960826.py:6: SettingWithCopyWarning: \n",
      "A value is trying to be set on a copy of a slice from a DataFrame\n",
      "\n",
      "See the caveats in the documentation: https://pandas.pydata.org/pandas-docs/stable/user_guide/indexing.html#returning-a-view-versus-a-copy\n",
      "  df_cleaned[column].fillna(df_cleaned[column].median(), inplace=True)\n",
      "C:\\Users\\Lenovo\\AppData\\Local\\Temp\\ipykernel_12416\\976960826.py:6: FutureWarning: A value is trying to be set on a copy of a DataFrame or Series through chained assignment using an inplace method.\n",
      "The behavior will change in pandas 3.0. This inplace method will never work because the intermediate object on which we are setting values always behaves as a copy.\n",
      "\n",
      "For example, when doing 'df[col].method(value, inplace=True)', try using 'df.method({col: value}, inplace=True)' or df[col] = df[col].method(value) instead, to perform the operation inplace on the original object.\n",
      "\n",
      "\n",
      "  df_cleaned[column].fillna(df_cleaned[column].median(), inplace=True)\n",
      "C:\\Users\\Lenovo\\AppData\\Local\\Temp\\ipykernel_12416\\976960826.py:6: SettingWithCopyWarning: \n",
      "A value is trying to be set on a copy of a slice from a DataFrame\n",
      "\n",
      "See the caveats in the documentation: https://pandas.pydata.org/pandas-docs/stable/user_guide/indexing.html#returning-a-view-versus-a-copy\n",
      "  df_cleaned[column].fillna(df_cleaned[column].median(), inplace=True)\n",
      "C:\\Users\\Lenovo\\AppData\\Local\\Temp\\ipykernel_12416\\976960826.py:6: FutureWarning: A value is trying to be set on a copy of a DataFrame or Series through chained assignment using an inplace method.\n",
      "The behavior will change in pandas 3.0. This inplace method will never work because the intermediate object on which we are setting values always behaves as a copy.\n",
      "\n",
      "For example, when doing 'df[col].method(value, inplace=True)', try using 'df.method({col: value}, inplace=True)' or df[col] = df[col].method(value) instead, to perform the operation inplace on the original object.\n",
      "\n",
      "\n",
      "  df_cleaned[column].fillna(df_cleaned[column].median(), inplace=True)\n",
      "C:\\Users\\Lenovo\\AppData\\Local\\Temp\\ipykernel_12416\\976960826.py:6: SettingWithCopyWarning: \n",
      "A value is trying to be set on a copy of a slice from a DataFrame\n",
      "\n",
      "See the caveats in the documentation: https://pandas.pydata.org/pandas-docs/stable/user_guide/indexing.html#returning-a-view-versus-a-copy\n",
      "  df_cleaned[column].fillna(df_cleaned[column].median(), inplace=True)\n",
      "C:\\Users\\Lenovo\\AppData\\Local\\Temp\\ipykernel_12416\\976960826.py:6: FutureWarning: A value is trying to be set on a copy of a DataFrame or Series through chained assignment using an inplace method.\n",
      "The behavior will change in pandas 3.0. This inplace method will never work because the intermediate object on which we are setting values always behaves as a copy.\n",
      "\n",
      "For example, when doing 'df[col].method(value, inplace=True)', try using 'df.method({col: value}, inplace=True)' or df[col] = df[col].method(value) instead, to perform the operation inplace on the original object.\n",
      "\n",
      "\n",
      "  df_cleaned[column].fillna(df_cleaned[column].median(), inplace=True)\n",
      "C:\\Users\\Lenovo\\AppData\\Local\\Temp\\ipykernel_12416\\976960826.py:6: SettingWithCopyWarning: \n",
      "A value is trying to be set on a copy of a slice from a DataFrame\n",
      "\n",
      "See the caveats in the documentation: https://pandas.pydata.org/pandas-docs/stable/user_guide/indexing.html#returning-a-view-versus-a-copy\n",
      "  df_cleaned[column].fillna(df_cleaned[column].median(), inplace=True)\n",
      "C:\\Users\\Lenovo\\AppData\\Local\\Temp\\ipykernel_12416\\976960826.py:6: FutureWarning: A value is trying to be set on a copy of a DataFrame or Series through chained assignment using an inplace method.\n",
      "The behavior will change in pandas 3.0. This inplace method will never work because the intermediate object on which we are setting values always behaves as a copy.\n",
      "\n",
      "For example, when doing 'df[col].method(value, inplace=True)', try using 'df.method({col: value}, inplace=True)' or df[col] = df[col].method(value) instead, to perform the operation inplace on the original object.\n",
      "\n",
      "\n",
      "  df_cleaned[column].fillna(df_cleaned[column].median(), inplace=True)\n",
      "C:\\Users\\Lenovo\\AppData\\Local\\Temp\\ipykernel_12416\\976960826.py:6: SettingWithCopyWarning: \n",
      "A value is trying to be set on a copy of a slice from a DataFrame\n",
      "\n",
      "See the caveats in the documentation: https://pandas.pydata.org/pandas-docs/stable/user_guide/indexing.html#returning-a-view-versus-a-copy\n",
      "  df_cleaned[column].fillna(df_cleaned[column].median(), inplace=True)\n",
      "C:\\Users\\Lenovo\\AppData\\Local\\Temp\\ipykernel_12416\\976960826.py:6: FutureWarning: A value is trying to be set on a copy of a DataFrame or Series through chained assignment using an inplace method.\n",
      "The behavior will change in pandas 3.0. This inplace method will never work because the intermediate object on which we are setting values always behaves as a copy.\n",
      "\n",
      "For example, when doing 'df[col].method(value, inplace=True)', try using 'df.method({col: value}, inplace=True)' or df[col] = df[col].method(value) instead, to perform the operation inplace on the original object.\n",
      "\n",
      "\n",
      "  df_cleaned[column].fillna(df_cleaned[column].median(), inplace=True)\n",
      "C:\\Users\\Lenovo\\AppData\\Local\\Temp\\ipykernel_12416\\976960826.py:6: SettingWithCopyWarning: \n",
      "A value is trying to be set on a copy of a slice from a DataFrame\n",
      "\n",
      "See the caveats in the documentation: https://pandas.pydata.org/pandas-docs/stable/user_guide/indexing.html#returning-a-view-versus-a-copy\n",
      "  df_cleaned[column].fillna(df_cleaned[column].median(), inplace=True)\n",
      "C:\\Users\\Lenovo\\AppData\\Local\\Temp\\ipykernel_12416\\976960826.py:6: FutureWarning: A value is trying to be set on a copy of a DataFrame or Series through chained assignment using an inplace method.\n",
      "The behavior will change in pandas 3.0. This inplace method will never work because the intermediate object on which we are setting values always behaves as a copy.\n",
      "\n",
      "For example, when doing 'df[col].method(value, inplace=True)', try using 'df.method({col: value}, inplace=True)' or df[col] = df[col].method(value) instead, to perform the operation inplace on the original object.\n",
      "\n",
      "\n",
      "  df_cleaned[column].fillna(df_cleaned[column].median(), inplace=True)\n",
      "C:\\Users\\Lenovo\\AppData\\Local\\Temp\\ipykernel_12416\\976960826.py:6: SettingWithCopyWarning: \n",
      "A value is trying to be set on a copy of a slice from a DataFrame\n",
      "\n",
      "See the caveats in the documentation: https://pandas.pydata.org/pandas-docs/stable/user_guide/indexing.html#returning-a-view-versus-a-copy\n",
      "  df_cleaned[column].fillna(df_cleaned[column].median(), inplace=True)\n",
      "C:\\Users\\Lenovo\\AppData\\Local\\Temp\\ipykernel_12416\\976960826.py:6: FutureWarning: A value is trying to be set on a copy of a DataFrame or Series through chained assignment using an inplace method.\n",
      "The behavior will change in pandas 3.0. This inplace method will never work because the intermediate object on which we are setting values always behaves as a copy.\n",
      "\n",
      "For example, when doing 'df[col].method(value, inplace=True)', try using 'df.method({col: value}, inplace=True)' or df[col] = df[col].method(value) instead, to perform the operation inplace on the original object.\n",
      "\n",
      "\n",
      "  df_cleaned[column].fillna(df_cleaned[column].median(), inplace=True)\n",
      "C:\\Users\\Lenovo\\AppData\\Local\\Temp\\ipykernel_12416\\976960826.py:6: SettingWithCopyWarning: \n",
      "A value is trying to be set on a copy of a slice from a DataFrame\n",
      "\n",
      "See the caveats in the documentation: https://pandas.pydata.org/pandas-docs/stable/user_guide/indexing.html#returning-a-view-versus-a-copy\n",
      "  df_cleaned[column].fillna(df_cleaned[column].median(), inplace=True)\n",
      "C:\\Users\\Lenovo\\AppData\\Local\\Temp\\ipykernel_12416\\976960826.py:6: FutureWarning: A value is trying to be set on a copy of a DataFrame or Series through chained assignment using an inplace method.\n",
      "The behavior will change in pandas 3.0. This inplace method will never work because the intermediate object on which we are setting values always behaves as a copy.\n",
      "\n",
      "For example, when doing 'df[col].method(value, inplace=True)', try using 'df.method({col: value}, inplace=True)' or df[col] = df[col].method(value) instead, to perform the operation inplace on the original object.\n",
      "\n",
      "\n",
      "  df_cleaned[column].fillna(df_cleaned[column].median(), inplace=True)\n",
      "C:\\Users\\Lenovo\\AppData\\Local\\Temp\\ipykernel_12416\\976960826.py:6: SettingWithCopyWarning: \n",
      "A value is trying to be set on a copy of a slice from a DataFrame\n",
      "\n",
      "See the caveats in the documentation: https://pandas.pydata.org/pandas-docs/stable/user_guide/indexing.html#returning-a-view-versus-a-copy\n",
      "  df_cleaned[column].fillna(df_cleaned[column].median(), inplace=True)\n",
      "C:\\Users\\Lenovo\\AppData\\Local\\Temp\\ipykernel_12416\\976960826.py:6: FutureWarning: A value is trying to be set on a copy of a DataFrame or Series through chained assignment using an inplace method.\n",
      "The behavior will change in pandas 3.0. This inplace method will never work because the intermediate object on which we are setting values always behaves as a copy.\n",
      "\n",
      "For example, when doing 'df[col].method(value, inplace=True)', try using 'df.method({col: value}, inplace=True)' or df[col] = df[col].method(value) instead, to perform the operation inplace on the original object.\n",
      "\n",
      "\n",
      "  df_cleaned[column].fillna(df_cleaned[column].median(), inplace=True)\n",
      "C:\\Users\\Lenovo\\AppData\\Local\\Temp\\ipykernel_12416\\976960826.py:6: SettingWithCopyWarning: \n",
      "A value is trying to be set on a copy of a slice from a DataFrame\n",
      "\n",
      "See the caveats in the documentation: https://pandas.pydata.org/pandas-docs/stable/user_guide/indexing.html#returning-a-view-versus-a-copy\n",
      "  df_cleaned[column].fillna(df_cleaned[column].median(), inplace=True)\n",
      "C:\\Users\\Lenovo\\AppData\\Local\\Temp\\ipykernel_12416\\976960826.py:6: FutureWarning: A value is trying to be set on a copy of a DataFrame or Series through chained assignment using an inplace method.\n",
      "The behavior will change in pandas 3.0. This inplace method will never work because the intermediate object on which we are setting values always behaves as a copy.\n",
      "\n",
      "For example, when doing 'df[col].method(value, inplace=True)', try using 'df.method({col: value}, inplace=True)' or df[col] = df[col].method(value) instead, to perform the operation inplace on the original object.\n",
      "\n",
      "\n",
      "  df_cleaned[column].fillna(df_cleaned[column].median(), inplace=True)\n",
      "C:\\Users\\Lenovo\\AppData\\Local\\Temp\\ipykernel_12416\\976960826.py:6: SettingWithCopyWarning: \n",
      "A value is trying to be set on a copy of a slice from a DataFrame\n",
      "\n",
      "See the caveats in the documentation: https://pandas.pydata.org/pandas-docs/stable/user_guide/indexing.html#returning-a-view-versus-a-copy\n",
      "  df_cleaned[column].fillna(df_cleaned[column].median(), inplace=True)\n",
      "C:\\Users\\Lenovo\\AppData\\Local\\Temp\\ipykernel_12416\\976960826.py:6: FutureWarning: A value is trying to be set on a copy of a DataFrame or Series through chained assignment using an inplace method.\n",
      "The behavior will change in pandas 3.0. This inplace method will never work because the intermediate object on which we are setting values always behaves as a copy.\n",
      "\n",
      "For example, when doing 'df[col].method(value, inplace=True)', try using 'df.method({col: value}, inplace=True)' or df[col] = df[col].method(value) instead, to perform the operation inplace on the original object.\n",
      "\n",
      "\n",
      "  df_cleaned[column].fillna(df_cleaned[column].median(), inplace=True)\n",
      "C:\\Users\\Lenovo\\AppData\\Local\\Temp\\ipykernel_12416\\976960826.py:6: SettingWithCopyWarning: \n",
      "A value is trying to be set on a copy of a slice from a DataFrame\n",
      "\n",
      "See the caveats in the documentation: https://pandas.pydata.org/pandas-docs/stable/user_guide/indexing.html#returning-a-view-versus-a-copy\n",
      "  df_cleaned[column].fillna(df_cleaned[column].median(), inplace=True)\n",
      "C:\\Users\\Lenovo\\AppData\\Local\\Temp\\ipykernel_12416\\976960826.py:6: FutureWarning: A value is trying to be set on a copy of a DataFrame or Series through chained assignment using an inplace method.\n",
      "The behavior will change in pandas 3.0. This inplace method will never work because the intermediate object on which we are setting values always behaves as a copy.\n",
      "\n",
      "For example, when doing 'df[col].method(value, inplace=True)', try using 'df.method({col: value}, inplace=True)' or df[col] = df[col].method(value) instead, to perform the operation inplace on the original object.\n",
      "\n",
      "\n",
      "  df_cleaned[column].fillna(df_cleaned[column].median(), inplace=True)\n",
      "C:\\Users\\Lenovo\\AppData\\Local\\Temp\\ipykernel_12416\\976960826.py:6: SettingWithCopyWarning: \n",
      "A value is trying to be set on a copy of a slice from a DataFrame\n",
      "\n",
      "See the caveats in the documentation: https://pandas.pydata.org/pandas-docs/stable/user_guide/indexing.html#returning-a-view-versus-a-copy\n",
      "  df_cleaned[column].fillna(df_cleaned[column].median(), inplace=True)\n",
      "C:\\Users\\Lenovo\\AppData\\Local\\Temp\\ipykernel_12416\\976960826.py:6: FutureWarning: A value is trying to be set on a copy of a DataFrame or Series through chained assignment using an inplace method.\n",
      "The behavior will change in pandas 3.0. This inplace method will never work because the intermediate object on which we are setting values always behaves as a copy.\n",
      "\n",
      "For example, when doing 'df[col].method(value, inplace=True)', try using 'df.method({col: value}, inplace=True)' or df[col] = df[col].method(value) instead, to perform the operation inplace on the original object.\n",
      "\n",
      "\n",
      "  df_cleaned[column].fillna(df_cleaned[column].median(), inplace=True)\n",
      "C:\\Users\\Lenovo\\AppData\\Local\\Temp\\ipykernel_12416\\976960826.py:6: SettingWithCopyWarning: \n",
      "A value is trying to be set on a copy of a slice from a DataFrame\n",
      "\n",
      "See the caveats in the documentation: https://pandas.pydata.org/pandas-docs/stable/user_guide/indexing.html#returning-a-view-versus-a-copy\n",
      "  df_cleaned[column].fillna(df_cleaned[column].median(), inplace=True)\n",
      "C:\\Users\\Lenovo\\AppData\\Local\\Temp\\ipykernel_12416\\976960826.py:6: FutureWarning: A value is trying to be set on a copy of a DataFrame or Series through chained assignment using an inplace method.\n",
      "The behavior will change in pandas 3.0. This inplace method will never work because the intermediate object on which we are setting values always behaves as a copy.\n",
      "\n",
      "For example, when doing 'df[col].method(value, inplace=True)', try using 'df.method({col: value}, inplace=True)' or df[col] = df[col].method(value) instead, to perform the operation inplace on the original object.\n",
      "\n",
      "\n",
      "  df_cleaned[column].fillna(df_cleaned[column].median(), inplace=True)\n",
      "C:\\Users\\Lenovo\\AppData\\Local\\Temp\\ipykernel_12416\\976960826.py:6: SettingWithCopyWarning: \n",
      "A value is trying to be set on a copy of a slice from a DataFrame\n",
      "\n",
      "See the caveats in the documentation: https://pandas.pydata.org/pandas-docs/stable/user_guide/indexing.html#returning-a-view-versus-a-copy\n",
      "  df_cleaned[column].fillna(df_cleaned[column].median(), inplace=True)\n",
      "C:\\Users\\Lenovo\\AppData\\Local\\Temp\\ipykernel_12416\\976960826.py:6: FutureWarning: A value is trying to be set on a copy of a DataFrame or Series through chained assignment using an inplace method.\n",
      "The behavior will change in pandas 3.0. This inplace method will never work because the intermediate object on which we are setting values always behaves as a copy.\n",
      "\n",
      "For example, when doing 'df[col].method(value, inplace=True)', try using 'df.method({col: value}, inplace=True)' or df[col] = df[col].method(value) instead, to perform the operation inplace on the original object.\n",
      "\n",
      "\n",
      "  df_cleaned[column].fillna(df_cleaned[column].median(), inplace=True)\n",
      "C:\\Users\\Lenovo\\AppData\\Local\\Temp\\ipykernel_12416\\976960826.py:6: SettingWithCopyWarning: \n",
      "A value is trying to be set on a copy of a slice from a DataFrame\n",
      "\n",
      "See the caveats in the documentation: https://pandas.pydata.org/pandas-docs/stable/user_guide/indexing.html#returning-a-view-versus-a-copy\n",
      "  df_cleaned[column].fillna(df_cleaned[column].median(), inplace=True)\n",
      "C:\\Users\\Lenovo\\AppData\\Local\\Temp\\ipykernel_12416\\976960826.py:6: FutureWarning: A value is trying to be set on a copy of a DataFrame or Series through chained assignment using an inplace method.\n",
      "The behavior will change in pandas 3.0. This inplace method will never work because the intermediate object on which we are setting values always behaves as a copy.\n",
      "\n",
      "For example, when doing 'df[col].method(value, inplace=True)', try using 'df.method({col: value}, inplace=True)' or df[col] = df[col].method(value) instead, to perform the operation inplace on the original object.\n",
      "\n",
      "\n",
      "  df_cleaned[column].fillna(df_cleaned[column].median(), inplace=True)\n",
      "C:\\Users\\Lenovo\\AppData\\Local\\Temp\\ipykernel_12416\\976960826.py:6: SettingWithCopyWarning: \n",
      "A value is trying to be set on a copy of a slice from a DataFrame\n",
      "\n",
      "See the caveats in the documentation: https://pandas.pydata.org/pandas-docs/stable/user_guide/indexing.html#returning-a-view-versus-a-copy\n",
      "  df_cleaned[column].fillna(df_cleaned[column].median(), inplace=True)\n",
      "C:\\Users\\Lenovo\\AppData\\Local\\Temp\\ipykernel_12416\\976960826.py:6: FutureWarning: A value is trying to be set on a copy of a DataFrame or Series through chained assignment using an inplace method.\n",
      "The behavior will change in pandas 3.0. This inplace method will never work because the intermediate object on which we are setting values always behaves as a copy.\n",
      "\n",
      "For example, when doing 'df[col].method(value, inplace=True)', try using 'df.method({col: value}, inplace=True)' or df[col] = df[col].method(value) instead, to perform the operation inplace on the original object.\n",
      "\n",
      "\n",
      "  df_cleaned[column].fillna(df_cleaned[column].median(), inplace=True)\n",
      "C:\\Users\\Lenovo\\AppData\\Local\\Temp\\ipykernel_12416\\976960826.py:6: SettingWithCopyWarning: \n",
      "A value is trying to be set on a copy of a slice from a DataFrame\n",
      "\n",
      "See the caveats in the documentation: https://pandas.pydata.org/pandas-docs/stable/user_guide/indexing.html#returning-a-view-versus-a-copy\n",
      "  df_cleaned[column].fillna(df_cleaned[column].median(), inplace=True)\n",
      "C:\\Users\\Lenovo\\AppData\\Local\\Temp\\ipykernel_12416\\976960826.py:6: FutureWarning: A value is trying to be set on a copy of a DataFrame or Series through chained assignment using an inplace method.\n",
      "The behavior will change in pandas 3.0. This inplace method will never work because the intermediate object on which we are setting values always behaves as a copy.\n",
      "\n",
      "For example, when doing 'df[col].method(value, inplace=True)', try using 'df.method({col: value}, inplace=True)' or df[col] = df[col].method(value) instead, to perform the operation inplace on the original object.\n",
      "\n",
      "\n",
      "  df_cleaned[column].fillna(df_cleaned[column].median(), inplace=True)\n",
      "C:\\Users\\Lenovo\\AppData\\Local\\Temp\\ipykernel_12416\\976960826.py:6: SettingWithCopyWarning: \n",
      "A value is trying to be set on a copy of a slice from a DataFrame\n",
      "\n",
      "See the caveats in the documentation: https://pandas.pydata.org/pandas-docs/stable/user_guide/indexing.html#returning-a-view-versus-a-copy\n",
      "  df_cleaned[column].fillna(df_cleaned[column].median(), inplace=True)\n",
      "C:\\Users\\Lenovo\\AppData\\Local\\Temp\\ipykernel_12416\\976960826.py:6: FutureWarning: A value is trying to be set on a copy of a DataFrame or Series through chained assignment using an inplace method.\n",
      "The behavior will change in pandas 3.0. This inplace method will never work because the intermediate object on which we are setting values always behaves as a copy.\n",
      "\n",
      "For example, when doing 'df[col].method(value, inplace=True)', try using 'df.method({col: value}, inplace=True)' or df[col] = df[col].method(value) instead, to perform the operation inplace on the original object.\n",
      "\n",
      "\n",
      "  df_cleaned[column].fillna(df_cleaned[column].median(), inplace=True)\n",
      "C:\\Users\\Lenovo\\AppData\\Local\\Temp\\ipykernel_12416\\976960826.py:6: SettingWithCopyWarning: \n",
      "A value is trying to be set on a copy of a slice from a DataFrame\n",
      "\n",
      "See the caveats in the documentation: https://pandas.pydata.org/pandas-docs/stable/user_guide/indexing.html#returning-a-view-versus-a-copy\n",
      "  df_cleaned[column].fillna(df_cleaned[column].median(), inplace=True)\n",
      "C:\\Users\\Lenovo\\AppData\\Local\\Temp\\ipykernel_12416\\976960826.py:6: FutureWarning: A value is trying to be set on a copy of a DataFrame or Series through chained assignment using an inplace method.\n",
      "The behavior will change in pandas 3.0. This inplace method will never work because the intermediate object on which we are setting values always behaves as a copy.\n",
      "\n",
      "For example, when doing 'df[col].method(value, inplace=True)', try using 'df.method({col: value}, inplace=True)' or df[col] = df[col].method(value) instead, to perform the operation inplace on the original object.\n",
      "\n",
      "\n",
      "  df_cleaned[column].fillna(df_cleaned[column].median(), inplace=True)\n",
      "C:\\Users\\Lenovo\\AppData\\Local\\Temp\\ipykernel_12416\\976960826.py:6: SettingWithCopyWarning: \n",
      "A value is trying to be set on a copy of a slice from a DataFrame\n",
      "\n",
      "See the caveats in the documentation: https://pandas.pydata.org/pandas-docs/stable/user_guide/indexing.html#returning-a-view-versus-a-copy\n",
      "  df_cleaned[column].fillna(df_cleaned[column].median(), inplace=True)\n",
      "C:\\Users\\Lenovo\\AppData\\Local\\Temp\\ipykernel_12416\\976960826.py:6: FutureWarning: A value is trying to be set on a copy of a DataFrame or Series through chained assignment using an inplace method.\n",
      "The behavior will change in pandas 3.0. This inplace method will never work because the intermediate object on which we are setting values always behaves as a copy.\n",
      "\n",
      "For example, when doing 'df[col].method(value, inplace=True)', try using 'df.method({col: value}, inplace=True)' or df[col] = df[col].method(value) instead, to perform the operation inplace on the original object.\n",
      "\n",
      "\n",
      "  df_cleaned[column].fillna(df_cleaned[column].median(), inplace=True)\n",
      "C:\\Users\\Lenovo\\AppData\\Local\\Temp\\ipykernel_12416\\976960826.py:6: SettingWithCopyWarning: \n",
      "A value is trying to be set on a copy of a slice from a DataFrame\n",
      "\n",
      "See the caveats in the documentation: https://pandas.pydata.org/pandas-docs/stable/user_guide/indexing.html#returning-a-view-versus-a-copy\n",
      "  df_cleaned[column].fillna(df_cleaned[column].median(), inplace=True)\n",
      "C:\\Users\\Lenovo\\AppData\\Local\\Temp\\ipykernel_12416\\976960826.py:6: FutureWarning: A value is trying to be set on a copy of a DataFrame or Series through chained assignment using an inplace method.\n",
      "The behavior will change in pandas 3.0. This inplace method will never work because the intermediate object on which we are setting values always behaves as a copy.\n",
      "\n",
      "For example, when doing 'df[col].method(value, inplace=True)', try using 'df.method({col: value}, inplace=True)' or df[col] = df[col].method(value) instead, to perform the operation inplace on the original object.\n",
      "\n",
      "\n",
      "  df_cleaned[column].fillna(df_cleaned[column].median(), inplace=True)\n",
      "C:\\Users\\Lenovo\\AppData\\Local\\Temp\\ipykernel_12416\\976960826.py:6: SettingWithCopyWarning: \n",
      "A value is trying to be set on a copy of a slice from a DataFrame\n",
      "\n",
      "See the caveats in the documentation: https://pandas.pydata.org/pandas-docs/stable/user_guide/indexing.html#returning-a-view-versus-a-copy\n",
      "  df_cleaned[column].fillna(df_cleaned[column].median(), inplace=True)\n",
      "C:\\Users\\Lenovo\\AppData\\Local\\Temp\\ipykernel_12416\\976960826.py:6: FutureWarning: A value is trying to be set on a copy of a DataFrame or Series through chained assignment using an inplace method.\n",
      "The behavior will change in pandas 3.0. This inplace method will never work because the intermediate object on which we are setting values always behaves as a copy.\n",
      "\n",
      "For example, when doing 'df[col].method(value, inplace=True)', try using 'df.method({col: value}, inplace=True)' or df[col] = df[col].method(value) instead, to perform the operation inplace on the original object.\n",
      "\n",
      "\n",
      "  df_cleaned[column].fillna(df_cleaned[column].median(), inplace=True)\n",
      "C:\\Users\\Lenovo\\AppData\\Local\\Temp\\ipykernel_12416\\976960826.py:6: SettingWithCopyWarning: \n",
      "A value is trying to be set on a copy of a slice from a DataFrame\n",
      "\n",
      "See the caveats in the documentation: https://pandas.pydata.org/pandas-docs/stable/user_guide/indexing.html#returning-a-view-versus-a-copy\n",
      "  df_cleaned[column].fillna(df_cleaned[column].median(), inplace=True)\n",
      "C:\\Users\\Lenovo\\AppData\\Local\\Temp\\ipykernel_12416\\976960826.py:6: FutureWarning: A value is trying to be set on a copy of a DataFrame or Series through chained assignment using an inplace method.\n",
      "The behavior will change in pandas 3.0. This inplace method will never work because the intermediate object on which we are setting values always behaves as a copy.\n",
      "\n",
      "For example, when doing 'df[col].method(value, inplace=True)', try using 'df.method({col: value}, inplace=True)' or df[col] = df[col].method(value) instead, to perform the operation inplace on the original object.\n",
      "\n",
      "\n",
      "  df_cleaned[column].fillna(df_cleaned[column].median(), inplace=True)\n",
      "C:\\Users\\Lenovo\\AppData\\Local\\Temp\\ipykernel_12416\\976960826.py:6: SettingWithCopyWarning: \n",
      "A value is trying to be set on a copy of a slice from a DataFrame\n",
      "\n",
      "See the caveats in the documentation: https://pandas.pydata.org/pandas-docs/stable/user_guide/indexing.html#returning-a-view-versus-a-copy\n",
      "  df_cleaned[column].fillna(df_cleaned[column].median(), inplace=True)\n",
      "C:\\Users\\Lenovo\\AppData\\Local\\Temp\\ipykernel_12416\\976960826.py:6: FutureWarning: A value is trying to be set on a copy of a DataFrame or Series through chained assignment using an inplace method.\n",
      "The behavior will change in pandas 3.0. This inplace method will never work because the intermediate object on which we are setting values always behaves as a copy.\n",
      "\n",
      "For example, when doing 'df[col].method(value, inplace=True)', try using 'df.method({col: value}, inplace=True)' or df[col] = df[col].method(value) instead, to perform the operation inplace on the original object.\n",
      "\n",
      "\n",
      "  df_cleaned[column].fillna(df_cleaned[column].median(), inplace=True)\n",
      "C:\\Users\\Lenovo\\AppData\\Local\\Temp\\ipykernel_12416\\976960826.py:6: SettingWithCopyWarning: \n",
      "A value is trying to be set on a copy of a slice from a DataFrame\n",
      "\n",
      "See the caveats in the documentation: https://pandas.pydata.org/pandas-docs/stable/user_guide/indexing.html#returning-a-view-versus-a-copy\n",
      "  df_cleaned[column].fillna(df_cleaned[column].median(), inplace=True)\n",
      "C:\\Users\\Lenovo\\AppData\\Local\\Temp\\ipykernel_12416\\976960826.py:6: FutureWarning: A value is trying to be set on a copy of a DataFrame or Series through chained assignment using an inplace method.\n",
      "The behavior will change in pandas 3.0. This inplace method will never work because the intermediate object on which we are setting values always behaves as a copy.\n",
      "\n",
      "For example, when doing 'df[col].method(value, inplace=True)', try using 'df.method({col: value}, inplace=True)' or df[col] = df[col].method(value) instead, to perform the operation inplace on the original object.\n",
      "\n",
      "\n",
      "  df_cleaned[column].fillna(df_cleaned[column].median(), inplace=True)\n",
      "C:\\Users\\Lenovo\\AppData\\Local\\Temp\\ipykernel_12416\\976960826.py:6: SettingWithCopyWarning: \n",
      "A value is trying to be set on a copy of a slice from a DataFrame\n",
      "\n",
      "See the caveats in the documentation: https://pandas.pydata.org/pandas-docs/stable/user_guide/indexing.html#returning-a-view-versus-a-copy\n",
      "  df_cleaned[column].fillna(df_cleaned[column].median(), inplace=True)\n",
      "C:\\Users\\Lenovo\\AppData\\Local\\Temp\\ipykernel_12416\\976960826.py:6: FutureWarning: A value is trying to be set on a copy of a DataFrame or Series through chained assignment using an inplace method.\n",
      "The behavior will change in pandas 3.0. This inplace method will never work because the intermediate object on which we are setting values always behaves as a copy.\n",
      "\n",
      "For example, when doing 'df[col].method(value, inplace=True)', try using 'df.method({col: value}, inplace=True)' or df[col] = df[col].method(value) instead, to perform the operation inplace on the original object.\n",
      "\n",
      "\n",
      "  df_cleaned[column].fillna(df_cleaned[column].median(), inplace=True)\n",
      "C:\\Users\\Lenovo\\AppData\\Local\\Temp\\ipykernel_12416\\976960826.py:6: SettingWithCopyWarning: \n",
      "A value is trying to be set on a copy of a slice from a DataFrame\n",
      "\n",
      "See the caveats in the documentation: https://pandas.pydata.org/pandas-docs/stable/user_guide/indexing.html#returning-a-view-versus-a-copy\n",
      "  df_cleaned[column].fillna(df_cleaned[column].median(), inplace=True)\n",
      "C:\\Users\\Lenovo\\AppData\\Local\\Temp\\ipykernel_12416\\976960826.py:6: FutureWarning: A value is trying to be set on a copy of a DataFrame or Series through chained assignment using an inplace method.\n",
      "The behavior will change in pandas 3.0. This inplace method will never work because the intermediate object on which we are setting values always behaves as a copy.\n",
      "\n",
      "For example, when doing 'df[col].method(value, inplace=True)', try using 'df.method({col: value}, inplace=True)' or df[col] = df[col].method(value) instead, to perform the operation inplace on the original object.\n",
      "\n",
      "\n",
      "  df_cleaned[column].fillna(df_cleaned[column].median(), inplace=True)\n",
      "C:\\Users\\Lenovo\\AppData\\Local\\Temp\\ipykernel_12416\\976960826.py:6: SettingWithCopyWarning: \n",
      "A value is trying to be set on a copy of a slice from a DataFrame\n",
      "\n",
      "See the caveats in the documentation: https://pandas.pydata.org/pandas-docs/stable/user_guide/indexing.html#returning-a-view-versus-a-copy\n",
      "  df_cleaned[column].fillna(df_cleaned[column].median(), inplace=True)\n",
      "C:\\Users\\Lenovo\\AppData\\Local\\Temp\\ipykernel_12416\\976960826.py:6: FutureWarning: A value is trying to be set on a copy of a DataFrame or Series through chained assignment using an inplace method.\n",
      "The behavior will change in pandas 3.0. This inplace method will never work because the intermediate object on which we are setting values always behaves as a copy.\n",
      "\n",
      "For example, when doing 'df[col].method(value, inplace=True)', try using 'df.method({col: value}, inplace=True)' or df[col] = df[col].method(value) instead, to perform the operation inplace on the original object.\n",
      "\n",
      "\n",
      "  df_cleaned[column].fillna(df_cleaned[column].median(), inplace=True)\n",
      "C:\\Users\\Lenovo\\AppData\\Local\\Temp\\ipykernel_12416\\976960826.py:6: SettingWithCopyWarning: \n",
      "A value is trying to be set on a copy of a slice from a DataFrame\n",
      "\n",
      "See the caveats in the documentation: https://pandas.pydata.org/pandas-docs/stable/user_guide/indexing.html#returning-a-view-versus-a-copy\n",
      "  df_cleaned[column].fillna(df_cleaned[column].median(), inplace=True)\n",
      "C:\\Users\\Lenovo\\AppData\\Local\\Temp\\ipykernel_12416\\976960826.py:6: FutureWarning: A value is trying to be set on a copy of a DataFrame or Series through chained assignment using an inplace method.\n",
      "The behavior will change in pandas 3.0. This inplace method will never work because the intermediate object on which we are setting values always behaves as a copy.\n",
      "\n",
      "For example, when doing 'df[col].method(value, inplace=True)', try using 'df.method({col: value}, inplace=True)' or df[col] = df[col].method(value) instead, to perform the operation inplace on the original object.\n",
      "\n",
      "\n",
      "  df_cleaned[column].fillna(df_cleaned[column].median(), inplace=True)\n",
      "C:\\Users\\Lenovo\\AppData\\Local\\Temp\\ipykernel_12416\\976960826.py:6: SettingWithCopyWarning: \n",
      "A value is trying to be set on a copy of a slice from a DataFrame\n",
      "\n",
      "See the caveats in the documentation: https://pandas.pydata.org/pandas-docs/stable/user_guide/indexing.html#returning-a-view-versus-a-copy\n",
      "  df_cleaned[column].fillna(df_cleaned[column].median(), inplace=True)\n",
      "C:\\Users\\Lenovo\\AppData\\Local\\Temp\\ipykernel_12416\\976960826.py:6: FutureWarning: A value is trying to be set on a copy of a DataFrame or Series through chained assignment using an inplace method.\n",
      "The behavior will change in pandas 3.0. This inplace method will never work because the intermediate object on which we are setting values always behaves as a copy.\n",
      "\n",
      "For example, when doing 'df[col].method(value, inplace=True)', try using 'df.method({col: value}, inplace=True)' or df[col] = df[col].method(value) instead, to perform the operation inplace on the original object.\n",
      "\n",
      "\n",
      "  df_cleaned[column].fillna(df_cleaned[column].median(), inplace=True)\n",
      "C:\\Users\\Lenovo\\AppData\\Local\\Temp\\ipykernel_12416\\976960826.py:6: SettingWithCopyWarning: \n",
      "A value is trying to be set on a copy of a slice from a DataFrame\n",
      "\n",
      "See the caveats in the documentation: https://pandas.pydata.org/pandas-docs/stable/user_guide/indexing.html#returning-a-view-versus-a-copy\n",
      "  df_cleaned[column].fillna(df_cleaned[column].median(), inplace=True)\n",
      "C:\\Users\\Lenovo\\AppData\\Local\\Temp\\ipykernel_12416\\976960826.py:6: FutureWarning: A value is trying to be set on a copy of a DataFrame or Series through chained assignment using an inplace method.\n",
      "The behavior will change in pandas 3.0. This inplace method will never work because the intermediate object on which we are setting values always behaves as a copy.\n",
      "\n",
      "For example, when doing 'df[col].method(value, inplace=True)', try using 'df.method({col: value}, inplace=True)' or df[col] = df[col].method(value) instead, to perform the operation inplace on the original object.\n",
      "\n",
      "\n",
      "  df_cleaned[column].fillna(df_cleaned[column].median(), inplace=True)\n",
      "C:\\Users\\Lenovo\\AppData\\Local\\Temp\\ipykernel_12416\\976960826.py:6: SettingWithCopyWarning: \n",
      "A value is trying to be set on a copy of a slice from a DataFrame\n",
      "\n",
      "See the caveats in the documentation: https://pandas.pydata.org/pandas-docs/stable/user_guide/indexing.html#returning-a-view-versus-a-copy\n",
      "  df_cleaned[column].fillna(df_cleaned[column].median(), inplace=True)\n",
      "C:\\Users\\Lenovo\\AppData\\Local\\Temp\\ipykernel_12416\\976960826.py:6: FutureWarning: A value is trying to be set on a copy of a DataFrame or Series through chained assignment using an inplace method.\n",
      "The behavior will change in pandas 3.0. This inplace method will never work because the intermediate object on which we are setting values always behaves as a copy.\n",
      "\n",
      "For example, when doing 'df[col].method(value, inplace=True)', try using 'df.method({col: value}, inplace=True)' or df[col] = df[col].method(value) instead, to perform the operation inplace on the original object.\n",
      "\n",
      "\n",
      "  df_cleaned[column].fillna(df_cleaned[column].median(), inplace=True)\n",
      "C:\\Users\\Lenovo\\AppData\\Local\\Temp\\ipykernel_12416\\976960826.py:6: SettingWithCopyWarning: \n",
      "A value is trying to be set on a copy of a slice from a DataFrame\n",
      "\n",
      "See the caveats in the documentation: https://pandas.pydata.org/pandas-docs/stable/user_guide/indexing.html#returning-a-view-versus-a-copy\n",
      "  df_cleaned[column].fillna(df_cleaned[column].median(), inplace=True)\n",
      "C:\\Users\\Lenovo\\AppData\\Local\\Temp\\ipykernel_12416\\976960826.py:6: FutureWarning: A value is trying to be set on a copy of a DataFrame or Series through chained assignment using an inplace method.\n",
      "The behavior will change in pandas 3.0. This inplace method will never work because the intermediate object on which we are setting values always behaves as a copy.\n",
      "\n",
      "For example, when doing 'df[col].method(value, inplace=True)', try using 'df.method({col: value}, inplace=True)' or df[col] = df[col].method(value) instead, to perform the operation inplace on the original object.\n",
      "\n",
      "\n",
      "  df_cleaned[column].fillna(df_cleaned[column].median(), inplace=True)\n",
      "C:\\Users\\Lenovo\\AppData\\Local\\Temp\\ipykernel_12416\\976960826.py:6: SettingWithCopyWarning: \n",
      "A value is trying to be set on a copy of a slice from a DataFrame\n",
      "\n",
      "See the caveats in the documentation: https://pandas.pydata.org/pandas-docs/stable/user_guide/indexing.html#returning-a-view-versus-a-copy\n",
      "  df_cleaned[column].fillna(df_cleaned[column].median(), inplace=True)\n",
      "C:\\Users\\Lenovo\\AppData\\Local\\Temp\\ipykernel_12416\\976960826.py:6: FutureWarning: A value is trying to be set on a copy of a DataFrame or Series through chained assignment using an inplace method.\n",
      "The behavior will change in pandas 3.0. This inplace method will never work because the intermediate object on which we are setting values always behaves as a copy.\n",
      "\n",
      "For example, when doing 'df[col].method(value, inplace=True)', try using 'df.method({col: value}, inplace=True)' or df[col] = df[col].method(value) instead, to perform the operation inplace on the original object.\n",
      "\n",
      "\n",
      "  df_cleaned[column].fillna(df_cleaned[column].median(), inplace=True)\n",
      "C:\\Users\\Lenovo\\AppData\\Local\\Temp\\ipykernel_12416\\976960826.py:6: SettingWithCopyWarning: \n",
      "A value is trying to be set on a copy of a slice from a DataFrame\n",
      "\n",
      "See the caveats in the documentation: https://pandas.pydata.org/pandas-docs/stable/user_guide/indexing.html#returning-a-view-versus-a-copy\n",
      "  df_cleaned[column].fillna(df_cleaned[column].median(), inplace=True)\n",
      "C:\\Users\\Lenovo\\AppData\\Local\\Temp\\ipykernel_12416\\976960826.py:6: FutureWarning: A value is trying to be set on a copy of a DataFrame or Series through chained assignment using an inplace method.\n",
      "The behavior will change in pandas 3.0. This inplace method will never work because the intermediate object on which we are setting values always behaves as a copy.\n",
      "\n",
      "For example, when doing 'df[col].method(value, inplace=True)', try using 'df.method({col: value}, inplace=True)' or df[col] = df[col].method(value) instead, to perform the operation inplace on the original object.\n",
      "\n",
      "\n",
      "  df_cleaned[column].fillna(df_cleaned[column].median(), inplace=True)\n",
      "C:\\Users\\Lenovo\\AppData\\Local\\Temp\\ipykernel_12416\\976960826.py:6: SettingWithCopyWarning: \n",
      "A value is trying to be set on a copy of a slice from a DataFrame\n",
      "\n",
      "See the caveats in the documentation: https://pandas.pydata.org/pandas-docs/stable/user_guide/indexing.html#returning-a-view-versus-a-copy\n",
      "  df_cleaned[column].fillna(df_cleaned[column].median(), inplace=True)\n",
      "C:\\Users\\Lenovo\\AppData\\Local\\Temp\\ipykernel_12416\\976960826.py:6: FutureWarning: A value is trying to be set on a copy of a DataFrame or Series through chained assignment using an inplace method.\n",
      "The behavior will change in pandas 3.0. This inplace method will never work because the intermediate object on which we are setting values always behaves as a copy.\n",
      "\n",
      "For example, when doing 'df[col].method(value, inplace=True)', try using 'df.method({col: value}, inplace=True)' or df[col] = df[col].method(value) instead, to perform the operation inplace on the original object.\n",
      "\n",
      "\n",
      "  df_cleaned[column].fillna(df_cleaned[column].median(), inplace=True)\n",
      "C:\\Users\\Lenovo\\AppData\\Local\\Temp\\ipykernel_12416\\976960826.py:6: SettingWithCopyWarning: \n",
      "A value is trying to be set on a copy of a slice from a DataFrame\n",
      "\n",
      "See the caveats in the documentation: https://pandas.pydata.org/pandas-docs/stable/user_guide/indexing.html#returning-a-view-versus-a-copy\n",
      "  df_cleaned[column].fillna(df_cleaned[column].median(), inplace=True)\n",
      "C:\\Users\\Lenovo\\AppData\\Local\\Temp\\ipykernel_12416\\976960826.py:6: FutureWarning: A value is trying to be set on a copy of a DataFrame or Series through chained assignment using an inplace method.\n",
      "The behavior will change in pandas 3.0. This inplace method will never work because the intermediate object on which we are setting values always behaves as a copy.\n",
      "\n",
      "For example, when doing 'df[col].method(value, inplace=True)', try using 'df.method({col: value}, inplace=True)' or df[col] = df[col].method(value) instead, to perform the operation inplace on the original object.\n",
      "\n",
      "\n",
      "  df_cleaned[column].fillna(df_cleaned[column].median(), inplace=True)\n",
      "C:\\Users\\Lenovo\\AppData\\Local\\Temp\\ipykernel_12416\\976960826.py:6: SettingWithCopyWarning: \n",
      "A value is trying to be set on a copy of a slice from a DataFrame\n",
      "\n",
      "See the caveats in the documentation: https://pandas.pydata.org/pandas-docs/stable/user_guide/indexing.html#returning-a-view-versus-a-copy\n",
      "  df_cleaned[column].fillna(df_cleaned[column].median(), inplace=True)\n",
      "C:\\Users\\Lenovo\\AppData\\Local\\Temp\\ipykernel_12416\\976960826.py:6: FutureWarning: A value is trying to be set on a copy of a DataFrame or Series through chained assignment using an inplace method.\n",
      "The behavior will change in pandas 3.0. This inplace method will never work because the intermediate object on which we are setting values always behaves as a copy.\n",
      "\n",
      "For example, when doing 'df[col].method(value, inplace=True)', try using 'df.method({col: value}, inplace=True)' or df[col] = df[col].method(value) instead, to perform the operation inplace on the original object.\n",
      "\n",
      "\n",
      "  df_cleaned[column].fillna(df_cleaned[column].median(), inplace=True)\n",
      "C:\\Users\\Lenovo\\AppData\\Local\\Temp\\ipykernel_12416\\976960826.py:6: SettingWithCopyWarning: \n",
      "A value is trying to be set on a copy of a slice from a DataFrame\n",
      "\n",
      "See the caveats in the documentation: https://pandas.pydata.org/pandas-docs/stable/user_guide/indexing.html#returning-a-view-versus-a-copy\n",
      "  df_cleaned[column].fillna(df_cleaned[column].median(), inplace=True)\n",
      "C:\\Users\\Lenovo\\AppData\\Local\\Temp\\ipykernel_12416\\976960826.py:6: FutureWarning: A value is trying to be set on a copy of a DataFrame or Series through chained assignment using an inplace method.\n",
      "The behavior will change in pandas 3.0. This inplace method will never work because the intermediate object on which we are setting values always behaves as a copy.\n",
      "\n",
      "For example, when doing 'df[col].method(value, inplace=True)', try using 'df.method({col: value}, inplace=True)' or df[col] = df[col].method(value) instead, to perform the operation inplace on the original object.\n",
      "\n",
      "\n",
      "  df_cleaned[column].fillna(df_cleaned[column].median(), inplace=True)\n",
      "C:\\Users\\Lenovo\\AppData\\Local\\Temp\\ipykernel_12416\\976960826.py:6: SettingWithCopyWarning: \n",
      "A value is trying to be set on a copy of a slice from a DataFrame\n",
      "\n",
      "See the caveats in the documentation: https://pandas.pydata.org/pandas-docs/stable/user_guide/indexing.html#returning-a-view-versus-a-copy\n",
      "  df_cleaned[column].fillna(df_cleaned[column].median(), inplace=True)\n",
      "C:\\Users\\Lenovo\\AppData\\Local\\Temp\\ipykernel_12416\\976960826.py:6: FutureWarning: A value is trying to be set on a copy of a DataFrame or Series through chained assignment using an inplace method.\n",
      "The behavior will change in pandas 3.0. This inplace method will never work because the intermediate object on which we are setting values always behaves as a copy.\n",
      "\n",
      "For example, when doing 'df[col].method(value, inplace=True)', try using 'df.method({col: value}, inplace=True)' or df[col] = df[col].method(value) instead, to perform the operation inplace on the original object.\n",
      "\n",
      "\n",
      "  df_cleaned[column].fillna(df_cleaned[column].median(), inplace=True)\n",
      "C:\\Users\\Lenovo\\AppData\\Local\\Temp\\ipykernel_12416\\976960826.py:6: SettingWithCopyWarning: \n",
      "A value is trying to be set on a copy of a slice from a DataFrame\n",
      "\n",
      "See the caveats in the documentation: https://pandas.pydata.org/pandas-docs/stable/user_guide/indexing.html#returning-a-view-versus-a-copy\n",
      "  df_cleaned[column].fillna(df_cleaned[column].median(), inplace=True)\n",
      "C:\\Users\\Lenovo\\AppData\\Local\\Temp\\ipykernel_12416\\976960826.py:6: FutureWarning: A value is trying to be set on a copy of a DataFrame or Series through chained assignment using an inplace method.\n",
      "The behavior will change in pandas 3.0. This inplace method will never work because the intermediate object on which we are setting values always behaves as a copy.\n",
      "\n",
      "For example, when doing 'df[col].method(value, inplace=True)', try using 'df.method({col: value}, inplace=True)' or df[col] = df[col].method(value) instead, to perform the operation inplace on the original object.\n",
      "\n",
      "\n",
      "  df_cleaned[column].fillna(df_cleaned[column].median(), inplace=True)\n",
      "C:\\Users\\Lenovo\\AppData\\Local\\Temp\\ipykernel_12416\\976960826.py:6: SettingWithCopyWarning: \n",
      "A value is trying to be set on a copy of a slice from a DataFrame\n",
      "\n",
      "See the caveats in the documentation: https://pandas.pydata.org/pandas-docs/stable/user_guide/indexing.html#returning-a-view-versus-a-copy\n",
      "  df_cleaned[column].fillna(df_cleaned[column].median(), inplace=True)\n",
      "C:\\Users\\Lenovo\\AppData\\Local\\Temp\\ipykernel_12416\\976960826.py:6: FutureWarning: A value is trying to be set on a copy of a DataFrame or Series through chained assignment using an inplace method.\n",
      "The behavior will change in pandas 3.0. This inplace method will never work because the intermediate object on which we are setting values always behaves as a copy.\n",
      "\n",
      "For example, when doing 'df[col].method(value, inplace=True)', try using 'df.method({col: value}, inplace=True)' or df[col] = df[col].method(value) instead, to perform the operation inplace on the original object.\n",
      "\n",
      "\n",
      "  df_cleaned[column].fillna(df_cleaned[column].median(), inplace=True)\n",
      "C:\\Users\\Lenovo\\AppData\\Local\\Temp\\ipykernel_12416\\976960826.py:6: SettingWithCopyWarning: \n",
      "A value is trying to be set on a copy of a slice from a DataFrame\n",
      "\n",
      "See the caveats in the documentation: https://pandas.pydata.org/pandas-docs/stable/user_guide/indexing.html#returning-a-view-versus-a-copy\n",
      "  df_cleaned[column].fillna(df_cleaned[column].median(), inplace=True)\n",
      "C:\\Users\\Lenovo\\AppData\\Local\\Temp\\ipykernel_12416\\976960826.py:6: FutureWarning: A value is trying to be set on a copy of a DataFrame or Series through chained assignment using an inplace method.\n",
      "The behavior will change in pandas 3.0. This inplace method will never work because the intermediate object on which we are setting values always behaves as a copy.\n",
      "\n",
      "For example, when doing 'df[col].method(value, inplace=True)', try using 'df.method({col: value}, inplace=True)' or df[col] = df[col].method(value) instead, to perform the operation inplace on the original object.\n",
      "\n",
      "\n",
      "  df_cleaned[column].fillna(df_cleaned[column].median(), inplace=True)\n",
      "C:\\Users\\Lenovo\\AppData\\Local\\Temp\\ipykernel_12416\\976960826.py:6: SettingWithCopyWarning: \n",
      "A value is trying to be set on a copy of a slice from a DataFrame\n",
      "\n",
      "See the caveats in the documentation: https://pandas.pydata.org/pandas-docs/stable/user_guide/indexing.html#returning-a-view-versus-a-copy\n",
      "  df_cleaned[column].fillna(df_cleaned[column].median(), inplace=True)\n",
      "C:\\Users\\Lenovo\\AppData\\Local\\Temp\\ipykernel_12416\\976960826.py:6: FutureWarning: A value is trying to be set on a copy of a DataFrame or Series through chained assignment using an inplace method.\n",
      "The behavior will change in pandas 3.0. This inplace method will never work because the intermediate object on which we are setting values always behaves as a copy.\n",
      "\n",
      "For example, when doing 'df[col].method(value, inplace=True)', try using 'df.method({col: value}, inplace=True)' or df[col] = df[col].method(value) instead, to perform the operation inplace on the original object.\n",
      "\n",
      "\n",
      "  df_cleaned[column].fillna(df_cleaned[column].median(), inplace=True)\n",
      "C:\\Users\\Lenovo\\AppData\\Local\\Temp\\ipykernel_12416\\976960826.py:6: SettingWithCopyWarning: \n",
      "A value is trying to be set on a copy of a slice from a DataFrame\n",
      "\n",
      "See the caveats in the documentation: https://pandas.pydata.org/pandas-docs/stable/user_guide/indexing.html#returning-a-view-versus-a-copy\n",
      "  df_cleaned[column].fillna(df_cleaned[column].median(), inplace=True)\n",
      "C:\\Users\\Lenovo\\AppData\\Local\\Temp\\ipykernel_12416\\976960826.py:6: FutureWarning: A value is trying to be set on a copy of a DataFrame or Series through chained assignment using an inplace method.\n",
      "The behavior will change in pandas 3.0. This inplace method will never work because the intermediate object on which we are setting values always behaves as a copy.\n",
      "\n",
      "For example, when doing 'df[col].method(value, inplace=True)', try using 'df.method({col: value}, inplace=True)' or df[col] = df[col].method(value) instead, to perform the operation inplace on the original object.\n",
      "\n",
      "\n",
      "  df_cleaned[column].fillna(df_cleaned[column].median(), inplace=True)\n",
      "C:\\Users\\Lenovo\\AppData\\Local\\Temp\\ipykernel_12416\\976960826.py:6: SettingWithCopyWarning: \n",
      "A value is trying to be set on a copy of a slice from a DataFrame\n",
      "\n",
      "See the caveats in the documentation: https://pandas.pydata.org/pandas-docs/stable/user_guide/indexing.html#returning-a-view-versus-a-copy\n",
      "  df_cleaned[column].fillna(df_cleaned[column].median(), inplace=True)\n",
      "C:\\Users\\Lenovo\\AppData\\Local\\Temp\\ipykernel_12416\\976960826.py:6: FutureWarning: A value is trying to be set on a copy of a DataFrame or Series through chained assignment using an inplace method.\n",
      "The behavior will change in pandas 3.0. This inplace method will never work because the intermediate object on which we are setting values always behaves as a copy.\n",
      "\n",
      "For example, when doing 'df[col].method(value, inplace=True)', try using 'df.method({col: value}, inplace=True)' or df[col] = df[col].method(value) instead, to perform the operation inplace on the original object.\n",
      "\n",
      "\n",
      "  df_cleaned[column].fillna(df_cleaned[column].median(), inplace=True)\n",
      "C:\\Users\\Lenovo\\AppData\\Local\\Temp\\ipykernel_12416\\976960826.py:6: SettingWithCopyWarning: \n",
      "A value is trying to be set on a copy of a slice from a DataFrame\n",
      "\n",
      "See the caveats in the documentation: https://pandas.pydata.org/pandas-docs/stable/user_guide/indexing.html#returning-a-view-versus-a-copy\n",
      "  df_cleaned[column].fillna(df_cleaned[column].median(), inplace=True)\n",
      "C:\\Users\\Lenovo\\AppData\\Local\\Temp\\ipykernel_12416\\976960826.py:6: FutureWarning: A value is trying to be set on a copy of a DataFrame or Series through chained assignment using an inplace method.\n",
      "The behavior will change in pandas 3.0. This inplace method will never work because the intermediate object on which we are setting values always behaves as a copy.\n",
      "\n",
      "For example, when doing 'df[col].method(value, inplace=True)', try using 'df.method({col: value}, inplace=True)' or df[col] = df[col].method(value) instead, to perform the operation inplace on the original object.\n",
      "\n",
      "\n",
      "  df_cleaned[column].fillna(df_cleaned[column].median(), inplace=True)\n",
      "C:\\Users\\Lenovo\\AppData\\Local\\Temp\\ipykernel_12416\\976960826.py:6: SettingWithCopyWarning: \n",
      "A value is trying to be set on a copy of a slice from a DataFrame\n",
      "\n",
      "See the caveats in the documentation: https://pandas.pydata.org/pandas-docs/stable/user_guide/indexing.html#returning-a-view-versus-a-copy\n",
      "  df_cleaned[column].fillna(df_cleaned[column].median(), inplace=True)\n",
      "C:\\Users\\Lenovo\\AppData\\Local\\Temp\\ipykernel_12416\\976960826.py:6: FutureWarning: A value is trying to be set on a copy of a DataFrame or Series through chained assignment using an inplace method.\n",
      "The behavior will change in pandas 3.0. This inplace method will never work because the intermediate object on which we are setting values always behaves as a copy.\n",
      "\n",
      "For example, when doing 'df[col].method(value, inplace=True)', try using 'df.method({col: value}, inplace=True)' or df[col] = df[col].method(value) instead, to perform the operation inplace on the original object.\n",
      "\n",
      "\n",
      "  df_cleaned[column].fillna(df_cleaned[column].median(), inplace=True)\n",
      "C:\\Users\\Lenovo\\AppData\\Local\\Temp\\ipykernel_12416\\976960826.py:6: SettingWithCopyWarning: \n",
      "A value is trying to be set on a copy of a slice from a DataFrame\n",
      "\n",
      "See the caveats in the documentation: https://pandas.pydata.org/pandas-docs/stable/user_guide/indexing.html#returning-a-view-versus-a-copy\n",
      "  df_cleaned[column].fillna(df_cleaned[column].median(), inplace=True)\n",
      "C:\\Users\\Lenovo\\AppData\\Local\\Temp\\ipykernel_12416\\976960826.py:6: FutureWarning: A value is trying to be set on a copy of a DataFrame or Series through chained assignment using an inplace method.\n",
      "The behavior will change in pandas 3.0. This inplace method will never work because the intermediate object on which we are setting values always behaves as a copy.\n",
      "\n",
      "For example, when doing 'df[col].method(value, inplace=True)', try using 'df.method({col: value}, inplace=True)' or df[col] = df[col].method(value) instead, to perform the operation inplace on the original object.\n",
      "\n",
      "\n",
      "  df_cleaned[column].fillna(df_cleaned[column].median(), inplace=True)\n",
      "C:\\Users\\Lenovo\\AppData\\Local\\Temp\\ipykernel_12416\\976960826.py:6: SettingWithCopyWarning: \n",
      "A value is trying to be set on a copy of a slice from a DataFrame\n",
      "\n",
      "See the caveats in the documentation: https://pandas.pydata.org/pandas-docs/stable/user_guide/indexing.html#returning-a-view-versus-a-copy\n",
      "  df_cleaned[column].fillna(df_cleaned[column].median(), inplace=True)\n",
      "C:\\Users\\Lenovo\\AppData\\Local\\Temp\\ipykernel_12416\\976960826.py:6: FutureWarning: A value is trying to be set on a copy of a DataFrame or Series through chained assignment using an inplace method.\n",
      "The behavior will change in pandas 3.0. This inplace method will never work because the intermediate object on which we are setting values always behaves as a copy.\n",
      "\n",
      "For example, when doing 'df[col].method(value, inplace=True)', try using 'df.method({col: value}, inplace=True)' or df[col] = df[col].method(value) instead, to perform the operation inplace on the original object.\n",
      "\n",
      "\n",
      "  df_cleaned[column].fillna(df_cleaned[column].median(), inplace=True)\n",
      "C:\\Users\\Lenovo\\AppData\\Local\\Temp\\ipykernel_12416\\976960826.py:6: SettingWithCopyWarning: \n",
      "A value is trying to be set on a copy of a slice from a DataFrame\n",
      "\n",
      "See the caveats in the documentation: https://pandas.pydata.org/pandas-docs/stable/user_guide/indexing.html#returning-a-view-versus-a-copy\n",
      "  df_cleaned[column].fillna(df_cleaned[column].median(), inplace=True)\n",
      "C:\\Users\\Lenovo\\AppData\\Local\\Temp\\ipykernel_12416\\976960826.py:6: FutureWarning: A value is trying to be set on a copy of a DataFrame or Series through chained assignment using an inplace method.\n",
      "The behavior will change in pandas 3.0. This inplace method will never work because the intermediate object on which we are setting values always behaves as a copy.\n",
      "\n",
      "For example, when doing 'df[col].method(value, inplace=True)', try using 'df.method({col: value}, inplace=True)' or df[col] = df[col].method(value) instead, to perform the operation inplace on the original object.\n",
      "\n",
      "\n",
      "  df_cleaned[column].fillna(df_cleaned[column].median(), inplace=True)\n",
      "C:\\Users\\Lenovo\\AppData\\Local\\Temp\\ipykernel_12416\\976960826.py:6: SettingWithCopyWarning: \n",
      "A value is trying to be set on a copy of a slice from a DataFrame\n",
      "\n",
      "See the caveats in the documentation: https://pandas.pydata.org/pandas-docs/stable/user_guide/indexing.html#returning-a-view-versus-a-copy\n",
      "  df_cleaned[column].fillna(df_cleaned[column].median(), inplace=True)\n",
      "C:\\Users\\Lenovo\\AppData\\Local\\Temp\\ipykernel_12416\\976960826.py:6: FutureWarning: A value is trying to be set on a copy of a DataFrame or Series through chained assignment using an inplace method.\n",
      "The behavior will change in pandas 3.0. This inplace method will never work because the intermediate object on which we are setting values always behaves as a copy.\n",
      "\n",
      "For example, when doing 'df[col].method(value, inplace=True)', try using 'df.method({col: value}, inplace=True)' or df[col] = df[col].method(value) instead, to perform the operation inplace on the original object.\n",
      "\n",
      "\n",
      "  df_cleaned[column].fillna(df_cleaned[column].median(), inplace=True)\n",
      "C:\\Users\\Lenovo\\AppData\\Local\\Temp\\ipykernel_12416\\976960826.py:6: SettingWithCopyWarning: \n",
      "A value is trying to be set on a copy of a slice from a DataFrame\n",
      "\n",
      "See the caveats in the documentation: https://pandas.pydata.org/pandas-docs/stable/user_guide/indexing.html#returning-a-view-versus-a-copy\n",
      "  df_cleaned[column].fillna(df_cleaned[column].median(), inplace=True)\n",
      "C:\\Users\\Lenovo\\AppData\\Local\\Temp\\ipykernel_12416\\976960826.py:6: FutureWarning: A value is trying to be set on a copy of a DataFrame or Series through chained assignment using an inplace method.\n",
      "The behavior will change in pandas 3.0. This inplace method will never work because the intermediate object on which we are setting values always behaves as a copy.\n",
      "\n",
      "For example, when doing 'df[col].method(value, inplace=True)', try using 'df.method({col: value}, inplace=True)' or df[col] = df[col].method(value) instead, to perform the operation inplace on the original object.\n",
      "\n",
      "\n",
      "  df_cleaned[column].fillna(df_cleaned[column].median(), inplace=True)\n",
      "C:\\Users\\Lenovo\\AppData\\Local\\Temp\\ipykernel_12416\\976960826.py:6: SettingWithCopyWarning: \n",
      "A value is trying to be set on a copy of a slice from a DataFrame\n",
      "\n",
      "See the caveats in the documentation: https://pandas.pydata.org/pandas-docs/stable/user_guide/indexing.html#returning-a-view-versus-a-copy\n",
      "  df_cleaned[column].fillna(df_cleaned[column].median(), inplace=True)\n",
      "C:\\Users\\Lenovo\\AppData\\Local\\Temp\\ipykernel_12416\\976960826.py:6: FutureWarning: A value is trying to be set on a copy of a DataFrame or Series through chained assignment using an inplace method.\n",
      "The behavior will change in pandas 3.0. This inplace method will never work because the intermediate object on which we are setting values always behaves as a copy.\n",
      "\n",
      "For example, when doing 'df[col].method(value, inplace=True)', try using 'df.method({col: value}, inplace=True)' or df[col] = df[col].method(value) instead, to perform the operation inplace on the original object.\n",
      "\n",
      "\n",
      "  df_cleaned[column].fillna(df_cleaned[column].median(), inplace=True)\n",
      "C:\\Users\\Lenovo\\AppData\\Local\\Temp\\ipykernel_12416\\976960826.py:6: SettingWithCopyWarning: \n",
      "A value is trying to be set on a copy of a slice from a DataFrame\n",
      "\n",
      "See the caveats in the documentation: https://pandas.pydata.org/pandas-docs/stable/user_guide/indexing.html#returning-a-view-versus-a-copy\n",
      "  df_cleaned[column].fillna(df_cleaned[column].median(), inplace=True)\n",
      "C:\\Users\\Lenovo\\AppData\\Local\\Temp\\ipykernel_12416\\976960826.py:6: FutureWarning: A value is trying to be set on a copy of a DataFrame or Series through chained assignment using an inplace method.\n",
      "The behavior will change in pandas 3.0. This inplace method will never work because the intermediate object on which we are setting values always behaves as a copy.\n",
      "\n",
      "For example, when doing 'df[col].method(value, inplace=True)', try using 'df.method({col: value}, inplace=True)' or df[col] = df[col].method(value) instead, to perform the operation inplace on the original object.\n",
      "\n",
      "\n",
      "  df_cleaned[column].fillna(df_cleaned[column].median(), inplace=True)\n",
      "C:\\Users\\Lenovo\\AppData\\Local\\Temp\\ipykernel_12416\\976960826.py:6: SettingWithCopyWarning: \n",
      "A value is trying to be set on a copy of a slice from a DataFrame\n",
      "\n",
      "See the caveats in the documentation: https://pandas.pydata.org/pandas-docs/stable/user_guide/indexing.html#returning-a-view-versus-a-copy\n",
      "  df_cleaned[column].fillna(df_cleaned[column].median(), inplace=True)\n",
      "C:\\Users\\Lenovo\\AppData\\Local\\Temp\\ipykernel_12416\\976960826.py:6: FutureWarning: A value is trying to be set on a copy of a DataFrame or Series through chained assignment using an inplace method.\n",
      "The behavior will change in pandas 3.0. This inplace method will never work because the intermediate object on which we are setting values always behaves as a copy.\n",
      "\n",
      "For example, when doing 'df[col].method(value, inplace=True)', try using 'df.method({col: value}, inplace=True)' or df[col] = df[col].method(value) instead, to perform the operation inplace on the original object.\n",
      "\n",
      "\n",
      "  df_cleaned[column].fillna(df_cleaned[column].median(), inplace=True)\n",
      "C:\\Users\\Lenovo\\AppData\\Local\\Temp\\ipykernel_12416\\976960826.py:6: SettingWithCopyWarning: \n",
      "A value is trying to be set on a copy of a slice from a DataFrame\n",
      "\n",
      "See the caveats in the documentation: https://pandas.pydata.org/pandas-docs/stable/user_guide/indexing.html#returning-a-view-versus-a-copy\n",
      "  df_cleaned[column].fillna(df_cleaned[column].median(), inplace=True)\n",
      "C:\\Users\\Lenovo\\AppData\\Local\\Temp\\ipykernel_12416\\976960826.py:6: FutureWarning: A value is trying to be set on a copy of a DataFrame or Series through chained assignment using an inplace method.\n",
      "The behavior will change in pandas 3.0. This inplace method will never work because the intermediate object on which we are setting values always behaves as a copy.\n",
      "\n",
      "For example, when doing 'df[col].method(value, inplace=True)', try using 'df.method({col: value}, inplace=True)' or df[col] = df[col].method(value) instead, to perform the operation inplace on the original object.\n",
      "\n",
      "\n",
      "  df_cleaned[column].fillna(df_cleaned[column].median(), inplace=True)\n",
      "C:\\Users\\Lenovo\\AppData\\Local\\Temp\\ipykernel_12416\\976960826.py:6: SettingWithCopyWarning: \n",
      "A value is trying to be set on a copy of a slice from a DataFrame\n",
      "\n",
      "See the caveats in the documentation: https://pandas.pydata.org/pandas-docs/stable/user_guide/indexing.html#returning-a-view-versus-a-copy\n",
      "  df_cleaned[column].fillna(df_cleaned[column].median(), inplace=True)\n",
      "C:\\Users\\Lenovo\\AppData\\Local\\Temp\\ipykernel_12416\\976960826.py:6: FutureWarning: A value is trying to be set on a copy of a DataFrame or Series through chained assignment using an inplace method.\n",
      "The behavior will change in pandas 3.0. This inplace method will never work because the intermediate object on which we are setting values always behaves as a copy.\n",
      "\n",
      "For example, when doing 'df[col].method(value, inplace=True)', try using 'df.method({col: value}, inplace=True)' or df[col] = df[col].method(value) instead, to perform the operation inplace on the original object.\n",
      "\n",
      "\n",
      "  df_cleaned[column].fillna(df_cleaned[column].median(), inplace=True)\n",
      "C:\\Users\\Lenovo\\AppData\\Local\\Temp\\ipykernel_12416\\976960826.py:6: SettingWithCopyWarning: \n",
      "A value is trying to be set on a copy of a slice from a DataFrame\n",
      "\n",
      "See the caveats in the documentation: https://pandas.pydata.org/pandas-docs/stable/user_guide/indexing.html#returning-a-view-versus-a-copy\n",
      "  df_cleaned[column].fillna(df_cleaned[column].median(), inplace=True)\n",
      "C:\\Users\\Lenovo\\AppData\\Local\\Temp\\ipykernel_12416\\976960826.py:6: FutureWarning: A value is trying to be set on a copy of a DataFrame or Series through chained assignment using an inplace method.\n",
      "The behavior will change in pandas 3.0. This inplace method will never work because the intermediate object on which we are setting values always behaves as a copy.\n",
      "\n",
      "For example, when doing 'df[col].method(value, inplace=True)', try using 'df.method({col: value}, inplace=True)' or df[col] = df[col].method(value) instead, to perform the operation inplace on the original object.\n",
      "\n",
      "\n",
      "  df_cleaned[column].fillna(df_cleaned[column].median(), inplace=True)\n",
      "C:\\Users\\Lenovo\\AppData\\Local\\Temp\\ipykernel_12416\\976960826.py:6: SettingWithCopyWarning: \n",
      "A value is trying to be set on a copy of a slice from a DataFrame\n",
      "\n",
      "See the caveats in the documentation: https://pandas.pydata.org/pandas-docs/stable/user_guide/indexing.html#returning-a-view-versus-a-copy\n",
      "  df_cleaned[column].fillna(df_cleaned[column].median(), inplace=True)\n",
      "C:\\Users\\Lenovo\\AppData\\Local\\Temp\\ipykernel_12416\\976960826.py:6: FutureWarning: A value is trying to be set on a copy of a DataFrame or Series through chained assignment using an inplace method.\n",
      "The behavior will change in pandas 3.0. This inplace method will never work because the intermediate object on which we are setting values always behaves as a copy.\n",
      "\n",
      "For example, when doing 'df[col].method(value, inplace=True)', try using 'df.method({col: value}, inplace=True)' or df[col] = df[col].method(value) instead, to perform the operation inplace on the original object.\n",
      "\n",
      "\n",
      "  df_cleaned[column].fillna(df_cleaned[column].median(), inplace=True)\n",
      "C:\\Users\\Lenovo\\AppData\\Local\\Temp\\ipykernel_12416\\976960826.py:6: SettingWithCopyWarning: \n",
      "A value is trying to be set on a copy of a slice from a DataFrame\n",
      "\n",
      "See the caveats in the documentation: https://pandas.pydata.org/pandas-docs/stable/user_guide/indexing.html#returning-a-view-versus-a-copy\n",
      "  df_cleaned[column].fillna(df_cleaned[column].median(), inplace=True)\n",
      "C:\\Users\\Lenovo\\AppData\\Local\\Temp\\ipykernel_12416\\976960826.py:6: FutureWarning: A value is trying to be set on a copy of a DataFrame or Series through chained assignment using an inplace method.\n",
      "The behavior will change in pandas 3.0. This inplace method will never work because the intermediate object on which we are setting values always behaves as a copy.\n",
      "\n",
      "For example, when doing 'df[col].method(value, inplace=True)', try using 'df.method({col: value}, inplace=True)' or df[col] = df[col].method(value) instead, to perform the operation inplace on the original object.\n",
      "\n",
      "\n",
      "  df_cleaned[column].fillna(df_cleaned[column].median(), inplace=True)\n",
      "C:\\Users\\Lenovo\\AppData\\Local\\Temp\\ipykernel_12416\\976960826.py:6: SettingWithCopyWarning: \n",
      "A value is trying to be set on a copy of a slice from a DataFrame\n",
      "\n",
      "See the caveats in the documentation: https://pandas.pydata.org/pandas-docs/stable/user_guide/indexing.html#returning-a-view-versus-a-copy\n",
      "  df_cleaned[column].fillna(df_cleaned[column].median(), inplace=True)\n",
      "C:\\Users\\Lenovo\\AppData\\Local\\Temp\\ipykernel_12416\\976960826.py:6: FutureWarning: A value is trying to be set on a copy of a DataFrame or Series through chained assignment using an inplace method.\n",
      "The behavior will change in pandas 3.0. This inplace method will never work because the intermediate object on which we are setting values always behaves as a copy.\n",
      "\n",
      "For example, when doing 'df[col].method(value, inplace=True)', try using 'df.method({col: value}, inplace=True)' or df[col] = df[col].method(value) instead, to perform the operation inplace on the original object.\n",
      "\n",
      "\n",
      "  df_cleaned[column].fillna(df_cleaned[column].median(), inplace=True)\n",
      "C:\\Users\\Lenovo\\AppData\\Local\\Temp\\ipykernel_12416\\976960826.py:6: SettingWithCopyWarning: \n",
      "A value is trying to be set on a copy of a slice from a DataFrame\n",
      "\n",
      "See the caveats in the documentation: https://pandas.pydata.org/pandas-docs/stable/user_guide/indexing.html#returning-a-view-versus-a-copy\n",
      "  df_cleaned[column].fillna(df_cleaned[column].median(), inplace=True)\n",
      "C:\\Users\\Lenovo\\AppData\\Local\\Temp\\ipykernel_12416\\976960826.py:6: FutureWarning: A value is trying to be set on a copy of a DataFrame or Series through chained assignment using an inplace method.\n",
      "The behavior will change in pandas 3.0. This inplace method will never work because the intermediate object on which we are setting values always behaves as a copy.\n",
      "\n",
      "For example, when doing 'df[col].method(value, inplace=True)', try using 'df.method({col: value}, inplace=True)' or df[col] = df[col].method(value) instead, to perform the operation inplace on the original object.\n",
      "\n",
      "\n",
      "  df_cleaned[column].fillna(df_cleaned[column].median(), inplace=True)\n",
      "C:\\Users\\Lenovo\\AppData\\Local\\Temp\\ipykernel_12416\\976960826.py:6: SettingWithCopyWarning: \n",
      "A value is trying to be set on a copy of a slice from a DataFrame\n",
      "\n",
      "See the caveats in the documentation: https://pandas.pydata.org/pandas-docs/stable/user_guide/indexing.html#returning-a-view-versus-a-copy\n",
      "  df_cleaned[column].fillna(df_cleaned[column].median(), inplace=True)\n",
      "C:\\Users\\Lenovo\\AppData\\Local\\Temp\\ipykernel_12416\\976960826.py:6: FutureWarning: A value is trying to be set on a copy of a DataFrame or Series through chained assignment using an inplace method.\n",
      "The behavior will change in pandas 3.0. This inplace method will never work because the intermediate object on which we are setting values always behaves as a copy.\n",
      "\n",
      "For example, when doing 'df[col].method(value, inplace=True)', try using 'df.method({col: value}, inplace=True)' or df[col] = df[col].method(value) instead, to perform the operation inplace on the original object.\n",
      "\n",
      "\n",
      "  df_cleaned[column].fillna(df_cleaned[column].median(), inplace=True)\n",
      "C:\\Users\\Lenovo\\AppData\\Local\\Temp\\ipykernel_12416\\976960826.py:6: SettingWithCopyWarning: \n",
      "A value is trying to be set on a copy of a slice from a DataFrame\n",
      "\n",
      "See the caveats in the documentation: https://pandas.pydata.org/pandas-docs/stable/user_guide/indexing.html#returning-a-view-versus-a-copy\n",
      "  df_cleaned[column].fillna(df_cleaned[column].median(), inplace=True)\n",
      "C:\\Users\\Lenovo\\AppData\\Local\\Temp\\ipykernel_12416\\976960826.py:6: FutureWarning: A value is trying to be set on a copy of a DataFrame or Series through chained assignment using an inplace method.\n",
      "The behavior will change in pandas 3.0. This inplace method will never work because the intermediate object on which we are setting values always behaves as a copy.\n",
      "\n",
      "For example, when doing 'df[col].method(value, inplace=True)', try using 'df.method({col: value}, inplace=True)' or df[col] = df[col].method(value) instead, to perform the operation inplace on the original object.\n",
      "\n",
      "\n",
      "  df_cleaned[column].fillna(df_cleaned[column].median(), inplace=True)\n",
      "C:\\Users\\Lenovo\\AppData\\Local\\Temp\\ipykernel_12416\\976960826.py:6: SettingWithCopyWarning: \n",
      "A value is trying to be set on a copy of a slice from a DataFrame\n",
      "\n",
      "See the caveats in the documentation: https://pandas.pydata.org/pandas-docs/stable/user_guide/indexing.html#returning-a-view-versus-a-copy\n",
      "  df_cleaned[column].fillna(df_cleaned[column].median(), inplace=True)\n",
      "C:\\Users\\Lenovo\\AppData\\Local\\Temp\\ipykernel_12416\\976960826.py:6: FutureWarning: A value is trying to be set on a copy of a DataFrame or Series through chained assignment using an inplace method.\n",
      "The behavior will change in pandas 3.0. This inplace method will never work because the intermediate object on which we are setting values always behaves as a copy.\n",
      "\n",
      "For example, when doing 'df[col].method(value, inplace=True)', try using 'df.method({col: value}, inplace=True)' or df[col] = df[col].method(value) instead, to perform the operation inplace on the original object.\n",
      "\n",
      "\n",
      "  df_cleaned[column].fillna(df_cleaned[column].median(), inplace=True)\n",
      "C:\\Users\\Lenovo\\AppData\\Local\\Temp\\ipykernel_12416\\976960826.py:6: SettingWithCopyWarning: \n",
      "A value is trying to be set on a copy of a slice from a DataFrame\n",
      "\n",
      "See the caveats in the documentation: https://pandas.pydata.org/pandas-docs/stable/user_guide/indexing.html#returning-a-view-versus-a-copy\n",
      "  df_cleaned[column].fillna(df_cleaned[column].median(), inplace=True)\n",
      "C:\\Users\\Lenovo\\AppData\\Local\\Temp\\ipykernel_12416\\976960826.py:6: FutureWarning: A value is trying to be set on a copy of a DataFrame or Series through chained assignment using an inplace method.\n",
      "The behavior will change in pandas 3.0. This inplace method will never work because the intermediate object on which we are setting values always behaves as a copy.\n",
      "\n",
      "For example, when doing 'df[col].method(value, inplace=True)', try using 'df.method({col: value}, inplace=True)' or df[col] = df[col].method(value) instead, to perform the operation inplace on the original object.\n",
      "\n",
      "\n",
      "  df_cleaned[column].fillna(df_cleaned[column].median(), inplace=True)\n",
      "C:\\Users\\Lenovo\\AppData\\Local\\Temp\\ipykernel_12416\\976960826.py:6: SettingWithCopyWarning: \n",
      "A value is trying to be set on a copy of a slice from a DataFrame\n",
      "\n",
      "See the caveats in the documentation: https://pandas.pydata.org/pandas-docs/stable/user_guide/indexing.html#returning-a-view-versus-a-copy\n",
      "  df_cleaned[column].fillna(df_cleaned[column].median(), inplace=True)\n",
      "C:\\Users\\Lenovo\\AppData\\Local\\Temp\\ipykernel_12416\\976960826.py:6: FutureWarning: A value is trying to be set on a copy of a DataFrame or Series through chained assignment using an inplace method.\n",
      "The behavior will change in pandas 3.0. This inplace method will never work because the intermediate object on which we are setting values always behaves as a copy.\n",
      "\n",
      "For example, when doing 'df[col].method(value, inplace=True)', try using 'df.method({col: value}, inplace=True)' or df[col] = df[col].method(value) instead, to perform the operation inplace on the original object.\n",
      "\n",
      "\n",
      "  df_cleaned[column].fillna(df_cleaned[column].median(), inplace=True)\n",
      "C:\\Users\\Lenovo\\AppData\\Local\\Temp\\ipykernel_12416\\976960826.py:6: SettingWithCopyWarning: \n",
      "A value is trying to be set on a copy of a slice from a DataFrame\n",
      "\n",
      "See the caveats in the documentation: https://pandas.pydata.org/pandas-docs/stable/user_guide/indexing.html#returning-a-view-versus-a-copy\n",
      "  df_cleaned[column].fillna(df_cleaned[column].median(), inplace=True)\n",
      "C:\\Users\\Lenovo\\AppData\\Local\\Temp\\ipykernel_12416\\976960826.py:6: FutureWarning: A value is trying to be set on a copy of a DataFrame or Series through chained assignment using an inplace method.\n",
      "The behavior will change in pandas 3.0. This inplace method will never work because the intermediate object on which we are setting values always behaves as a copy.\n",
      "\n",
      "For example, when doing 'df[col].method(value, inplace=True)', try using 'df.method({col: value}, inplace=True)' or df[col] = df[col].method(value) instead, to perform the operation inplace on the original object.\n",
      "\n",
      "\n",
      "  df_cleaned[column].fillna(df_cleaned[column].median(), inplace=True)\n",
      "C:\\Users\\Lenovo\\AppData\\Local\\Temp\\ipykernel_12416\\976960826.py:6: SettingWithCopyWarning: \n",
      "A value is trying to be set on a copy of a slice from a DataFrame\n",
      "\n",
      "See the caveats in the documentation: https://pandas.pydata.org/pandas-docs/stable/user_guide/indexing.html#returning-a-view-versus-a-copy\n",
      "  df_cleaned[column].fillna(df_cleaned[column].median(), inplace=True)\n",
      "C:\\Users\\Lenovo\\AppData\\Local\\Temp\\ipykernel_12416\\976960826.py:6: FutureWarning: A value is trying to be set on a copy of a DataFrame or Series through chained assignment using an inplace method.\n",
      "The behavior will change in pandas 3.0. This inplace method will never work because the intermediate object on which we are setting values always behaves as a copy.\n",
      "\n",
      "For example, when doing 'df[col].method(value, inplace=True)', try using 'df.method({col: value}, inplace=True)' or df[col] = df[col].method(value) instead, to perform the operation inplace on the original object.\n",
      "\n",
      "\n",
      "  df_cleaned[column].fillna(df_cleaned[column].median(), inplace=True)\n",
      "C:\\Users\\Lenovo\\AppData\\Local\\Temp\\ipykernel_12416\\976960826.py:6: SettingWithCopyWarning: \n",
      "A value is trying to be set on a copy of a slice from a DataFrame\n",
      "\n",
      "See the caveats in the documentation: https://pandas.pydata.org/pandas-docs/stable/user_guide/indexing.html#returning-a-view-versus-a-copy\n",
      "  df_cleaned[column].fillna(df_cleaned[column].median(), inplace=True)\n",
      "C:\\Users\\Lenovo\\AppData\\Local\\Temp\\ipykernel_12416\\976960826.py:6: FutureWarning: A value is trying to be set on a copy of a DataFrame or Series through chained assignment using an inplace method.\n",
      "The behavior will change in pandas 3.0. This inplace method will never work because the intermediate object on which we are setting values always behaves as a copy.\n",
      "\n",
      "For example, when doing 'df[col].method(value, inplace=True)', try using 'df.method({col: value}, inplace=True)' or df[col] = df[col].method(value) instead, to perform the operation inplace on the original object.\n",
      "\n",
      "\n",
      "  df_cleaned[column].fillna(df_cleaned[column].median(), inplace=True)\n",
      "C:\\Users\\Lenovo\\AppData\\Local\\Temp\\ipykernel_12416\\976960826.py:6: SettingWithCopyWarning: \n",
      "A value is trying to be set on a copy of a slice from a DataFrame\n",
      "\n",
      "See the caveats in the documentation: https://pandas.pydata.org/pandas-docs/stable/user_guide/indexing.html#returning-a-view-versus-a-copy\n",
      "  df_cleaned[column].fillna(df_cleaned[column].median(), inplace=True)\n",
      "C:\\Users\\Lenovo\\AppData\\Local\\Temp\\ipykernel_12416\\976960826.py:6: FutureWarning: A value is trying to be set on a copy of a DataFrame or Series through chained assignment using an inplace method.\n",
      "The behavior will change in pandas 3.0. This inplace method will never work because the intermediate object on which we are setting values always behaves as a copy.\n",
      "\n",
      "For example, when doing 'df[col].method(value, inplace=True)', try using 'df.method({col: value}, inplace=True)' or df[col] = df[col].method(value) instead, to perform the operation inplace on the original object.\n",
      "\n",
      "\n",
      "  df_cleaned[column].fillna(df_cleaned[column].median(), inplace=True)\n",
      "C:\\Users\\Lenovo\\AppData\\Local\\Temp\\ipykernel_12416\\976960826.py:6: SettingWithCopyWarning: \n",
      "A value is trying to be set on a copy of a slice from a DataFrame\n",
      "\n",
      "See the caveats in the documentation: https://pandas.pydata.org/pandas-docs/stable/user_guide/indexing.html#returning-a-view-versus-a-copy\n",
      "  df_cleaned[column].fillna(df_cleaned[column].median(), inplace=True)\n",
      "C:\\Users\\Lenovo\\AppData\\Local\\Temp\\ipykernel_12416\\976960826.py:6: FutureWarning: A value is trying to be set on a copy of a DataFrame or Series through chained assignment using an inplace method.\n",
      "The behavior will change in pandas 3.0. This inplace method will never work because the intermediate object on which we are setting values always behaves as a copy.\n",
      "\n",
      "For example, when doing 'df[col].method(value, inplace=True)', try using 'df.method({col: value}, inplace=True)' or df[col] = df[col].method(value) instead, to perform the operation inplace on the original object.\n",
      "\n",
      "\n",
      "  df_cleaned[column].fillna(df_cleaned[column].median(), inplace=True)\n",
      "C:\\Users\\Lenovo\\AppData\\Local\\Temp\\ipykernel_12416\\976960826.py:6: SettingWithCopyWarning: \n",
      "A value is trying to be set on a copy of a slice from a DataFrame\n",
      "\n",
      "See the caveats in the documentation: https://pandas.pydata.org/pandas-docs/stable/user_guide/indexing.html#returning-a-view-versus-a-copy\n",
      "  df_cleaned[column].fillna(df_cleaned[column].median(), inplace=True)\n",
      "C:\\Users\\Lenovo\\AppData\\Local\\Temp\\ipykernel_12416\\976960826.py:6: FutureWarning: A value is trying to be set on a copy of a DataFrame or Series through chained assignment using an inplace method.\n",
      "The behavior will change in pandas 3.0. This inplace method will never work because the intermediate object on which we are setting values always behaves as a copy.\n",
      "\n",
      "For example, when doing 'df[col].method(value, inplace=True)', try using 'df.method({col: value}, inplace=True)' or df[col] = df[col].method(value) instead, to perform the operation inplace on the original object.\n",
      "\n",
      "\n",
      "  df_cleaned[column].fillna(df_cleaned[column].median(), inplace=True)\n",
      "C:\\Users\\Lenovo\\AppData\\Local\\Temp\\ipykernel_12416\\976960826.py:6: SettingWithCopyWarning: \n",
      "A value is trying to be set on a copy of a slice from a DataFrame\n",
      "\n",
      "See the caveats in the documentation: https://pandas.pydata.org/pandas-docs/stable/user_guide/indexing.html#returning-a-view-versus-a-copy\n",
      "  df_cleaned[column].fillna(df_cleaned[column].median(), inplace=True)\n",
      "C:\\Users\\Lenovo\\AppData\\Local\\Temp\\ipykernel_12416\\976960826.py:6: FutureWarning: A value is trying to be set on a copy of a DataFrame or Series through chained assignment using an inplace method.\n",
      "The behavior will change in pandas 3.0. This inplace method will never work because the intermediate object on which we are setting values always behaves as a copy.\n",
      "\n",
      "For example, when doing 'df[col].method(value, inplace=True)', try using 'df.method({col: value}, inplace=True)' or df[col] = df[col].method(value) instead, to perform the operation inplace on the original object.\n",
      "\n",
      "\n",
      "  df_cleaned[column].fillna(df_cleaned[column].median(), inplace=True)\n",
      "C:\\Users\\Lenovo\\AppData\\Local\\Temp\\ipykernel_12416\\976960826.py:6: SettingWithCopyWarning: \n",
      "A value is trying to be set on a copy of a slice from a DataFrame\n",
      "\n",
      "See the caveats in the documentation: https://pandas.pydata.org/pandas-docs/stable/user_guide/indexing.html#returning-a-view-versus-a-copy\n",
      "  df_cleaned[column].fillna(df_cleaned[column].median(), inplace=True)\n",
      "C:\\Users\\Lenovo\\AppData\\Local\\Temp\\ipykernel_12416\\976960826.py:6: FutureWarning: A value is trying to be set on a copy of a DataFrame or Series through chained assignment using an inplace method.\n",
      "The behavior will change in pandas 3.0. This inplace method will never work because the intermediate object on which we are setting values always behaves as a copy.\n",
      "\n",
      "For example, when doing 'df[col].method(value, inplace=True)', try using 'df.method({col: value}, inplace=True)' or df[col] = df[col].method(value) instead, to perform the operation inplace on the original object.\n",
      "\n",
      "\n",
      "  df_cleaned[column].fillna(df_cleaned[column].median(), inplace=True)\n",
      "C:\\Users\\Lenovo\\AppData\\Local\\Temp\\ipykernel_12416\\976960826.py:6: SettingWithCopyWarning: \n",
      "A value is trying to be set on a copy of a slice from a DataFrame\n",
      "\n",
      "See the caveats in the documentation: https://pandas.pydata.org/pandas-docs/stable/user_guide/indexing.html#returning-a-view-versus-a-copy\n",
      "  df_cleaned[column].fillna(df_cleaned[column].median(), inplace=True)\n",
      "C:\\Users\\Lenovo\\AppData\\Local\\Temp\\ipykernel_12416\\976960826.py:6: FutureWarning: A value is trying to be set on a copy of a DataFrame or Series through chained assignment using an inplace method.\n",
      "The behavior will change in pandas 3.0. This inplace method will never work because the intermediate object on which we are setting values always behaves as a copy.\n",
      "\n",
      "For example, when doing 'df[col].method(value, inplace=True)', try using 'df.method({col: value}, inplace=True)' or df[col] = df[col].method(value) instead, to perform the operation inplace on the original object.\n",
      "\n",
      "\n",
      "  df_cleaned[column].fillna(df_cleaned[column].median(), inplace=True)\n",
      "C:\\Users\\Lenovo\\AppData\\Local\\Temp\\ipykernel_12416\\976960826.py:6: SettingWithCopyWarning: \n",
      "A value is trying to be set on a copy of a slice from a DataFrame\n",
      "\n",
      "See the caveats in the documentation: https://pandas.pydata.org/pandas-docs/stable/user_guide/indexing.html#returning-a-view-versus-a-copy\n",
      "  df_cleaned[column].fillna(df_cleaned[column].median(), inplace=True)\n",
      "C:\\Users\\Lenovo\\AppData\\Local\\Temp\\ipykernel_12416\\976960826.py:6: FutureWarning: A value is trying to be set on a copy of a DataFrame or Series through chained assignment using an inplace method.\n",
      "The behavior will change in pandas 3.0. This inplace method will never work because the intermediate object on which we are setting values always behaves as a copy.\n",
      "\n",
      "For example, when doing 'df[col].method(value, inplace=True)', try using 'df.method({col: value}, inplace=True)' or df[col] = df[col].method(value) instead, to perform the operation inplace on the original object.\n",
      "\n",
      "\n",
      "  df_cleaned[column].fillna(df_cleaned[column].median(), inplace=True)\n",
      "C:\\Users\\Lenovo\\AppData\\Local\\Temp\\ipykernel_12416\\976960826.py:6: SettingWithCopyWarning: \n",
      "A value is trying to be set on a copy of a slice from a DataFrame\n",
      "\n",
      "See the caveats in the documentation: https://pandas.pydata.org/pandas-docs/stable/user_guide/indexing.html#returning-a-view-versus-a-copy\n",
      "  df_cleaned[column].fillna(df_cleaned[column].median(), inplace=True)\n",
      "C:\\Users\\Lenovo\\AppData\\Local\\Temp\\ipykernel_12416\\976960826.py:6: FutureWarning: A value is trying to be set on a copy of a DataFrame or Series through chained assignment using an inplace method.\n",
      "The behavior will change in pandas 3.0. This inplace method will never work because the intermediate object on which we are setting values always behaves as a copy.\n",
      "\n",
      "For example, when doing 'df[col].method(value, inplace=True)', try using 'df.method({col: value}, inplace=True)' or df[col] = df[col].method(value) instead, to perform the operation inplace on the original object.\n",
      "\n",
      "\n",
      "  df_cleaned[column].fillna(df_cleaned[column].median(), inplace=True)\n",
      "C:\\Users\\Lenovo\\AppData\\Local\\Temp\\ipykernel_12416\\976960826.py:6: SettingWithCopyWarning: \n",
      "A value is trying to be set on a copy of a slice from a DataFrame\n",
      "\n",
      "See the caveats in the documentation: https://pandas.pydata.org/pandas-docs/stable/user_guide/indexing.html#returning-a-view-versus-a-copy\n",
      "  df_cleaned[column].fillna(df_cleaned[column].median(), inplace=True)\n",
      "C:\\Users\\Lenovo\\AppData\\Local\\Temp\\ipykernel_12416\\976960826.py:6: FutureWarning: A value is trying to be set on a copy of a DataFrame or Series through chained assignment using an inplace method.\n",
      "The behavior will change in pandas 3.0. This inplace method will never work because the intermediate object on which we are setting values always behaves as a copy.\n",
      "\n",
      "For example, when doing 'df[col].method(value, inplace=True)', try using 'df.method({col: value}, inplace=True)' or df[col] = df[col].method(value) instead, to perform the operation inplace on the original object.\n",
      "\n",
      "\n",
      "  df_cleaned[column].fillna(df_cleaned[column].median(), inplace=True)\n",
      "C:\\Users\\Lenovo\\AppData\\Local\\Temp\\ipykernel_12416\\976960826.py:6: SettingWithCopyWarning: \n",
      "A value is trying to be set on a copy of a slice from a DataFrame\n",
      "\n",
      "See the caveats in the documentation: https://pandas.pydata.org/pandas-docs/stable/user_guide/indexing.html#returning-a-view-versus-a-copy\n",
      "  df_cleaned[column].fillna(df_cleaned[column].median(), inplace=True)\n",
      "C:\\Users\\Lenovo\\AppData\\Local\\Temp\\ipykernel_12416\\976960826.py:6: FutureWarning: A value is trying to be set on a copy of a DataFrame or Series through chained assignment using an inplace method.\n",
      "The behavior will change in pandas 3.0. This inplace method will never work because the intermediate object on which we are setting values always behaves as a copy.\n",
      "\n",
      "For example, when doing 'df[col].method(value, inplace=True)', try using 'df.method({col: value}, inplace=True)' or df[col] = df[col].method(value) instead, to perform the operation inplace on the original object.\n",
      "\n",
      "\n",
      "  df_cleaned[column].fillna(df_cleaned[column].median(), inplace=True)\n",
      "C:\\Users\\Lenovo\\AppData\\Local\\Temp\\ipykernel_12416\\976960826.py:6: SettingWithCopyWarning: \n",
      "A value is trying to be set on a copy of a slice from a DataFrame\n",
      "\n",
      "See the caveats in the documentation: https://pandas.pydata.org/pandas-docs/stable/user_guide/indexing.html#returning-a-view-versus-a-copy\n",
      "  df_cleaned[column].fillna(df_cleaned[column].median(), inplace=True)\n",
      "C:\\Users\\Lenovo\\AppData\\Local\\Temp\\ipykernel_12416\\976960826.py:6: FutureWarning: A value is trying to be set on a copy of a DataFrame or Series through chained assignment using an inplace method.\n",
      "The behavior will change in pandas 3.0. This inplace method will never work because the intermediate object on which we are setting values always behaves as a copy.\n",
      "\n",
      "For example, when doing 'df[col].method(value, inplace=True)', try using 'df.method({col: value}, inplace=True)' or df[col] = df[col].method(value) instead, to perform the operation inplace on the original object.\n",
      "\n",
      "\n",
      "  df_cleaned[column].fillna(df_cleaned[column].median(), inplace=True)\n",
      "C:\\Users\\Lenovo\\AppData\\Local\\Temp\\ipykernel_12416\\976960826.py:6: SettingWithCopyWarning: \n",
      "A value is trying to be set on a copy of a slice from a DataFrame\n",
      "\n",
      "See the caveats in the documentation: https://pandas.pydata.org/pandas-docs/stable/user_guide/indexing.html#returning-a-view-versus-a-copy\n",
      "  df_cleaned[column].fillna(df_cleaned[column].median(), inplace=True)\n",
      "C:\\Users\\Lenovo\\AppData\\Local\\Temp\\ipykernel_12416\\976960826.py:6: FutureWarning: A value is trying to be set on a copy of a DataFrame or Series through chained assignment using an inplace method.\n",
      "The behavior will change in pandas 3.0. This inplace method will never work because the intermediate object on which we are setting values always behaves as a copy.\n",
      "\n",
      "For example, when doing 'df[col].method(value, inplace=True)', try using 'df.method({col: value}, inplace=True)' or df[col] = df[col].method(value) instead, to perform the operation inplace on the original object.\n",
      "\n",
      "\n",
      "  df_cleaned[column].fillna(df_cleaned[column].median(), inplace=True)\n",
      "C:\\Users\\Lenovo\\AppData\\Local\\Temp\\ipykernel_12416\\976960826.py:6: SettingWithCopyWarning: \n",
      "A value is trying to be set on a copy of a slice from a DataFrame\n",
      "\n",
      "See the caveats in the documentation: https://pandas.pydata.org/pandas-docs/stable/user_guide/indexing.html#returning-a-view-versus-a-copy\n",
      "  df_cleaned[column].fillna(df_cleaned[column].median(), inplace=True)\n",
      "C:\\Users\\Lenovo\\AppData\\Local\\Temp\\ipykernel_12416\\976960826.py:6: FutureWarning: A value is trying to be set on a copy of a DataFrame or Series through chained assignment using an inplace method.\n",
      "The behavior will change in pandas 3.0. This inplace method will never work because the intermediate object on which we are setting values always behaves as a copy.\n",
      "\n",
      "For example, when doing 'df[col].method(value, inplace=True)', try using 'df.method({col: value}, inplace=True)' or df[col] = df[col].method(value) instead, to perform the operation inplace on the original object.\n",
      "\n",
      "\n",
      "  df_cleaned[column].fillna(df_cleaned[column].median(), inplace=True)\n",
      "C:\\Users\\Lenovo\\AppData\\Local\\Temp\\ipykernel_12416\\976960826.py:6: SettingWithCopyWarning: \n",
      "A value is trying to be set on a copy of a slice from a DataFrame\n",
      "\n",
      "See the caveats in the documentation: https://pandas.pydata.org/pandas-docs/stable/user_guide/indexing.html#returning-a-view-versus-a-copy\n",
      "  df_cleaned[column].fillna(df_cleaned[column].median(), inplace=True)\n",
      "C:\\Users\\Lenovo\\AppData\\Local\\Temp\\ipykernel_12416\\976960826.py:6: FutureWarning: A value is trying to be set on a copy of a DataFrame or Series through chained assignment using an inplace method.\n",
      "The behavior will change in pandas 3.0. This inplace method will never work because the intermediate object on which we are setting values always behaves as a copy.\n",
      "\n",
      "For example, when doing 'df[col].method(value, inplace=True)', try using 'df.method({col: value}, inplace=True)' or df[col] = df[col].method(value) instead, to perform the operation inplace on the original object.\n",
      "\n",
      "\n",
      "  df_cleaned[column].fillna(df_cleaned[column].median(), inplace=True)\n",
      "C:\\Users\\Lenovo\\AppData\\Local\\Temp\\ipykernel_12416\\976960826.py:6: SettingWithCopyWarning: \n",
      "A value is trying to be set on a copy of a slice from a DataFrame\n",
      "\n",
      "See the caveats in the documentation: https://pandas.pydata.org/pandas-docs/stable/user_guide/indexing.html#returning-a-view-versus-a-copy\n",
      "  df_cleaned[column].fillna(df_cleaned[column].median(), inplace=True)\n",
      "C:\\Users\\Lenovo\\AppData\\Local\\Temp\\ipykernel_12416\\976960826.py:6: FutureWarning: A value is trying to be set on a copy of a DataFrame or Series through chained assignment using an inplace method.\n",
      "The behavior will change in pandas 3.0. This inplace method will never work because the intermediate object on which we are setting values always behaves as a copy.\n",
      "\n",
      "For example, when doing 'df[col].method(value, inplace=True)', try using 'df.method({col: value}, inplace=True)' or df[col] = df[col].method(value) instead, to perform the operation inplace on the original object.\n",
      "\n",
      "\n",
      "  df_cleaned[column].fillna(df_cleaned[column].median(), inplace=True)\n",
      "C:\\Users\\Lenovo\\AppData\\Local\\Temp\\ipykernel_12416\\976960826.py:6: SettingWithCopyWarning: \n",
      "A value is trying to be set on a copy of a slice from a DataFrame\n",
      "\n",
      "See the caveats in the documentation: https://pandas.pydata.org/pandas-docs/stable/user_guide/indexing.html#returning-a-view-versus-a-copy\n",
      "  df_cleaned[column].fillna(df_cleaned[column].median(), inplace=True)\n",
      "C:\\Users\\Lenovo\\AppData\\Local\\Temp\\ipykernel_12416\\976960826.py:6: FutureWarning: A value is trying to be set on a copy of a DataFrame or Series through chained assignment using an inplace method.\n",
      "The behavior will change in pandas 3.0. This inplace method will never work because the intermediate object on which we are setting values always behaves as a copy.\n",
      "\n",
      "For example, when doing 'df[col].method(value, inplace=True)', try using 'df.method({col: value}, inplace=True)' or df[col] = df[col].method(value) instead, to perform the operation inplace on the original object.\n",
      "\n",
      "\n",
      "  df_cleaned[column].fillna(df_cleaned[column].median(), inplace=True)\n",
      "C:\\Users\\Lenovo\\AppData\\Local\\Temp\\ipykernel_12416\\976960826.py:6: SettingWithCopyWarning: \n",
      "A value is trying to be set on a copy of a slice from a DataFrame\n",
      "\n",
      "See the caveats in the documentation: https://pandas.pydata.org/pandas-docs/stable/user_guide/indexing.html#returning-a-view-versus-a-copy\n",
      "  df_cleaned[column].fillna(df_cleaned[column].median(), inplace=True)\n",
      "C:\\Users\\Lenovo\\AppData\\Local\\Temp\\ipykernel_12416\\976960826.py:6: FutureWarning: A value is trying to be set on a copy of a DataFrame or Series through chained assignment using an inplace method.\n",
      "The behavior will change in pandas 3.0. This inplace method will never work because the intermediate object on which we are setting values always behaves as a copy.\n",
      "\n",
      "For example, when doing 'df[col].method(value, inplace=True)', try using 'df.method({col: value}, inplace=True)' or df[col] = df[col].method(value) instead, to perform the operation inplace on the original object.\n",
      "\n",
      "\n",
      "  df_cleaned[column].fillna(df_cleaned[column].median(), inplace=True)\n",
      "C:\\Users\\Lenovo\\AppData\\Local\\Temp\\ipykernel_12416\\976960826.py:6: SettingWithCopyWarning: \n",
      "A value is trying to be set on a copy of a slice from a DataFrame\n",
      "\n",
      "See the caveats in the documentation: https://pandas.pydata.org/pandas-docs/stable/user_guide/indexing.html#returning-a-view-versus-a-copy\n",
      "  df_cleaned[column].fillna(df_cleaned[column].median(), inplace=True)\n",
      "C:\\Users\\Lenovo\\AppData\\Local\\Temp\\ipykernel_12416\\976960826.py:6: FutureWarning: A value is trying to be set on a copy of a DataFrame or Series through chained assignment using an inplace method.\n",
      "The behavior will change in pandas 3.0. This inplace method will never work because the intermediate object on which we are setting values always behaves as a copy.\n",
      "\n",
      "For example, when doing 'df[col].method(value, inplace=True)', try using 'df.method({col: value}, inplace=True)' or df[col] = df[col].method(value) instead, to perform the operation inplace on the original object.\n",
      "\n",
      "\n",
      "  df_cleaned[column].fillna(df_cleaned[column].median(), inplace=True)\n",
      "C:\\Users\\Lenovo\\AppData\\Local\\Temp\\ipykernel_12416\\976960826.py:6: SettingWithCopyWarning: \n",
      "A value is trying to be set on a copy of a slice from a DataFrame\n",
      "\n",
      "See the caveats in the documentation: https://pandas.pydata.org/pandas-docs/stable/user_guide/indexing.html#returning-a-view-versus-a-copy\n",
      "  df_cleaned[column].fillna(df_cleaned[column].median(), inplace=True)\n",
      "C:\\Users\\Lenovo\\AppData\\Local\\Temp\\ipykernel_12416\\976960826.py:6: FutureWarning: A value is trying to be set on a copy of a DataFrame or Series through chained assignment using an inplace method.\n",
      "The behavior will change in pandas 3.0. This inplace method will never work because the intermediate object on which we are setting values always behaves as a copy.\n",
      "\n",
      "For example, when doing 'df[col].method(value, inplace=True)', try using 'df.method({col: value}, inplace=True)' or df[col] = df[col].method(value) instead, to perform the operation inplace on the original object.\n",
      "\n",
      "\n",
      "  df_cleaned[column].fillna(df_cleaned[column].median(), inplace=True)\n",
      "C:\\Users\\Lenovo\\AppData\\Local\\Temp\\ipykernel_12416\\976960826.py:6: SettingWithCopyWarning: \n",
      "A value is trying to be set on a copy of a slice from a DataFrame\n",
      "\n",
      "See the caveats in the documentation: https://pandas.pydata.org/pandas-docs/stable/user_guide/indexing.html#returning-a-view-versus-a-copy\n",
      "  df_cleaned[column].fillna(df_cleaned[column].median(), inplace=True)\n",
      "C:\\Users\\Lenovo\\AppData\\Local\\Temp\\ipykernel_12416\\976960826.py:6: FutureWarning: A value is trying to be set on a copy of a DataFrame or Series through chained assignment using an inplace method.\n",
      "The behavior will change in pandas 3.0. This inplace method will never work because the intermediate object on which we are setting values always behaves as a copy.\n",
      "\n",
      "For example, when doing 'df[col].method(value, inplace=True)', try using 'df.method({col: value}, inplace=True)' or df[col] = df[col].method(value) instead, to perform the operation inplace on the original object.\n",
      "\n",
      "\n",
      "  df_cleaned[column].fillna(df_cleaned[column].median(), inplace=True)\n",
      "C:\\Users\\Lenovo\\AppData\\Local\\Temp\\ipykernel_12416\\976960826.py:6: SettingWithCopyWarning: \n",
      "A value is trying to be set on a copy of a slice from a DataFrame\n",
      "\n",
      "See the caveats in the documentation: https://pandas.pydata.org/pandas-docs/stable/user_guide/indexing.html#returning-a-view-versus-a-copy\n",
      "  df_cleaned[column].fillna(df_cleaned[column].median(), inplace=True)\n",
      "C:\\Users\\Lenovo\\AppData\\Local\\Temp\\ipykernel_12416\\976960826.py:6: FutureWarning: A value is trying to be set on a copy of a DataFrame or Series through chained assignment using an inplace method.\n",
      "The behavior will change in pandas 3.0. This inplace method will never work because the intermediate object on which we are setting values always behaves as a copy.\n",
      "\n",
      "For example, when doing 'df[col].method(value, inplace=True)', try using 'df.method({col: value}, inplace=True)' or df[col] = df[col].method(value) instead, to perform the operation inplace on the original object.\n",
      "\n",
      "\n",
      "  df_cleaned[column].fillna(df_cleaned[column].median(), inplace=True)\n",
      "C:\\Users\\Lenovo\\AppData\\Local\\Temp\\ipykernel_12416\\976960826.py:6: SettingWithCopyWarning: \n",
      "A value is trying to be set on a copy of a slice from a DataFrame\n",
      "\n",
      "See the caveats in the documentation: https://pandas.pydata.org/pandas-docs/stable/user_guide/indexing.html#returning-a-view-versus-a-copy\n",
      "  df_cleaned[column].fillna(df_cleaned[column].median(), inplace=True)\n",
      "C:\\Users\\Lenovo\\AppData\\Local\\Temp\\ipykernel_12416\\976960826.py:6: FutureWarning: A value is trying to be set on a copy of a DataFrame or Series through chained assignment using an inplace method.\n",
      "The behavior will change in pandas 3.0. This inplace method will never work because the intermediate object on which we are setting values always behaves as a copy.\n",
      "\n",
      "For example, when doing 'df[col].method(value, inplace=True)', try using 'df.method({col: value}, inplace=True)' or df[col] = df[col].method(value) instead, to perform the operation inplace on the original object.\n",
      "\n",
      "\n",
      "  df_cleaned[column].fillna(df_cleaned[column].median(), inplace=True)\n",
      "C:\\Users\\Lenovo\\AppData\\Local\\Temp\\ipykernel_12416\\976960826.py:6: SettingWithCopyWarning: \n",
      "A value is trying to be set on a copy of a slice from a DataFrame\n",
      "\n",
      "See the caveats in the documentation: https://pandas.pydata.org/pandas-docs/stable/user_guide/indexing.html#returning-a-view-versus-a-copy\n",
      "  df_cleaned[column].fillna(df_cleaned[column].median(), inplace=True)\n",
      "C:\\Users\\Lenovo\\AppData\\Local\\Temp\\ipykernel_12416\\976960826.py:6: FutureWarning: A value is trying to be set on a copy of a DataFrame or Series through chained assignment using an inplace method.\n",
      "The behavior will change in pandas 3.0. This inplace method will never work because the intermediate object on which we are setting values always behaves as a copy.\n",
      "\n",
      "For example, when doing 'df[col].method(value, inplace=True)', try using 'df.method({col: value}, inplace=True)' or df[col] = df[col].method(value) instead, to perform the operation inplace on the original object.\n",
      "\n",
      "\n",
      "  df_cleaned[column].fillna(df_cleaned[column].median(), inplace=True)\n",
      "C:\\Users\\Lenovo\\AppData\\Local\\Temp\\ipykernel_12416\\976960826.py:6: SettingWithCopyWarning: \n",
      "A value is trying to be set on a copy of a slice from a DataFrame\n",
      "\n",
      "See the caveats in the documentation: https://pandas.pydata.org/pandas-docs/stable/user_guide/indexing.html#returning-a-view-versus-a-copy\n",
      "  df_cleaned[column].fillna(df_cleaned[column].median(), inplace=True)\n",
      "C:\\Users\\Lenovo\\AppData\\Local\\Temp\\ipykernel_12416\\976960826.py:6: FutureWarning: A value is trying to be set on a copy of a DataFrame or Series through chained assignment using an inplace method.\n",
      "The behavior will change in pandas 3.0. This inplace method will never work because the intermediate object on which we are setting values always behaves as a copy.\n",
      "\n",
      "For example, when doing 'df[col].method(value, inplace=True)', try using 'df.method({col: value}, inplace=True)' or df[col] = df[col].method(value) instead, to perform the operation inplace on the original object.\n",
      "\n",
      "\n",
      "  df_cleaned[column].fillna(df_cleaned[column].median(), inplace=True)\n",
      "C:\\Users\\Lenovo\\AppData\\Local\\Temp\\ipykernel_12416\\976960826.py:6: SettingWithCopyWarning: \n",
      "A value is trying to be set on a copy of a slice from a DataFrame\n",
      "\n",
      "See the caveats in the documentation: https://pandas.pydata.org/pandas-docs/stable/user_guide/indexing.html#returning-a-view-versus-a-copy\n",
      "  df_cleaned[column].fillna(df_cleaned[column].median(), inplace=True)\n"
     ]
    }
   ],
   "source": [
    "# Fill missing values\n",
    "for column in df_cleaned.columns:\n",
    "    if df_cleaned[column].dtype == 'object':\n",
    "        df_cleaned[column].fillna(df_cleaned[column].mode()[0], inplace=True)\n",
    "    else:\n",
    "        df_cleaned[column].fillna(df_cleaned[column].median(), inplace=True)"
   ]
  },
  {
   "cell_type": "markdown",
   "metadata": {},
   "source": [
    "# Temporal Analysis\n"
   ]
  },
  {
   "cell_type": "code",
   "execution_count": 10,
   "metadata": {},
   "outputs": [
    {
     "data": {
      "application/vnd.plotly.v1+json": {
       "config": {
        "plotlyServerURL": "https://plot.ly"
       },
       "data": [
        {
         "hovertemplate": "Date=%{x}<br>No. of Suicide Blasts=%{y}<extra></extra>",
         "legendgroup": "",
         "line": {
          "color": "#636efa",
          "dash": "solid"
         },
         "marker": {
          "symbol": "circle"
         },
         "mode": "lines",
         "name": "",
         "orientation": "v",
         "showlegend": false,
         "type": "scatter",
         "x": [
          "1995-11-19T00:00:00",
          "2000-11-06T00:00:00",
          "2002-05-08T00:00:00",
          "2002-06-14T00:00:00",
          "2003-07-04T00:00:00",
          "2003-12-25T00:00:00",
          "2004-02-28T00:00:00",
          "2004-05-07T00:00:00",
          "2004-05-31T00:00:00",
          "2004-06-03T00:00:00",
          "2004-07-28T00:00:00",
          "2004-07-30T00:00:00",
          "2004-10-01T00:00:00",
          "2004-10-10T00:00:00",
          "2005-03-19T00:00:00",
          "2005-04-28T00:00:00",
          "2005-05-27T00:00:00",
          "2005-05-30T00:00:00",
          "2006-02-09T00:00:00",
          "2006-03-02T00:00:00",
          "2006-04-12T00:00:00",
          "2006-06-02T00:00:00",
          "2006-06-26T00:00:00",
          "2006-08-06T00:00:00",
          "2006-11-08T00:00:00",
          "2006-11-17T00:00:00",
          "2006-12-03T00:00:00",
          "2007-01-22T00:00:00",
          "2007-01-26T00:00:00",
          "2007-01-27T00:00:00",
          "2007-01-29T00:00:00",
          "2007-02-03T00:00:00",
          "2007-02-03T00:00:00",
          "2007-02-06T00:00:00",
          "2007-02-17T00:00:00",
          "2007-03-29T00:00:00",
          "2007-04-28T00:00:00",
          "2007-05-15T00:00:00",
          "2007-05-28T00:00:00",
          "2007-07-04T00:00:00",
          "2007-07-12T00:00:00",
          "2007-07-12T00:00:00",
          "2007-07-14T00:00:00",
          "2007-07-15T00:00:00",
          "2007-07-15T00:00:00",
          "2007-07-17T00:00:00",
          "2007-07-17T00:00:00",
          "2007-07-19T00:00:00",
          "2007-07-19T00:00:00",
          "2007-07-19T00:00:00",
          "2007-07-20T00:00:00",
          "2007-07-27T00:00:00",
          "2007-08-03T00:00:00",
          "2007-08-04T00:00:00",
          "2007-08-17T00:00:00",
          "2007-08-19T00:00:00",
          "2007-08-19T00:00:00",
          "2007-08-20T00:00:00",
          "2007-08-24T00:00:00",
          "2007-08-26T00:00:00",
          "2007-09-01T00:00:00",
          "2007-09-01T00:00:00",
          "2007-09-04T00:00:00",
          "2007-09-04T00:00:00",
          "2007-09-11T00:00:00",
          "2007-09-13T00:00:00",
          "2007-09-22T00:00:00",
          "2007-10-01T00:00:00",
          "2007-10-18T00:00:00",
          "2007-10-25T00:00:00",
          "2007-10-30T00:00:00",
          "2007-11-01T00:00:00",
          "2007-11-09T00:00:00",
          "2007-11-24T00:00:00",
          "2007-11-24T00:00:00",
          "2007-12-04T00:00:00",
          "2007-12-09T00:00:00",
          "2007-12-10T00:00:00",
          "2007-12-13T00:00:00",
          "2007-12-15T00:00:00",
          "2007-12-17T00:00:00",
          "2007-12-21T00:00:00",
          "2007-12-23T00:00:00",
          "2007-12-27T00:00:00",
          "2008-01-07T00:00:00",
          "2008-01-10T00:00:00",
          "2008-01-15T00:00:00",
          "2008-01-17T00:00:00",
          "2008-02-01T00:00:00",
          "2008-02-04T00:00:00",
          "2008-02-05T00:00:00",
          "2008-02-09T00:00:00",
          "2008-02-11T00:00:00",
          "2008-02-16T00:00:00",
          "2008-02-16T00:00:00",
          "2008-02-25T00:00:00",
          "2008-02-29T00:00:00",
          "2008-03-01T00:00:00",
          "2008-03-02T00:00:00",
          "2008-03-04T00:00:00",
          "2008-03-11T00:00:00",
          "2008-03-11T00:00:00",
          "2008-03-17T00:00:00",
          "2008-03-20T00:00:00",
          "2008-05-01T00:00:00",
          "2008-05-06T00:00:00",
          "2008-05-09T00:00:00",
          "2008-05-18T00:00:00",
          "2008-06-02T00:00:00",
          "2008-07-06T00:00:00",
          "2008-07-13T00:00:00",
          "2008-08-13T00:00:00",
          "2008-08-19T00:00:00",
          "2008-08-21T00:00:00",
          "2008-08-23T00:00:00",
          "2008-08-29T00:00:00",
          "2008-09-06T00:00:00",
          "2008-09-16T00:00:00",
          "2008-09-20T00:00:00",
          "2008-09-20T00:00:00",
          "2008-09-22T00:00:00",
          "2008-09-24T00:00:00",
          "2008-10-03T00:00:00",
          "2008-10-06T00:00:00",
          "2008-10-09T00:00:00",
          "2008-10-09T00:00:00",
          "2008-10-10T00:00:00",
          "2008-10-16T00:00:00",
          "2008-10-26T00:00:00",
          "2008-10-29T00:00:00",
          "2008-10-31T00:00:00",
          "2008-11-02T00:00:00",
          "2008-11-04T00:00:00",
          "2008-11-06T00:00:00",
          "2008-11-06T00:00:00",
          "2008-11-11T00:00:00",
          "2008-11-12T00:00:00",
          "2008-11-17T00:00:00",
          "2008-11-20T00:00:00",
          "2008-11-28T00:00:00",
          "2008-12-01T00:00:00",
          "2008-12-03T00:00:00",
          "2008-12-05T00:00:00",
          "2008-12-09T00:00:00",
          "2008-12-28T00:00:00",
          "2009-01-04T00:00:00",
          "2009-01-04T00:00:00",
          "2009-01-23T00:00:00",
          "2009-02-05T00:00:00",
          "2009-02-05T00:00:00",
          "2009-02-06T00:00:00",
          "2009-02-09T00:00:00",
          "2009-02-20T00:00:00",
          "2009-02-21T00:00:00",
          "2009-02-23T00:00:00",
          "2009-03-02T00:00:00",
          "2009-03-11T00:00:00",
          "2009-03-16T00:00:00",
          "2009-03-23T00:00:00",
          "2009-03-26T00:00:00",
          "2009-03-27T00:00:00",
          "2009-03-30T00:00:00",
          "2009-04-04T00:00:00",
          "2009-04-04T00:00:00",
          "2009-04-05T00:00:00",
          "2009-04-15T00:00:00",
          "2009-04-18T00:00:00",
          "2009-05-05T00:00:00",
          "2009-05-11T00:00:00",
          "2009-05-21T00:00:00",
          "2009-05-27T00:00:00",
          "2009-05-28T00:00:00",
          "2009-05-28T00:00:00",
          "2009-06-05T00:00:00",
          "2009-06-06T00:00:00",
          "2009-06-09T00:00:00",
          "2009-06-11T00:00:00",
          "2009-06-12T00:00:00",
          "2009-06-12T00:00:00",
          "2009-06-22T00:00:00",
          "2009-06-26T00:00:00",
          "2009-06-30T00:00:00",
          "2009-07-01T00:00:00",
          "2009-07-02T00:00:00",
          "2009-07-08T00:00:00",
          "2009-07-28T00:00:00",
          "2009-08-13T00:00:00",
          "2009-08-15T00:00:00",
          "2009-08-16T00:00:00",
          "2009-08-18T00:00:00",
          "2009-08-21T00:00:00",
          "2009-08-22T00:00:00",
          "2009-08-23T00:00:00",
          "2009-08-27T00:00:00",
          "2009-08-30T00:00:00",
          "2009-09-12T00:00:00",
          "2009-09-13T00:00:00",
          "2009-09-18T00:00:00",
          "2009-09-19T00:00:00",
          "2009-09-21T00:00:00",
          "2009-09-26T00:00:00",
          "2009-09-26T00:00:00",
          "2009-09-28T00:00:00",
          "2009-10-05T00:00:00",
          "2009-10-09T00:00:00",
          "2009-10-12T00:00:00",
          "2009-10-15T00:00:00",
          "2009-10-15T00:00:00",
          "2009-10-16T00:00:00",
          "2009-10-20T00:00:00",
          "2009-10-23T00:00:00",
          "2009-10-24T00:00:00",
          "2009-11-02T00:00:00",
          "2009-11-02T00:00:00",
          "2009-11-08T00:00:00",
          "2009-11-09T00:00:00",
          "2009-11-10T00:00:00",
          "2009-11-13T00:00:00",
          "2009-11-13T00:00:00",
          "2009-11-14T00:00:00",
          "2009-11-16T00:00:00",
          "2009-11-19T00:00:00",
          "2009-12-01T00:00:00",
          "2009-12-02T00:00:00",
          "2009-12-04T00:00:00",
          "2009-12-07T00:00:00",
          "2009-12-07T00:00:00",
          "2009-12-08T00:00:00",
          "2009-12-15T00:00:00",
          "2009-12-17T00:00:00",
          "2009-12-18T00:00:00",
          "2009-12-22T00:00:00",
          "2009-12-24T00:00:00",
          "2009-12-24T00:00:00",
          "2009-12-28T00:00:00",
          "2010-01-01T00:00:00",
          "2010-01-06T00:00:00",
          "2010-01-08T00:00:00",
          "2010-01-08T00:00:00",
          "2010-01-16T00:00:00",
          "2010-01-23T00:00:00",
          "2010-01-29T00:00:00",
          "2010-02-10T00:00:00",
          "2010-02-11T00:00:00",
          "2010-02-18T00:00:00",
          "2010-02-20T00:00:00",
          "2010-02-22T00:00:00",
          "2010-02-27T00:00:00",
          "2010-03-05T00:00:00",
          "2010-03-08T00:00:00",
          "2010-03-12T00:00:00",
          "2010-03-13T00:00:00",
          "2010-03-29T00:00:00",
          "2010-03-29T00:00:00",
          "2010-04-05T00:00:00",
          "2010-04-05T00:00:00",
          "2010-04-16T00:00:00",
          "2010-04-17T00:00:00",
          "2010-04-18T00:00:00",
          "2010-04-19T00:00:00",
          "2010-04-28T00:00:00",
          "2010-05-01T00:00:00",
          "2010-05-02T00:00:00",
          "2010-05-28T00:00:00",
          "2010-07-01T00:00:00",
          "2010-07-09T00:00:00",
          "2010-07-12T00:00:00",
          "2010-07-18T00:00:00",
          "2010-07-26T00:00:00",
          "2010-08-04T00:00:00",
          "2010-08-23T00:00:00",
          "2010-09-01T00:00:00",
          "2010-09-03T00:00:00",
          "2010-09-03T00:00:00",
          "2010-09-06T00:00:00",
          "2010-09-09T00:00:00",
          "2010-10-07T00:00:00",
          "2010-10-18T00:00:00",
          "2010-11-01T00:00:00",
          "2010-11-05T00:00:00",
          "2010-11-11T00:00:00",
          "2010-11-11T00:00:00",
          "2010-11-14T00:00:00",
          "2010-11-30T00:00:00",
          "2010-12-06T00:00:00",
          "2010-12-07T00:00:00",
          "2010-12-08T00:00:00",
          "2010-12-10T00:00:00",
          "2010-12-23T00:00:00",
          "2010-12-24T00:00:00",
          "2010-12-25T00:00:00",
          "2010-12-27T00:00:00",
          "2011-01-12T00:00:00",
          "2011-01-25T00:00:00",
          "2011-01-27T00:00:00",
          "2011-01-31T00:00:00",
          "2011-02-10T00:00:00",
          "2011-02-11T00:00:00",
          "2011-02-12T00:00:00",
          "2011-02-19T00:00:00",
          "2011-03-01T00:00:00",
          "2011-03-03T00:00:00",
          "2011-03-09T00:00:00",
          "2011-03-24T00:00:00",
          "2011-03-30T00:00:00",
          "2011-03-31T00:00:00",
          "2011-04-01T00:00:00",
          "2011-04-03T00:00:00",
          "2011-04-04T00:00:00",
          "2011-04-07T00:00:00",
          "2011-04-23T00:00:00",
          "2011-05-13T00:00:00",
          "2011-05-14T00:00:00",
          "2011-05-25T00:00:00",
          "2011-05-26T00:00:00",
          "2011-05-28T00:00:00",
          "2011-06-05T00:00:00",
          "2011-06-12T00:00:00",
          "2011-06-13T00:00:00",
          "2011-06-25T00:00:00",
          "2011-07-11T00:00:00",
          "2011-07-21T00:00:00",
          "2011-07-24T00:00:00",
          "2011-08-06T00:00:00",
          "2011-08-11T00:00:00",
          "2011-08-19T00:00:00",
          "2011-08-31T00:00:00",
          "2011-09-01T00:00:00",
          "2011-09-07T00:00:00",
          "2011-09-15T00:00:00",
          "2011-09-19T00:00:00",
          "2011-10-28T00:00:00",
          "2011-11-07T00:00:00",
          "2011-11-16T00:00:00",
          "2011-11-18T00:00:00",
          "2011-12-24T00:00:00",
          "2012-01-03T00:00:00",
          "2012-01-03T00:00:00",
          "2012-01-03T00:00:00",
          "2012-01-14T00:00:00",
          "2012-01-30T00:00:00",
          "2012-02-17T00:00:00",
          "2012-02-16T00:00:00",
          "2012-02-24T00:00:00",
          "2012-03-03T00:00:00",
          "2012-03-04T00:00:00",
          "2012-03-11T00:00:00",
          "2012-03-15T00:00:00",
          "2012-03-23T00:00:00",
          "2012-04-05T00:00:00",
          "2012-05-04T00:00:00",
          "2012-06-12T00:00:00",
          "2012-06-28T00:00:00",
          "2012-07-16T00:00:00",
          "2012-09-03T00:00:00",
          "2012-09-10T00:00:00",
          "2012-10-13T00:00:00",
          "2012-11-04T00:00:00",
          "2012-11-07T00:00:00",
          "2012-11-08T00:00:00",
          "2012-11-19T00:00:00",
          "2012-11-21T00:00:00",
          "2012-11-21T00:00:00",
          "2012-11-25T00:00:00",
          "2012-11-29T00:00:00",
          "2012-12-04T00:00:00",
          "2012-12-05T00:00:00",
          "2012-12-22T00:00:00",
          "2013-01-10T00:00:00",
          "2013-02-01T00:00:00",
          "2013-02-14T00:00:00",
          "2013-02-14T00:00:00",
          "2013-02-16T00:00:00",
          "2013-02-18T00:00:00",
          "2013-03-18T00:00:00",
          "2013-03-23T00:00:00",
          "2013-03-29T00:00:00",
          "2013-04-16T00:00:00",
          "2013-04-16T00:00:00",
          "2013-04-20T00:00:00",
          "2013-04-23T00:00:00",
          "2013-04-29T00:00:00",
          "2013-05-01T00:00:00",
          "2013-05-07T00:00:00",
          "2013-05-08T00:00:00",
          "2013-05-11T00:00:00",
          "2013-05-12T00:00:00",
          "2013-05-24T00:00:00",
          "2013-06-03T00:00:00",
          "2013-06-15T00:00:00",
          "2013-06-15T00:00:00",
          "2013-06-18T00:00:00",
          "2013-06-21T00:00:00",
          "2013-06-30T00:00:00",
          "2013-07-08T00:00:00",
          "2013-07-25T00:00:00",
          "2013-07-26T00:00:00",
          "2013-08-08T00:00:00",
          "2013-09-22T00:00:00",
          "2013-10-02T00:00:00",
          "2013-10-03T00:00:00",
          "2013-10-11T00:00:00",
          "2013-10-16T00:00:00",
          "2013-11-16T00:00:00",
          "2013-11-19T00:00:00",
          "2013-11-22T00:00:00",
          "2013-12-17T00:00:00",
          "2013-12-18T00:00:00",
          "2013-12-20T00:00:00",
          "2014-01-01T00:00:00",
          "2014-01-06T00:00:00",
          "2014-01-09T00:00:00",
          "2014-01-20T00:00:00",
          "2014-01-23T00:00:00",
          "2014-01-29T00:00:00",
          "2014-02-04T00:00:00",
          "2014-02-07T00:00:00",
          "2014-02-10T00:00:00",
          "2014-02-13T00:00:00",
          "2014-02-24T00:00:00",
          "2014-03-03T00:00:00",
          "2014-03-14T00:00:00",
          "2014-04-24T00:00:00",
          "2014-05-11T00:00:00",
          "2014-06-04T00:00:00",
          "2014-06-08T00:00:00",
          "2014-06-09T00:00:00",
          "2014-06-19T00:00:00",
          "2014-06-24T00:00:00",
          "2014-09-24T00:00:00",
          "2014-10-04T00:00:00",
          "2014-10-15T00:00:00",
          "2014-10-23T00:00:00",
          "2014-11-02T00:00:00",
          "2014-12-16T00:00:00",
          "2014-12-28T00:00:00",
          "2015-01-30T00:00:00",
          "2015-02-13T00:00:00",
          "2015-02-17T00:00:00",
          "2015-02-18T00:00:00",
          "2015-03-15T00:00:00",
          "2015-03-20T00:00:00",
          "2015-05-06T00:00:00",
          "2015-05-26T00:00:00",
          "2015-05-26T00:00:00",
          "2015-05-29T00:00:00",
          "2015-06-06T00:00:00",
          "2015-06-08T00:00:00",
          "2015-06-11T00:00:00",
          "2015-06-29T00:00:00",
          "2015-07-17T00:00:00",
          "2009-12-24T00:00:00",
          "2009-12-24T00:00:00",
          "2009-12-24T00:00:00",
          "2009-12-24T00:00:00",
          "2009-12-24T00:00:00",
          "2009-12-24T00:00:00",
          "2009-12-24T00:00:00",
          "2009-12-24T00:00:00",
          "2009-12-24T00:00:00",
          "2009-12-24T00:00:00",
          "2009-12-24T00:00:00",
          "2009-12-24T00:00:00",
          "2009-12-24T00:00:00",
          "2009-12-24T00:00:00",
          "2009-12-24T00:00:00",
          "2009-12-24T00:00:00",
          "2016-05-30T00:00:00",
          "2009-12-24T00:00:00",
          "2009-12-24T00:00:00",
          "2009-12-24T00:00:00",
          "2009-12-24T00:00:00",
          "2009-12-24T00:00:00",
          "2009-12-24T00:00:00",
          "2009-12-24T00:00:00",
          "2009-12-24T00:00:00",
          "2009-12-24T00:00:00",
          "2009-12-24T00:00:00",
          "2009-12-24T00:00:00",
          "2009-12-24T00:00:00",
          "2009-12-24T00:00:00",
          "2009-12-24T00:00:00",
          "2009-12-24T00:00:00",
          "2009-12-24T00:00:00",
          "2009-12-24T00:00:00",
          "2009-12-24T00:00:00",
          "2009-12-24T00:00:00",
          "2009-12-24T00:00:00",
          "2009-12-24T00:00:00",
          "2009-12-24T00:00:00",
          "2009-12-24T00:00:00",
          "2009-12-24T00:00:00",
          "2009-12-24T00:00:00",
          "2009-12-24T00:00:00",
          "2009-12-24T00:00:00",
          "2009-12-24T00:00:00",
          "2014-01-23T00:00:00",
          "2014-10-15T00:00:00",
          "2014-12-16T00:00:00",
          "2015-01-30T00:00:00",
          "2015-02-17T00:00:00",
          "2015-02-18T00:00:00",
          "2015-03-20T00:00:00",
          "2015-05-06T00:00:00",
          "2015-05-26T00:00:00",
          "2015-05-29T00:00:00",
          "2015-06-08T00:00:00",
          "2015-06-11T00:00:00",
          "2015-07-17T00:00:00",
          "2009-12-24T00:00:00",
          "2009-12-24T00:00:00",
          "2009-12-24T00:00:00",
          "2009-12-24T00:00:00",
          "2009-12-24T00:00:00",
          "2009-12-24T00:00:00",
          "2009-12-24T00:00:00",
          "2009-12-24T00:00:00",
          "2009-12-24T00:00:00",
          "2009-12-24T00:00:00",
          "2009-12-24T00:00:00",
          "2009-12-24T00:00:00",
          "2009-12-24T00:00:00"
         ],
         "xaxis": "x",
         "y": [
          2,
          1,
          1,
          1,
          1,
          2,
          1,
          1,
          1,
          1,
          2,
          1,
          1,
          1,
          1,
          1,
          1,
          1,
          1,
          1,
          1,
          1,
          1,
          1,
          1,
          1,
          1,
          1,
          1,
          1,
          1,
          1,
          1,
          1,
          1,
          1,
          1,
          1,
          1,
          1,
          1,
          1,
          1,
          1,
          1,
          1,
          1,
          1,
          1,
          1,
          1,
          1,
          1,
          1,
          1,
          1,
          1,
          1,
          2,
          1,
          1,
          1,
          2,
          1,
          1,
          1,
          1,
          1,
          2,
          1,
          1,
          1,
          1,
          1,
          1,
          1,
          1,
          1,
          2,
          1,
          1,
          1,
          1,
          1,
          1,
          1,
          1,
          1,
          1,
          1,
          1,
          1,
          1,
          1,
          1,
          1,
          1,
          1,
          1,
          2,
          1,
          1,
          1,
          1,
          1,
          1,
          1,
          1,
          1,
          1,
          1,
          1,
          1,
          2,
          1,
          1,
          1,
          1,
          1,
          1,
          1,
          1,
          1,
          1,
          1,
          1,
          1,
          1,
          1,
          1,
          1,
          1,
          1,
          1,
          1,
          1,
          1,
          1,
          1,
          1,
          1,
          1,
          1,
          1,
          1,
          1,
          1,
          1,
          1,
          1,
          1,
          1,
          1,
          1,
          1,
          1,
          1,
          1,
          1,
          1,
          1,
          1,
          1,
          1,
          1,
          1,
          1,
          1,
          1,
          1,
          1,
          1,
          1,
          1,
          1,
          1,
          1,
          1,
          1,
          1,
          1,
          1,
          1,
          1,
          1,
          1,
          1,
          1,
          1,
          1,
          1,
          1,
          1,
          1,
          1,
          1,
          2,
          1,
          1,
          1,
          1,
          1,
          1,
          1,
          1,
          1,
          1,
          1,
          1,
          2,
          1,
          1,
          1,
          1,
          1,
          1,
          1,
          1,
          1,
          1,
          1,
          1,
          1,
          1,
          1,
          1,
          2,
          1,
          1,
          1,
          1,
          1,
          1,
          1,
          1,
          1,
          1,
          1,
          1,
          1,
          1,
          1,
          1,
          2,
          1,
          2,
          1,
          2,
          1,
          1,
          2,
          1,
          1,
          1,
          1,
          3,
          1,
          2,
          1,
          1,
          1,
          1,
          1,
          1,
          2,
          2,
          1,
          1,
          1,
          1,
          1,
          3,
          1,
          1,
          1,
          1,
          2,
          1,
          1,
          1,
          1,
          1,
          1,
          1,
          2,
          1,
          1,
          1,
          1,
          1,
          1,
          1,
          1,
          1,
          1,
          1,
          1,
          1,
          1,
          1,
          1,
          1,
          1,
          1,
          1,
          1,
          1,
          2,
          1,
          1,
          1,
          2,
          1,
          1,
          1,
          1,
          1,
          1,
          1,
          1,
          1,
          1,
          1,
          1,
          1,
          1,
          1,
          1,
          2,
          1,
          1,
          1,
          1,
          1,
          1,
          1,
          1,
          1,
          1,
          3,
          1,
          1,
          1,
          3,
          1,
          1,
          1,
          1,
          1,
          1,
          1,
          1,
          1,
          1,
          1,
          1,
          1,
          1,
          1,
          1,
          1,
          1,
          1,
          1,
          1,
          1,
          1,
          1,
          2,
          1,
          1,
          4,
          1,
          2,
          2,
          1,
          1,
          1,
          1,
          1,
          1,
          1,
          1,
          1,
          1,
          1,
          1,
          1,
          1,
          1,
          1,
          1,
          1,
          1,
          1,
          2,
          2,
          1,
          2,
          1,
          1,
          1,
          1,
          1,
          1,
          1,
          1,
          1,
          1,
          1,
          1,
          1,
          1,
          1,
          1,
          1,
          1,
          1,
          1,
          1,
          1,
          1,
          1,
          1,
          1,
          1,
          1,
          1,
          1,
          1,
          1,
          1,
          1,
          1,
          1,
          1,
          1,
          1,
          1,
          1,
          1,
          1,
          1,
          1,
          1,
          1,
          1,
          1,
          1,
          1,
          1,
          1,
          1,
          1,
          1,
          1,
          1,
          1,
          1,
          1,
          1,
          1,
          1,
          1,
          1,
          1,
          1,
          1,
          1,
          1,
          1,
          1,
          2,
          1,
          4,
          1,
          1,
          1,
          1,
          1,
          1,
          2,
          1,
          1,
          1,
          3,
          1,
          1,
          1,
          1,
          1,
          1,
          1,
          1,
          1,
          1,
          1,
          1,
          1,
          1,
          1,
          1,
          1,
          1,
          1,
          1,
          1,
          1,
          1,
          1,
          1,
          1,
          1,
          1,
          1,
          3,
          1,
          1,
          1,
          1,
          1,
          1
         ],
         "yaxis": "y"
        }
       ],
       "layout": {
        "legend": {
         "tracegroupgap": 0
        },
        "template": {
         "data": {
          "bar": [
           {
            "error_x": {
             "color": "#2a3f5f"
            },
            "error_y": {
             "color": "#2a3f5f"
            },
            "marker": {
             "line": {
              "color": "#E5ECF6",
              "width": 0.5
             },
             "pattern": {
              "fillmode": "overlay",
              "size": 10,
              "solidity": 0.2
             }
            },
            "type": "bar"
           }
          ],
          "barpolar": [
           {
            "marker": {
             "line": {
              "color": "#E5ECF6",
              "width": 0.5
             },
             "pattern": {
              "fillmode": "overlay",
              "size": 10,
              "solidity": 0.2
             }
            },
            "type": "barpolar"
           }
          ],
          "carpet": [
           {
            "aaxis": {
             "endlinecolor": "#2a3f5f",
             "gridcolor": "white",
             "linecolor": "white",
             "minorgridcolor": "white",
             "startlinecolor": "#2a3f5f"
            },
            "baxis": {
             "endlinecolor": "#2a3f5f",
             "gridcolor": "white",
             "linecolor": "white",
             "minorgridcolor": "white",
             "startlinecolor": "#2a3f5f"
            },
            "type": "carpet"
           }
          ],
          "choropleth": [
           {
            "colorbar": {
             "outlinewidth": 0,
             "ticks": ""
            },
            "type": "choropleth"
           }
          ],
          "contour": [
           {
            "colorbar": {
             "outlinewidth": 0,
             "ticks": ""
            },
            "colorscale": [
             [
              0,
              "#0d0887"
             ],
             [
              0.1111111111111111,
              "#46039f"
             ],
             [
              0.2222222222222222,
              "#7201a8"
             ],
             [
              0.3333333333333333,
              "#9c179e"
             ],
             [
              0.4444444444444444,
              "#bd3786"
             ],
             [
              0.5555555555555556,
              "#d8576b"
             ],
             [
              0.6666666666666666,
              "#ed7953"
             ],
             [
              0.7777777777777778,
              "#fb9f3a"
             ],
             [
              0.8888888888888888,
              "#fdca26"
             ],
             [
              1,
              "#f0f921"
             ]
            ],
            "type": "contour"
           }
          ],
          "contourcarpet": [
           {
            "colorbar": {
             "outlinewidth": 0,
             "ticks": ""
            },
            "type": "contourcarpet"
           }
          ],
          "heatmap": [
           {
            "colorbar": {
             "outlinewidth": 0,
             "ticks": ""
            },
            "colorscale": [
             [
              0,
              "#0d0887"
             ],
             [
              0.1111111111111111,
              "#46039f"
             ],
             [
              0.2222222222222222,
              "#7201a8"
             ],
             [
              0.3333333333333333,
              "#9c179e"
             ],
             [
              0.4444444444444444,
              "#bd3786"
             ],
             [
              0.5555555555555556,
              "#d8576b"
             ],
             [
              0.6666666666666666,
              "#ed7953"
             ],
             [
              0.7777777777777778,
              "#fb9f3a"
             ],
             [
              0.8888888888888888,
              "#fdca26"
             ],
             [
              1,
              "#f0f921"
             ]
            ],
            "type": "heatmap"
           }
          ],
          "heatmapgl": [
           {
            "colorbar": {
             "outlinewidth": 0,
             "ticks": ""
            },
            "colorscale": [
             [
              0,
              "#0d0887"
             ],
             [
              0.1111111111111111,
              "#46039f"
             ],
             [
              0.2222222222222222,
              "#7201a8"
             ],
             [
              0.3333333333333333,
              "#9c179e"
             ],
             [
              0.4444444444444444,
              "#bd3786"
             ],
             [
              0.5555555555555556,
              "#d8576b"
             ],
             [
              0.6666666666666666,
              "#ed7953"
             ],
             [
              0.7777777777777778,
              "#fb9f3a"
             ],
             [
              0.8888888888888888,
              "#fdca26"
             ],
             [
              1,
              "#f0f921"
             ]
            ],
            "type": "heatmapgl"
           }
          ],
          "histogram": [
           {
            "marker": {
             "pattern": {
              "fillmode": "overlay",
              "size": 10,
              "solidity": 0.2
             }
            },
            "type": "histogram"
           }
          ],
          "histogram2d": [
           {
            "colorbar": {
             "outlinewidth": 0,
             "ticks": ""
            },
            "colorscale": [
             [
              0,
              "#0d0887"
             ],
             [
              0.1111111111111111,
              "#46039f"
             ],
             [
              0.2222222222222222,
              "#7201a8"
             ],
             [
              0.3333333333333333,
              "#9c179e"
             ],
             [
              0.4444444444444444,
              "#bd3786"
             ],
             [
              0.5555555555555556,
              "#d8576b"
             ],
             [
              0.6666666666666666,
              "#ed7953"
             ],
             [
              0.7777777777777778,
              "#fb9f3a"
             ],
             [
              0.8888888888888888,
              "#fdca26"
             ],
             [
              1,
              "#f0f921"
             ]
            ],
            "type": "histogram2d"
           }
          ],
          "histogram2dcontour": [
           {
            "colorbar": {
             "outlinewidth": 0,
             "ticks": ""
            },
            "colorscale": [
             [
              0,
              "#0d0887"
             ],
             [
              0.1111111111111111,
              "#46039f"
             ],
             [
              0.2222222222222222,
              "#7201a8"
             ],
             [
              0.3333333333333333,
              "#9c179e"
             ],
             [
              0.4444444444444444,
              "#bd3786"
             ],
             [
              0.5555555555555556,
              "#d8576b"
             ],
             [
              0.6666666666666666,
              "#ed7953"
             ],
             [
              0.7777777777777778,
              "#fb9f3a"
             ],
             [
              0.8888888888888888,
              "#fdca26"
             ],
             [
              1,
              "#f0f921"
             ]
            ],
            "type": "histogram2dcontour"
           }
          ],
          "mesh3d": [
           {
            "colorbar": {
             "outlinewidth": 0,
             "ticks": ""
            },
            "type": "mesh3d"
           }
          ],
          "parcoords": [
           {
            "line": {
             "colorbar": {
              "outlinewidth": 0,
              "ticks": ""
             }
            },
            "type": "parcoords"
           }
          ],
          "pie": [
           {
            "automargin": true,
            "type": "pie"
           }
          ],
          "scatter": [
           {
            "fillpattern": {
             "fillmode": "overlay",
             "size": 10,
             "solidity": 0.2
            },
            "type": "scatter"
           }
          ],
          "scatter3d": [
           {
            "line": {
             "colorbar": {
              "outlinewidth": 0,
              "ticks": ""
             }
            },
            "marker": {
             "colorbar": {
              "outlinewidth": 0,
              "ticks": ""
             }
            },
            "type": "scatter3d"
           }
          ],
          "scattercarpet": [
           {
            "marker": {
             "colorbar": {
              "outlinewidth": 0,
              "ticks": ""
             }
            },
            "type": "scattercarpet"
           }
          ],
          "scattergeo": [
           {
            "marker": {
             "colorbar": {
              "outlinewidth": 0,
              "ticks": ""
             }
            },
            "type": "scattergeo"
           }
          ],
          "scattergl": [
           {
            "marker": {
             "colorbar": {
              "outlinewidth": 0,
              "ticks": ""
             }
            },
            "type": "scattergl"
           }
          ],
          "scattermapbox": [
           {
            "marker": {
             "colorbar": {
              "outlinewidth": 0,
              "ticks": ""
             }
            },
            "type": "scattermapbox"
           }
          ],
          "scatterpolar": [
           {
            "marker": {
             "colorbar": {
              "outlinewidth": 0,
              "ticks": ""
             }
            },
            "type": "scatterpolar"
           }
          ],
          "scatterpolargl": [
           {
            "marker": {
             "colorbar": {
              "outlinewidth": 0,
              "ticks": ""
             }
            },
            "type": "scatterpolargl"
           }
          ],
          "scatterternary": [
           {
            "marker": {
             "colorbar": {
              "outlinewidth": 0,
              "ticks": ""
             }
            },
            "type": "scatterternary"
           }
          ],
          "surface": [
           {
            "colorbar": {
             "outlinewidth": 0,
             "ticks": ""
            },
            "colorscale": [
             [
              0,
              "#0d0887"
             ],
             [
              0.1111111111111111,
              "#46039f"
             ],
             [
              0.2222222222222222,
              "#7201a8"
             ],
             [
              0.3333333333333333,
              "#9c179e"
             ],
             [
              0.4444444444444444,
              "#bd3786"
             ],
             [
              0.5555555555555556,
              "#d8576b"
             ],
             [
              0.6666666666666666,
              "#ed7953"
             ],
             [
              0.7777777777777778,
              "#fb9f3a"
             ],
             [
              0.8888888888888888,
              "#fdca26"
             ],
             [
              1,
              "#f0f921"
             ]
            ],
            "type": "surface"
           }
          ],
          "table": [
           {
            "cells": {
             "fill": {
              "color": "#EBF0F8"
             },
             "line": {
              "color": "white"
             }
            },
            "header": {
             "fill": {
              "color": "#C8D4E3"
             },
             "line": {
              "color": "white"
             }
            },
            "type": "table"
           }
          ]
         },
         "layout": {
          "annotationdefaults": {
           "arrowcolor": "#2a3f5f",
           "arrowhead": 0,
           "arrowwidth": 1
          },
          "autotypenumbers": "strict",
          "coloraxis": {
           "colorbar": {
            "outlinewidth": 0,
            "ticks": ""
           }
          },
          "colorscale": {
           "diverging": [
            [
             0,
             "#8e0152"
            ],
            [
             0.1,
             "#c51b7d"
            ],
            [
             0.2,
             "#de77ae"
            ],
            [
             0.3,
             "#f1b6da"
            ],
            [
             0.4,
             "#fde0ef"
            ],
            [
             0.5,
             "#f7f7f7"
            ],
            [
             0.6,
             "#e6f5d0"
            ],
            [
             0.7,
             "#b8e186"
            ],
            [
             0.8,
             "#7fbc41"
            ],
            [
             0.9,
             "#4d9221"
            ],
            [
             1,
             "#276419"
            ]
           ],
           "sequential": [
            [
             0,
             "#0d0887"
            ],
            [
             0.1111111111111111,
             "#46039f"
            ],
            [
             0.2222222222222222,
             "#7201a8"
            ],
            [
             0.3333333333333333,
             "#9c179e"
            ],
            [
             0.4444444444444444,
             "#bd3786"
            ],
            [
             0.5555555555555556,
             "#d8576b"
            ],
            [
             0.6666666666666666,
             "#ed7953"
            ],
            [
             0.7777777777777778,
             "#fb9f3a"
            ],
            [
             0.8888888888888888,
             "#fdca26"
            ],
            [
             1,
             "#f0f921"
            ]
           ],
           "sequentialminus": [
            [
             0,
             "#0d0887"
            ],
            [
             0.1111111111111111,
             "#46039f"
            ],
            [
             0.2222222222222222,
             "#7201a8"
            ],
            [
             0.3333333333333333,
             "#9c179e"
            ],
            [
             0.4444444444444444,
             "#bd3786"
            ],
            [
             0.5555555555555556,
             "#d8576b"
            ],
            [
             0.6666666666666666,
             "#ed7953"
            ],
            [
             0.7777777777777778,
             "#fb9f3a"
            ],
            [
             0.8888888888888888,
             "#fdca26"
            ],
            [
             1,
             "#f0f921"
            ]
           ]
          },
          "colorway": [
           "#636efa",
           "#EF553B",
           "#00cc96",
           "#ab63fa",
           "#FFA15A",
           "#19d3f3",
           "#FF6692",
           "#B6E880",
           "#FF97FF",
           "#FECB52"
          ],
          "font": {
           "color": "#2a3f5f"
          },
          "geo": {
           "bgcolor": "white",
           "lakecolor": "white",
           "landcolor": "#E5ECF6",
           "showlakes": true,
           "showland": true,
           "subunitcolor": "white"
          },
          "hoverlabel": {
           "align": "left"
          },
          "hovermode": "closest",
          "mapbox": {
           "style": "light"
          },
          "paper_bgcolor": "white",
          "plot_bgcolor": "#E5ECF6",
          "polar": {
           "angularaxis": {
            "gridcolor": "white",
            "linecolor": "white",
            "ticks": ""
           },
           "bgcolor": "#E5ECF6",
           "radialaxis": {
            "gridcolor": "white",
            "linecolor": "white",
            "ticks": ""
           }
          },
          "scene": {
           "xaxis": {
            "backgroundcolor": "#E5ECF6",
            "gridcolor": "white",
            "gridwidth": 2,
            "linecolor": "white",
            "showbackground": true,
            "ticks": "",
            "zerolinecolor": "white"
           },
           "yaxis": {
            "backgroundcolor": "#E5ECF6",
            "gridcolor": "white",
            "gridwidth": 2,
            "linecolor": "white",
            "showbackground": true,
            "ticks": "",
            "zerolinecolor": "white"
           },
           "zaxis": {
            "backgroundcolor": "#E5ECF6",
            "gridcolor": "white",
            "gridwidth": 2,
            "linecolor": "white",
            "showbackground": true,
            "ticks": "",
            "zerolinecolor": "white"
           }
          },
          "shapedefaults": {
           "line": {
            "color": "#2a3f5f"
           }
          },
          "ternary": {
           "aaxis": {
            "gridcolor": "white",
            "linecolor": "white",
            "ticks": ""
           },
           "baxis": {
            "gridcolor": "white",
            "linecolor": "white",
            "ticks": ""
           },
           "bgcolor": "#E5ECF6",
           "caxis": {
            "gridcolor": "white",
            "linecolor": "white",
            "ticks": ""
           }
          },
          "title": {
           "x": 0.05
          },
          "xaxis": {
           "automargin": true,
           "gridcolor": "white",
           "linecolor": "white",
           "ticks": "",
           "title": {
            "standoff": 15
           },
           "zerolinecolor": "white",
           "zerolinewidth": 2
          },
          "yaxis": {
           "automargin": true,
           "gridcolor": "white",
           "linecolor": "white",
           "ticks": "",
           "title": {
            "standoff": 15
           },
           "zerolinecolor": "white",
           "zerolinewidth": 2
          }
         }
        },
        "title": {
         "text": "Timeline of Attacks Over Time"
        },
        "xaxis": {
         "anchor": "y",
         "domain": [
          0,
          1
         ],
         "title": {
          "text": "Date"
         }
        },
        "yaxis": {
         "anchor": "x",
         "domain": [
          0,
          1
         ],
         "title": {
          "text": "No. of Suicide Blasts"
         }
        }
       }
      }
     },
     "metadata": {},
     "output_type": "display_data"
    }
   ],
   "source": [
    "# 1. Timeline: Plot attacks over time\n",
    "fig1 = px.line(df_cleaned, x='Date', y='No. of Suicide Blasts', title='Timeline of Attacks Over Time')\n",
    "fig1.show()"
   ]
  },
  {
   "cell_type": "code",
   "execution_count": 11,
   "metadata": {},
   "outputs": [
    {
     "data": {
      "application/vnd.plotly.v1+json": {
       "config": {
        "plotlyServerURL": "https://plot.ly"
       },
       "data": [
        {
         "coloraxis": "coloraxis",
         "hovertemplate": "Hour: %{x}<br>DayOfWeek: %{y}<br>color: %{z}<extra></extra>",
         "name": "0",
         "type": "heatmap",
         "x": [
          4,
          5,
          6,
          7,
          8,
          9,
          10,
          11,
          12,
          12.5,
          13,
          14,
          15,
          16,
          17,
          18,
          19,
          20,
          23
         ],
         "xaxis": "x",
         "y": [
          0,
          1,
          2,
          3,
          4,
          5,
          6
         ],
         "yaxis": "y",
         "z": [
          [
           null,
           null,
           null,
           2,
           null,
           1,
           null,
           null,
           1,
           79,
           1,
           null,
           1,
           1,
           null,
           1,
           null,
           null,
           null
          ],
          [
           null,
           null,
           null,
           null,
           null,
           null,
           null,
           1,
           null,
           53,
           1,
           2,
           null,
           1,
           null,
           null,
           1,
           null,
           null
          ],
          [
           1,
           null,
           null,
           1,
           null,
           null,
           null,
           null,
           null,
           50,
           null,
           null,
           null,
           null,
           null,
           null,
           null,
           null,
           null
          ],
          [
           null,
           2,
           4,
           6,
           3,
           3,
           null,
           2,
           1,
           127,
           4,
           1,
           3,
           null,
           1,
           4,
           1,
           null,
           null
          ],
          [
           null,
           null,
           2,
           1,
           null,
           null,
           2,
           null,
           null,
           83,
           null,
           1,
           null,
           null,
           1,
           null,
           1,
           1,
           null
          ],
          [
           null,
           null,
           null,
           null,
           null,
           null,
           2,
           null,
           null,
           61,
           null,
           3,
           null,
           1,
           1,
           1,
           null,
           1,
           null
          ],
          [
           null,
           null,
           null,
           null,
           null,
           1,
           null,
           null,
           1,
           46,
           null,
           null,
           null,
           null,
           null,
           null,
           null,
           1,
           1
          ]
         ]
        }
       ],
       "layout": {
        "coloraxis": {
         "colorscale": [
          [
           0,
           "#0d0887"
          ],
          [
           0.1111111111111111,
           "#46039f"
          ],
          [
           0.2222222222222222,
           "#7201a8"
          ],
          [
           0.3333333333333333,
           "#9c179e"
          ],
          [
           0.4444444444444444,
           "#bd3786"
          ],
          [
           0.5555555555555556,
           "#d8576b"
          ],
          [
           0.6666666666666666,
           "#ed7953"
          ],
          [
           0.7777777777777778,
           "#fb9f3a"
          ],
          [
           0.8888888888888888,
           "#fdca26"
          ],
          [
           1,
           "#f0f921"
          ]
         ]
        },
        "template": {
         "data": {
          "bar": [
           {
            "error_x": {
             "color": "#2a3f5f"
            },
            "error_y": {
             "color": "#2a3f5f"
            },
            "marker": {
             "line": {
              "color": "#E5ECF6",
              "width": 0.5
             },
             "pattern": {
              "fillmode": "overlay",
              "size": 10,
              "solidity": 0.2
             }
            },
            "type": "bar"
           }
          ],
          "barpolar": [
           {
            "marker": {
             "line": {
              "color": "#E5ECF6",
              "width": 0.5
             },
             "pattern": {
              "fillmode": "overlay",
              "size": 10,
              "solidity": 0.2
             }
            },
            "type": "barpolar"
           }
          ],
          "carpet": [
           {
            "aaxis": {
             "endlinecolor": "#2a3f5f",
             "gridcolor": "white",
             "linecolor": "white",
             "minorgridcolor": "white",
             "startlinecolor": "#2a3f5f"
            },
            "baxis": {
             "endlinecolor": "#2a3f5f",
             "gridcolor": "white",
             "linecolor": "white",
             "minorgridcolor": "white",
             "startlinecolor": "#2a3f5f"
            },
            "type": "carpet"
           }
          ],
          "choropleth": [
           {
            "colorbar": {
             "outlinewidth": 0,
             "ticks": ""
            },
            "type": "choropleth"
           }
          ],
          "contour": [
           {
            "colorbar": {
             "outlinewidth": 0,
             "ticks": ""
            },
            "colorscale": [
             [
              0,
              "#0d0887"
             ],
             [
              0.1111111111111111,
              "#46039f"
             ],
             [
              0.2222222222222222,
              "#7201a8"
             ],
             [
              0.3333333333333333,
              "#9c179e"
             ],
             [
              0.4444444444444444,
              "#bd3786"
             ],
             [
              0.5555555555555556,
              "#d8576b"
             ],
             [
              0.6666666666666666,
              "#ed7953"
             ],
             [
              0.7777777777777778,
              "#fb9f3a"
             ],
             [
              0.8888888888888888,
              "#fdca26"
             ],
             [
              1,
              "#f0f921"
             ]
            ],
            "type": "contour"
           }
          ],
          "contourcarpet": [
           {
            "colorbar": {
             "outlinewidth": 0,
             "ticks": ""
            },
            "type": "contourcarpet"
           }
          ],
          "heatmap": [
           {
            "colorbar": {
             "outlinewidth": 0,
             "ticks": ""
            },
            "colorscale": [
             [
              0,
              "#0d0887"
             ],
             [
              0.1111111111111111,
              "#46039f"
             ],
             [
              0.2222222222222222,
              "#7201a8"
             ],
             [
              0.3333333333333333,
              "#9c179e"
             ],
             [
              0.4444444444444444,
              "#bd3786"
             ],
             [
              0.5555555555555556,
              "#d8576b"
             ],
             [
              0.6666666666666666,
              "#ed7953"
             ],
             [
              0.7777777777777778,
              "#fb9f3a"
             ],
             [
              0.8888888888888888,
              "#fdca26"
             ],
             [
              1,
              "#f0f921"
             ]
            ],
            "type": "heatmap"
           }
          ],
          "heatmapgl": [
           {
            "colorbar": {
             "outlinewidth": 0,
             "ticks": ""
            },
            "colorscale": [
             [
              0,
              "#0d0887"
             ],
             [
              0.1111111111111111,
              "#46039f"
             ],
             [
              0.2222222222222222,
              "#7201a8"
             ],
             [
              0.3333333333333333,
              "#9c179e"
             ],
             [
              0.4444444444444444,
              "#bd3786"
             ],
             [
              0.5555555555555556,
              "#d8576b"
             ],
             [
              0.6666666666666666,
              "#ed7953"
             ],
             [
              0.7777777777777778,
              "#fb9f3a"
             ],
             [
              0.8888888888888888,
              "#fdca26"
             ],
             [
              1,
              "#f0f921"
             ]
            ],
            "type": "heatmapgl"
           }
          ],
          "histogram": [
           {
            "marker": {
             "pattern": {
              "fillmode": "overlay",
              "size": 10,
              "solidity": 0.2
             }
            },
            "type": "histogram"
           }
          ],
          "histogram2d": [
           {
            "colorbar": {
             "outlinewidth": 0,
             "ticks": ""
            },
            "colorscale": [
             [
              0,
              "#0d0887"
             ],
             [
              0.1111111111111111,
              "#46039f"
             ],
             [
              0.2222222222222222,
              "#7201a8"
             ],
             [
              0.3333333333333333,
              "#9c179e"
             ],
             [
              0.4444444444444444,
              "#bd3786"
             ],
             [
              0.5555555555555556,
              "#d8576b"
             ],
             [
              0.6666666666666666,
              "#ed7953"
             ],
             [
              0.7777777777777778,
              "#fb9f3a"
             ],
             [
              0.8888888888888888,
              "#fdca26"
             ],
             [
              1,
              "#f0f921"
             ]
            ],
            "type": "histogram2d"
           }
          ],
          "histogram2dcontour": [
           {
            "colorbar": {
             "outlinewidth": 0,
             "ticks": ""
            },
            "colorscale": [
             [
              0,
              "#0d0887"
             ],
             [
              0.1111111111111111,
              "#46039f"
             ],
             [
              0.2222222222222222,
              "#7201a8"
             ],
             [
              0.3333333333333333,
              "#9c179e"
             ],
             [
              0.4444444444444444,
              "#bd3786"
             ],
             [
              0.5555555555555556,
              "#d8576b"
             ],
             [
              0.6666666666666666,
              "#ed7953"
             ],
             [
              0.7777777777777778,
              "#fb9f3a"
             ],
             [
              0.8888888888888888,
              "#fdca26"
             ],
             [
              1,
              "#f0f921"
             ]
            ],
            "type": "histogram2dcontour"
           }
          ],
          "mesh3d": [
           {
            "colorbar": {
             "outlinewidth": 0,
             "ticks": ""
            },
            "type": "mesh3d"
           }
          ],
          "parcoords": [
           {
            "line": {
             "colorbar": {
              "outlinewidth": 0,
              "ticks": ""
             }
            },
            "type": "parcoords"
           }
          ],
          "pie": [
           {
            "automargin": true,
            "type": "pie"
           }
          ],
          "scatter": [
           {
            "fillpattern": {
             "fillmode": "overlay",
             "size": 10,
             "solidity": 0.2
            },
            "type": "scatter"
           }
          ],
          "scatter3d": [
           {
            "line": {
             "colorbar": {
              "outlinewidth": 0,
              "ticks": ""
             }
            },
            "marker": {
             "colorbar": {
              "outlinewidth": 0,
              "ticks": ""
             }
            },
            "type": "scatter3d"
           }
          ],
          "scattercarpet": [
           {
            "marker": {
             "colorbar": {
              "outlinewidth": 0,
              "ticks": ""
             }
            },
            "type": "scattercarpet"
           }
          ],
          "scattergeo": [
           {
            "marker": {
             "colorbar": {
              "outlinewidth": 0,
              "ticks": ""
             }
            },
            "type": "scattergeo"
           }
          ],
          "scattergl": [
           {
            "marker": {
             "colorbar": {
              "outlinewidth": 0,
              "ticks": ""
             }
            },
            "type": "scattergl"
           }
          ],
          "scattermapbox": [
           {
            "marker": {
             "colorbar": {
              "outlinewidth": 0,
              "ticks": ""
             }
            },
            "type": "scattermapbox"
           }
          ],
          "scatterpolar": [
           {
            "marker": {
             "colorbar": {
              "outlinewidth": 0,
              "ticks": ""
             }
            },
            "type": "scatterpolar"
           }
          ],
          "scatterpolargl": [
           {
            "marker": {
             "colorbar": {
              "outlinewidth": 0,
              "ticks": ""
             }
            },
            "type": "scatterpolargl"
           }
          ],
          "scatterternary": [
           {
            "marker": {
             "colorbar": {
              "outlinewidth": 0,
              "ticks": ""
             }
            },
            "type": "scatterternary"
           }
          ],
          "surface": [
           {
            "colorbar": {
             "outlinewidth": 0,
             "ticks": ""
            },
            "colorscale": [
             [
              0,
              "#0d0887"
             ],
             [
              0.1111111111111111,
              "#46039f"
             ],
             [
              0.2222222222222222,
              "#7201a8"
             ],
             [
              0.3333333333333333,
              "#9c179e"
             ],
             [
              0.4444444444444444,
              "#bd3786"
             ],
             [
              0.5555555555555556,
              "#d8576b"
             ],
             [
              0.6666666666666666,
              "#ed7953"
             ],
             [
              0.7777777777777778,
              "#fb9f3a"
             ],
             [
              0.8888888888888888,
              "#fdca26"
             ],
             [
              1,
              "#f0f921"
             ]
            ],
            "type": "surface"
           }
          ],
          "table": [
           {
            "cells": {
             "fill": {
              "color": "#EBF0F8"
             },
             "line": {
              "color": "white"
             }
            },
            "header": {
             "fill": {
              "color": "#C8D4E3"
             },
             "line": {
              "color": "white"
             }
            },
            "type": "table"
           }
          ]
         },
         "layout": {
          "annotationdefaults": {
           "arrowcolor": "#2a3f5f",
           "arrowhead": 0,
           "arrowwidth": 1
          },
          "autotypenumbers": "strict",
          "coloraxis": {
           "colorbar": {
            "outlinewidth": 0,
            "ticks": ""
           }
          },
          "colorscale": {
           "diverging": [
            [
             0,
             "#8e0152"
            ],
            [
             0.1,
             "#c51b7d"
            ],
            [
             0.2,
             "#de77ae"
            ],
            [
             0.3,
             "#f1b6da"
            ],
            [
             0.4,
             "#fde0ef"
            ],
            [
             0.5,
             "#f7f7f7"
            ],
            [
             0.6,
             "#e6f5d0"
            ],
            [
             0.7,
             "#b8e186"
            ],
            [
             0.8,
             "#7fbc41"
            ],
            [
             0.9,
             "#4d9221"
            ],
            [
             1,
             "#276419"
            ]
           ],
           "sequential": [
            [
             0,
             "#0d0887"
            ],
            [
             0.1111111111111111,
             "#46039f"
            ],
            [
             0.2222222222222222,
             "#7201a8"
            ],
            [
             0.3333333333333333,
             "#9c179e"
            ],
            [
             0.4444444444444444,
             "#bd3786"
            ],
            [
             0.5555555555555556,
             "#d8576b"
            ],
            [
             0.6666666666666666,
             "#ed7953"
            ],
            [
             0.7777777777777778,
             "#fb9f3a"
            ],
            [
             0.8888888888888888,
             "#fdca26"
            ],
            [
             1,
             "#f0f921"
            ]
           ],
           "sequentialminus": [
            [
             0,
             "#0d0887"
            ],
            [
             0.1111111111111111,
             "#46039f"
            ],
            [
             0.2222222222222222,
             "#7201a8"
            ],
            [
             0.3333333333333333,
             "#9c179e"
            ],
            [
             0.4444444444444444,
             "#bd3786"
            ],
            [
             0.5555555555555556,
             "#d8576b"
            ],
            [
             0.6666666666666666,
             "#ed7953"
            ],
            [
             0.7777777777777778,
             "#fb9f3a"
            ],
            [
             0.8888888888888888,
             "#fdca26"
            ],
            [
             1,
             "#f0f921"
            ]
           ]
          },
          "colorway": [
           "#636efa",
           "#EF553B",
           "#00cc96",
           "#ab63fa",
           "#FFA15A",
           "#19d3f3",
           "#FF6692",
           "#B6E880",
           "#FF97FF",
           "#FECB52"
          ],
          "font": {
           "color": "#2a3f5f"
          },
          "geo": {
           "bgcolor": "white",
           "lakecolor": "white",
           "landcolor": "#E5ECF6",
           "showlakes": true,
           "showland": true,
           "subunitcolor": "white"
          },
          "hoverlabel": {
           "align": "left"
          },
          "hovermode": "closest",
          "mapbox": {
           "style": "light"
          },
          "paper_bgcolor": "white",
          "plot_bgcolor": "#E5ECF6",
          "polar": {
           "angularaxis": {
            "gridcolor": "white",
            "linecolor": "white",
            "ticks": ""
           },
           "bgcolor": "#E5ECF6",
           "radialaxis": {
            "gridcolor": "white",
            "linecolor": "white",
            "ticks": ""
           }
          },
          "scene": {
           "xaxis": {
            "backgroundcolor": "#E5ECF6",
            "gridcolor": "white",
            "gridwidth": 2,
            "linecolor": "white",
            "showbackground": true,
            "ticks": "",
            "zerolinecolor": "white"
           },
           "yaxis": {
            "backgroundcolor": "#E5ECF6",
            "gridcolor": "white",
            "gridwidth": 2,
            "linecolor": "white",
            "showbackground": true,
            "ticks": "",
            "zerolinecolor": "white"
           },
           "zaxis": {
            "backgroundcolor": "#E5ECF6",
            "gridcolor": "white",
            "gridwidth": 2,
            "linecolor": "white",
            "showbackground": true,
            "ticks": "",
            "zerolinecolor": "white"
           }
          },
          "shapedefaults": {
           "line": {
            "color": "#2a3f5f"
           }
          },
          "ternary": {
           "aaxis": {
            "gridcolor": "white",
            "linecolor": "white",
            "ticks": ""
           },
           "baxis": {
            "gridcolor": "white",
            "linecolor": "white",
            "ticks": ""
           },
           "bgcolor": "#E5ECF6",
           "caxis": {
            "gridcolor": "white",
            "linecolor": "white",
            "ticks": ""
           }
          },
          "title": {
           "x": 0.05
          },
          "xaxis": {
           "automargin": true,
           "gridcolor": "white",
           "linecolor": "white",
           "ticks": "",
           "title": {
            "standoff": 15
           },
           "zerolinecolor": "white",
           "zerolinewidth": 2
          },
          "yaxis": {
           "automargin": true,
           "gridcolor": "white",
           "linecolor": "white",
           "ticks": "",
           "title": {
            "standoff": 15
           },
           "zerolinecolor": "white",
           "zerolinewidth": 2
          }
         }
        },
        "title": {
         "text": "Heatmap of Attacks by Day of Week & Hour"
        },
        "xaxis": {
         "anchor": "y",
         "constrain": "domain",
         "domain": [
          0,
          1
         ],
         "scaleanchor": "y",
         "title": {
          "text": "Hour"
         }
        },
        "yaxis": {
         "anchor": "x",
         "autorange": "reversed",
         "constrain": "domain",
         "domain": [
          0,
          1
         ],
         "title": {
          "text": "DayOfWeek"
         }
        }
       }
      }
     },
     "metadata": {},
     "output_type": "display_data"
    }
   ],
   "source": [
    "# 2. Heatmap by Day of Week & Hour\n",
    "heatmap_data = df_cleaned.pivot_table(index='DayOfWeek', columns='Hour', values='No. of Suicide Blasts', aggfunc='sum')\n",
    "fig2 = px.imshow(heatmap_data, title='Heatmap of Attacks by Day of Week & Hour')\n",
    "fig2.show()"
   ]
  },
  {
   "cell_type": "code",
   "execution_count": 12,
   "metadata": {},
   "outputs": [
    {
     "data": {
      "application/vnd.plotly.v1+json": {
       "config": {
        "plotlyServerURL": "https://plot.ly"
       },
       "data": [
        {
         "alignmentgroup": "True",
         "bingroup": "x",
         "hovertemplate": "Islamic Date=%{x}<br>count=%{y}<extra></extra>",
         "legendgroup": "",
         "marker": {
          "color": "#636efa",
          "pattern": {
           "shape": ""
          }
         },
         "name": "",
         "offsetgroup": "",
         "orientation": "v",
         "showlegend": false,
         "type": "histogram",
         "x": [
          "25 Jumaada al-THaany 1416 A.H",
          "10 SHa`baan 1421 A.H",
          "25 safar 1423 A.H",
          "3 Raby` al-THaany 1423 A.H",
          "4 Jumaada al-awal 1424 A.H",
          "2 Thw al-Qi`dah 1424 A.H.",
          "8 MuHarram 1425 A.H",
          "18 Raby` al-awal 1425 A.H",
          "19 Jumada al-awwal 1438 A.H",
          "15 Raby` al-THaany 1425 A.H",
          "11 Jumaada al-THaany 1425 A.H",
          "13 Jumaada al-THaany 1425 A.H",
          "17 SHa`baan 1425 A.H",
          "26 SHa`baan 1425 A.H.",
          "9 safar 1426 A.H",
          "19 Raby` al-awal 1426 A.H",
          "19 Raby` al-THaany 1426 A.H",
          "22 Raby` al-THaany 1426 A.H",
          "10 MuHarram 1427 A.H",
          "2 safar 1427 A.H.",
          "14 Raby` al-awal 1427 A.H",
          "6 Jumaada al-awal 1427 A.H",
          "30 Jumaada al-awal 1427 A.H",
          "12 Rajab 1427 A.H",
          "17 SHawwal 1427 A.H",
          "26 SHawwal 1427 A.H.",
          "12 Thw al-Qi`dah 1427 A.H.",
          "3 MuHarram 1428 A.H",
          "7 MuHarram 1428 A.H",
          "8 MuHarram 1428 A.H",
          "10 MuHarram 1428 A.H",
          "15 MuHarram 1428 A.H.",
          "15 MuHarram 1428 A.H.",
          "18 MuHarram 1428 A.H.",
          "29 MuHarram 1428 A.H",
          "10 Raby` al-awal 1428 A.H",
          "11 Raby` al-THaany 1428 A.H.",
          "28 Raby` al-THaany 1428 A.H",
          "11 Jumaada al-awal 1428 A.H",
          "19 Jumaada al-THaany 1428 A.H",
          "27 Jumaada al-THaany 1428 A.H",
          "27 Jumaada al-THaany 1428 A.H",
          "29 Jumaada al-THaany 1428 A.H",
          "1 Rajab 1428 A.H",
          "1 Rajab 1428 A.H",
          "3 Rajab 1428 A.H",
          "3 Rajab 1428 A.H",
          "5 Rajab 1428 A.H",
          "5 Rajab 1428 A.H",
          "5 Rajab 1428 A.H",
          "6 Rajab 1428 A.H",
          "13 Rajab 1428 A.H",
          "20 Rajab 1428 A.H.",
          "21 Rajab 1428 A.H",
          "4 SHa`baan 1428 A.H",
          "6 SHa`baan 1428 A.H",
          "6 SHa`baan 1428 A.H",
          "7 SHa`baan 1428 A.H",
          "11 SHa`baan 1428 A.H",
          "13 SHa`baan 1428 A.H",
          "19 SHa`baan 1428 A.H",
          "19 SHa`baan 1428 A.H",
          "22 SHa`baan 1428 A.H",
          "22 SHa`baan 1428 A.H",
          "29 SHa`baan 1428 A.H",
          "1 RamaDHaan 1428 A.H",
          "10 RamaDHaan 1428 A.H",
          "19 RamaDHaan 1428 A.H",
          "6 SHawwal 1428 A.H",
          "13 SHawwal 1428 A.H",
          "18 SHawwal 1428 A.H",
          "20 SHawwal 1428 A.H",
          "28 SHawwal 1428 A.H",
          "14 Thw al-Qi`dah 1428 A.H",
          "14 Thw al-Qi`dah 1428 A.H",
          "24 Thw al-Qi`dah 1428 A.H",
          "29 Thw al-Qi`dah 1428 A.H",
          "30 Thw al-Qi`dah 1428 A.H",
          "3 Thw al-Hijjah 1428 A.H",
          "5 Thw al-Hijjah 1428 A.H",
          "7 Thw al-Hijjah 1428 A.H",
          "13 Thw al-Hijjah 1428 A.H",
          "13 Thw al-Hijjah 1428 A.H",
          "17 Thw al-Hijjah 1428 A.H",
          "28 Thw al-Hijjah 1428 A.H",
          "1 MuHarram 1429 A.H",
          "6 MuHarram 1429 A.H",
          "8 MuHarram 1429 A.H",
          "23 MuHarram 1429 A.H",
          "26 MuHarram 1429 A.H.",
          "27 MuHarram 1429 A.H",
          "2 safar 1429 A.H.",
          "4 safar 1429 A.H",
          "9 safar 1429 A.H.",
          "9 safar 1429 A.H.",
          "18 safar 1429 A.H",
          "22 safar 1429 A.H.",
          "23 safar 1429 A.H.",
          "24 safar 1429 A.H.",
          "26 safar 1429 A.H",
          "3 Raby` al-awal 1429 A.H",
          "3 Raby` al-awal 1429 A.H",
          "9 Raby` al-awal 1429 A.H.",
          "12 Raby` al-awal 1429 A.H.",
          "25 Raby` al-THaany 1429 A.H",
          "1 Jumaada al-awal 1429 A.H",
          "4 Jumaada al-awal 1429 A.H",
          "13 Jumaada al-awal 1429 A.H.",
          "28 Jumaada al-awal 1429 A.H.",
          "3 Rajab 1429 A.H.",
          "10 Rajab 1429 A.H",
          "12 SHa`baan 1429 A.H",
          "18 SHa`baan 1429 A.H.",
          "20 SHa`baan 1429 A.H",
          "22 SHa`baan 1429 A.H",
          "28 SHa`baan 1429 A.H",
          "6 RamaDHaan 1429 A.H",
          "16 RamaDHaan 1429 A.H",
          "20 RamaDHaan 1429 A.H",
          "20 RamaDHaan 1429 A.H",
          "22 RamaDHaan 1429 A.H",
          "24 RamaDHaan 1429 A.H",
          "3 SHawwal 1429 A.H",
          "6 SHawwal 1429 A.H",
          "9 SHawwal 1429 A.H",
          "9 SHawwal 1429 A.H",
          "10 SHawwal 1429 A.H",
          "16 SHawwal 1429 A.H",
          "26 SHawwal 1429 A.H",
          "29 SHawwal 1429 A.H.",
          "2 Thw al-Qi`dah 1429 A.H",
          "5 Thw al-Qi`dah 1429 A.H",
          "6 Thw al-Qi`dah 1429 A.H",
          "8 Thw al-Qi`dah 1429 A.H",
          "8 Thw al-Qi`dah 1429 A.H",
          "13 Thw al-Qi`dah 1429 A.H",
          "14 Thw al-Qi`dah 1429 A.H",
          "19 Thw al-Qi`dah 1429 A.H.",
          "22 Thw al-Qi`dah 1429 A.H.",
          "30 Thw al-Qi`dah 1429 A.H.",
          "3 Thw al-Hijjah 1429 A.H",
          "5 Thw al-Hijjah 1429 A.H",
          "8 Thw al-Hijjah 1429 A.H",
          "11 Thw al-Hijjah 1429 A.H",
          "19 Jumada al-awwal 1438 A.H",
          "7 MuHarram 1430 A.H",
          "7 MuHarram 1430 A.H",
          "26 MuHarram 1430 A.H. ",
          "10 safar 1430 A.H.",
          "10 safar 1430 A.H.",
          "11 safar 1430 A.H",
          "14 safar 1430 A.H",
          "25 safar 1430 A.H",
          "26 safar 1430 A.H",
          "28 safar 1430 A.H.",
          "5 Raby` al-awal 1430 A.H",
          "14 Raby` al-awal 1430 A.H",
          "19 Raby` al-awal 1430 A.H",
          "26 Raby` al-awal 1430 A.H",
          "29 Raby` al-awal 1430 A.H",
          "30 Raby` al-awal 1430 A.H",
          "3 Raby` al-THaany 1430 A.H",
          "8 Raby` al-THaany 1430 A.H",
          "8 Raby` al-THaany 1430 A.H",
          "9 Raby` al-THaany 1430 A.H",
          "19 Raby` al-THaany 1430 A.H",
          "22 Raby` al-THaany 1430 A.H",
          "10 Jumaada al-awal 1430 A.H.",
          "16 Jumaada al-awal 1430 A.H",
          "26 Jumaada al-awal 1430 A.H",
          "3 Jumaada al-THaany 1430 A.H",
          "4 Jumaada al-THaany 1430 A.H",
          "4 Jumaada al-THaany 1430 A.H",
          "12 Jumaada al-THaany 1430 A.H",
          "13 Jumaada al-THaany 1430 A.H",
          "16 Jumaada al-THaany 1430 A.H",
          "18 Jumaada al-THaany 1430 A.H",
          "19 Jumaada al-THaany 1430 A.H",
          "19 Jumaada al-THaany 1430 A.H",
          "29 Jumaada al-THaany 1430 A.H. ",
          "3 Rajab 1430 A.H",
          "7 Rajab 1430 A.H.",
          "8 Rajab 1430 A.H.",
          "9 Rajab 1430 A.H.",
          "15 Rajab 1430 A.H",
          "6 SHa`baan 1430 A.H",
          "22 SHa`baan 1430 A.H",
          "24 SHa`baan 1430 A.H",
          "25 SHa`baan 1430 A.H",
          "27 SHa`baan 1430 A.H.",
          "30 SHa`baan 1430 A.H",
          "1 RamaDHaan 1430 A.H. ",
          "2 RamaDHaan 1430 A.H. ",
          "6 RamaDHaan 1430 A.H",
          "9 RamaDHaan 1430 A.H",
          "22 RamaDHaan 1430 A.H",
          "23 RamaDHaan 1430 A.H",
          "28 RamaDHaan 1430 A.H",
          "29 RamaDHaan 1430 A.H",
          "2 SHawwal 1430 A.H. ",
          "7 SHawwal 1430 A.H",
          "7 SHawwal 1430 A.H",
          "9 SHawwal 1430 A.H",
          "16 SHawwal 1430 A.H",
          "20 SHawwal 1430 A.H",
          "23 SHawwal 1430 A.H",
          "26 SHawwal 1430 A.H",
          "26 SHawwal 1430 A.H",
          "27 SHawwal 1430 A.H",
          "1 Thw al-Qi`dah 1430 A.H",
          "4 Thw al-Qi`dah 1430 A.H",
          "5 Thw al-Qi`dah 1430 A.H",
          "14 Thw al-Qi`dah 1430 A.H",
          "14 Thw al-Qi`dah 1430 A.H",
          "20 Thw al-Qi`dah 1430 A.H",
          "21 Thw al-Qi`dah 1430 A.H",
          "22 Thw al-Qi`dah 1430 A.H",
          "25 Thw al-Qi`dah 1430 A.H",
          "25 Thw al-Qi`dah 1430 A.H",
          "26 Thw al-Qi`dah 1430 A.H",
          "28 Thw al-Qi`dah 1430 A.H",
          "2 Thw al-Hijjah 1430 A.H",
          "14 Thw al-Hijjah 1430 A.H",
          "15 Thw al-Hijjah 1430 A.H",
          "17 Thw al-Hijjah 1430 A.H",
          "20 Thw al-Hijjah 1430 A.H",
          "21 Thw al-Hijjah 1430 A.H",
          "21 Thw al-Hijjah 1430 A.H",
          "28 Thw al-Hijjah 1430 A.H",
          "30 Thw al-Hijjah 1430 A.H",
          "1 MuHarram 1431 A.H. ",
          "5 MuHarram 1431 A.H",
          "7 MuHarram 1431 A.H",
          "7 MuHarram 1431 A.H",
          "11 MuHarram 1431 A.H",
          "15 MuHarram 1431 A.H",
          "20 MuHarram 1431 A.H",
          "22 MuHarram 1431 A.H",
          "22 MuHarram 1431 A.H",
          "30 MuHarram 1431 A.H",
          "8 safar 1431 A.H",
          "14 safar 1431 A.H",
          "26 safar 1431 A.H",
          "27 safar 1431 A.H",
          "4 Raby` al-awal 1431 A.H",
          "6 Raby` al-awal 1431 A.H",
          "8 Raby` al-awal 1431 A.H",
          "13 Raby` al-awal 1431 A.H",
          "19 Raby` al-awal 1431 A.H",
          "22 Raby` al-awal 1431 A.H",
          "26 Raby` al-awal 1431 A.H",
          "27 Raby` al-awal 1431 A.H",
          "13 Raby` al-THaany 1431 A.H.",
          "13 Raby` al-THaany 1431 A.H.",
          "20 Raby` al-THaany 1431 A.H.",
          "20 Raby` al-THaany 1431 A.H.",
          "2 Jumaada al-awal 1431 A.H",
          "3 Jumaada al-awal 1431 A.H",
          "4 Jumaada al-awal 1431 A.H",
          "5 Jumaada al-awal 1431 A.H",
          "14 Jumaada al-awal 1431 A.H",
          "17 Jumaada al-awal 1431 A.H",
          "18 Jumaada al-awal 1431 A.H",
          "14 Jumaada al-THaany 1431 A.H",
          "19 Rajab 1431 A.H",
          "27 Rajab 1431 A.H",
          "30 Rajab 1431 A.H",
          "6 SHa`baan 1431 A.H",
          "14 SHa`baan 1431 A.H",
          "23 SHa`baan 1431 A.H",
          "13 RamaDHaan 1431 A.H.",
          "23 RamaDHaan 1431 A.H",
          "24 RamaDHaan 1431 A.H.",
          "24 RamaDHaan 1431 A.H.",
          "27 RamaDHaan 1431 A.H",
          "30 RamaDHaan 1431 A.H",
          "28 SHawwal 1431 A.H",
          "10 Thw al-Qi`dah 1431 A.H",
          "24 Thw al-Qi`dah 1431 A.H",
          "28 Thw al-Qi`dah 1431 A.H",
          "5 Thw al-Hijjah 1431 A.H",
          "5 Thw al-Hijjah 1431 A.H",
          "8 Thw al-Hijjah 1431 A.H",
          "24 Thw al-Hijjah 1431 A.H",
          "30 Thw al-Hijjah 1431 A.H",
          "1 MuHarram 1432 A.H",
          "2 MuHarram 1432 A.H",
          "4 MuHarram 1432 A.H",
          "17 MuHarram 1432 A.H",
          "18 MuHarram 1432 A.H",
          "19 MuHarram 1432 A.H",
          "21 MuHarram 1432 A.H",
          "8 safar 1432 A.H",
          "21 safar 1432 A.H",
          "23 safar 1432 A.H",
          "27 safar 1432 A.H",
          "7 Raby` al-awal 1432 A.H",
          "8 Raby` al-awal 1432 A.H",
          "9 Raby` al-awal 1432 A.H",
          "16 Raby` al-awal 1432 A.H",
          "26 Raby` al-awal 1432 A.H",
          "28 Raby` al-awal 1432 A.H",
          "4 Raby` al-THaany 1432 A.H",
          "19 Raby` al-THaany 1432 A.H",
          "25 Raby` al-THaany 1432 A.H",
          "26 Raby` al-THaany 1432 A.H",
          "27 Raby` al-THaany 1432 A.H",
          "29 Raby` al-THaany 1432 A.H",
          "30 Raby` al-THaany 1432 A.H",
          "3 Jumaada al-awal 1432 A.H",
          "19 Jumaada al-awal 1432 A.H",
          "19 Jumada al-awwal 1438 A.H",
          "19 Jumada al-awwal 1438 A.H",
          "19 Jumada al-awwal 1438 A.H",
          "19 Jumada al-awwal 1438 A.H",
          "19 Jumada al-awwal 1438 A.H",
          "19 Jumada al-awwal 1438 A.H",
          "19 Jumada al-awwal 1438 A.H",
          "19 Jumada al-awwal 1438 A.H",
          "19 Jumada al-awwal 1438 A.H",
          "19 Jumada al-awwal 1438 A.H",
          "19 Jumada al-awwal 1438 A.H",
          "19 Jumada al-awwal 1438 A.H",
          "19 Jumada al-awwal 1438 A.H",
          "19 Jumada al-awwal 1438 A.H",
          "19 Jumada al-awwal 1438 A.H",
          "5 SHawwal 1432 A.H.",
          "6 SHawwal 1432 A.H.",
          "19 Jumada al-awwal 1438 A.H",
          "19 Jumada al-awwal 1438 A.H",
          "19 Jumada al-awwal 1438 A.H",
          "19 Jumada al-awwal 1438 A.H",
          "19 Jumada al-awwal 1438 A.H",
          "19 Jumada al-awwal 1438 A.H",
          "19 Jumada al-awwal 1438 A.H",
          "19 Jumada al-awwal 1438 A.H",
          "19 Jumada al-awwal 1438 A.H",
          "19 Jumada al-awwal 1438 A.H",
          "19 Jumada al-awwal 1438 A.H",
          "19 Jumada al-awwal 1438 A.H",
          "19 Jumada al-awwal 1438 A.H",
          "19 Jumada al-awwal 1438 A.H",
          "19 Jumada al-awwal 1438 A.H",
          "19 Jumada al-awwal 1438 A.H",
          "19 Jumada al-awwal 1438 A.H",
          "19 Jumada al-awwal 1438 A.H",
          "19 Jumada al-awwal 1438 A.H",
          "19 Jumada al-awwal 1438 A.H",
          "19 Jumada al-awwal 1438 A.H",
          "19 Jumada al-awwal 1438 A.H",
          "19 Jumada al-awwal 1438 A.H",
          "19 Jumada al-awwal 1438 A.H",
          "19 Jumada al-awwal 1438 A.H",
          "19 Jumada al-awwal 1438 A.H",
          "19 Jumada al-awwal 1438 A.H",
          "19 Jumada al-awwal 1438 A.H",
          "19 Jumada al-awwal 1438 A.H",
          "19 Jumada al-awwal 1438 A.H",
          "19 Jumada al-awwal 1438 A.H",
          "19 Jumada al-awwal 1438 A.H",
          "19 Jumada al-awwal 1438 A.H",
          "19 Jumada al-awwal 1438 A.H",
          "19 Jumada al-awwal 1438 A.H",
          "19 Jumada al-awwal 1438 A.H",
          "19 Jumada al-awwal 1438 A.H",
          "19 Jumada al-awwal 1438 A.H",
          "19 Jumada al-awwal 1438 A.H",
          "19 Jumada al-awwal 1438 A.H",
          "19 Jumada al-awwal 1438 A.H",
          "19 Jumada al-awwal 1438 A.H",
          "19 Jumada al-awwal 1438 A.H",
          "19 Jumada al-awwal 1438 A.H",
          "19 Jumada al-awwal 1438 A.H",
          "19 Jumada al-awwal 1438 A.H",
          "19 Jumada al-awwal 1438 A.H",
          "19 Jumada al-awwal 1438 A.H",
          "19 Jumada al-awwal 1438 A.H",
          "19 Jumada al-awwal 1438 A.H",
          "19 Jumada al-awwal 1438 A.H",
          "19 Jumada al-awwal 1438 A.H",
          "19 Jumada al-awwal 1438 A.H",
          "19 Jumada al-awwal 1438 A.H",
          "19 Jumada al-awwal 1438 A.H",
          "19 Jumada al-awwal 1438 A.H",
          "19 Jumada al-awwal 1438 A.H",
          "19 Jumada al-awwal 1438 A.H",
          "19 Jumada al-awwal 1438 A.H",
          "19 Jumada al-awwal 1438 A.H",
          "19 Jumada al-awwal 1438 A.H",
          "19 Jumada al-awwal 1438 A.H",
          "19 Jumada al-awwal 1438 A.H",
          "19 Jumada al-awwal 1438 A.H",
          "19 Jumada al-awwal 1438 A.H",
          "19 Jumada al-awwal 1438 A.H",
          "19 Jumada al-awwal 1438 A.H",
          "19 Jumada al-awwal 1438 A.H",
          "19 Jumada al-awwal 1438 A.H",
          "19 Jumada al-awwal 1438 A.H",
          "19 Jumada al-awwal 1438 A.H",
          "19 Jumada al-awwal 1438 A.H",
          "19 Jumada al-awwal 1438 A.H",
          "19 Jumada al-awwal 1438 A.H",
          "19 Jumada al-awwal 1438 A.H",
          "19 Jumada al-awwal 1438 A.H",
          "19 Jumada al-awwal 1438 A.H",
          "19 Jumada al-awwal 1438 A.H",
          "19 Jumada al-awwal 1438 A.H",
          "19 Jumada al-awwal 1438 A.H",
          "19 Jumada al-awwal 1438 A.H",
          "19 Jumada al-awwal 1438 A.H",
          "19 Jumada al-awwal 1438 A.H",
          "19 Jumada al-awwal 1438 A.H",
          "19 Jumada al-awwal 1438 A.H",
          "19 Jumada al-awwal 1438 A.H",
          "19 Jumada al-awwal 1438 A.H",
          "19 Jumada al-awwal 1438 A.H",
          "19 Jumada al-awwal 1438 A.H",
          "19 Jumada al-awwal 1438 A.H",
          "19 Jumada al-awwal 1438 A.H",
          "19 Jumada al-awwal 1438 A.H",
          "19 Jumada al-awwal 1438 A.H",
          "19 Jumada al-awwal 1438 A.H",
          "19 Jumada al-awwal 1438 A.H",
          "19 Jumada al-awwal 1438 A.H",
          "19 Jumada al-awwal 1438 A.H",
          "19 Jumada al-awwal 1438 A.H",
          "19 Jumada al-awwal 1438 A.H",
          "19 Jumada al-awwal 1438 A.H",
          "19 Jumada al-awwal 1438 A.H",
          "19 Jumada al-awwal 1438 A.H",
          "19 Jumada al-awwal 1438 A.H",
          "19 Jumada al-awwal 1438 A.H",
          "19 Jumada al-awwal 1438 A.H",
          "19 Jumada al-awwal 1438 A.H",
          "19 Jumada al-awwal 1438 A.H",
          "19 Jumada al-awwal 1438 A.H",
          "19 Jumada al-awwal 1438 A.H",
          "19 Jumada al-awwal 1438 A.H",
          "19 Jumada al-awwal 1438 A.H",
          "19 Jumada al-awwal 1438 A.H",
          "19 Jumada al-awwal 1438 A.H",
          "19 Jumada al-awwal 1438 A.H",
          "19 Jumada al-awwal 1438 A.H",
          "19 Jumada al-awwal 1438 A.H",
          "19 Jumada al-awwal 1438 A.H",
          "19 Jumada al-awwal 1438 A.H",
          "19 Jumada al-awwal 1438 A.H",
          "19 Jumada al-awwal 1438 A.H",
          "19 Jumada al-awwal 1438 A.H",
          "19 Jumada al-awwal 1438 A.H",
          "19 Jumada al-awwal 1438 A.H",
          "19 Jumada al-awwal 1438 A.H",
          "19 Jumada al-awwal 1438 A.H",
          "19 Jumada al-awwal 1438 A.H",
          "19 Jumada al-awwal 1438 A.H",
          "19 Jumada al-awwal 1438 A.H",
          "19 Jumada al-awwal 1438 A.H",
          "19 Jumada al-awwal 1438 A.H",
          "19 Jumada al-awwal 1438 A.H",
          "19 Jumada al-awwal 1438 A.H",
          "19 Jumada al-awwal 1438 A.H",
          "19 Jumada al-awwal 1438 A.H",
          "19 Jumada al-awwal 1438 A.H",
          "19 Jumada al-awwal 1438 A.H",
          "19 Jumada al-awwal 1438 A.H",
          "8 Rajab 1437 A.H.",
          "10 Rajab 1437 A.H.",
          "22 Shaban 1437 A.H.",
          "05 Zeqad 1437 A.H.",
          "29 Zeqad 1437 A.H.",
          "10 Zilhaj 1437 A.H.",
          "13 Zilhaj 1437 A.H.",
          "23 MuHarram 1438 A.H.",
          "11 safar 1438 A.H.",
          "25 safar 1438 A.H.",
          "09 Jamadi-ul-Awal 1438 A.H. ",
          "16 Jumada al-awwal 1438 A.H",
          "19 Jumada al-awwal 1438 A.H",
          "19 Jumada al-awwal 1438 A.H",
          "19 Jumada al-awwal 1438 A.H",
          "20 Jumada al-awwal 1438 A.H",
          "25 Jumada al-awwal 1438 A.H",
          "08 Rajab 1438 A.H",
          "15 Shaban 1438 A.H",
          "23 Shaban 1438 A.H",
          "27 RamaDHaan 1438 A.H",
          "16 SHawwal 1438 A.H",
          "22 Shawaal 1438 A.H",
          "22 Shawaal 1438 A.H",
          "29 Shawaal 1438 A.H",
          "12 Zeqad 1438 A.H.",
          "13 MuHarram 1439 A.H",
          "27 MuHarram 1439 A.H",
          "19 Safar 1439 A.H",
          "5 Rabi Al-Awwal 1439 A.H",
          "6 Rabi Al-Awwal 1439 A.H",
          "19 Jumada al-awwal 1438 A.H",
          "19 Jumada al-awwal 1438 A.H",
          "19 Jumada al-awwal 1438 A.H",
          "19 Jumada al-awwal 1438 A.H",
          "19 Jumada al-awwal 1438 A.H",
          "19 Jumada al-awwal 1438 A.H",
          "19 Jumada al-awwal 1438 A.H",
          "19 Jumada al-awwal 1438 A.H",
          "19 Jumada al-awwal 1438 A.H",
          "19 Jumada al-awwal 1438 A.H",
          "19 Jumada al-awwal 1438 A.H",
          "19 Jumada al-awwal 1438 A.H",
          "19 Jumada al-awwal 1438 A.H",
          "19 Jumada al-awwal 1438 A.H",
          "19 Jumada al-awwal 1438 A.H",
          "19 Jumada al-awwal 1438 A.H",
          "19 Jumada al-awwal 1438 A.H",
          "19 Jumada al-awwal 1438 A.H",
          "15 Shaban 1438 A.H",
          "27 RamaDHaan 1432 A.H",
          "16 SHawwal 1432 A.H",
          "22 Shawaal 1432 A.H",
          "22 Shawaal 1432 A.H",
          "29 Shawaal 1432 A.H",
          "19 Jumada al-awwal 1438 A.H",
          "19 Jumada al-awwal 1438 A.H"
         ],
         "xaxis": "x",
         "yaxis": "y"
        }
       ],
       "layout": {
        "barmode": "relative",
        "legend": {
         "tracegroupgap": 0
        },
        "template": {
         "data": {
          "bar": [
           {
            "error_x": {
             "color": "#2a3f5f"
            },
            "error_y": {
             "color": "#2a3f5f"
            },
            "marker": {
             "line": {
              "color": "#E5ECF6",
              "width": 0.5
             },
             "pattern": {
              "fillmode": "overlay",
              "size": 10,
              "solidity": 0.2
             }
            },
            "type": "bar"
           }
          ],
          "barpolar": [
           {
            "marker": {
             "line": {
              "color": "#E5ECF6",
              "width": 0.5
             },
             "pattern": {
              "fillmode": "overlay",
              "size": 10,
              "solidity": 0.2
             }
            },
            "type": "barpolar"
           }
          ],
          "carpet": [
           {
            "aaxis": {
             "endlinecolor": "#2a3f5f",
             "gridcolor": "white",
             "linecolor": "white",
             "minorgridcolor": "white",
             "startlinecolor": "#2a3f5f"
            },
            "baxis": {
             "endlinecolor": "#2a3f5f",
             "gridcolor": "white",
             "linecolor": "white",
             "minorgridcolor": "white",
             "startlinecolor": "#2a3f5f"
            },
            "type": "carpet"
           }
          ],
          "choropleth": [
           {
            "colorbar": {
             "outlinewidth": 0,
             "ticks": ""
            },
            "type": "choropleth"
           }
          ],
          "contour": [
           {
            "colorbar": {
             "outlinewidth": 0,
             "ticks": ""
            },
            "colorscale": [
             [
              0,
              "#0d0887"
             ],
             [
              0.1111111111111111,
              "#46039f"
             ],
             [
              0.2222222222222222,
              "#7201a8"
             ],
             [
              0.3333333333333333,
              "#9c179e"
             ],
             [
              0.4444444444444444,
              "#bd3786"
             ],
             [
              0.5555555555555556,
              "#d8576b"
             ],
             [
              0.6666666666666666,
              "#ed7953"
             ],
             [
              0.7777777777777778,
              "#fb9f3a"
             ],
             [
              0.8888888888888888,
              "#fdca26"
             ],
             [
              1,
              "#f0f921"
             ]
            ],
            "type": "contour"
           }
          ],
          "contourcarpet": [
           {
            "colorbar": {
             "outlinewidth": 0,
             "ticks": ""
            },
            "type": "contourcarpet"
           }
          ],
          "heatmap": [
           {
            "colorbar": {
             "outlinewidth": 0,
             "ticks": ""
            },
            "colorscale": [
             [
              0,
              "#0d0887"
             ],
             [
              0.1111111111111111,
              "#46039f"
             ],
             [
              0.2222222222222222,
              "#7201a8"
             ],
             [
              0.3333333333333333,
              "#9c179e"
             ],
             [
              0.4444444444444444,
              "#bd3786"
             ],
             [
              0.5555555555555556,
              "#d8576b"
             ],
             [
              0.6666666666666666,
              "#ed7953"
             ],
             [
              0.7777777777777778,
              "#fb9f3a"
             ],
             [
              0.8888888888888888,
              "#fdca26"
             ],
             [
              1,
              "#f0f921"
             ]
            ],
            "type": "heatmap"
           }
          ],
          "heatmapgl": [
           {
            "colorbar": {
             "outlinewidth": 0,
             "ticks": ""
            },
            "colorscale": [
             [
              0,
              "#0d0887"
             ],
             [
              0.1111111111111111,
              "#46039f"
             ],
             [
              0.2222222222222222,
              "#7201a8"
             ],
             [
              0.3333333333333333,
              "#9c179e"
             ],
             [
              0.4444444444444444,
              "#bd3786"
             ],
             [
              0.5555555555555556,
              "#d8576b"
             ],
             [
              0.6666666666666666,
              "#ed7953"
             ],
             [
              0.7777777777777778,
              "#fb9f3a"
             ],
             [
              0.8888888888888888,
              "#fdca26"
             ],
             [
              1,
              "#f0f921"
             ]
            ],
            "type": "heatmapgl"
           }
          ],
          "histogram": [
           {
            "marker": {
             "pattern": {
              "fillmode": "overlay",
              "size": 10,
              "solidity": 0.2
             }
            },
            "type": "histogram"
           }
          ],
          "histogram2d": [
           {
            "colorbar": {
             "outlinewidth": 0,
             "ticks": ""
            },
            "colorscale": [
             [
              0,
              "#0d0887"
             ],
             [
              0.1111111111111111,
              "#46039f"
             ],
             [
              0.2222222222222222,
              "#7201a8"
             ],
             [
              0.3333333333333333,
              "#9c179e"
             ],
             [
              0.4444444444444444,
              "#bd3786"
             ],
             [
              0.5555555555555556,
              "#d8576b"
             ],
             [
              0.6666666666666666,
              "#ed7953"
             ],
             [
              0.7777777777777778,
              "#fb9f3a"
             ],
             [
              0.8888888888888888,
              "#fdca26"
             ],
             [
              1,
              "#f0f921"
             ]
            ],
            "type": "histogram2d"
           }
          ],
          "histogram2dcontour": [
           {
            "colorbar": {
             "outlinewidth": 0,
             "ticks": ""
            },
            "colorscale": [
             [
              0,
              "#0d0887"
             ],
             [
              0.1111111111111111,
              "#46039f"
             ],
             [
              0.2222222222222222,
              "#7201a8"
             ],
             [
              0.3333333333333333,
              "#9c179e"
             ],
             [
              0.4444444444444444,
              "#bd3786"
             ],
             [
              0.5555555555555556,
              "#d8576b"
             ],
             [
              0.6666666666666666,
              "#ed7953"
             ],
             [
              0.7777777777777778,
              "#fb9f3a"
             ],
             [
              0.8888888888888888,
              "#fdca26"
             ],
             [
              1,
              "#f0f921"
             ]
            ],
            "type": "histogram2dcontour"
           }
          ],
          "mesh3d": [
           {
            "colorbar": {
             "outlinewidth": 0,
             "ticks": ""
            },
            "type": "mesh3d"
           }
          ],
          "parcoords": [
           {
            "line": {
             "colorbar": {
              "outlinewidth": 0,
              "ticks": ""
             }
            },
            "type": "parcoords"
           }
          ],
          "pie": [
           {
            "automargin": true,
            "type": "pie"
           }
          ],
          "scatter": [
           {
            "fillpattern": {
             "fillmode": "overlay",
             "size": 10,
             "solidity": 0.2
            },
            "type": "scatter"
           }
          ],
          "scatter3d": [
           {
            "line": {
             "colorbar": {
              "outlinewidth": 0,
              "ticks": ""
             }
            },
            "marker": {
             "colorbar": {
              "outlinewidth": 0,
              "ticks": ""
             }
            },
            "type": "scatter3d"
           }
          ],
          "scattercarpet": [
           {
            "marker": {
             "colorbar": {
              "outlinewidth": 0,
              "ticks": ""
             }
            },
            "type": "scattercarpet"
           }
          ],
          "scattergeo": [
           {
            "marker": {
             "colorbar": {
              "outlinewidth": 0,
              "ticks": ""
             }
            },
            "type": "scattergeo"
           }
          ],
          "scattergl": [
           {
            "marker": {
             "colorbar": {
              "outlinewidth": 0,
              "ticks": ""
             }
            },
            "type": "scattergl"
           }
          ],
          "scattermapbox": [
           {
            "marker": {
             "colorbar": {
              "outlinewidth": 0,
              "ticks": ""
             }
            },
            "type": "scattermapbox"
           }
          ],
          "scatterpolar": [
           {
            "marker": {
             "colorbar": {
              "outlinewidth": 0,
              "ticks": ""
             }
            },
            "type": "scatterpolar"
           }
          ],
          "scatterpolargl": [
           {
            "marker": {
             "colorbar": {
              "outlinewidth": 0,
              "ticks": ""
             }
            },
            "type": "scatterpolargl"
           }
          ],
          "scatterternary": [
           {
            "marker": {
             "colorbar": {
              "outlinewidth": 0,
              "ticks": ""
             }
            },
            "type": "scatterternary"
           }
          ],
          "surface": [
           {
            "colorbar": {
             "outlinewidth": 0,
             "ticks": ""
            },
            "colorscale": [
             [
              0,
              "#0d0887"
             ],
             [
              0.1111111111111111,
              "#46039f"
             ],
             [
              0.2222222222222222,
              "#7201a8"
             ],
             [
              0.3333333333333333,
              "#9c179e"
             ],
             [
              0.4444444444444444,
              "#bd3786"
             ],
             [
              0.5555555555555556,
              "#d8576b"
             ],
             [
              0.6666666666666666,
              "#ed7953"
             ],
             [
              0.7777777777777778,
              "#fb9f3a"
             ],
             [
              0.8888888888888888,
              "#fdca26"
             ],
             [
              1,
              "#f0f921"
             ]
            ],
            "type": "surface"
           }
          ],
          "table": [
           {
            "cells": {
             "fill": {
              "color": "#EBF0F8"
             },
             "line": {
              "color": "white"
             }
            },
            "header": {
             "fill": {
              "color": "#C8D4E3"
             },
             "line": {
              "color": "white"
             }
            },
            "type": "table"
           }
          ]
         },
         "layout": {
          "annotationdefaults": {
           "arrowcolor": "#2a3f5f",
           "arrowhead": 0,
           "arrowwidth": 1
          },
          "autotypenumbers": "strict",
          "coloraxis": {
           "colorbar": {
            "outlinewidth": 0,
            "ticks": ""
           }
          },
          "colorscale": {
           "diverging": [
            [
             0,
             "#8e0152"
            ],
            [
             0.1,
             "#c51b7d"
            ],
            [
             0.2,
             "#de77ae"
            ],
            [
             0.3,
             "#f1b6da"
            ],
            [
             0.4,
             "#fde0ef"
            ],
            [
             0.5,
             "#f7f7f7"
            ],
            [
             0.6,
             "#e6f5d0"
            ],
            [
             0.7,
             "#b8e186"
            ],
            [
             0.8,
             "#7fbc41"
            ],
            [
             0.9,
             "#4d9221"
            ],
            [
             1,
             "#276419"
            ]
           ],
           "sequential": [
            [
             0,
             "#0d0887"
            ],
            [
             0.1111111111111111,
             "#46039f"
            ],
            [
             0.2222222222222222,
             "#7201a8"
            ],
            [
             0.3333333333333333,
             "#9c179e"
            ],
            [
             0.4444444444444444,
             "#bd3786"
            ],
            [
             0.5555555555555556,
             "#d8576b"
            ],
            [
             0.6666666666666666,
             "#ed7953"
            ],
            [
             0.7777777777777778,
             "#fb9f3a"
            ],
            [
             0.8888888888888888,
             "#fdca26"
            ],
            [
             1,
             "#f0f921"
            ]
           ],
           "sequentialminus": [
            [
             0,
             "#0d0887"
            ],
            [
             0.1111111111111111,
             "#46039f"
            ],
            [
             0.2222222222222222,
             "#7201a8"
            ],
            [
             0.3333333333333333,
             "#9c179e"
            ],
            [
             0.4444444444444444,
             "#bd3786"
            ],
            [
             0.5555555555555556,
             "#d8576b"
            ],
            [
             0.6666666666666666,
             "#ed7953"
            ],
            [
             0.7777777777777778,
             "#fb9f3a"
            ],
            [
             0.8888888888888888,
             "#fdca26"
            ],
            [
             1,
             "#f0f921"
            ]
           ]
          },
          "colorway": [
           "#636efa",
           "#EF553B",
           "#00cc96",
           "#ab63fa",
           "#FFA15A",
           "#19d3f3",
           "#FF6692",
           "#B6E880",
           "#FF97FF",
           "#FECB52"
          ],
          "font": {
           "color": "#2a3f5f"
          },
          "geo": {
           "bgcolor": "white",
           "lakecolor": "white",
           "landcolor": "#E5ECF6",
           "showlakes": true,
           "showland": true,
           "subunitcolor": "white"
          },
          "hoverlabel": {
           "align": "left"
          },
          "hovermode": "closest",
          "mapbox": {
           "style": "light"
          },
          "paper_bgcolor": "white",
          "plot_bgcolor": "#E5ECF6",
          "polar": {
           "angularaxis": {
            "gridcolor": "white",
            "linecolor": "white",
            "ticks": ""
           },
           "bgcolor": "#E5ECF6",
           "radialaxis": {
            "gridcolor": "white",
            "linecolor": "white",
            "ticks": ""
           }
          },
          "scene": {
           "xaxis": {
            "backgroundcolor": "#E5ECF6",
            "gridcolor": "white",
            "gridwidth": 2,
            "linecolor": "white",
            "showbackground": true,
            "ticks": "",
            "zerolinecolor": "white"
           },
           "yaxis": {
            "backgroundcolor": "#E5ECF6",
            "gridcolor": "white",
            "gridwidth": 2,
            "linecolor": "white",
            "showbackground": true,
            "ticks": "",
            "zerolinecolor": "white"
           },
           "zaxis": {
            "backgroundcolor": "#E5ECF6",
            "gridcolor": "white",
            "gridwidth": 2,
            "linecolor": "white",
            "showbackground": true,
            "ticks": "",
            "zerolinecolor": "white"
           }
          },
          "shapedefaults": {
           "line": {
            "color": "#2a3f5f"
           }
          },
          "ternary": {
           "aaxis": {
            "gridcolor": "white",
            "linecolor": "white",
            "ticks": ""
           },
           "baxis": {
            "gridcolor": "white",
            "linecolor": "white",
            "ticks": ""
           },
           "bgcolor": "#E5ECF6",
           "caxis": {
            "gridcolor": "white",
            "linecolor": "white",
            "ticks": ""
           }
          },
          "title": {
           "x": 0.05
          },
          "xaxis": {
           "automargin": true,
           "gridcolor": "white",
           "linecolor": "white",
           "ticks": "",
           "title": {
            "standoff": 15
           },
           "zerolinecolor": "white",
           "zerolinewidth": 2
          },
          "yaxis": {
           "automargin": true,
           "gridcolor": "white",
           "linecolor": "white",
           "ticks": "",
           "title": {
            "standoff": 15
           },
           "zerolinecolor": "white",
           "zerolinewidth": 2
          }
         }
        },
        "title": {
         "text": "Islamic Date vs. Attacks"
        },
        "xaxis": {
         "anchor": "y",
         "domain": [
          0,
          1
         ],
         "title": {
          "text": "Islamic Date"
         }
        },
        "yaxis": {
         "anchor": "x",
         "domain": [
          0,
          1
         ],
         "title": {
          "text": "count"
         }
        }
       }
      }
     },
     "metadata": {},
     "output_type": "display_data"
    }
   ],
   "source": [
    "# 3. Islamic Date vs. Attacks\n",
    "fig3 = px.histogram(df_cleaned, x='Islamic Date', title='Islamic Date vs. Attacks')\n",
    "fig3.show()"
   ]
  },
  {
   "cell_type": "markdown",
   "metadata": {},
   "source": [
    "# Location Analysis\n"
   ]
  },
  {
   "cell_type": "code",
   "execution_count": 13,
   "metadata": {},
   "outputs": [
    {
     "data": {
      "application/vnd.plotly.v1+json": {
       "config": {
        "plotlyServerURL": "https://plot.ly"
       },
       "data": [
        {
         "customdata": [
          [
           15,
           60
          ],
          [
           3,
           3
          ],
          [
           15,
           40
          ],
          [
           12,
           51
          ],
          [
           47,
           65
          ],
          [
           18,
           50
          ],
          [
           1,
           4
          ],
          [
           15,
           200
          ],
          [
           18,
           35
          ],
          [
           2,
           2
          ],
          [
           3,
           3
          ],
          [
           7,
           70
          ],
          [
           31,
           75
          ],
          [
           5,
           10
          ],
          [
           50,
           100
          ],
          [
           25,
           100
          ],
          [
           6,
           30
          ],
          [
           5,
           54
          ],
          [
           57,
           100
          ],
          [
           7,
           8
          ],
          [
           7,
           26
          ],
          [
           1,
           0
          ],
          [
           42,
           39
          ],
          [
           1,
           2
          ],
          [
           1,
           1
          ],
          [
           5,
           25
          ],
          [
           2,
           7
          ],
          [
           15,
           60
          ],
          [
           3,
           7
          ],
          [
           2,
           8
          ],
          [
           1,
           10
          ],
          [
           17,
           35
          ],
          [
           2,
           8
          ],
          [
           35,
           60
          ],
          [
           26,
           35
          ],
          [
           3,
           2
          ],
          [
           10,
           12
          ],
          [
           7,
           8
          ],
          [
           4,
           3
          ],
          [
           24,
           29
          ],
          [
           30,
           61
          ],
          [
           20,
           47
          ],
          [
           17,
           70
          ],
          [
           4,
           3
          ],
          [
           30,
           50
          ],
          [
           8,
           35
          ],
          [
           20,
           58
          ],
          [
           4,
           6
          ],
          [
           15,
           70
          ],
          [
           2,
           6
          ],
          [
           23,
           43
          ],
          [
           15.253138075313808,
           5
          ],
          [
           2,
           2
          ],
          [
           1,
           4
          ],
          [
           7,
           18
          ],
          [
           7,
           37
          ],
          [
           4,
           2
          ],
          [
           7,
           9
          ],
          [
           19,
           19
          ],
          [
           20,
           46
          ],
          [
           5,
           10
          ],
          [
           16,
           32
          ],
          [
           145,
           550
          ],
          [
           38,
           35
          ],
          [
           8,
           31
          ],
          [
           10,
           40
          ],
          [
           4,
           5
          ],
          [
           38,
           35
          ],
          [
           1,
           5
          ],
          [
           1,
           0
          ],
          [
           13,
           2
          ],
          [
           0,
           22
          ],
          [
           12,
           23
          ],
          [
           6,
           20
          ],
          [
           12,
           5
          ],
          [
           60,
           200
          ],
          [
           14,
           23
          ],
          [
           30,
           70
          ],
          [
           15.253138075313808,
           13
          ],
          [
           26,
           80
          ],
          [
           12,
           25
          ],
          [
           7,
           15
          ],
          [
           10,
           47
          ],
          [
           1,
           1
          ],
          [
           27,
           51
          ],
          [
           10,
           13
          ],
          [
           3,
           18
          ],
          [
           47,
           110
          ],
          [
           8,
           30
          ],
          [
           45,
           100
          ],
          [
           2,
           23
          ],
          [
           43,
           60
          ],
          [
           8,
           24
          ],
          [
           31,
           200
          ],
          [
           6,
           12
          ],
          [
           3,
           7
          ],
          [
           5,
           11
          ],
          [
           2,
           30
          ],
          [
           7,
           15
          ],
          [
           1,
           4
          ],
          [
           13,
           25
          ],
          [
           8,
           30
          ],
          [
           20,
           47
          ],
          [
           1,
           4
          ],
          [
           9,
           35
          ],
          [
           32,
           55
          ],
          [
           100,
           200
          ],
          [
           15,
           20
          ],
          [
           5,
           39
          ],
          [
           35,
           90
          ],
          [
           10,
           25
          ],
          [
           17,
           20
          ],
          [
           60,
           300
          ],
          [
           13,
           3
          ],
          [
           14,
           25
          ],
          [
           5,
           18
          ],
          [
           26,
           100
          ],
          [
           15.253138075313808,
           12
          ],
          [
           0,
           0
          ],
          [
           85,
           200
          ],
          [
           4,
           27
          ],
          [
           10,
           5
          ],
          [
           15.253138075313808,
           14
          ],
          [
           10,
           25
          ],
          [
           8,
           8
          ],
          [
           7,
           4
          ],
          [
           2,
           10
          ],
          [
           23,
           45
          ],
          [
           4,
           20
          ],
          [
           7,
           12
          ],
          [
           10,
           8
          ],
          [
           9,
           16
          ],
          [
           10,
           50
          ],
          [
           6,
           10
          ],
          [
           10,
           15
          ],
          [
           1,
           4
          ],
          [
           37,
           16
          ],
          [
           10,
           25
          ],
          [
           1,
           2
          ],
          [
           2,
           25
          ],
          [
           32,
           55
          ],
          [
           0,
           7
          ],
          [
           5,
           18
          ],
          [
           36,
           200
          ],
          [
           1,
           2
          ],
          [
           6,
           12
          ],
          [
           5,
           6
          ],
          [
           15,
           18
          ],
          [
           2,
           8
          ],
          [
           15,
           25
          ],
          [
           76,
           175
          ],
          [
           4,
           9
          ],
          [
           8,
           7
          ],
          [
           8,
           39
          ],
          [
           27,
           60
          ],
          [
           18,
           10
          ],
          [
           27,
           65
          ],
          [
           11,
           48
          ],
          [
           11,
           27
          ],
          [
           9,
           36
          ],
          [
           27,
           370
          ],
          [
           5,
           9
          ],
          [
           5,
           12
          ],
          [
           40,
           70
          ],
          [
           2,
           5
          ],
          [
           15,
           80
          ],
          [
           2,
           15
          ],
          [
           7,
           12
          ],
          [
           7,
           105
          ],
          [
           2,
           7
          ],
          [
           2,
           4
          ],
          [
           4,
           11
          ],
          [
           1,
           40
          ],
          [
           1,
           5
          ],
          [
           2,
           5
          ],
          [
           5,
           4
          ],
          [
           1,
           3
          ],
          [
           7,
           3
          ],
          [
           3,
           8
          ],
          [
           3,
           15
          ],
          [
           22,
           27
          ],
          [
           18,
           14
          ],
          [
           15.253138075313808,
           4
          ],
          [
           1,
           5
          ],
          [
           37,
           60
          ],
          [
           2,
           1
          ],
          [
           10,
           65
          ],
          [
           14,
           120
          ],
          [
           5,
           8
          ],
          [
           50,
           187
          ],
          [
           41,
           50
          ],
          [
           12,
           24
          ],
          [
           18,
           50
          ],
          [
           15,
           24
          ],
          [
           6,
           40
          ],
          [
           9,
           17
          ],
          [
           38,
           65
          ],
          [
           15.253138075313808,
           25
          ],
          [
           19,
           45
          ],
          [
           3,
           7
          ],
          [
           34,
           100
          ],
          [
           13,
           70
          ],
          [
           8,
           29
          ],
          [
           12,
           35
          ],
          [
           3,
           43
          ],
          [
           22,
           50
          ],
          [
           2,
           30
          ],
          [
           2,
           18
          ],
          [
           40,
           83
          ],
          [
           11,
           50
          ],
          [
           45,
           135
          ],
          [
           15,
           61
          ],
          [
           33,
           70
          ],
          [
           0,
           0
          ],
          [
           12,
           35
          ],
          [
           3,
           24
          ],
          [
           5,
           25
          ],
          [
           1,
           4
          ],
          [
           15,
           100
          ],
          [
           100,
           100
          ],
          [
           4,
           12
          ],
          [
           8,
           11
          ],
          [
           0,
           6
          ],
          [
           1,
           2
          ],
          [
           5,
           11
          ],
          [
           17,
           47
          ],
          [
           22,
           11
          ],
          [
           15,
           30
          ],
          [
           31,
           110
          ],
          [
           1,
           10
          ],
          [
           13,
           41
          ],
          [
           4,
           24
          ],
          [
           14,
           35
          ],
          [
           14,
           100
          ],
          [
           57,
           100
          ],
          [
           17,
           60
          ],
          [
           2,
           2
          ],
          [
           2,
           8
          ],
          [
           8,
           0
          ],
          [
           56,
           120
          ],
          [
           11,
           40
          ],
          [
           44,
           70
          ],
          [
           7,
           32
          ],
          [
           24,
           49
          ],
          [
           5,
           14
          ],
          [
           7,
           16
          ],
          [
           0,
           0
          ],
          [
           95,
           200
          ],
          [
           42,
           175
          ],
          [
           80,
           110
          ],
          [
           0,
           0
          ],
          [
           4,
           26
          ],
          [
           8,
           25
          ],
          [
           4,
           14
          ],
          [
           30,
           40
          ],
          [
           43,
           243
          ],
          [
           62,
           200
          ],
          [
           1,
           4
          ],
          [
           19,
           57
          ],
          [
           5,
           6
          ],
          [
           10,
           77
          ],
          [
           15.253138075313808,
           14
          ],
          [
           5,
           13
          ],
          [
           76,
           132
          ],
          [
           20,
           140
          ],
          [
           0,
           2
          ],
          [
           1,
           8
          ],
          [
           6,
           22
          ],
          [
           50,
           100
          ],
          [
           15.253138075313808,
           12
          ],
          [
           20,
           32
          ],
          [
           17,
           30
          ],
          [
           1,
           2
          ],
          [
           4,
           24
          ],
          [
           47,
           105
          ],
          [
           7,
           65
          ],
          [
           20,
           20
          ],
          [
           17,
           80
          ],
          [
           0,
           0
          ],
          [
           7,
           16
          ],
          [
           36,
           50
          ],
          [
           1,
           3
          ],
          [
           15.253138075313808,
           4
          ],
          [
           0,
           0
          ],
          [
           9,
           36
          ],
          [
           43,
           52
          ],
          [
           8,
           30
          ],
          [
           13,
           23
          ],
          [
           12,
           42
          ],
          [
           1,
           8
          ],
          [
           50,
           114
          ],
          [
           9,
           30
          ],
          [
           1,
           19
          ],
          [
           5,
           8
          ],
          [
           95,
           140
          ],
          [
           3,
           9
          ],
          [
           11,
           48
          ],
          [
           32,
           60
          ],
          [
           8,
           11
          ],
          [
           19,
           45
          ],
          [
           35,
           107
          ],
          [
           2,
           6
          ],
          [
           10,
           5
          ],
          [
           7,
           26
          ],
          [
           15.253138075313808,
           2
          ],
          [
           1,
           7
          ],
          [
           1,
           0
          ],
          [
           2,
           12
          ],
          [
           60,
           130
          ],
          [
           13,
           25
          ],
          [
           2,
           25
          ],
          [
           28,
           82
          ],
          [
           34,
           75
          ],
          [
           8,
           7
          ],
          [
           3,
           9
          ],
          [
           7,
           1
          ],
          [
           6,
           19
          ],
          [
           2,
           28
          ],
          [
           3,
           9
          ],
          [
           8,
           10
          ],
          [
           4,
           8
          ],
          [
           28,
           36
          ],
          [
           1,
           3
          ],
          [
           4,
           6
          ],
          [
           1,
           6
          ],
          [
           0,
           3
          ],
          [
           15,
           33
          ],
          [
           1,
           5
          ],
          [
           13,
           10
          ],
          [
           7,
           14
          ],
          [
           26,
           75
          ],
          [
           3,
           5
          ],
          [
           14,
           30
          ],
          [
           7,
           8
          ],
          [
           2,
           21
          ],
          [
           15,
           80
          ],
          [
           20,
           41
          ],
          [
           6,
           10
          ],
          [
           8,
           37
          ],
          [
           3,
           23
          ],
          [
           0,
           4
          ],
          [
           4,
           7
          ],
          [
           20,
           40
          ],
          [
           6,
           80
          ],
          [
           8,
           18
          ],
          [
           15.253138075313808,
           10
          ],
          [
           3,
           25
          ],
          [
           9,
           20
          ],
          [
           93,
           121
          ],
          [
           27,
           50
          ],
          [
           15.253138075313808,
           23
          ],
          [
           84,
           200
          ],
          [
           4,
           47
          ],
          [
           22,
           35
          ],
          [
           12,
           35
          ],
          [
           18,
           60
          ],
          [
           9,
           18
          ],
          [
           4,
           4
          ],
          [
           6,
           40
          ],
          [
           10,
           45
          ],
          [
           1,
           2
          ],
          [
           12,
           40
          ],
          [
           3,
           27
          ],
          [
           2,
           5
          ],
          [
           7,
           68
          ],
          [
           3,
           2
          ],
          [
           15.253138075313808,
           2
          ],
          [
           14,
           19
          ],
          [
           34,
           60
          ],
          [
           15,
           30
          ],
          [
           30,
           70
          ],
          [
           8,
           10
          ],
          [
           9,
           30
          ],
          [
           50,
           200
          ],
          [
           38,
           60
          ],
          [
           81,
           145
          ],
          [
           8,
           16
          ],
          [
           17,
           22
          ],
          [
           2,
           2
          ],
          [
           9,
           30
          ],
          [
           0,
           7
          ],
          [
           7,
           1
          ],
          [
           0,
           26
          ],
          [
           5,
           34
          ],
          [
           2,
           21
          ],
          [
           3,
           31
          ],
          [
           2,
           2
          ],
          [
           3,
           11
          ],
          [
           13,
           15
          ],
          [
           6,
           8
          ],
          [
           3,
           1
          ],
          [
           9,
           50
          ],
          [
           0,
           5
          ],
          [
           4,
           3
          ],
          [
           13,
           47
          ],
          [
           3,
           10
          ],
          [
           11,
           29
          ],
          [
           11,
           45
          ],
          [
           4,
           15
          ],
          [
           5,
           11
          ],
          [
           5,
           5
          ],
          [
           30,
           16
          ],
          [
           28,
           24
          ],
          [
           2,
           5
          ],
          [
           3,
           1
          ],
          [
           5,
           29
          ],
          [
           5,
           12
          ],
          [
           7,
           5
          ],
          [
           3,
           20
          ],
          [
           55,
           120
          ],
          [
           148,
           132
          ],
          [
           2,
           0
          ],
          [
           62,
           39
          ],
          [
           21,
           60
          ],
          [
           5,
           6
          ],
          [
           17,
           72
          ],
          [
           3,
           0
          ],
          [
           3,
           3
          ],
          [
           2,
           6
          ],
          [
           2,
           6
          ],
          [
           2,
           7
          ],
          [
           19,
           25
          ],
          [
           4,
           2
          ],
          [
           6,
           56
          ],
          [
           15.253138075313808,
           20
          ],
          [
           11,
           15
          ],
          [
           26,
           56
          ],
          [
           15,
           36
          ],
          [
           12,
           25
          ],
          [
           0,
           6
          ],
          [
           11,
           35
          ],
          [
           20,
           31
          ],
          [
           72,
           300
          ],
          [
           2,
           0
          ],
          [
           1,
           18
          ],
          [
           1,
           15
          ],
          [
           70,
           120
          ],
          [
           14,
           60
          ],
          [
           0,
           13
          ],
          [
           61,
           165
          ],
          [
           52,
           100
          ],
          [
           2,
           14
          ],
          [
           0,
           2
          ],
          [
           18,
           90
          ],
          [
           8,
           3
          ],
          [
           1,
           18
          ],
          [
           1,
           0
          ],
          [
           72,
           200
          ],
          [
           7,
           20
          ],
          [
           7,
           22
          ],
          [
           28,
           37
          ],
          [
           4,
           0
          ],
          [
           3,
           11
          ],
          [
           2,
           7
          ],
          [
           1,
           1
          ],
          [
           27,
           56
          ],
          [
           15,
           40
          ],
          [
           7,
           22
          ],
          [
           2,
           8
          ],
          [
           3,
           8
          ],
          [
           4,
           22
          ],
          [
           15,
           60
          ],
          [
           3,
           3
          ],
          [
           15,
           40
          ],
          [
           12,
           51
          ],
          [
           47,
           65
          ],
          [
           18,
           50
          ],
          [
           1,
           4
          ],
          [
           15,
           200
          ],
          [
           18,
           35
          ],
          [
           2,
           2
          ],
          [
           3,
           3
          ],
          [
           7,
           70
          ],
          [
           31,
           75
          ],
          [
           5,
           10
          ],
          [
           50,
           100
          ],
          [
           25,
           100
          ],
          [
           6,
           30
          ],
          [
           5,
           54
          ],
          [
           57,
           100
          ],
          [
           7,
           8
          ],
          [
           7,
           26
          ],
          [
           1,
           0
          ],
          [
           42,
           39
          ],
          [
           1,
           2
          ],
          [
           1,
           1
          ],
          [
           5,
           25
          ],
          [
           2,
           7
          ],
          [
           15,
           60
          ],
          [
           3,
           7
          ],
          [
           2,
           8
          ],
          [
           1,
           10
          ],
          [
           17,
           35
          ],
          [
           2,
           8
          ],
          [
           35,
           60
          ],
          [
           26,
           35
          ],
          [
           3,
           2
          ],
          [
           10,
           12
          ],
          [
           7,
           8
          ],
          [
           4,
           3
          ],
          [
           24,
           29
          ],
          [
           30,
           61
          ],
          [
           20,
           47
          ],
          [
           17,
           70
          ],
          [
           4,
           3
          ],
          [
           30,
           50
          ],
          [
           8,
           35
          ],
          [
           20,
           58
          ],
          [
           4,
           6
          ],
          [
           15,
           70
          ],
          [
           2,
           6
          ],
          [
           23,
           43
          ],
          [
           15.253138075313808,
           5
          ],
          [
           2,
           2
          ],
          [
           1,
           4
          ],
          [
           7,
           18
          ],
          [
           7,
           37
          ],
          [
           4,
           2
          ],
          [
           7,
           9
          ],
          [
           19,
           19
          ],
          [
           20,
           46
          ],
          [
           5,
           10
          ],
          [
           16,
           32
          ],
          [
           145,
           550
          ],
          [
           38,
           35
          ],
          [
           8,
           31
          ],
          [
           10,
           40
          ],
          [
           4,
           5
          ],
          [
           38,
           35
          ],
          [
           1,
           5
          ],
          [
           1,
           0
          ],
          [
           13,
           2
          ],
          [
           0,
           22
          ],
          [
           12,
           23
          ],
          [
           6,
           20
          ],
          [
           12,
           5
          ],
          [
           60,
           200
          ],
          [
           14,
           23
          ],
          [
           30,
           70
          ],
          [
           15.253138075313808,
           13
          ],
          [
           26,
           80
          ],
          [
           12,
           25
          ],
          [
           7,
           15
          ],
          [
           10,
           47
          ],
          [
           1,
           1
          ],
          [
           27,
           51
          ],
          [
           10,
           13
          ],
          [
           3,
           18
          ],
          [
           47,
           110
          ],
          [
           8,
           30
          ],
          [
           45,
           100
          ],
          [
           2,
           23
          ],
          [
           43,
           60
          ],
          [
           8,
           24
          ],
          [
           31,
           200
          ],
          [
           6,
           12
          ],
          [
           3,
           7
          ],
          [
           5,
           11
          ],
          [
           2,
           30
          ],
          [
           7,
           15
          ],
          [
           1,
           4
          ],
          [
           13,
           25
          ],
          [
           8,
           30
          ],
          [
           20,
           47
          ],
          [
           1,
           4
          ],
          [
           9,
           35
          ],
          [
           32,
           55
          ],
          [
           100,
           200
          ],
          [
           15,
           20
          ],
          [
           5,
           39
          ],
          [
           35,
           90
          ],
          [
           10,
           25
          ],
          [
           17,
           20
          ],
          [
           60,
           300
          ],
          [
           13,
           3
          ],
          [
           14,
           25
          ],
          [
           5,
           18
          ],
          [
           26,
           100
          ],
          [
           15.253138075313808,
           12
          ],
          [
           0,
           0
          ],
          [
           85,
           200
          ],
          [
           4,
           27
          ],
          [
           10,
           5
          ],
          [
           15.253138075313808,
           14
          ],
          [
           10,
           25
          ],
          [
           8,
           8
          ],
          [
           7,
           4
          ],
          [
           2,
           10
          ],
          [
           23,
           45
          ],
          [
           4,
           20
          ],
          [
           7,
           12
          ],
          [
           10,
           8
          ],
          [
           9,
           16
          ],
          [
           10,
           50
          ],
          [
           6,
           10
          ],
          [
           10,
           15
          ],
          [
           1,
           4
          ],
          [
           37,
           16
          ],
          [
           10,
           25
          ],
          [
           1,
           2
          ],
          [
           2,
           25
          ],
          [
           32,
           55
          ],
          [
           0,
           7
          ],
          [
           5,
           18
          ],
          [
           36,
           200
          ],
          [
           1,
           2
          ],
          [
           6,
           12
          ],
          [
           5,
           6
          ],
          [
           15,
           18
          ],
          [
           2,
           8
          ],
          [
           15,
           25
          ],
          [
           76,
           175
          ],
          [
           4,
           9
          ],
          [
           8,
           7
          ],
          [
           8,
           39
          ],
          [
           27,
           60
          ],
          [
           18,
           10
          ],
          [
           27,
           65
          ],
          [
           11,
           48
          ],
          [
           11,
           27
          ],
          [
           9,
           36
          ],
          [
           27,
           370
          ],
          [
           5,
           9
          ],
          [
           5,
           12
          ],
          [
           40,
           70
          ],
          [
           2,
           5
          ],
          [
           15,
           80
          ],
          [
           2,
           15
          ],
          [
           7,
           12
          ],
          [
           7,
           105
          ],
          [
           2,
           7
          ],
          [
           2,
           4
          ],
          [
           4,
           11
          ],
          [
           1,
           40
          ],
          [
           1,
           5
          ],
          [
           2,
           5
          ],
          [
           5,
           4
          ],
          [
           1,
           3
          ],
          [
           7,
           3
          ],
          [
           3,
           8
          ],
          [
           3,
           15
          ],
          [
           22,
           27
          ],
          [
           18,
           14
          ],
          [
           15.253138075313808,
           4
          ],
          [
           1,
           5
          ],
          [
           37,
           60
          ],
          [
           2,
           1
          ],
          [
           10,
           65
          ],
          [
           14,
           120
          ],
          [
           5,
           8
          ],
          [
           50,
           187
          ],
          [
           41,
           50
          ],
          [
           12,
           24
          ],
          [
           18,
           50
          ],
          [
           15,
           24
          ],
          [
           6,
           40
          ],
          [
           9,
           17
          ],
          [
           38,
           65
          ],
          [
           15.253138075313808,
           25
          ],
          [
           19,
           45
          ],
          [
           3,
           7
          ],
          [
           34,
           100
          ],
          [
           13,
           70
          ],
          [
           8,
           29
          ],
          [
           12,
           35
          ],
          [
           3,
           43
          ],
          [
           22,
           50
          ],
          [
           2,
           30
          ],
          [
           2,
           18
          ],
          [
           40,
           83
          ],
          [
           11,
           50
          ],
          [
           45,
           135
          ],
          [
           15,
           61
          ],
          [
           33,
           70
          ],
          [
           0,
           0
          ],
          [
           12,
           35
          ],
          [
           3,
           24
          ],
          [
           5,
           25
          ],
          [
           1,
           4
          ],
          [
           15,
           100
          ],
          [
           100,
           100
          ],
          [
           4,
           12
          ],
          [
           8,
           11
          ],
          [
           0,
           6
          ],
          [
           1,
           2
          ],
          [
           5,
           11
          ],
          [
           17,
           47
          ],
          [
           22,
           11
          ],
          [
           15,
           30
          ],
          [
           31,
           110
          ],
          [
           1,
           10
          ],
          [
           13,
           41
          ],
          [
           4,
           24
          ],
          [
           14,
           35
          ],
          [
           14,
           100
          ],
          [
           57,
           100
          ],
          [
           17,
           60
          ],
          [
           2,
           2
          ],
          [
           2,
           8
          ],
          [
           8,
           0
          ],
          [
           56,
           120
          ],
          [
           11,
           40
          ],
          [
           44,
           70
          ],
          [
           7,
           32
          ],
          [
           24,
           49
          ],
          [
           5,
           14
          ],
          [
           7,
           16
          ],
          [
           0,
           0
          ],
          [
           95,
           200
          ],
          [
           42,
           175
          ],
          [
           80,
           110
          ],
          [
           0,
           0
          ],
          [
           4,
           26
          ],
          [
           8,
           25
          ],
          [
           4,
           14
          ],
          [
           30,
           40
          ],
          [
           43,
           243
          ],
          [
           62,
           200
          ],
          [
           1,
           4
          ],
          [
           19,
           57
          ],
          [
           5,
           6
          ],
          [
           10,
           77
          ],
          [
           15.253138075313808,
           14
          ],
          [
           5,
           13
          ],
          [
           76,
           132
          ],
          [
           20,
           140
          ],
          [
           0,
           2
          ],
          [
           1,
           8
          ],
          [
           6,
           22
          ],
          [
           50,
           100
          ],
          [
           15.253138075313808,
           12
          ],
          [
           20,
           32
          ],
          [
           17,
           30
          ],
          [
           1,
           2
          ],
          [
           4,
           24
          ],
          [
           47,
           105
          ],
          [
           7,
           65
          ],
          [
           20,
           20
          ],
          [
           17,
           80
          ],
          [
           0,
           0
          ],
          [
           7,
           16
          ],
          [
           36,
           50
          ],
          [
           1,
           3
          ],
          [
           15.253138075313808,
           4
          ],
          [
           0,
           0
          ],
          [
           9,
           36
          ],
          [
           43,
           52
          ],
          [
           8,
           30
          ],
          [
           13,
           23
          ],
          [
           12,
           42
          ],
          [
           1,
           8
          ],
          [
           50,
           114
          ],
          [
           9,
           30
          ],
          [
           1,
           19
          ],
          [
           5,
           8
          ],
          [
           95,
           140
          ],
          [
           3,
           9
          ],
          [
           11,
           48
          ],
          [
           32,
           60
          ],
          [
           8,
           11
          ],
          [
           19,
           45
          ],
          [
           35,
           107
          ],
          [
           2,
           6
          ],
          [
           10,
           5
          ],
          [
           7,
           26
          ],
          [
           15.253138075313808,
           2
          ],
          [
           1,
           7
          ],
          [
           1,
           0
          ],
          [
           2,
           12
          ],
          [
           60,
           130
          ],
          [
           13,
           25
          ],
          [
           2,
           25
          ],
          [
           28,
           82
          ],
          [
           34,
           75
          ],
          [
           8,
           7
          ],
          [
           3,
           9
          ],
          [
           7,
           1
          ],
          [
           6,
           19
          ],
          [
           2,
           28
          ],
          [
           3,
           9
          ],
          [
           8,
           10
          ],
          [
           4,
           8
          ],
          [
           28,
           36
          ],
          [
           1,
           3
          ],
          [
           4,
           6
          ],
          [
           1,
           6
          ],
          [
           0,
           3
          ],
          [
           15,
           33
          ],
          [
           1,
           5
          ],
          [
           13,
           10
          ],
          [
           7,
           14
          ],
          [
           26,
           75
          ],
          [
           3,
           5
          ],
          [
           14,
           30
          ],
          [
           7,
           8
          ],
          [
           2,
           21
          ],
          [
           15,
           80
          ],
          [
           20,
           41
          ],
          [
           6,
           10
          ],
          [
           8,
           37
          ],
          [
           3,
           23
          ],
          [
           0,
           4
          ],
          [
           4,
           7
          ],
          [
           20,
           40
          ],
          [
           6,
           80
          ],
          [
           8,
           18
          ],
          [
           15.253138075313808,
           10
          ],
          [
           3,
           25
          ],
          [
           9,
           20
          ],
          [
           93,
           121
          ],
          [
           27,
           50
          ],
          [
           15.253138075313808,
           23
          ],
          [
           84,
           200
          ],
          [
           4,
           47
          ],
          [
           22,
           35
          ],
          [
           12,
           35
          ],
          [
           18,
           60
          ],
          [
           9,
           18
          ],
          [
           4,
           4
          ],
          [
           6,
           40
          ],
          [
           10,
           45
          ],
          [
           1,
           2
          ],
          [
           12,
           40
          ],
          [
           3,
           27
          ],
          [
           2,
           5
          ],
          [
           7,
           68
          ],
          [
           3,
           2
          ],
          [
           15.253138075313808,
           2
          ],
          [
           14,
           19
          ],
          [
           34,
           60
          ],
          [
           15,
           30
          ],
          [
           30,
           70
          ],
          [
           8,
           10
          ],
          [
           9,
           30
          ],
          [
           50,
           200
          ],
          [
           38,
           60
          ],
          [
           81,
           145
          ],
          [
           8,
           16
          ],
          [
           17,
           22
          ],
          [
           2,
           2
          ],
          [
           9,
           30
          ],
          [
           0,
           7
          ],
          [
           7,
           1
          ],
          [
           0,
           26
          ],
          [
           5,
           34
          ],
          [
           2,
           21
          ],
          [
           3,
           31
          ],
          [
           2,
           2
          ],
          [
           3,
           11
          ],
          [
           13,
           15
          ],
          [
           6,
           8
          ],
          [
           3,
           1
          ],
          [
           9,
           50
          ],
          [
           0,
           5
          ],
          [
           4,
           3
          ],
          [
           13,
           47
          ],
          [
           3,
           10
          ],
          [
           11,
           29
          ],
          [
           11,
           45
          ],
          [
           4,
           15
          ],
          [
           5,
           11
          ],
          [
           5,
           5
          ],
          [
           30,
           16
          ],
          [
           28,
           24
          ],
          [
           2,
           5
          ],
          [
           3,
           1
          ],
          [
           5,
           29
          ],
          [
           5,
           12
          ],
          [
           7,
           5
          ],
          [
           3,
           20
          ],
          [
           55,
           120
          ],
          [
           148,
           132
          ],
          [
           2,
           0
          ],
          [
           62,
           39
          ],
          [
           21,
           60
          ],
          [
           5,
           6
          ],
          [
           17,
           72
          ],
          [
           3,
           0
          ],
          [
           3,
           3
          ],
          [
           2,
           6
          ],
          [
           2,
           6
          ],
          [
           2,
           7
          ],
          [
           19,
           25
          ],
          [
           4,
           2
          ],
          [
           6,
           56
          ],
          [
           15.253138075313808,
           20
          ],
          [
           11,
           15
          ],
          [
           26,
           56
          ],
          [
           15,
           36
          ],
          [
           12,
           25
          ],
          [
           0,
           6
          ],
          [
           11,
           35
          ],
          [
           20,
           31
          ],
          [
           72,
           300
          ],
          [
           2,
           0
          ],
          [
           1,
           18
          ],
          [
           1,
           15
          ],
          [
           70,
           120
          ],
          [
           14,
           60
          ],
          [
           0,
           13
          ],
          [
           61,
           165
          ],
          [
           52,
           100
          ],
          [
           2,
           14
          ],
          [
           0,
           2
          ],
          [
           18,
           90
          ],
          [
           8,
           3
          ],
          [
           1,
           18
          ],
          [
           1,
           0
          ],
          [
           72,
           200
          ],
          [
           7,
           20
          ],
          [
           7,
           22
          ],
          [
           28,
           37
          ],
          [
           4,
           0
          ],
          [
           3,
           11
          ],
          [
           2,
           7
          ],
          [
           1,
           1
          ],
          [
           27,
           56
          ],
          [
           15,
           40
          ]
         ],
         "geo": "geo",
         "hovertemplate": "<b>%{hovertext}</b><br><br>Injured Max=%{customdata[1]}<br>Latitude=%{lat}<br>Longitude=%{lon}<br>Killed Max=%{marker.color}<extra></extra>",
         "hovertext": [
          "Egyptian Embassy",
          "office of Nawa-e-Waqt",
          "Pakistan Navy bus Parked outside Five Star Sheraton Hotel ",
          "US Consulate Civil Lines Area ",
          "Imambargah MeCongy Road Quetta",
          "Jhanda Chichi area rawalpindi ",
          "Yadgar-i-Hussaini in Satellite Town",
          "Karachi Shia mosque Sindh Madrassatul Islam",
          "Imambargah off M.A Jinnah road near Numaish intersection",
          "checkpost in north waziristan-close to Afghanistan border",
          "Near military facility/official Residence of General Officer Commanding",
          " Mr Aziz election rally in jaffar village in fateh jang",
          "zainabia mosque-just a Km away from city police station on Raja road",
          "Jamia Masjid Kashmirian in Mochi Gate",
          "Gandava Town Shrine",
          "Shrine of Bari Imam",
          "Courtyard of an Imambargah(Madinatul Ilm ) in Gulshan e Iqbal ",
          "Infront of USA consulate near marriott hotel",
          "Nishter Park ",
          "Bakkahel Area of FR Bannu",
          "Aisha Checkpoint-10km East of \nMiranshah",
          "Zehri Street-Main Market\nHub",
          "Dargai Military Base-100km north of Peshawar",
          "Fayaz Khalil Shaheed\nChowk",
          "Speen Tangi-kohat bannu road",
          "Miltary convoy near Mir ali north\nWazirstan ",
          "Islamabad Marriott Hotal ",
          "near Mosque in QissaKhawani Bazaar",
          "Checkpost Dera Ismial Khan ",
          "Military Convoy Barakhel area-tank",
          "Islamabad Airport ",
          "Quetta District court senior civil\n judge District Court",
          "Army training area guliana \nnear Kharian Contonment",
          "Federal Interior Minister Speech \nrallyy hometown Charsadda",
          "Peshawar Hotel ",
          "Boltonabad aera",
          "Miltary convoy in bannu Gurbaz area",
          "Security Force convoy in mingora",
          "Political Agent Office in Miranshah",
          "Razmak towns Daznaray area-20kms to the north of Miramshah",
          "police recruitment center",
          "Matta",
          "outside the venue of distric bar convention council Islamabad ",
          "Security check post Miramshah \nNorth Wazirstan ",
          "Industrial town hub baluchistan ",
          "Training Center in Hangu",
          "Kohat Mosque ",
          "Security check post Miramshah \nNorth Wazirstan ",
          "near Hotel in Abpara market",
          "District Swat gora village matta",
          "Parachinar",
          " Military Convoys in Tank district",
          "North Wazirstan Mirali Military\n checkpost ",
          "Bannu Police Check post ",
          "Checkpost on thall-parachinar road/kurram road\n mandori village ",
          "miranshah Military convoys ",
          "Machaar area of Shangla District ",
          "Truck carrying security personeel was attacked in Mamond area",
          "Passanger van at Bannu adda/chungi",
          "army officers mess in Tarbela ghazi",
          "military convoy going from Tank",
          "checkpost near Dawa bridge/Durani Abshar Chowk",
          "Benazir Survives midnight \ncarnage Karsaz bridge Sharea Faisal",
          "Mingora Police Line ",
          "Rawalpindi police checkpoint \nsecurity zone",
          "PAF Bus on faisalabad road-Sargodha ",
          "Peshawar  Federal minister \npolitical amir muqam house",
          "Bus carrying ISI officals parked outside Hamza Camp faizabad ",
          "GHQ",
          "Checkpost high-security cantonment area babar road",
          "Ningolai Security checkpost",
          "Truck carrying school children near Fauji gate Pakistan Aeranautical Complex",
          "military Checkpost ",
          "Noshera security check post",
          "kohat cantt-fountain round about-near army public school",
          "Charsadda Jamiya Masjid ",
          "military convoy hit in mingora",
          "Rawalpindi Liaquat Bagh Park",
          "infront of frontier house kabal",
          "Lahore High court ",
          "Mirza Qasim baig Imambargah Jangi Mohallah-kohati",
          "Kajhori checkpost north waziristan",
          "Infront of NLC office near GHQ Rwp",
          "Quetta Khilji Conlony",
          "Nakai in charsadda",
          "Aidak village in mirali-near miranshah",
          "Mingora-army media center on saidu sharif road",
          "PPP election office in Eidgah market of Parachinar bazar",
          "Rawalpindi-R.A bazar mall road Sadar-nadira suift center",
          "Swat Mingora DSP Funeral",
          "Khar-jardar area",
          "Dara adamkhel Jirga ",
          "Navy war college mall road lahore",
          "FIA building Temple road near The Mall-near regal chowk",
          "Bungalow no 83/F Model Town-an advertising agency office",
          "Mingora police Lines ",
          "Army Camp at Zari noor-Wana",
          "Takia-Bar Qambarkhel Mosque",
          "Bannu police  check post",
          "Mingora police Station ",
          "Military run bakery near a punjab regiment center in Mardan cantt",
          "Islamabad Danish Embassy",
          "Melody market near lal masjid",
          "Shiite gathering -Near kotli imam Hussain",
          "neaar Iqbal Town police Station Lahore at dubai CHOWK SIGNAL",
          "Distric headquarter hospital",
          "Wah Cant Pakistn Ordinance Factories ",
          "Charbagh checkpost",
          "army base camp/emergency center near Kohat tunnel",
          "Zangali Checkpost on kohat road",
          "Kabal check post ",
          "military convoy on Miranshah road near Norak",
          "Islamabad Marriott Hotal ",
          "military security checkpost in Madian Town swat",
          "Quetta cantt military Check post ",
          "wali bagh charsadda",
          "Bhakkar Rasheed Noranni MNA house",
          "Islamabad Police line-anti terrorist squad building",
          "near michni post in landi kotal",
          "anti-taliban Jirga-Khadezai area in upper Orakzai Agency",
          "Mingora police Station ",
          "Mohmad Agency-naqi Checkpost ",
          "Militay checkpost cantoment area bannu",
          "outside the office of Mardan DIG in malakand mardan road",
          "Zalai FC checkpost wana",
          "Doabba-checkpost near surpul on hangu tal road",
          "Swat Police check post ",
          "Salarzai Jirga  in batmali area-Bajaur",
          "Qayyum Stadium ",
          "attack on security forces camp in Subhan Khaur school-shabqadar area near muhamand agency boder",
          "Security checkpost in gashgur area of  Khawazakhela",
          "near Tarezi Chowk on the main Bannu-Kohat road.",
          "sangota checkpost in mingora",
          " Army Convoy passing from shabqadar",
          "bazar of Kalaia area of lower Orakzai angency",
          "in Dagar-an area of Buner ",
          "Buner Poling station-Infront of govt high school Shalbandi",
          "multan road in Deara Ismail Khan",
          "near a check-post in Officers Colony",
          "near Mingora town",
          "Outside Jhar ali Imambargah-in muslim town area ",
          "Peshawar-Torkham Highway near Teddi Bazar in Jamrood ",
          "Police checkpost on Baran Bridge",
          "funeral procession on  Dera Bannu road-near shobra hotel",
          "Bannu miranshah road-House of DSP",
          "Killi Karbala village in Pishin district",
          "sarki gate area in Nimak Mandi area-Peshawar",
          "Rawalpindi cantt-Pirwadhi bus stand",
          "sitara maket-special branch police gate",
          "road side restaurant opposite to military base in Jandola",
          "Mosque in Jamrood Tehsil on peshawar-turkham highway",
          "Mirzail checkpost-Miranshah",
          "Margala Road Check Post\nIslamabad",
          "mirnshah security checkpost",
          "Imambargah in Chakwal ",
          "Harichand Police Post-\nCharsadda",
          "Check Post close to police station in Doaba Area",
          "bara qadeem Check post-on peshawar-bara road-12km west of peshawar cantt",
          "check post in the Outstrikes of Darra Adamkhel-in area of Sabeena police station",
          "FC fort in Jandola",
          "hit police checkpost outside Rescue 15 Office and country's premier intelligence agency",
          "Kohat Road-Sira Khora-\nPolice  Check Post ",
          "checkpost on circular road",
          "Masjid in Hayagai Sharqai village",
          "Rescue 15 building in Islamabad ",
          "Pearl Continental Hotel\nPeshawar",
          "ring road Latifabad-Peshawar ",
          "Jamia Naeemia madrassa-Garhai Shahu area",
          "military run Mosque in Nowshera Cantt-on supply depot morr",
          "Thakot Police check-post in Battagram District.",
          "near non commisioned officers place-Muzaffarabad",
          "Quetta-Khi RCD highway-town of Torkham ",
          "KRL Bas at Chur Chowk\non peshawar road-rwp cantt",
          "nasir bagh road choongi bazar near police colony",
          "Dirdony post on ghulam khan road-Near Miranshah",
          "Check post in Khawazakhela- Char Bagh road near-waliabad village",
          "security forces check point",
          "Esha check post on bannu-miranshah road",
          "kanju area of Kabal tehsil",
          "Momin Town",
          "security post near Torkham border",
          "police training center in Mingora",
          "Doaba police station",
          "checkpost in Thana area-near batkhela",
          "Kacha pakha bazar-in Astarzai union council area",
          "Security Check\nPost in zorkalay area",
          "outside Police Station in mundan area-Bannu",
          "Fakhar e Alam Road-\nSaddar-infront of Askari bank",
          "WFP office in islamabad F-8/3",
          "Khayber Bazar-Peshawar",
          "near police station in Alpuri area of shangla District",
          "Kohat Police Station ",
          "FIA Headquarter-Manawan Police training school-elite training school",
          "crimes investigation agency (CIA) in Swati gate-near peshawar cantt",
          "Islamic International University\nIslamabad ",
          "Kamra chowk-Aeronautical Complex\nSecurity Check Post",
          "Outside National Bank\nRawalpindi Cantt",
          "Checkpost at Babu Sabu Interchange\non Lahore Islamabad Motorway",
          "Cattle Market in Adezai\nVillage in Peshawar",
          "police check post near busy intersection that connects charsadda road and ring road-Faqirabad",
          "ghafoor market in charsadda bazar-tangi road Farooq e Azam Chowk",
          "Military Check point at the entrance of regional HQ ISI",
          "Bakakhel police station on bannu-miranshah road",
          "police check post on Pishtakhara Intersection",
          "check point outside Badbher-police station",
          "Main Gate of the Judicial\nComplex on Khyber Road",
          "District Mangora-Tehsil Kabal\n-Dherai area",
          "Naval Complex",
          "Qasim market-Parade Lane Masjid",
          "At the Gate of Peshawar\nSession Court",
          "Moon Market Lahore Allama Iqbal Town",
          "checkpost near ISI Office building in Qasim Bala area -Multan Cantt",
          "Khosa market near-house of Zulfiqar ali Khosa",
          "Essakhel village-house of Local political leader",
          "mosque on Khursheed police line- civil colony in Timergarah",
          "Main Gate Peshawar Press \nClub",
          "junction of mall road and Arbab Road-near PIA Building",
          "Majlis in Shakrial-near darbad saein boota",
          "CMH Road-Muzaffarabad",
          "Peshawar shah Hasankhel village ground",
          "Military Base in tarar khal town sudhanoti district",
          "at the gate of the headquarters of the militant group Ansar-ul-Islam in the Tirah area",
          "Adezai village in Matni on the outskirts of Peshawar",
          "Dothan village near rawlakot",
          "gomal police station",
          "Bajor agency headquarter (khar town) security check post",
          "Jamrud tehsil Khyber agency",
          "Bannu police Lines 2-",
          "LI center near Darss Mosque in akakhel area of Tirah valley",
          "Balakot police station",
          "Mingora-Nishat Chowk",
          "Karak Police Station",
          "Tal parachinar road in the jurisdiction of dandore area of Hangu",
          "(SIA ) office-model Town area",
          "Lahore Cant R.A Bazar Stop",
          "District court Checkpost",
          "office of Pro-govt tribal leader-Misbahhuddin mehsud",
          "Lagharai area in Bajaur",
          "U.S. consulate peshwar",
          "ANP rally in Timergara ",
          "Quetta civil Hospital ",
          "IDP camp-kacha Pakha area on Hangu Road Kohat",
          "Kohat Police Station",
          "Protest demonstration Qissa Khawani Bazaar",
          "Pir Bala Police Check post ",
          "Sohrab Khan Market town Mingora ",
          "Bilalabad area near Khar town",
          "Model Town and garhi shahu  lahore ",
          "Data Darbar-Lahore",
          "Yakka Ghund Tehsil\nof Mohmand Agency",
          "outside the guest house of a pro-Government tribal elder-Malik Swab Khan-in Kohat District",
          "Dar-ul-uloom muhamdia imambargh",
          "Nowshera near\nProvincial Info Ministr house ",
          "FC chowk near Dean's trade center",
          "Wana-mosque",
          "1)First blast lower mal gate 2)Ghaznavi street urdu bazar 3) Bhati Chowk ",
          "Mizan chowk Quetta",
          "worship place of the Ahmedis in Muslimabad area ",
          "lakki marwat Police Station",
          "Raily Housing Society\nNear Finance Minnister\nHouse Quetta",
          "Shrine of Abdullah shah ghazi in Clifton",
          "jabukhel village",
          "District Shahmanoor Police Lines Swabi",
          "Dara Adam Khel Corwded Mosque ",
          "Crime Investigation Department",
          "Rawalacot Security force vehicle",
          "Shakai village ",
          "near furniture market-Banu",
          "Mohmad Agency-Ghalani area-Political \nAgent office ",
          "railway level crossing sryab pattak",
          "Kohat Bus stand",
          "Pass Killay area-under construction Private Hospital",
          "Entrance to imambargah",
          "Mall road peshawar",
          "WFP office Khar",
          "Procession from Neelam Valley",
          "Bannu Police Station",
          "Urdu Bazar intersection on circular road",
          "Sarameena area of Khar tehsil in the Bajaur Agency",
          "Kohat road Garhi Kamruddin over head bridge",
          "Punjab Regiment Center",
          "Dabo Dheri checkpost in Prang Ghar ",
          "police station in bannu",
          "near MDA flats along national highway-in Shah Latif Town",
          "spin khawri chowk",
          "Adezai Village-sheikh Neka graveyard",
          "Rescue 15 Building adjecent to police station in Thall",
          "Peshawar- Islamabad Motorway-Swabi Interchange",
          "Near DCO office-Nowshehra road",
          "near a mosque in Dara adam khel bazar-khalid market",
          "sakhi arwar shrine-40 km away from D.G Khan",
          "Bargain Car market in Munda area of Lower Dir District",
          "Gulistan road-also known as police lines",
          "Salarzai area-65 km northeast of khar",
          "FC headquarters in Shabqadar-30km from peshawar",
          "MCB bank-Main bazar of Taunsa Sharif",
          "CID station",
          "checkpoint close to Hangu police station and hangu DPO office",
          "Bajaur Agency's salarzai village-near Afghan border",
          "Army run Bakery on Mall road-Nowshehra cantt",
          "Khyber super market-peshawar cantt",
          "silk bank in I-8 markaz",
          "Kolache Town",
          "Bazar in Central Battagram",
          "South waziristan",
          "Security Checkpost in chak Malai Area",
          "Danish Kol Bazaar Pandyali",
          "Check post near lahori gate",
          "Jamia Masjid Madina in Ghundi Area of Jamrud",
          "near the Eidgah in Marriabad Major Muhammad Ali Shaheed Road.",
          "near a police station in Darra Pezu Town",
          "FC DIG's residence at Anscumb road ",
          "Jandola Town in Lower Dir-100 km from swat valley",
          "Street 32-off Saba Avenue-DHA Phase VIII-house of CID SSP",
          "Malikabad area of Swabi",
          "Sea view-clifton-at lover's point adjacent to village hotel",
          "Tochi Scouts headquarters in Bannu",
          "trade center on arbab road in university town",
          "landikotal town",
          "District police officer's office",
          "Pakha Ghullam area",
          "Parachinar Outside Shia Mousque",
          "Dir Town in Northwestren Districk of Upperdir near Afghan Boarder",
          "C-Division Police Station (Kotwali police Stataion)",
          "Shabqadar town 35KM northeast of Peshawar",
          "Police patrol in main market area of D.I Khan KPK",
          "Badaber Area 15Km from Peshawer",
          "Pishtakhara Square-Close to Bara-Khayber Aagency",
          "Akkakhel area of Bara in Khyber Agency",
          "Garision Area of Malir",
          "security checkpoint in the middle of Khar Bazaar ",
          "Bazidkhel Village-Badhaber Area",
          "Hazar Ganji Area",
          "Old City Police Station",
          "Abdara Road",
          "Kashmir Chowk-Parachinar",
          "Darra Bazar-Near Headquarters of Pro-Ggovernment Peac Body",
          "Near District Headquarters Hospital in Daggar Area",
          "Near Khan Razzaq Police Station-Qissa Khawani Bazaar",
          "Sachal Rangers' Headquarters-North Nazimabad Block B Area",
          "Ghaiba Khwar Area of Haleemzai Tehsil",
          "Orangi Town Sec-5E-Near Haider-e-Qarrar Imambargah",
          "Imambargah Qasar-e-Shabbir in Dhok Syedan-Misrial Road",
          "Commissionary Bazaar-Choglia Area",
          "Rustam Bazaar",
          "Haved Police Station Bannu",
          "Zaree Noor Camp-Angoor Adda Rd",
          "Dhaki Nalbandi Area-Qissa Khwani Bazar",
          "Two suicide bombers blew themselves up at a crowded snooker club on Alamdar Road",
          "Masjid Faizullah and Masjid Purdil near Marketplace",
          "Security checkpost located in Tal area of Hangu ",
          "Kirani Road near Hazara Town",
          "Judicial Complex loacated on Khyber Road",
          "Security Checkpost near Miramshah",
          "Near security check post Saddar Cantt area of Peshawar",
          "The bomb blast took place in Yakatoot in Kotwali Abid Khan",
          "Near Dirdhoni Check Post",
          "Outside Headquarter Hospital",
          "Paramilitary check post near the Shiite neighbourhood",
          "Jehangir Abad neighbourhood on Arbab Road",
          "Southern Shikarpur district of Sindh province-some 400 kilometres (250 miles) northeast of Karachi",
          "Near Market in the town of Doaba",
          "Domail Police station Bannu",
          "Manghopir",
          "Residence IG Police province of Balochistan",
          "Outside Jamia Uloom al-Islamia Peshawar",
          "Razmak town 20kms to the north of Miramshah",
          "Parking of Sardar Bahadur Khan University-Quetta",
          "Zaragaranoo Kallay-Ittehad Colony Mardan",
          "Gulshan Colony",
          "Hazara Town",
          "Doaba Bazaar",
          "Sukkur Barrage Colony",
          "Parachinar Bazaar",
          "Police Headquarters Quetta",
          " All Saints Church near Qissa Khawani bazaar in  Peshawar",
          "southwestern border crossin between Afghanistan and Pakistan",
          "Spin Tall region of Hangu",
          "Wana-main town of South waziristan",
          "Tehsil Kulachi-50km away from D.I Khan",
          "Near River Kurram bridge",
          "Mir Ali town of Miramshah",
          "Torkhan customs office in Landikotal",
          "Kharoji checkpoint-about three kilometres east of Miranshah",
          "Pakhtoon Chowk close to Old Sabzi Mandi-Karachi",
          "Qambrani Road in Akhtarabad-on the outskirts of Quetta",
          "Shia-dominated Ibrahimzai area of Hangu district",
          "Near Essa Nagri at the Lyari Expressway",
          "R.A Bazaar",
          "Kohat road",
          "North Nazimabad Rangers headquarters",
          "Kocha Risaldar area of Peshawar",
          null,
          "Essa Khel Garhi area of Peshawar",
          "Razzaqabad police training college in Karachi's Shah Latif Town",
          "Iranian consulate in University Town",
          "District court in Islamabad sector F-8",
          "Sarband Area on the outskirts of city",
          "Near old vegetable market",
          "Inside a mosque in Shahi Bagh area near Tirah IDPs registration center",
          "At a railway crossing at the junction of Fateh Jang and Rawalpindi",
          "Hotel in Taftan near the Pakistan-Iran border",
          "Jinnah Airport-Airport Road Karachi",
          "Residence of an anti-Taliban peace militia in Matan Adezai area of Peshawar ",
          "Near a military checkpost in Spinwam village in Shawal valley",
          null,
          "Near a girls high school in Hazara Town",
          "Pir Mela Area of Tirah Valley in Khyber Agency",
          null,
          "Pak-India Border Crossing on Grand Trunk Road",
          "Army Public School",
          "Ismailzai",
          "Imambargah",
          "Imambargah",
          "Qasre-sina Imambargah-kurri road",
          "Outside Church",
          "Roadside Qalandria Chowk North Nazimabad",
          " outside a high-school football ground in Alizai area of Lower Kurram Agency",
          "Kalma Chowk near  Qaddafi Stadium",
          "near Ghausia Market Sargodha",
          "Peshawars Hayatabad area ",
          "Political office in Attocks Shadi Khan area",
          " house in the town of Pir Mahal",
          " a local government office in Jamrud Bazaar area   Khyber Agency",
          "At PoliticalParty MP's office on College road Taunsa DGK.",
          "Shiite mosque in southwest Pakistan's Sibi district ",
          "NADRA office Nisatta Road  Mardan",
          " Polio centre in Satellite town Quetta",
          " check post in Karkhano Market- adjacent to Jamrud in Khyber Agency",
          "Suicide Bomber Attacks Army Facility ",
          "Attack on vehicle of Frontier Corps  near Liaquat Park Quetta ",
          "Attack outside of session court in Shab-Qadar Charsadda ",
          "Attack in children's play area of Park in Lahore",
          "Hujra of Said Jamal in the Kharko Sarhgi area in the Zakhakhel tehsil of Khyber Agency",
          "Mardan Excise and Taxation Department located in Cantonment Area on Mall Road in Mardan District",
          "Mardan City Police Station",
          "Civil Hospital, Quetta",
          "Mardan District Court",
          "Imambargah",
          "police training center",
          "Dargah Shah Noorani Shrine",
          "FC Check Post",
          "Police Station Mandan, Bannu",
          "Mall road, Lahore",
          "main gate of Mohmand Agency headquarters, Ghallanai",
          "Hayatabad Medical Complex",
          "Office of political agent",
          "Lal Shahbaz Qalandar shrine",
          "Court",
          "Bedian Road",
          "Town of Mastung",
          "Kamal khel area near lachi kohat",
          "Boghra Road",
          "near the Afghan border",
          "southwestern Chaman province",
          "near Arfa Karim IT Tower Ferozepur Road",
          "Pishin bus stop",
          "Sariab Mill area",
          "Quetta's Chaman Housing Scheme on airport road",
          "Near Zarghuni Masjid, Phase-2 Hayatabad",
          "Sariab Road, near Bus terminal",
          "Egyptian Embassy",
          "office of Nawa-e-Waqt",
          "Pakistan Navy bus Parked outside Five Star Sheraton Hotel ",
          "US Consulate Civil Lines Area ",
          "Imambargah MeCongy Road Quetta",
          "Jhanda Chichi area rawalpindi ",
          "Yadgar-i-Hussaini in Satellite Town",
          "Karachi Shia mosque Sindh Madrassatul Islam",
          "Imambargah off M.A Jinnah road near Numaish intersection",
          "checkpost in north waziristan-close to Afghanistan border",
          "Near military facility/official Residence of General Officer Commanding",
          " Mr Aziz election rally in jaffar village in fateh jang",
          "zainabia mosque-just a Km away from city police station on Raja road",
          "Jamia Masjid Kashmirian in Mochi Gate",
          "Gandava Town Shrine",
          "Shrine of Bari Imam",
          "Courtyard of an Imambargah(Madinatul Ilm ) in Gulshan e Iqbal ",
          "Infront of USA consulate near marriott hotel",
          "Nishter Park ",
          "Bakkahel Area of FR Bannu",
          "Aisha Checkpoint-10km East of \nMiranshah",
          "Zehri Street-Main Market\nHub",
          "Dargai Military Base-100km north of Peshawar",
          "Fayaz Khalil Shaheed\nChowk",
          "Speen Tangi-kohat bannu road",
          "Miltary convoy near Mir ali north\nWazirstan ",
          "Islamabad Marriott Hotal ",
          "near Mosque in QissaKhawani Bazaar",
          "Checkpost Dera Ismial Khan ",
          "Military Convoy Barakhel area-tank",
          "Islamabad Airport ",
          "Quetta District court senior civil\n judge District Court",
          "Army training area guliana \nnear Kharian Contonment",
          "Federal Interior Minister Speech \nrallyy hometown Charsadda",
          "Peshawar Hotel ",
          "Boltonabad aera",
          "Miltary convoy in bannu Gurbaz area",
          "Security Force convoy in mingora",
          "Political Agent Office in Miranshah",
          "Razmak towns Daznaray area-20kms to the north of Miramshah",
          "police recruitment center",
          "Matta",
          "outside the venue of distric bar convention council Islamabad ",
          "Security check post Miramshah \nNorth Wazirstan ",
          "Industrial town hub baluchistan ",
          "Training Center in Hangu",
          "Kohat Mosque ",
          "Security check post Miramshah \nNorth Wazirstan ",
          "near Hotel in Abpara market",
          "District Swat gora village matta",
          "Parachinar",
          " Military Convoys in Tank district",
          "North Wazirstan Mirali Military\n checkpost ",
          "Bannu Police Check post ",
          "Checkpost on thall-parachinar road/kurram road\n mandori village ",
          "miranshah Military convoys ",
          "Machaar area of Shangla District ",
          "Truck carrying security personeel was attacked in Mamond area",
          "Passanger van at Bannu adda/chungi",
          "army officers mess in Tarbela ghazi",
          "military convoy going from Tank",
          "checkpost near Dawa bridge/Durani Abshar Chowk",
          "Benazir Survives midnight \ncarnage Karsaz bridge Sharea Faisal",
          "Mingora Police Line ",
          "Rawalpindi police checkpoint \nsecurity zone",
          "PAF Bus on faisalabad road-Sargodha ",
          "Peshawar  Federal minister \npolitical amir muqam house",
          "Bus carrying ISI officals parked outside Hamza Camp faizabad ",
          "GHQ",
          "Checkpost high-security cantonment area babar road",
          "Ningolai Security checkpost",
          "Truck carrying school children near Fauji gate Pakistan Aeranautical Complex",
          "military Checkpost ",
          "Noshera security check post",
          "kohat cantt-fountain round about-near army public school",
          "Charsadda Jamiya Masjid ",
          "military convoy hit in mingora",
          "Rawalpindi Liaquat Bagh Park",
          "infront of frontier house kabal",
          "Lahore High court ",
          "Mirza Qasim baig Imambargah Jangi Mohallah-kohati",
          "Kajhori checkpost north waziristan",
          "Infront of NLC office near GHQ Rwp",
          "Quetta Khilji Conlony",
          "Nakai in charsadda",
          "Aidak village in mirali-near miranshah",
          "Mingora-army media center on saidu sharif road",
          "PPP election office in Eidgah market of Parachinar bazar",
          "Rawalpindi-R.A bazar mall road Sadar-nadira suift center",
          "Swat Mingora DSP Funeral",
          "Khar-jardar area",
          "Dara adamkhel Jirga ",
          "Navy war college mall road lahore",
          "FIA building Temple road near The Mall-near regal chowk",
          "Bungalow no 83/F Model Town-an advertising agency office",
          "Mingora police Lines ",
          "Army Camp at Zari noor-Wana",
          "Takia-Bar Qambarkhel Mosque",
          "Bannu police  check post",
          "Mingora police Station ",
          "Military run bakery near a punjab regiment center in Mardan cantt",
          "Islamabad Danish Embassy",
          "Melody market near lal masjid",
          "Shiite gathering -Near kotli imam Hussain",
          "neaar Iqbal Town police Station Lahore at dubai CHOWK SIGNAL",
          "Distric headquarter hospital",
          "Wah Cant Pakistn Ordinance Factories ",
          "Charbagh checkpost",
          "army base camp/emergency center near Kohat tunnel",
          "Zangali Checkpost on kohat road",
          "Kabal check post ",
          "military convoy on Miranshah road near Norak",
          "Islamabad Marriott Hotal ",
          "military security checkpost in Madian Town swat",
          "Quetta cantt military Check post ",
          "wali bagh charsadda",
          "Bhakkar Rasheed Noranni MNA house",
          "Islamabad Police line-anti terrorist squad building",
          "near michni post in landi kotal",
          "anti-taliban Jirga-Khadezai area in upper Orakzai Agency",
          "Mingora police Station ",
          "Mohmad Agency-naqi Checkpost ",
          "Militay checkpost cantoment area bannu",
          "outside the office of Mardan DIG in malakand mardan road",
          "Zalai FC checkpost wana",
          "Doabba-checkpost near surpul on hangu tal road",
          "Swat Police check post ",
          "Salarzai Jirga  in batmali area-Bajaur",
          "Qayyum Stadium ",
          "attack on security forces camp in Subhan Khaur school-shabqadar area near muhamand agency boder",
          "Security checkpost in gashgur area of  Khawazakhela",
          "near Tarezi Chowk on the main Bannu-Kohat road.",
          "sangota checkpost in mingora",
          " Army Convoy passing from shabqadar",
          "bazar of Kalaia area of lower Orakzai angency",
          "in Dagar-an area of Buner ",
          "Buner Poling station-Infront of govt high school Shalbandi",
          "multan road in Deara Ismail Khan",
          "near a check-post in Officers Colony",
          "near Mingora town",
          "Outside Jhar ali Imambargah-in muslim town area ",
          "Peshawar-Torkham Highway near Teddi Bazar in Jamrood ",
          "Police checkpost on Baran Bridge",
          "funeral procession on  Dera Bannu road-near shobra hotel",
          "Bannu miranshah road-House of DSP",
          "Killi Karbala village in Pishin district",
          "sarki gate area in Nimak Mandi area-Peshawar",
          "Rawalpindi cantt-Pirwadhi bus stand",
          "sitara maket-special branch police gate",
          "road side restaurant opposite to military base in Jandola",
          "Mosque in Jamrood Tehsil on peshawar-turkham highway",
          "Mirzail checkpost-Miranshah",
          "Margala Road Check Post\nIslamabad",
          "mirnshah security checkpost",
          "Imambargah in Chakwal ",
          "Harichand Police Post-\nCharsadda",
          "Check Post close to police station in Doaba Area",
          "bara qadeem Check post-on peshawar-bara road-12km west of peshawar cantt",
          "check post in the Outstrikes of Darra Adamkhel-in area of Sabeena police station",
          "FC fort in Jandola",
          "hit police checkpost outside Rescue 15 Office and country's premier intelligence agency",
          "Kohat Road-Sira Khora-\nPolice  Check Post ",
          "checkpost on circular road",
          "Masjid in Hayagai Sharqai village",
          "Rescue 15 building in Islamabad ",
          "Pearl Continental Hotel\nPeshawar",
          "ring road Latifabad-Peshawar ",
          "Jamia Naeemia madrassa-Garhai Shahu area",
          "military run Mosque in Nowshera Cantt-on supply depot morr",
          "Thakot Police check-post in Battagram District.",
          "near non commisioned officers place-Muzaffarabad",
          "Quetta-Khi RCD highway-town of Torkham ",
          "KRL Bas at Chur Chowk\non peshawar road-rwp cantt",
          "nasir bagh road choongi bazar near police colony",
          "Dirdony post on ghulam khan road-Near Miranshah",
          "Check post in Khawazakhela- Char Bagh road near-waliabad village",
          "security forces check point",
          "Esha check post on bannu-miranshah road",
          "kanju area of Kabal tehsil",
          "Momin Town",
          "security post near Torkham border",
          "police training center in Mingora",
          "Doaba police station",
          "checkpost in Thana area-near batkhela",
          "Kacha pakha bazar-in Astarzai union council area",
          "Security Check\nPost in zorkalay area",
          "outside Police Station in mundan area-Bannu",
          "Fakhar e Alam Road-\nSaddar-infront of Askari bank",
          "WFP office in islamabad F-8/3",
          "Khayber Bazar-Peshawar",
          "near police station in Alpuri area of shangla District",
          "Kohat Police Station ",
          "FIA Headquarter-Manawan Police training school-elite training school",
          "crimes investigation agency (CIA) in Swati gate-near peshawar cantt",
          "Islamic International University\nIslamabad ",
          "Kamra chowk-Aeronautical Complex\nSecurity Check Post",
          "Outside National Bank\nRawalpindi Cantt",
          "Checkpost at Babu Sabu Interchange\non Lahore Islamabad Motorway",
          "Cattle Market in Adezai\nVillage in Peshawar",
          "police check post near busy intersection that connects charsadda road and ring road-Faqirabad",
          "ghafoor market in charsadda bazar-tangi road Farooq e Azam Chowk",
          "Military Check point at the entrance of regional HQ ISI",
          "Bakakhel police station on bannu-miranshah road",
          "police check post on Pishtakhara Intersection",
          "check point outside Badbher-police station",
          "Main Gate of the Judicial\nComplex on Khyber Road",
          "District Mangora-Tehsil Kabal\n-Dherai area",
          "Naval Complex",
          "Qasim market-Parade Lane Masjid",
          "At the Gate of Peshawar\nSession Court",
          "Moon Market Lahore Allama Iqbal Town",
          "checkpost near ISI Office building in Qasim Bala area -Multan Cantt",
          "Khosa market near-house of Zulfiqar ali Khosa",
          "Essakhel village-house of Local political leader",
          "mosque on Khursheed police line- civil colony in Timergarah",
          "Main Gate Peshawar Press \nClub",
          "junction of mall road and Arbab Road-near PIA Building",
          "Majlis in Shakrial-near darbad saein boota",
          "CMH Road-Muzaffarabad",
          "Peshawar shah Hasankhel village ground",
          "Military Base in tarar khal town sudhanoti district",
          "at the gate of the headquarters of the militant group Ansar-ul-Islam in the Tirah area",
          "Adezai village in Matni on the outskirts of Peshawar",
          "Dothan village near rawlakot",
          "gomal police station",
          "Bajor agency headquarter (khar town) security check post",
          "Jamrud tehsil Khyber agency",
          "Bannu police Lines 2-",
          "LI center near Darss Mosque in akakhel area of Tirah valley",
          "Balakot police station",
          "Mingora-Nishat Chowk",
          "Karak Police Station",
          "Tal parachinar road in the jurisdiction of dandore area of Hangu",
          "(SIA ) office-model Town area",
          "Lahore Cant R.A Bazar Stop",
          "District court Checkpost",
          "office of Pro-govt tribal leader-Misbahhuddin mehsud",
          "Lagharai area in Bajaur",
          "U.S. consulate peshwar",
          "ANP rally in Timergara ",
          "Quetta civil Hospital ",
          "IDP camp-kacha Pakha area on Hangu Road Kohat",
          "Kohat Police Station",
          "Protest demonstration Qissa Khawani Bazaar",
          "Pir Bala Police Check post ",
          "Sohrab Khan Market town Mingora ",
          "Bilalabad area near Khar town",
          "Model Town and garhi shahu  lahore ",
          "Data Darbar-Lahore",
          "Yakka Ghund Tehsil\nof Mohmand Agency",
          "outside the guest house of a pro-Government tribal elder-Malik Swab Khan-in Kohat District",
          "Dar-ul-uloom muhamdia imambargh",
          "Nowshera near\nProvincial Info Ministr house ",
          "FC chowk near Dean's trade center",
          "Wana-mosque",
          "1)First blast lower mal gate 2)Ghaznavi street urdu bazar 3) Bhati Chowk ",
          "Mizan chowk Quetta",
          "worship place of the Ahmedis in Muslimabad area ",
          "lakki marwat Police Station",
          "Raily Housing Society\nNear Finance Minnister\nHouse Quetta",
          "Shrine of Abdullah shah ghazi in Clifton",
          "jabukhel village",
          "District Shahmanoor Police Lines Swabi",
          "Dara Adam Khel Corwded Mosque ",
          "Crime Investigation Department",
          "Rawalacot Security force vehicle",
          "Shakai village ",
          "near furniture market-Banu",
          "Mohmad Agency-Ghalani area-Political \nAgent office ",
          "railway level crossing sryab pattak",
          "Kohat Bus stand",
          "Pass Killay area-under construction Private Hospital",
          "Entrance to imambargah",
          "Mall road peshawar",
          "WFP office Khar",
          "Procession from Neelam Valley",
          "Bannu Police Station",
          "Urdu Bazar intersection on circular road",
          "Sarameena area of Khar tehsil in the Bajaur Agency",
          "Kohat road Garhi Kamruddin over head bridge",
          "Punjab Regiment Center",
          "Dabo Dheri checkpost in Prang Ghar ",
          "police station in bannu",
          "near MDA flats along national highway-in Shah Latif Town",
          "spin khawri chowk",
          "Adezai Village-sheikh Neka graveyard",
          "Rescue 15 Building adjecent to police station in Thall",
          "Peshawar- Islamabad Motorway-Swabi Interchange",
          "Near DCO office-Nowshehra road",
          "near a mosque in Dara adam khel bazar-khalid market",
          "sakhi arwar shrine-40 km away from D.G Khan",
          "Bargain Car market in Munda area of Lower Dir District",
          "Gulistan road-also known as police lines",
          "Salarzai area-65 km northeast of khar",
          "FC headquarters in Shabqadar-30km from peshawar",
          "MCB bank-Main bazar of Taunsa Sharif",
          "CID station",
          "checkpoint close to Hangu police station and hangu DPO office",
          "Bajaur Agency's salarzai village-near Afghan border",
          "Army run Bakery on Mall road-Nowshehra cantt",
          "Khyber super market-peshawar cantt",
          "silk bank in I-8 markaz",
          "Kolache Town",
          "Bazar in Central Battagram",
          "South waziristan",
          "Security Checkpost in chak Malai Area",
          "Danish Kol Bazaar Pandyali",
          "Check post near lahori gate",
          "Jamia Masjid Madina in Ghundi Area of Jamrud",
          "near the Eidgah in Marriabad Major Muhammad Ali Shaheed Road.",
          "near a police station in Darra Pezu Town",
          "FC DIG's residence at Anscumb road ",
          "Jandola Town in Lower Dir-100 km from swat valley",
          "Street 32-off Saba Avenue-DHA Phase VIII-house of CID SSP",
          "Malikabad area of Swabi",
          "Sea view-clifton-at lover's point adjacent to village hotel",
          "Tochi Scouts headquarters in Bannu",
          "trade center on arbab road in university town",
          "landikotal town",
          "District police officer's office",
          "Pakha Ghullam area",
          "Parachinar Outside Shia Mousque",
          "Dir Town in Northwestren Districk of Upperdir near Afghan Boarder",
          "C-Division Police Station (Kotwali police Stataion)",
          "Shabqadar town 35KM northeast of Peshawar",
          "Police patrol in main market area of D.I Khan KPK",
          "Badaber Area 15Km from Peshawer",
          "Pishtakhara Square-Close to Bara-Khayber Aagency",
          "Akkakhel area of Bara in Khyber Agency",
          "Garision Area of Malir",
          "security checkpoint in the middle of Khar Bazaar ",
          "Bazidkhel Village-Badhaber Area",
          "Hazar Ganji Area",
          "Old City Police Station",
          "Abdara Road",
          "Kashmir Chowk-Parachinar",
          "Darra Bazar-Near Headquarters of Pro-Ggovernment Peac Body",
          "Near District Headquarters Hospital in Daggar Area",
          "Near Khan Razzaq Police Station-Qissa Khawani Bazaar",
          "Sachal Rangers' Headquarters-North Nazimabad Block B Area",
          "Ghaiba Khwar Area of Haleemzai Tehsil",
          "Orangi Town Sec-5E-Near Haider-e-Qarrar Imambargah",
          "Imambargah Qasar-e-Shabbir in Dhok Syedan-Misrial Road",
          "Commissionary Bazaar-Choglia Area",
          "Rustam Bazaar",
          "Haved Police Station Bannu",
          "Zaree Noor Camp-Angoor Adda Rd",
          "Dhaki Nalbandi Area-Qissa Khwani Bazar",
          "Two suicide bombers blew themselves up at a crowded snooker club on Alamdar Road",
          "Masjid Faizullah and Masjid Purdil near Marketplace",
          "Security checkpost located in Tal area of Hangu ",
          "Kirani Road near Hazara Town",
          "Judicial Complex loacated on Khyber Road",
          "Security Checkpost near Miramshah",
          "Near security check post Saddar Cantt area of Peshawar",
          "The bomb blast took place in Yakatoot in Kotwali Abid Khan",
          "Near Dirdhoni Check Post",
          "Outside Headquarter Hospital",
          "Paramilitary check post near the Shiite neighbourhood",
          "Jehangir Abad neighbourhood on Arbab Road",
          "Southern Shikarpur district of Sindh province-some 400 kilometres (250 miles) northeast of Karachi",
          "Near Market in the town of Doaba",
          "Domail Police station Bannu",
          "Manghopir",
          "Residence IG Police province of Balochistan",
          "Outside Jamia Uloom al-Islamia Peshawar",
          "Razmak town 20kms to the north of Miramshah",
          "Parking of Sardar Bahadur Khan University-Quetta",
          "Zaragaranoo Kallay-Ittehad Colony Mardan",
          "Gulshan Colony",
          "Hazara Town",
          "Doaba Bazaar",
          "Sukkur Barrage Colony",
          "Parachinar Bazaar",
          "Police Headquarters Quetta",
          " All Saints Church near Qissa Khawani bazaar in  Peshawar",
          "southwestern border crossin between Afghanistan and Pakistan",
          "Spin Tall region of Hangu",
          "Wana-main town of South waziristan",
          "Tehsil Kulachi-50km away from D.I Khan",
          "Near River Kurram bridge",
          "Mir Ali town of Miramshah",
          "Torkhan customs office in Landikotal",
          "Kharoji checkpoint-about three kilometres east of Miranshah",
          "Pakhtoon Chowk close to Old Sabzi Mandi-Karachi",
          "Qambrani Road in Akhtarabad-on the outskirts of Quetta",
          "Shia-dominated Ibrahimzai area of Hangu district",
          "Near Essa Nagri at the Lyari Expressway",
          "R.A Bazaar",
          "Kohat road",
          "North Nazimabad Rangers headquarters",
          "Kocha Risaldar area of Peshawar",
          null,
          "Essa Khel Garhi area of Peshawar",
          "Razzaqabad police training college in Karachi's Shah Latif Town",
          "Iranian consulate in University Town",
          "District court in Islamabad sector F-8",
          "Sarband Area on the outskirts of city",
          "Near old vegetable market",
          "Inside a mosque in Shahi Bagh area near Tirah IDPs registration center",
          "At a railway crossing at the junction of Fateh Jang and Rawalpindi",
          "Hotel in Taftan near the Pakistan-Iran border",
          "Jinnah Airport-Airport Road Karachi",
          "Residence of an anti-Taliban peace militia in Matan Adezai area of Peshawar ",
          "Near a military checkpost in Spinwam village in Shawal valley",
          null,
          "Near a girls high school in Hazara Town",
          "Pir Mela Area of Tirah Valley in Khyber Agency",
          null,
          "Pak-India Border Crossing on Grand Trunk Road",
          "Army Public School",
          "Ismailzai",
          "Imambargah",
          "Imambargah",
          "Qasre-sina Imambargah-kurri road",
          "Outside Church",
          "Roadside Qalandria Chowk North Nazimabad",
          " outside a high-school football ground in Alizai area of Lower Kurram Agency",
          "Kalma Chowk near  Qaddafi Stadium",
          "near Ghausia Market Sargodha",
          "Peshawars Hayatabad area ",
          "Political office in Attocks Shadi Khan area",
          " house in the town of Pir Mahal",
          " a local government office in Jamrud Bazaar area   Khyber Agency",
          "At PoliticalParty MP's office on College road Taunsa DGK.",
          "Shiite mosque in southwest Pakistan's Sibi district ",
          "NADRA office Nisatta Road  Mardan",
          " Polio centre in Satellite town Quetta",
          " check post in Karkhano Market- adjacent to Jamrud in Khyber Agency",
          "Suicide Bomber Attacks Army Facility ",
          "Attack on vehicle of Frontier Corps  near Liaquat Park Quetta ",
          "Attack outside of session court in Shab-Qadar Charsadda ",
          "Attack in children's play area of Park in Lahore",
          "Hujra of Said Jamal in the Kharko Sarhgi area in the Zakhakhel tehsil of Khyber Agency",
          "Mardan Excise and Taxation Department located in Cantonment Area on Mall Road in Mardan District",
          "Mardan City Police Station",
          "Civil Hospital, Quetta",
          "Mardan District Court",
          "Imambargah",
          "police training center",
          "Dargah Shah Noorani Shrine",
          "FC Check Post",
          "Police Station Mandan, Bannu",
          "Mall road, Lahore",
          "main gate of Mohmand Agency headquarters, Ghallanai",
          "Hayatabad Medical Complex",
          "Office of political agent",
          "Lal Shahbaz Qalandar shrine",
          "Court",
          "Bedian Road",
          "Town of Mastung",
          "Kamal khel area near lachi kohat",
          "Boghra Road",
          "near the Afghan border",
          "southwestern Chaman province",
          "near Arfa Karim IT Tower Ferozepur Road",
          "Pishin bus stop"
         ],
         "lat": [
          33.718,
          24.9918,
          24.9918,
          24.9918,
          30.2095,
          33.6058,
          33.6058,
          24.9918,
          24.9918,
          32.9746,
          33.5833,
          33.7645,
          32.4972,
          31.5451,
          30.2095,
          33.718,
          24.9918,
          24.9918,
          24.9918,
          32.9861,
          32.9746,
          25.8377,
          34.503,
          34.0043,
          32.9861,
          32.9746,
          33.718,
          34.0043,
          31.8238,
          31.8238,
          33.718,
          30.2095,
          32.5737,
          34.1509,
          34.0043,
          32.226,
          32.9746,
          35.2227,
          32.9746,
          32.9746,
          31.8238,
          35.2227,
          33.718,
          32.9746,
          25.8377,
          33.5351,
          33.5833,
          32.9746,
          33.718,
          35.2227,
          32.9746,
          32.226,
          32.9746,
          32.9861,
          33.5351,
          32.9746,
          34.8015,
          34.8718,
          31.8238,
          34.0011,
          32.226,
          32.9861,
          24.9918,
          35.2227,
          33.6058,
          32.0791,
          34.0043,
          33.6058,
          33.6058,
          34.0043,
          35.2227,
          33.7645,
          30.2095,
          34.0322,
          33.5833,
          34.1509,
          35.2227,
          33.6058,
          35.2227,
          31.5451,
          34.0043,
          32.9746,
          33.6058,
          30.2095,
          34.1509,
          32.9746,
          35.2227,
          35.2227,
          33.6058,
          32.935,
          34.8718,
          33.6854,
          31.5451,
          31.5451,
          31.5451,
          35.2227,
          32.3202,
          34.0211,
          32.935,
          35.2227,
          34.1982,
          33.718,
          33.718,
          31.8238,
          31.5451,
          31.8238,
          33.6058,
          35.2227,
          33.5833,
          34.0043,
          35.2227,
          32.9746,
          33.718,
          35.2227,
          30.2095,
          34.0043,
          31.6216,
          33.718,
          34.0211,
          32.9746,
          35.2227,
          32.9746,
          32.9861,
          34.1982,
          32.3202,
          33.5351,
          35.2227,
          34.8718,
          34.0043,
          34.1509,
          35.2227,
          34.3943,
          35.2227,
          34.1509,
          32.9746,
          34.3943,
          34.3943,
          31.8238,
          32.9861,
          35.3833,
          30.05,
          34.0211,
          32.9861,
          31.8238,
          32.9861,
          30.5833,
          34.0043,
          33.6058,
          33.718,
          32.226,
          34.0211,
          32.9746,
          33.718,
          32.9746,
          32.9303,
          34.1509,
          33.5351,
          34.0043,
          33.6854,
          32.226,
          31.5451,
          34.0043,
          31.8238,
          35.1977,
          33.718,
          34.0043,
          34.0043,
          31.5451,
          34.0322,
          35.3833,
          34.3597,
          34.0211,
          33.6058,
          34.0043,
          32.9746,
          35.2227,
          35.2227,
          32.9746,
          35.2227,
          34.0043,
          34.0211,
          35.2227,
          33.5351,
          34.503,
          33.5833,
          33.6854,
          32.9861,
          34.0043,
          33.718,
          34.0043,
          34.8015,
          33.5833,
          31.5451,
          34.0043,
          33.718,
          33.7645,
          33.6058,
          31.5451,
          34.0043,
          34.0043,
          34.1509,
          34.0043,
          32.9861,
          34.0043,
          34.0043,
          34.0043,
          35.2227,
          33.718,
          33.6058,
          34.0043,
          31.5451,
          30.1886,
          30.05,
          32.9861,
          34.8453,
          34.0043,
          34.0043,
          33.718,
          34.3597,
          32.6018,
          33.706,
          34.0211,
          34.0043,
          33.8243,
          32.226,
          34.8718,
          34.0211,
          32.9861,
          34.0211,
          34.3333,
          35.2227,
          33.1193,
          33.5351,
          31.5451,
          31.5451,
          35.2227,
          32.226,
          34.8718,
          34.0043,
          34.8453,
          30.2095,
          33.5833,
          33.5833,
          34.0043,
          34.0043,
          35.2227,
          34.8718,
          31.5451,
          31.5451,
          32.9746,
          33.5833,
          32.0791,
          34.0322,
          34.0043,
          32.3202,
          31.5451,
          30.2095,
          34.1982,
          32.6018,
          30.2095,
          24.9918,
          32.6018,
          34.1335,
          33.6854,
          24.9918,
          33.8243,
          32.3202,
          32.935,
          32.9746,
          30.2095,
          33.5833,
          33.5351,
          33.718,
          34.0043,
          34.8718,
          34.3597,
          32.935,
          31.5451,
          34.8718,
          34.0043,
          34.1982,
          32.9746,
          32.935,
          24.9918,
          33.5351,
          34.0043,
          33.5351,
          34.1335,
          34.1509,
          33.6854,
          30.05,
          34.8453,
          30.2095,
          34.8718,
          34.1509,
          30.05,
          34.0043,
          33.5351,
          34.8718,
          34.0322,
          34.0043,
          33.718,
          31.8238,
          34.0043,
          32.3202,
          32.3202,
          32.9746,
          34.0043,
          34.0211,
          30.2095,
          32.6018,
          30.2095,
          34.8453,
          24.9918,
          34.1335,
          24.9918,
          32.935,
          34.0043,
          34.0211,
          31.8238,
          34.0043,
          32.9746,
          35.1977,
          34.0043,
          34.0043,
          31.8238,
          34.0043,
          34.0043,
          34.0211,
          24.9918,
          34.8718,
          34.0043,
          30.2095,
          32.935,
          34.0043,
          32.9746,
          33.6854,
          34.3943,
          34.0043,
          24.9918,
          32.9746,
          24.9918,
          33.6058,
          31.8238,
          32.3202,
          34.0043,
          32.3202,
          34.0043,
          30.2095,
          33.5351,
          33.5351,
          30.2095,
          34.0043,
          32.9746,
          34.0043,
          34.0043,
          32.9746,
          34.8718,
          30.2095,
          34.0043,
          28,
          33.5351,
          32.935,
          24.9918,
          30.2095,
          34.0043,
          32.9746,
          30.2095,
          34.1982,
          34.0043,
          30.2095,
          33.5351,
          27.6833,
          32.9746,
          30.2095,
          34.0043,
          30.9222,
          33.5351,
          32.3202,
          31.8238,
          32.935,
          32.9746,
          34.0211,
          32.9746,
          24.9918,
          30.2095,
          33.5351,
          24.9918,
          33.6058,
          34.0043,
          24.9918,
          34.0043,
          30.2999,
          34.0043,
          24.9918,
          34.0043,
          33.718,
          34.0043,
          24.9918,
          34.0043,
          33.5689,
          28.28,
          24.9918,
          34.0043,
          32.9746,
          34.0043,
          30.2095,
          33.8679,
          30.2095,
          31.6047,
          34.0043,
          31.35,
          28,
          34.0043,
          33.6,
          31.5451,
          24.9918,
          32.9746,
          31.5451,
          32.0836,
          34.0043,
          33.768734,
          30.193636,
          34.021103,
          30.712665,
          30.182971,
          34.200114,
          30.165686,
          33.999533,
          31.341261,
          30.199805,
          34.149433,
          31.51293,
          34.047839,
          34.207854,
          34.195682,
          30.194225,
          34.195776,
          28.002718,
          30.14283,
          25.776775,
          34.325826,
          32.949814,
          31.555382,
          34.5,
          33.986111,
          34.553808,
          26.419314,
          34.3,
          31.463017,
          29.800833,
          33.38752,
          30.90983,
          34.015,
          34.015,
          31.500875,
          30.203658,
          null,
          30.221057,
          33.970623,
          30.139626,
          33.718,
          24.9918,
          24.9918,
          24.9918,
          30.2095,
          33.6058,
          33.6058,
          24.9918,
          24.9918,
          32.9746,
          33.5833,
          33.7645,
          32.4972,
          31.5451,
          30.2095,
          33.718,
          24.9918,
          24.9918,
          24.9918,
          32.9861,
          32.9746,
          25.8377,
          34.503,
          34.0043,
          32.9861,
          32.9746,
          33.718,
          34.0043,
          31.8238,
          31.8238,
          33.718,
          30.2095,
          32.5737,
          34.1509,
          34.0043,
          32.226,
          32.9746,
          35.2227,
          32.9746,
          32.9746,
          31.8238,
          35.2227,
          33.718,
          32.9746,
          25.8377,
          33.5351,
          33.5833,
          32.9746,
          33.718,
          35.2227,
          32.9746,
          32.226,
          32.9746,
          32.9861,
          33.5351,
          32.9746,
          34.8015,
          34.8718,
          31.8238,
          34.0011,
          32.226,
          32.9861,
          24.9918,
          35.2227,
          33.6058,
          32.0791,
          34.0043,
          33.6058,
          33.6058,
          34.0043,
          35.2227,
          33.7645,
          30.2095,
          34.0322,
          33.5833,
          34.1509,
          35.2227,
          33.6058,
          35.2227,
          31.5451,
          34.0043,
          32.9746,
          33.6058,
          30.2095,
          34.1509,
          32.9746,
          35.2227,
          35.2227,
          33.6058,
          32.935,
          34.8718,
          33.6854,
          31.5451,
          31.5451,
          31.5451,
          35.2227,
          32.3202,
          34.0211,
          32.935,
          35.2227,
          34.1982,
          33.718,
          33.718,
          31.8238,
          31.5451,
          31.8238,
          33.6058,
          35.2227,
          33.5833,
          34.0043,
          35.2227,
          32.9746,
          33.718,
          35.2227,
          30.2095,
          34.0043,
          31.6216,
          33.718,
          34.0211,
          32.9746,
          35.2227,
          32.9746,
          32.9861,
          34.1982,
          32.3202,
          33.5351,
          35.2227,
          34.8718,
          34.0043,
          34.1509,
          35.2227,
          34.3943,
          35.2227,
          34.1509,
          32.9746,
          34.3943,
          34.3943,
          31.8238,
          32.9861,
          35.3833,
          30.05,
          34.0211,
          32.9861,
          31.8238,
          32.9861,
          30.5833,
          34.0043,
          33.6058,
          33.718,
          32.226,
          34.0211,
          32.9746,
          33.718,
          32.9746,
          32.9303,
          34.1509,
          33.5351,
          34.0043,
          33.6854,
          32.226,
          31.5451,
          34.0043,
          31.8238,
          35.1977,
          33.718,
          34.0043,
          34.0043,
          31.5451,
          34.0322,
          35.3833,
          34.3597,
          34.0211,
          33.6058,
          34.0043,
          32.9746,
          35.2227,
          35.2227,
          32.9746,
          35.2227,
          34.0043,
          34.0211,
          35.2227,
          33.5351,
          34.503,
          33.5833,
          33.6854,
          32.9861,
          34.0043,
          33.718,
          34.0043,
          34.8015,
          33.5833,
          31.5451,
          34.0043,
          33.718,
          33.7645,
          33.6058,
          31.5451,
          34.0043,
          34.0043,
          34.1509,
          34.0043,
          32.9861,
          34.0043,
          34.0043,
          34.0043,
          35.2227,
          33.718,
          33.6058,
          34.0043,
          31.5451,
          30.1886,
          30.05,
          32.9861,
          34.8453,
          34.0043,
          34.0043,
          33.718,
          34.3597,
          32.6018,
          33.706,
          34.0211,
          34.0043,
          33.8243,
          32.226,
          34.8718,
          34.0211,
          32.9861,
          34.0211,
          34.3333,
          35.2227,
          33.1193,
          33.5351,
          31.5451,
          31.5451,
          35.2227,
          32.226,
          34.8718,
          34.0043,
          34.8453,
          30.2095,
          33.5833,
          33.5833,
          34.0043,
          34.0043,
          35.2227,
          34.8718,
          31.5451,
          31.5451,
          32.9746,
          33.5833,
          32.0791,
          34.0322,
          34.0043,
          32.3202,
          31.5451,
          30.2095,
          34.1982,
          32.6018,
          30.2095,
          24.9918,
          32.6018,
          34.1335,
          33.6854,
          24.9918,
          33.8243,
          32.3202,
          32.935,
          32.9746,
          30.2095,
          33.5833,
          33.5351,
          33.718,
          34.0043,
          34.8718,
          34.3597,
          32.935,
          31.5451,
          34.8718,
          34.0043,
          34.1982,
          32.9746,
          32.935,
          24.9918,
          33.5351,
          34.0043,
          33.5351,
          34.1335,
          34.1509,
          33.6854,
          30.05,
          34.8453,
          30.2095,
          34.8718,
          34.1509,
          30.05,
          34.0043,
          33.5351,
          34.8718,
          34.0322,
          34.0043,
          33.718,
          31.8238,
          34.0043,
          32.3202,
          32.3202,
          32.9746,
          34.0043,
          34.0211,
          30.2095,
          32.6018,
          30.2095,
          34.8453,
          24.9918,
          34.1335,
          24.9918,
          32.935,
          34.0043,
          34.0211,
          31.8238,
          34.0043,
          32.9746,
          35.1977,
          34.0043,
          34.0043,
          31.8238,
          34.0043,
          34.0043,
          34.0211,
          24.9918,
          34.8718,
          34.0043,
          30.2095,
          32.935,
          34.0043,
          32.9746,
          33.6854,
          34.3943,
          34.0043,
          24.9918,
          32.9746,
          24.9918,
          33.6058,
          31.8238,
          32.3202,
          34.0043,
          32.3202,
          34.0043,
          30.2095,
          33.5351,
          33.5351,
          30.2095,
          34.0043,
          32.9746,
          34.0043,
          34.0043,
          32.9746,
          34.8718,
          30.2095,
          34.0043,
          28,
          33.5351,
          32.935,
          24.9918,
          30.2095,
          34.0043,
          32.9746,
          30.2095,
          34.1982,
          34.0043,
          30.2095,
          33.5351,
          27.6833,
          32.9746,
          30.2095,
          34.0043,
          30.9222,
          33.5351,
          32.3202,
          31.8238,
          32.935,
          32.9746,
          34.0211,
          32.9746,
          24.9918,
          30.2095,
          33.5351,
          24.9918,
          33.6058,
          34.0043,
          24.9918,
          34.0043,
          30.2999,
          34.0043,
          24.9918,
          34.0043,
          33.718,
          34.0043,
          24.9918,
          34.0043,
          33.5689,
          28.28,
          24.9918,
          34.0043,
          32.9746,
          34.0043,
          30.2095,
          33.8679,
          30.2095,
          31.6047,
          34.0043,
          31.35,
          28,
          34.0043,
          33.6,
          31.5451,
          24.9918,
          32.9746,
          31.5451,
          32.0836,
          34.0043,
          33.768734,
          30.193636,
          34.021103,
          30.712665,
          30.182971,
          34.200114,
          30.165686,
          33.999533,
          31.341261,
          30.199805,
          34.149433,
          31.51293,
          34.047839,
          34.207854,
          34.195682,
          30.194225,
          34.195776,
          28.002718,
          30.14283,
          25.776775,
          34.325826,
          32.949814,
          31.555382,
          34.5,
          33.986111,
          34.553808,
          26.419314,
          34.3,
          31.463017,
          29.800833,
          33.38752,
          30.90983,
          34.015,
          34.015,
          31.500875,
          30.203658
         ],
         "legendgroup": "",
         "lon": [
          "73.0718",
          "66.9911",
          "66.9911",
          "66.9911",
          "67.0182",
          "73.0437",
          "73.0437",
          "66.9911",
          "66.9911",
          "70.1456",
          "71.4333",
          "72.3667",
          "74.5361",
          "74.3407",
          "67.0182",
          "73.0718",
          "66.9911",
          "66.9911",
          "66.9911",
          "70.6042",
          "70.1456",
          "66.5224",
          "71.9046",
          "71.5448",
          "70.6042",
          "70.1456",
          "73.0718",
          "71.5448",
          "70.9095",
          "70.9095",
          "73.0718",
          "67.0182",
          "74.0786",
          "71.7359",
          "71.5448",
          "70.3761",
          "70.1456",
          "72.4258",
          "70.1456",
          "70.1456",
          "70.9095",
          "72.4258",
          "73.0718",
          "70.1456",
          "66.5224",
          "71.0713",
          "71.4333",
          "70.1456",
          "73.0718",
          "72.4258",
          "70.1456",
          "70.3761",
          "70.1456",
          "70.6042",
          "71.0713",
          "70.1456",
          "72.757",
          "71.5249",
          "70.9095",
          "72.9372",
          "70.3761",
          "70.6042",
          "66.9911",
          "72.4258",
          "73.0437",
          "72.6718",
          "71.5448",
          "73.0437",
          "73.0437",
          "71.5448",
          "72.4258",
          "72.3667",
          "67.0182",
          "73.0944",
          "71.4333",
          "71.7359",
          "72.4258",
          "73.0437",
          "72.4258",
          "74.3407",
          "71.5448",
          "70.1456",
          "73.0437",
          "67.0182",
          "71.7359",
          "70.1456",
          "72.4258",
          "72.4258",
          "73.0437",
          "70.6688",
          "71.5249",
          "71.5131",
          "74.3407",
          "74.3407",
          "74.3407",
          "72.4258",
          "69.8597",
          "71.2874",
          "70.6688",
          "72.4258",
          "72.0444",
          "73.0718",
          "73.0718",
          "70.9095",
          "74.3407",
          "70.9095",
          "73.0437",
          "72.4258",
          "71.4333",
          "71.5448",
          "72.4258",
          "70.1456",
          "73.0718",
          "72.4258",
          "67.0182",
          "71.5448",
          "71.065",
          "73.0718",
          "71.2874",
          "70.1456",
          "72.4258",
          "70.1456",
          "70.6042",
          "72.0444",
          "69.8597",
          "71.0713",
          "72.4258",
          "71.5249",
          "71.5448",
          "71.7359",
          "72.4258",
          "72.6151",
          "72.4258",
          "71.7359",
          "70.1456",
          "72.6151",
          "72.6151",
          "70.9095",
          "70.6042",
          "72.1833",
          "70.6333",
          "71.2874",
          "70.6042",
          "70.9095",
          "70.6042",
          "67",
          "71.5448",
          "73.0437",
          "73.0718",
          "70.3761",
          "71.2874",
          "70.1456",
          "73.0718",
          "70.1456",
          "72.8556",
          "71.7359",
          "71.0713",
          "71.5448",
          "71.5131",
          "70.3761",
          "74.3407",
          "71.5448",
          "70.9095",
          "71.8749",
          "73.0718",
          "71.5448",
          "71.5448",
          "74.3407",
          "73.0944",
          "72.1833",
          "73.4711",
          "71.2874",
          "73.0437",
          "71.5448",
          "70.1456",
          "72.4258",
          "72.4258",
          "70.1456",
          "72.4258",
          "71.5448",
          "71.2874",
          "72.4258",
          "71.0713",
          "71.9046",
          "71.4333",
          "71.5131",
          "70.6042",
          "71.5448",
          "73.0718",
          "71.5448",
          "72.757",
          "71.4333",
          "74.3407",
          "71.5448",
          "73.0718",
          "72.3667",
          "73.0437",
          "74.3407",
          "71.5448",
          "71.5448",
          "71.7359",
          "71.5448",
          "70.6042",
          "71.5448",
          "71.5448",
          "71.5448",
          "72.4258",
          "73.0718",
          "73.0437",
          "71.5448",
          "74.3407",
          "71.4559",
          "70.6333",
          "70.6042",
          "71.9046",
          "71.5448",
          "71.5448",
          "73.0718",
          "73.4711",
          "70.9148",
          "73.7242",
          "71.2874",
          "71.5448",
          "73.7949",
          "70.3761",
          "71.5249",
          "71.2874",
          "70.6042",
          "71.2874",
          "73.2",
          "72.4258",
          "71.0951",
          "71.0713",
          "74.3407",
          "74.3407",
          "72.4258",
          "70.3761",
          "71.5249",
          "71.5448",
          "71.9046",
          "67.0182",
          "71.4333",
          "71.4333",
          "71.5448",
          "71.5448",
          "72.4258",
          "71.5249",
          "74.3407",
          "74.3407",
          "70.1456",
          "71.4333",
          "72.6718",
          "73.0944",
          "71.5448",
          "69.8597",
          "74.3407",
          "67.0182",
          "72.0444",
          "70.9148",
          "67.0182",
          "66.9911",
          "70.9148",
          "72.4702",
          "71.5131",
          "66.9911",
          "73.7949",
          "69.8597",
          "70.6688",
          "70.1456",
          "67.0182",
          "71.4333",
          "71.0713",
          "73.0718",
          "71.5448",
          "71.5249",
          "73.4711",
          "70.6688",
          "74.3407",
          "71.5249",
          "71.5448",
          "72.0444",
          "70.1456",
          "70.6688",
          "66.9911",
          "71.0713",
          "71.5448",
          "71.0713",
          "72.4702",
          "71.7359",
          "71.5131",
          "70.6333",
          "71.9046",
          "67.0182",
          "71.5249",
          "71.7359",
          "70.6333",
          "71.5448",
          "71.0713",
          "71.5249",
          "73.0944",
          "71.5448",
          "73.0718",
          "70.9095",
          "71.5448",
          "69.8597",
          "69.8597",
          "70.1456",
          "71.5448",
          "71.2874",
          "67.0182",
          "70.9148",
          "67.0182",
          "71.9046",
          "66.9911",
          "72.4702",
          "66.9911",
          "70.6688",
          "71.5448",
          "71.2874",
          "70.9095",
          "71.5448",
          "70.1456",
          "71.8749",
          "71.5448",
          "71.5448",
          "70.9095",
          "71.5448",
          "71.5448",
          "71.2874",
          "66.9911",
          "71.5249",
          "71.5448",
          "67.0182",
          "70.6688",
          "71.5448",
          "70.1456",
          "71.5131",
          "72.6151",
          "71.5448",
          "66.9911",
          "70.1456",
          "66.9911",
          "73.0437",
          "70.9095",
          "69.8597",
          "71.5448",
          "69.8597",
          "71.5448",
          "67.0182",
          "71.0713",
          "71.0713",
          "67.0182",
          "71.5448",
          "70.1456",
          "71.5448",
          "71.5448",
          "70.1456",
          "71.5249",
          "67.0182",
          "71.5448",
          "68.6667",
          "71.0713",
          "70.6688",
          "66.9911",
          "67.0182",
          "71.5448",
          "70.1456",
          "67.0182",
          "72.0444",
          "71.5448",
          "67.0182",
          "71.0713",
          "68.8667",
          "70.1456",
          "67.0182",
          "71.5448",
          "66.4447",
          "71.0713",
          "69.8597",
          "70.9095",
          "70.6688",
          "70.1456",
          "71.2874",
          "70.1456",
          "66.9911",
          "67.0182",
          "71.0713",
          "66.9911",
          "73.0437",
          "71.5448",
          "66.9911",
          "71.5448",
          "71.9308",
          "71.5448",
          "66.9911",
          "71.5448",
          "73.0718",
          "71.5448",
          "66.9911",
          "71.5448",
          "72.6378",
          "62.35",
          "66.9911",
          "71.5448",
          "70.1456",
          "71.5448",
          "67.0182",
          "70.51364",
          "67.0182",
          "74.5729",
          "71.5448",
          "69.45",
          "68.6667",
          "71.5448",
          "73.0333",
          "74.3407",
          "66.9911",
          "70.1456",
          "74.3407",
          "72.6711",
          "71.5448",
          "72.362147",
          "71.449009",
          "71.287421",
          "70.658161",
          "66.998734",
          "72.050801",
          "67.00178",
          "71.42502",
          "69.448659",
          "67.010157",
          "71.742781",
          "74.28899",
          "71.28436",
          "72.049453",
          "72.037771",
          "67.008822",
          "72.036565",
          "68.730383",
          "66.98195",
          "67.02239",
          "71.398789",
          "70.60908",
          "74.331873",
          "71.333333",
          " 71.456944",
          "71.434141",
          "67.859373",
          "71.653889",
          "74.435675",
          "66.848056",
          "71.340408",
          "66.452402",
          "71.5805",
          "71.5805",
          "74.33312",
          "67.004469",
          null,
          "67.002524",
          "71.43862",
          "66.981476",
          "73.0718",
          "66.9911",
          "66.9911",
          "66.9911",
          "67.0182",
          "73.0437",
          "73.0437",
          "66.9911",
          "66.9911",
          "70.1456",
          "71.4333",
          "72.3667",
          "74.5361",
          "74.3407",
          "67.0182",
          "73.0718",
          "66.9911",
          "66.9911",
          "66.9911",
          "70.6042",
          "70.1456",
          "66.5224",
          "71.9046",
          "71.5448",
          "70.6042",
          "70.1456",
          "73.0718",
          "71.5448",
          "70.9095",
          "70.9095",
          "73.0718",
          "67.0182",
          "74.0786",
          "71.7359",
          "71.5448",
          "70.3761",
          "70.1456",
          "72.4258",
          "70.1456",
          "70.1456",
          "70.9095",
          "72.4258",
          "73.0718",
          "70.1456",
          "66.5224",
          "71.0713",
          "71.4333",
          "70.1456",
          "73.0718",
          "72.4258",
          "70.1456",
          "70.3761",
          "70.1456",
          "70.6042",
          "71.0713",
          "70.1456",
          "72.757",
          "71.5249",
          "70.9095",
          "72.9372",
          "70.3761",
          "70.6042",
          "66.9911",
          "72.4258",
          "73.0437",
          "72.6718",
          "71.5448",
          "73.0437",
          "73.0437",
          "71.5448",
          "72.4258",
          "72.3667",
          "67.0182",
          "73.0944",
          "71.4333",
          "71.7359",
          "72.4258",
          "73.0437",
          "72.4258",
          "74.3407",
          "71.5448",
          "70.1456",
          "73.0437",
          "67.0182",
          "71.7359",
          "70.1456",
          "72.4258",
          "72.4258",
          "73.0437",
          "70.6688",
          "71.5249",
          "71.5131",
          "74.3407",
          "74.3407",
          "74.3407",
          "72.4258",
          "69.8597",
          "71.2874",
          "70.6688",
          "72.4258",
          "72.0444",
          "73.0718",
          "73.0718",
          "70.9095",
          "74.3407",
          "70.9095",
          "73.0437",
          "72.4258",
          "71.4333",
          "71.5448",
          "72.4258",
          "70.1456",
          "73.0718",
          "72.4258",
          "67.0182",
          "71.5448",
          "71.065",
          "73.0718",
          "71.2874",
          "70.1456",
          "72.4258",
          "70.1456",
          "70.6042",
          "72.0444",
          "69.8597",
          "71.0713",
          "72.4258",
          "71.5249",
          "71.5448",
          "71.7359",
          "72.4258",
          "72.6151",
          "72.4258",
          "71.7359",
          "70.1456",
          "72.6151",
          "72.6151",
          "70.9095",
          "70.6042",
          "72.1833",
          "70.6333",
          "71.2874",
          "70.6042",
          "70.9095",
          "70.6042",
          "67",
          "71.5448",
          "73.0437",
          "73.0718",
          "70.3761",
          "71.2874",
          "70.1456",
          "73.0718",
          "70.1456",
          "72.8556",
          "71.7359",
          "71.0713",
          "71.5448",
          "71.5131",
          "70.3761",
          "74.3407",
          "71.5448",
          "70.9095",
          "71.8749",
          "73.0718",
          "71.5448",
          "71.5448",
          "74.3407",
          "73.0944",
          "72.1833",
          "73.4711",
          "71.2874",
          "73.0437",
          "71.5448",
          "70.1456",
          "72.4258",
          "72.4258",
          "70.1456",
          "72.4258",
          "71.5448",
          "71.2874",
          "72.4258",
          "71.0713",
          "71.9046",
          "71.4333",
          "71.5131",
          "70.6042",
          "71.5448",
          "73.0718",
          "71.5448",
          "72.757",
          "71.4333",
          "74.3407",
          "71.5448",
          "73.0718",
          "72.3667",
          "73.0437",
          "74.3407",
          "71.5448",
          "71.5448",
          "71.7359",
          "71.5448",
          "70.6042",
          "71.5448",
          "71.5448",
          "71.5448",
          "72.4258",
          "73.0718",
          "73.0437",
          "71.5448",
          "74.3407",
          "71.4559",
          "70.6333",
          "70.6042",
          "71.9046",
          "71.5448",
          "71.5448",
          "73.0718",
          "73.4711",
          "70.9148",
          "73.7242",
          "71.2874",
          "71.5448",
          "73.7949",
          "70.3761",
          "71.5249",
          "71.2874",
          "70.6042",
          "71.2874",
          "73.2",
          "72.4258",
          "71.0951",
          "71.0713",
          "74.3407",
          "74.3407",
          "72.4258",
          "70.3761",
          "71.5249",
          "71.5448",
          "71.9046",
          "67.0182",
          "71.4333",
          "71.4333",
          "71.5448",
          "71.5448",
          "72.4258",
          "71.5249",
          "74.3407",
          "74.3407",
          "70.1456",
          "71.4333",
          "72.6718",
          "73.0944",
          "71.5448",
          "69.8597",
          "74.3407",
          "67.0182",
          "72.0444",
          "70.9148",
          "67.0182",
          "66.9911",
          "70.9148",
          "72.4702",
          "71.5131",
          "66.9911",
          "73.7949",
          "69.8597",
          "70.6688",
          "70.1456",
          "67.0182",
          "71.4333",
          "71.0713",
          "73.0718",
          "71.5448",
          "71.5249",
          "73.4711",
          "70.6688",
          "74.3407",
          "71.5249",
          "71.5448",
          "72.0444",
          "70.1456",
          "70.6688",
          "66.9911",
          "71.0713",
          "71.5448",
          "71.0713",
          "72.4702",
          "71.7359",
          "71.5131",
          "70.6333",
          "71.9046",
          "67.0182",
          "71.5249",
          "71.7359",
          "70.6333",
          "71.5448",
          "71.0713",
          "71.5249",
          "73.0944",
          "71.5448",
          "73.0718",
          "70.9095",
          "71.5448",
          "69.8597",
          "69.8597",
          "70.1456",
          "71.5448",
          "71.2874",
          "67.0182",
          "70.9148",
          "67.0182",
          "71.9046",
          "66.9911",
          "72.4702",
          "66.9911",
          "70.6688",
          "71.5448",
          "71.2874",
          "70.9095",
          "71.5448",
          "70.1456",
          "71.8749",
          "71.5448",
          "71.5448",
          "70.9095",
          "71.5448",
          "71.5448",
          "71.2874",
          "66.9911",
          "71.5249",
          "71.5448",
          "67.0182",
          "70.6688",
          "71.5448",
          "70.1456",
          "71.5131",
          "72.6151",
          "71.5448",
          "66.9911",
          "70.1456",
          "66.9911",
          "73.0437",
          "70.9095",
          "69.8597",
          "71.5448",
          "69.8597",
          "71.5448",
          "67.0182",
          "71.0713",
          "71.0713",
          "67.0182",
          "71.5448",
          "70.1456",
          "71.5448",
          "71.5448",
          "70.1456",
          "71.5249",
          "67.0182",
          "71.5448",
          "68.6667",
          "71.0713",
          "70.6688",
          "66.9911",
          "67.0182",
          "71.5448",
          "70.1456",
          "67.0182",
          "72.0444",
          "71.5448",
          "67.0182",
          "71.0713",
          "68.8667",
          "70.1456",
          "67.0182",
          "71.5448",
          "66.4447",
          "71.0713",
          "69.8597",
          "70.9095",
          "70.6688",
          "70.1456",
          "71.2874",
          "70.1456",
          "66.9911",
          "67.0182",
          "71.0713",
          "66.9911",
          "73.0437",
          "71.5448",
          "66.9911",
          "71.5448",
          "71.9308",
          "71.5448",
          "66.9911",
          "71.5448",
          "73.0718",
          "71.5448",
          "66.9911",
          "71.5448",
          "72.6378",
          "62.35",
          "66.9911",
          "71.5448",
          "70.1456",
          "71.5448",
          "67.0182",
          "70.51364",
          "67.0182",
          "74.5729",
          "71.5448",
          "69.45",
          "68.6667",
          "71.5448",
          "73.0333",
          "74.3407",
          "66.9911",
          "70.1456",
          "74.3407",
          "72.6711",
          "71.5448",
          "72.362147",
          "71.449009",
          "71.287421",
          "70.658161",
          "66.998734",
          "72.050801",
          "67.00178",
          "71.42502",
          "69.448659",
          "67.010157",
          "71.742781",
          "74.28899",
          "71.28436",
          "72.049453",
          "72.037771",
          "67.008822",
          "72.036565",
          "68.730383",
          "66.98195",
          "67.02239",
          "71.398789",
          "70.60908",
          "74.331873",
          "71.333333",
          " 71.456944",
          "71.434141",
          "67.859373",
          "71.653889",
          "74.435675",
          "66.848056",
          "71.340408",
          "66.452402",
          "71.5805",
          "71.5805",
          "74.33312",
          "67.004469"
         ],
         "marker": {
          "color": [
           15,
           3,
           15,
           12,
           47,
           18,
           1,
           15,
           18,
           2,
           3,
           7,
           31,
           5,
           50,
           25,
           6,
           5,
           57,
           7,
           7,
           1,
           42,
           1,
           1,
           5,
           2,
           15,
           3,
           2,
           1,
           17,
           2,
           35,
           26,
           3,
           10,
           7,
           4,
           24,
           30,
           20,
           17,
           4,
           30,
           8,
           20,
           4,
           15,
           2,
           23,
           15.253138075313808,
           2,
           1,
           7,
           7,
           4,
           7,
           19,
           20,
           5,
           16,
           145,
           38,
           8,
           10,
           4,
           38,
           1,
           1,
           13,
           0,
           12,
           6,
           12,
           60,
           14,
           30,
           15.253138075313808,
           26,
           12,
           7,
           10,
           1,
           27,
           10,
           3,
           47,
           8,
           45,
           2,
           43,
           8,
           31,
           6,
           3,
           5,
           2,
           7,
           1,
           13,
           8,
           20,
           1,
           9,
           32,
           100,
           15,
           5,
           35,
           10,
           17,
           60,
           13,
           14,
           5,
           26,
           15.253138075313808,
           0,
           85,
           4,
           10,
           15.253138075313808,
           10,
           8,
           7,
           2,
           23,
           4,
           7,
           10,
           9,
           10,
           6,
           10,
           1,
           37,
           10,
           1,
           2,
           32,
           0,
           5,
           36,
           1,
           6,
           5,
           15,
           2,
           15,
           76,
           4,
           8,
           8,
           27,
           18,
           27,
           11,
           11,
           9,
           27,
           5,
           5,
           40,
           2,
           15,
           2,
           7,
           7,
           2,
           2,
           4,
           1,
           1,
           2,
           5,
           1,
           7,
           3,
           3,
           22,
           18,
           15.253138075313808,
           1,
           37,
           2,
           10,
           14,
           5,
           50,
           41,
           12,
           18,
           15,
           6,
           9,
           38,
           15.253138075313808,
           19,
           3,
           34,
           13,
           8,
           12,
           3,
           22,
           2,
           2,
           40,
           11,
           45,
           15,
           33,
           0,
           12,
           3,
           5,
           1,
           15,
           100,
           4,
           8,
           0,
           1,
           5,
           17,
           22,
           15,
           31,
           1,
           13,
           4,
           14,
           14,
           57,
           17,
           2,
           2,
           8,
           56,
           11,
           44,
           7,
           24,
           5,
           7,
           0,
           95,
           42,
           80,
           0,
           4,
           8,
           4,
           30,
           43,
           62,
           1,
           19,
           5,
           10,
           15.253138075313808,
           5,
           76,
           20,
           0,
           1,
           6,
           50,
           15.253138075313808,
           20,
           17,
           1,
           4,
           47,
           7,
           20,
           17,
           0,
           7,
           36,
           1,
           15.253138075313808,
           0,
           9,
           43,
           8,
           13,
           12,
           1,
           50,
           9,
           1,
           5,
           95,
           3,
           11,
           32,
           8,
           19,
           35,
           2,
           10,
           7,
           15.253138075313808,
           1,
           1,
           2,
           60,
           13,
           2,
           28,
           34,
           8,
           3,
           7,
           6,
           2,
           3,
           8,
           4,
           28,
           1,
           4,
           1,
           0,
           15,
           1,
           13,
           7,
           26,
           3,
           14,
           7,
           2,
           15,
           20,
           6,
           8,
           3,
           0,
           4,
           20,
           6,
           8,
           15.253138075313808,
           3,
           9,
           93,
           27,
           15.253138075313808,
           84,
           4,
           22,
           12,
           18,
           9,
           4,
           6,
           10,
           1,
           12,
           3,
           2,
           7,
           3,
           15.253138075313808,
           14,
           34,
           15,
           30,
           8,
           9,
           50,
           38,
           81,
           8,
           17,
           2,
           9,
           0,
           7,
           0,
           5,
           2,
           3,
           2,
           3,
           13,
           6,
           3,
           9,
           0,
           4,
           13,
           3,
           11,
           11,
           4,
           5,
           5,
           30,
           28,
           2,
           3,
           5,
           5,
           7,
           3,
           55,
           148,
           2,
           62,
           21,
           5,
           17,
           3,
           3,
           2,
           2,
           2,
           19,
           4,
           6,
           15.253138075313808,
           11,
           26,
           15,
           12,
           0,
           11,
           20,
           72,
           2,
           1,
           1,
           70,
           14,
           0,
           61,
           52,
           2,
           0,
           18,
           8,
           1,
           1,
           72,
           7,
           7,
           28,
           4,
           3,
           2,
           1,
           27,
           15,
           7,
           2,
           3,
           4,
           15,
           3,
           15,
           12,
           47,
           18,
           1,
           15,
           18,
           2,
           3,
           7,
           31,
           5,
           50,
           25,
           6,
           5,
           57,
           7,
           7,
           1,
           42,
           1,
           1,
           5,
           2,
           15,
           3,
           2,
           1,
           17,
           2,
           35,
           26,
           3,
           10,
           7,
           4,
           24,
           30,
           20,
           17,
           4,
           30,
           8,
           20,
           4,
           15,
           2,
           23,
           15.253138075313808,
           2,
           1,
           7,
           7,
           4,
           7,
           19,
           20,
           5,
           16,
           145,
           38,
           8,
           10,
           4,
           38,
           1,
           1,
           13,
           0,
           12,
           6,
           12,
           60,
           14,
           30,
           15.253138075313808,
           26,
           12,
           7,
           10,
           1,
           27,
           10,
           3,
           47,
           8,
           45,
           2,
           43,
           8,
           31,
           6,
           3,
           5,
           2,
           7,
           1,
           13,
           8,
           20,
           1,
           9,
           32,
           100,
           15,
           5,
           35,
           10,
           17,
           60,
           13,
           14,
           5,
           26,
           15.253138075313808,
           0,
           85,
           4,
           10,
           15.253138075313808,
           10,
           8,
           7,
           2,
           23,
           4,
           7,
           10,
           9,
           10,
           6,
           10,
           1,
           37,
           10,
           1,
           2,
           32,
           0,
           5,
           36,
           1,
           6,
           5,
           15,
           2,
           15,
           76,
           4,
           8,
           8,
           27,
           18,
           27,
           11,
           11,
           9,
           27,
           5,
           5,
           40,
           2,
           15,
           2,
           7,
           7,
           2,
           2,
           4,
           1,
           1,
           2,
           5,
           1,
           7,
           3,
           3,
           22,
           18,
           15.253138075313808,
           1,
           37,
           2,
           10,
           14,
           5,
           50,
           41,
           12,
           18,
           15,
           6,
           9,
           38,
           15.253138075313808,
           19,
           3,
           34,
           13,
           8,
           12,
           3,
           22,
           2,
           2,
           40,
           11,
           45,
           15,
           33,
           0,
           12,
           3,
           5,
           1,
           15,
           100,
           4,
           8,
           0,
           1,
           5,
           17,
           22,
           15,
           31,
           1,
           13,
           4,
           14,
           14,
           57,
           17,
           2,
           2,
           8,
           56,
           11,
           44,
           7,
           24,
           5,
           7,
           0,
           95,
           42,
           80,
           0,
           4,
           8,
           4,
           30,
           43,
           62,
           1,
           19,
           5,
           10,
           15.253138075313808,
           5,
           76,
           20,
           0,
           1,
           6,
           50,
           15.253138075313808,
           20,
           17,
           1,
           4,
           47,
           7,
           20,
           17,
           0,
           7,
           36,
           1,
           15.253138075313808,
           0,
           9,
           43,
           8,
           13,
           12,
           1,
           50,
           9,
           1,
           5,
           95,
           3,
           11,
           32,
           8,
           19,
           35,
           2,
           10,
           7,
           15.253138075313808,
           1,
           1,
           2,
           60,
           13,
           2,
           28,
           34,
           8,
           3,
           7,
           6,
           2,
           3,
           8,
           4,
           28,
           1,
           4,
           1,
           0,
           15,
           1,
           13,
           7,
           26,
           3,
           14,
           7,
           2,
           15,
           20,
           6,
           8,
           3,
           0,
           4,
           20,
           6,
           8,
           15.253138075313808,
           3,
           9,
           93,
           27,
           15.253138075313808,
           84,
           4,
           22,
           12,
           18,
           9,
           4,
           6,
           10,
           1,
           12,
           3,
           2,
           7,
           3,
           15.253138075313808,
           14,
           34,
           15,
           30,
           8,
           9,
           50,
           38,
           81,
           8,
           17,
           2,
           9,
           0,
           7,
           0,
           5,
           2,
           3,
           2,
           3,
           13,
           6,
           3,
           9,
           0,
           4,
           13,
           3,
           11,
           11,
           4,
           5,
           5,
           30,
           28,
           2,
           3,
           5,
           5,
           7,
           3,
           55,
           148,
           2,
           62,
           21,
           5,
           17,
           3,
           3,
           2,
           2,
           2,
           19,
           4,
           6,
           15.253138075313808,
           11,
           26,
           15,
           12,
           0,
           11,
           20,
           72,
           2,
           1,
           1,
           70,
           14,
           0,
           61,
           52,
           2,
           0,
           18,
           8,
           1,
           1,
           72,
           7,
           7,
           28,
           4,
           3,
           2,
           1,
           27,
           15
          ],
          "coloraxis": "coloraxis",
          "size": [
           60,
           3,
           40,
           51,
           65,
           50,
           4,
           200,
           35,
           2,
           3,
           70,
           75,
           10,
           100,
           100,
           30,
           54,
           100,
           8,
           26,
           0,
           39,
           2,
           1,
           25,
           7,
           60,
           7,
           8,
           10,
           35,
           8,
           60,
           35,
           2,
           12,
           8,
           3,
           29,
           61,
           47,
           70,
           3,
           50,
           35,
           58,
           6,
           70,
           6,
           43,
           5,
           2,
           4,
           18,
           37,
           2,
           9,
           19,
           46,
           10,
           32,
           550,
           35,
           31,
           40,
           5,
           35,
           5,
           0,
           2,
           22,
           23,
           20,
           5,
           200,
           23,
           70,
           13,
           80,
           25,
           15,
           47,
           1,
           51,
           13,
           18,
           110,
           30,
           100,
           23,
           60,
           24,
           200,
           12,
           7,
           11,
           30,
           15,
           4,
           25,
           30,
           47,
           4,
           35,
           55,
           200,
           20,
           39,
           90,
           25,
           20,
           300,
           3,
           25,
           18,
           100,
           12,
           0,
           200,
           27,
           5,
           14,
           25,
           8,
           4,
           10,
           45,
           20,
           12,
           8,
           16,
           50,
           10,
           15,
           4,
           16,
           25,
           2,
           25,
           55,
           7,
           18,
           200,
           2,
           12,
           6,
           18,
           8,
           25,
           175,
           9,
           7,
           39,
           60,
           10,
           65,
           48,
           27,
           36,
           370,
           9,
           12,
           70,
           5,
           80,
           15,
           12,
           105,
           7,
           4,
           11,
           40,
           5,
           5,
           4,
           3,
           3,
           8,
           15,
           27,
           14,
           4,
           5,
           60,
           1,
           65,
           120,
           8,
           187,
           50,
           24,
           50,
           24,
           40,
           17,
           65,
           25,
           45,
           7,
           100,
           70,
           29,
           35,
           43,
           50,
           30,
           18,
           83,
           50,
           135,
           61,
           70,
           0,
           35,
           24,
           25,
           4,
           100,
           100,
           12,
           11,
           6,
           2,
           11,
           47,
           11,
           30,
           110,
           10,
           41,
           24,
           35,
           100,
           100,
           60,
           2,
           8,
           0,
           120,
           40,
           70,
           32,
           49,
           14,
           16,
           0,
           200,
           175,
           110,
           0,
           26,
           25,
           14,
           40,
           243,
           200,
           4,
           57,
           6,
           77,
           14,
           13,
           132,
           140,
           2,
           8,
           22,
           100,
           12,
           32,
           30,
           2,
           24,
           105,
           65,
           20,
           80,
           0,
           16,
           50,
           3,
           4,
           0,
           36,
           52,
           30,
           23,
           42,
           8,
           114,
           30,
           19,
           8,
           140,
           9,
           48,
           60,
           11,
           45,
           107,
           6,
           5,
           26,
           2,
           7,
           0,
           12,
           130,
           25,
           25,
           82,
           75,
           7,
           9,
           1,
           19,
           28,
           9,
           10,
           8,
           36,
           3,
           6,
           6,
           3,
           33,
           5,
           10,
           14,
           75,
           5,
           30,
           8,
           21,
           80,
           41,
           10,
           37,
           23,
           4,
           7,
           40,
           80,
           18,
           10,
           25,
           20,
           121,
           50,
           23,
           200,
           47,
           35,
           35,
           60,
           18,
           4,
           40,
           45,
           2,
           40,
           27,
           5,
           68,
           2,
           2,
           19,
           60,
           30,
           70,
           10,
           30,
           200,
           60,
           145,
           16,
           22,
           2,
           30,
           7,
           1,
           26,
           34,
           21,
           31,
           2,
           11,
           15,
           8,
           1,
           50,
           5,
           3,
           47,
           10,
           29,
           45,
           15,
           11,
           5,
           16,
           24,
           5,
           1,
           29,
           12,
           5,
           20,
           120,
           132,
           0,
           39,
           60,
           6,
           72,
           0,
           3,
           6,
           6,
           7,
           25,
           2,
           56,
           20,
           15,
           56,
           36,
           25,
           6,
           35,
           31,
           300,
           0,
           18,
           15,
           120,
           60,
           13,
           165,
           100,
           14,
           2,
           90,
           3,
           18,
           0,
           200,
           20,
           22,
           37,
           0,
           11,
           7,
           1,
           56,
           40,
           22,
           8,
           8,
           22,
           60,
           3,
           40,
           51,
           65,
           50,
           4,
           200,
           35,
           2,
           3,
           70,
           75,
           10,
           100,
           100,
           30,
           54,
           100,
           8,
           26,
           0,
           39,
           2,
           1,
           25,
           7,
           60,
           7,
           8,
           10,
           35,
           8,
           60,
           35,
           2,
           12,
           8,
           3,
           29,
           61,
           47,
           70,
           3,
           50,
           35,
           58,
           6,
           70,
           6,
           43,
           5,
           2,
           4,
           18,
           37,
           2,
           9,
           19,
           46,
           10,
           32,
           550,
           35,
           31,
           40,
           5,
           35,
           5,
           0,
           2,
           22,
           23,
           20,
           5,
           200,
           23,
           70,
           13,
           80,
           25,
           15,
           47,
           1,
           51,
           13,
           18,
           110,
           30,
           100,
           23,
           60,
           24,
           200,
           12,
           7,
           11,
           30,
           15,
           4,
           25,
           30,
           47,
           4,
           35,
           55,
           200,
           20,
           39,
           90,
           25,
           20,
           300,
           3,
           25,
           18,
           100,
           12,
           0,
           200,
           27,
           5,
           14,
           25,
           8,
           4,
           10,
           45,
           20,
           12,
           8,
           16,
           50,
           10,
           15,
           4,
           16,
           25,
           2,
           25,
           55,
           7,
           18,
           200,
           2,
           12,
           6,
           18,
           8,
           25,
           175,
           9,
           7,
           39,
           60,
           10,
           65,
           48,
           27,
           36,
           370,
           9,
           12,
           70,
           5,
           80,
           15,
           12,
           105,
           7,
           4,
           11,
           40,
           5,
           5,
           4,
           3,
           3,
           8,
           15,
           27,
           14,
           4,
           5,
           60,
           1,
           65,
           120,
           8,
           187,
           50,
           24,
           50,
           24,
           40,
           17,
           65,
           25,
           45,
           7,
           100,
           70,
           29,
           35,
           43,
           50,
           30,
           18,
           83,
           50,
           135,
           61,
           70,
           0,
           35,
           24,
           25,
           4,
           100,
           100,
           12,
           11,
           6,
           2,
           11,
           47,
           11,
           30,
           110,
           10,
           41,
           24,
           35,
           100,
           100,
           60,
           2,
           8,
           0,
           120,
           40,
           70,
           32,
           49,
           14,
           16,
           0,
           200,
           175,
           110,
           0,
           26,
           25,
           14,
           40,
           243,
           200,
           4,
           57,
           6,
           77,
           14,
           13,
           132,
           140,
           2,
           8,
           22,
           100,
           12,
           32,
           30,
           2,
           24,
           105,
           65,
           20,
           80,
           0,
           16,
           50,
           3,
           4,
           0,
           36,
           52,
           30,
           23,
           42,
           8,
           114,
           30,
           19,
           8,
           140,
           9,
           48,
           60,
           11,
           45,
           107,
           6,
           5,
           26,
           2,
           7,
           0,
           12,
           130,
           25,
           25,
           82,
           75,
           7,
           9,
           1,
           19,
           28,
           9,
           10,
           8,
           36,
           3,
           6,
           6,
           3,
           33,
           5,
           10,
           14,
           75,
           5,
           30,
           8,
           21,
           80,
           41,
           10,
           37,
           23,
           4,
           7,
           40,
           80,
           18,
           10,
           25,
           20,
           121,
           50,
           23,
           200,
           47,
           35,
           35,
           60,
           18,
           4,
           40,
           45,
           2,
           40,
           27,
           5,
           68,
           2,
           2,
           19,
           60,
           30,
           70,
           10,
           30,
           200,
           60,
           145,
           16,
           22,
           2,
           30,
           7,
           1,
           26,
           34,
           21,
           31,
           2,
           11,
           15,
           8,
           1,
           50,
           5,
           3,
           47,
           10,
           29,
           45,
           15,
           11,
           5,
           16,
           24,
           5,
           1,
           29,
           12,
           5,
           20,
           120,
           132,
           0,
           39,
           60,
           6,
           72,
           0,
           3,
           6,
           6,
           7,
           25,
           2,
           56,
           20,
           15,
           56,
           36,
           25,
           6,
           35,
           31,
           300,
           0,
           18,
           15,
           120,
           60,
           13,
           165,
           100,
           14,
           2,
           90,
           3,
           18,
           0,
           200,
           20,
           22,
           37,
           0,
           11,
           7,
           1,
           56,
           40
          ],
          "sizemode": "area",
          "sizeref": 1.375,
          "symbol": "circle"
         },
         "mode": "markers",
         "name": "",
         "showlegend": false,
         "type": "scattergeo"
        }
       ],
       "layout": {
        "coloraxis": {
         "colorbar": {
          "title": {
           "text": "Killed Max"
          }
         },
         "colorscale": [
          [
           0,
           "#0d0887"
          ],
          [
           0.1111111111111111,
           "#46039f"
          ],
          [
           0.2222222222222222,
           "#7201a8"
          ],
          [
           0.3333333333333333,
           "#9c179e"
          ],
          [
           0.4444444444444444,
           "#bd3786"
          ],
          [
           0.5555555555555556,
           "#d8576b"
          ],
          [
           0.6666666666666666,
           "#ed7953"
          ],
          [
           0.7777777777777778,
           "#fb9f3a"
          ],
          [
           0.8888888888888888,
           "#fdca26"
          ],
          [
           1,
           "#f0f921"
          ]
         ]
        },
        "geo": {
         "center": {},
         "domain": {
          "x": [
           0,
           1
          ],
          "y": [
           0,
           1
          ]
         },
         "projection": {
          "type": "natural earth"
         },
         "scope": "asia"
        },
        "legend": {
         "itemsizing": "constant",
         "tracegroupgap": 0
        },
        "template": {
         "data": {
          "bar": [
           {
            "error_x": {
             "color": "#2a3f5f"
            },
            "error_y": {
             "color": "#2a3f5f"
            },
            "marker": {
             "line": {
              "color": "#E5ECF6",
              "width": 0.5
             },
             "pattern": {
              "fillmode": "overlay",
              "size": 10,
              "solidity": 0.2
             }
            },
            "type": "bar"
           }
          ],
          "barpolar": [
           {
            "marker": {
             "line": {
              "color": "#E5ECF6",
              "width": 0.5
             },
             "pattern": {
              "fillmode": "overlay",
              "size": 10,
              "solidity": 0.2
             }
            },
            "type": "barpolar"
           }
          ],
          "carpet": [
           {
            "aaxis": {
             "endlinecolor": "#2a3f5f",
             "gridcolor": "white",
             "linecolor": "white",
             "minorgridcolor": "white",
             "startlinecolor": "#2a3f5f"
            },
            "baxis": {
             "endlinecolor": "#2a3f5f",
             "gridcolor": "white",
             "linecolor": "white",
             "minorgridcolor": "white",
             "startlinecolor": "#2a3f5f"
            },
            "type": "carpet"
           }
          ],
          "choropleth": [
           {
            "colorbar": {
             "outlinewidth": 0,
             "ticks": ""
            },
            "type": "choropleth"
           }
          ],
          "contour": [
           {
            "colorbar": {
             "outlinewidth": 0,
             "ticks": ""
            },
            "colorscale": [
             [
              0,
              "#0d0887"
             ],
             [
              0.1111111111111111,
              "#46039f"
             ],
             [
              0.2222222222222222,
              "#7201a8"
             ],
             [
              0.3333333333333333,
              "#9c179e"
             ],
             [
              0.4444444444444444,
              "#bd3786"
             ],
             [
              0.5555555555555556,
              "#d8576b"
             ],
             [
              0.6666666666666666,
              "#ed7953"
             ],
             [
              0.7777777777777778,
              "#fb9f3a"
             ],
             [
              0.8888888888888888,
              "#fdca26"
             ],
             [
              1,
              "#f0f921"
             ]
            ],
            "type": "contour"
           }
          ],
          "contourcarpet": [
           {
            "colorbar": {
             "outlinewidth": 0,
             "ticks": ""
            },
            "type": "contourcarpet"
           }
          ],
          "heatmap": [
           {
            "colorbar": {
             "outlinewidth": 0,
             "ticks": ""
            },
            "colorscale": [
             [
              0,
              "#0d0887"
             ],
             [
              0.1111111111111111,
              "#46039f"
             ],
             [
              0.2222222222222222,
              "#7201a8"
             ],
             [
              0.3333333333333333,
              "#9c179e"
             ],
             [
              0.4444444444444444,
              "#bd3786"
             ],
             [
              0.5555555555555556,
              "#d8576b"
             ],
             [
              0.6666666666666666,
              "#ed7953"
             ],
             [
              0.7777777777777778,
              "#fb9f3a"
             ],
             [
              0.8888888888888888,
              "#fdca26"
             ],
             [
              1,
              "#f0f921"
             ]
            ],
            "type": "heatmap"
           }
          ],
          "heatmapgl": [
           {
            "colorbar": {
             "outlinewidth": 0,
             "ticks": ""
            },
            "colorscale": [
             [
              0,
              "#0d0887"
             ],
             [
              0.1111111111111111,
              "#46039f"
             ],
             [
              0.2222222222222222,
              "#7201a8"
             ],
             [
              0.3333333333333333,
              "#9c179e"
             ],
             [
              0.4444444444444444,
              "#bd3786"
             ],
             [
              0.5555555555555556,
              "#d8576b"
             ],
             [
              0.6666666666666666,
              "#ed7953"
             ],
             [
              0.7777777777777778,
              "#fb9f3a"
             ],
             [
              0.8888888888888888,
              "#fdca26"
             ],
             [
              1,
              "#f0f921"
             ]
            ],
            "type": "heatmapgl"
           }
          ],
          "histogram": [
           {
            "marker": {
             "pattern": {
              "fillmode": "overlay",
              "size": 10,
              "solidity": 0.2
             }
            },
            "type": "histogram"
           }
          ],
          "histogram2d": [
           {
            "colorbar": {
             "outlinewidth": 0,
             "ticks": ""
            },
            "colorscale": [
             [
              0,
              "#0d0887"
             ],
             [
              0.1111111111111111,
              "#46039f"
             ],
             [
              0.2222222222222222,
              "#7201a8"
             ],
             [
              0.3333333333333333,
              "#9c179e"
             ],
             [
              0.4444444444444444,
              "#bd3786"
             ],
             [
              0.5555555555555556,
              "#d8576b"
             ],
             [
              0.6666666666666666,
              "#ed7953"
             ],
             [
              0.7777777777777778,
              "#fb9f3a"
             ],
             [
              0.8888888888888888,
              "#fdca26"
             ],
             [
              1,
              "#f0f921"
             ]
            ],
            "type": "histogram2d"
           }
          ],
          "histogram2dcontour": [
           {
            "colorbar": {
             "outlinewidth": 0,
             "ticks": ""
            },
            "colorscale": [
             [
              0,
              "#0d0887"
             ],
             [
              0.1111111111111111,
              "#46039f"
             ],
             [
              0.2222222222222222,
              "#7201a8"
             ],
             [
              0.3333333333333333,
              "#9c179e"
             ],
             [
              0.4444444444444444,
              "#bd3786"
             ],
             [
              0.5555555555555556,
              "#d8576b"
             ],
             [
              0.6666666666666666,
              "#ed7953"
             ],
             [
              0.7777777777777778,
              "#fb9f3a"
             ],
             [
              0.8888888888888888,
              "#fdca26"
             ],
             [
              1,
              "#f0f921"
             ]
            ],
            "type": "histogram2dcontour"
           }
          ],
          "mesh3d": [
           {
            "colorbar": {
             "outlinewidth": 0,
             "ticks": ""
            },
            "type": "mesh3d"
           }
          ],
          "parcoords": [
           {
            "line": {
             "colorbar": {
              "outlinewidth": 0,
              "ticks": ""
             }
            },
            "type": "parcoords"
           }
          ],
          "pie": [
           {
            "automargin": true,
            "type": "pie"
           }
          ],
          "scatter": [
           {
            "fillpattern": {
             "fillmode": "overlay",
             "size": 10,
             "solidity": 0.2
            },
            "type": "scatter"
           }
          ],
          "scatter3d": [
           {
            "line": {
             "colorbar": {
              "outlinewidth": 0,
              "ticks": ""
             }
            },
            "marker": {
             "colorbar": {
              "outlinewidth": 0,
              "ticks": ""
             }
            },
            "type": "scatter3d"
           }
          ],
          "scattercarpet": [
           {
            "marker": {
             "colorbar": {
              "outlinewidth": 0,
              "ticks": ""
             }
            },
            "type": "scattercarpet"
           }
          ],
          "scattergeo": [
           {
            "marker": {
             "colorbar": {
              "outlinewidth": 0,
              "ticks": ""
             }
            },
            "type": "scattergeo"
           }
          ],
          "scattergl": [
           {
            "marker": {
             "colorbar": {
              "outlinewidth": 0,
              "ticks": ""
             }
            },
            "type": "scattergl"
           }
          ],
          "scattermapbox": [
           {
            "marker": {
             "colorbar": {
              "outlinewidth": 0,
              "ticks": ""
             }
            },
            "type": "scattermapbox"
           }
          ],
          "scatterpolar": [
           {
            "marker": {
             "colorbar": {
              "outlinewidth": 0,
              "ticks": ""
             }
            },
            "type": "scatterpolar"
           }
          ],
          "scatterpolargl": [
           {
            "marker": {
             "colorbar": {
              "outlinewidth": 0,
              "ticks": ""
             }
            },
            "type": "scatterpolargl"
           }
          ],
          "scatterternary": [
           {
            "marker": {
             "colorbar": {
              "outlinewidth": 0,
              "ticks": ""
             }
            },
            "type": "scatterternary"
           }
          ],
          "surface": [
           {
            "colorbar": {
             "outlinewidth": 0,
             "ticks": ""
            },
            "colorscale": [
             [
              0,
              "#0d0887"
             ],
             [
              0.1111111111111111,
              "#46039f"
             ],
             [
              0.2222222222222222,
              "#7201a8"
             ],
             [
              0.3333333333333333,
              "#9c179e"
             ],
             [
              0.4444444444444444,
              "#bd3786"
             ],
             [
              0.5555555555555556,
              "#d8576b"
             ],
             [
              0.6666666666666666,
              "#ed7953"
             ],
             [
              0.7777777777777778,
              "#fb9f3a"
             ],
             [
              0.8888888888888888,
              "#fdca26"
             ],
             [
              1,
              "#f0f921"
             ]
            ],
            "type": "surface"
           }
          ],
          "table": [
           {
            "cells": {
             "fill": {
              "color": "#EBF0F8"
             },
             "line": {
              "color": "white"
             }
            },
            "header": {
             "fill": {
              "color": "#C8D4E3"
             },
             "line": {
              "color": "white"
             }
            },
            "type": "table"
           }
          ]
         },
         "layout": {
          "annotationdefaults": {
           "arrowcolor": "#2a3f5f",
           "arrowhead": 0,
           "arrowwidth": 1
          },
          "autotypenumbers": "strict",
          "coloraxis": {
           "colorbar": {
            "outlinewidth": 0,
            "ticks": ""
           }
          },
          "colorscale": {
           "diverging": [
            [
             0,
             "#8e0152"
            ],
            [
             0.1,
             "#c51b7d"
            ],
            [
             0.2,
             "#de77ae"
            ],
            [
             0.3,
             "#f1b6da"
            ],
            [
             0.4,
             "#fde0ef"
            ],
            [
             0.5,
             "#f7f7f7"
            ],
            [
             0.6,
             "#e6f5d0"
            ],
            [
             0.7,
             "#b8e186"
            ],
            [
             0.8,
             "#7fbc41"
            ],
            [
             0.9,
             "#4d9221"
            ],
            [
             1,
             "#276419"
            ]
           ],
           "sequential": [
            [
             0,
             "#0d0887"
            ],
            [
             0.1111111111111111,
             "#46039f"
            ],
            [
             0.2222222222222222,
             "#7201a8"
            ],
            [
             0.3333333333333333,
             "#9c179e"
            ],
            [
             0.4444444444444444,
             "#bd3786"
            ],
            [
             0.5555555555555556,
             "#d8576b"
            ],
            [
             0.6666666666666666,
             "#ed7953"
            ],
            [
             0.7777777777777778,
             "#fb9f3a"
            ],
            [
             0.8888888888888888,
             "#fdca26"
            ],
            [
             1,
             "#f0f921"
            ]
           ],
           "sequentialminus": [
            [
             0,
             "#0d0887"
            ],
            [
             0.1111111111111111,
             "#46039f"
            ],
            [
             0.2222222222222222,
             "#7201a8"
            ],
            [
             0.3333333333333333,
             "#9c179e"
            ],
            [
             0.4444444444444444,
             "#bd3786"
            ],
            [
             0.5555555555555556,
             "#d8576b"
            ],
            [
             0.6666666666666666,
             "#ed7953"
            ],
            [
             0.7777777777777778,
             "#fb9f3a"
            ],
            [
             0.8888888888888888,
             "#fdca26"
            ],
            [
             1,
             "#f0f921"
            ]
           ]
          },
          "colorway": [
           "#636efa",
           "#EF553B",
           "#00cc96",
           "#ab63fa",
           "#FFA15A",
           "#19d3f3",
           "#FF6692",
           "#B6E880",
           "#FF97FF",
           "#FECB52"
          ],
          "font": {
           "color": "#2a3f5f"
          },
          "geo": {
           "bgcolor": "white",
           "lakecolor": "white",
           "landcolor": "#E5ECF6",
           "showlakes": true,
           "showland": true,
           "subunitcolor": "white"
          },
          "hoverlabel": {
           "align": "left"
          },
          "hovermode": "closest",
          "mapbox": {
           "style": "light"
          },
          "paper_bgcolor": "white",
          "plot_bgcolor": "#E5ECF6",
          "polar": {
           "angularaxis": {
            "gridcolor": "white",
            "linecolor": "white",
            "ticks": ""
           },
           "bgcolor": "#E5ECF6",
           "radialaxis": {
            "gridcolor": "white",
            "linecolor": "white",
            "ticks": ""
           }
          },
          "scene": {
           "xaxis": {
            "backgroundcolor": "#E5ECF6",
            "gridcolor": "white",
            "gridwidth": 2,
            "linecolor": "white",
            "showbackground": true,
            "ticks": "",
            "zerolinecolor": "white"
           },
           "yaxis": {
            "backgroundcolor": "#E5ECF6",
            "gridcolor": "white",
            "gridwidth": 2,
            "linecolor": "white",
            "showbackground": true,
            "ticks": "",
            "zerolinecolor": "white"
           },
           "zaxis": {
            "backgroundcolor": "#E5ECF6",
            "gridcolor": "white",
            "gridwidth": 2,
            "linecolor": "white",
            "showbackground": true,
            "ticks": "",
            "zerolinecolor": "white"
           }
          },
          "shapedefaults": {
           "line": {
            "color": "#2a3f5f"
           }
          },
          "ternary": {
           "aaxis": {
            "gridcolor": "white",
            "linecolor": "white",
            "ticks": ""
           },
           "baxis": {
            "gridcolor": "white",
            "linecolor": "white",
            "ticks": ""
           },
           "bgcolor": "#E5ECF6",
           "caxis": {
            "gridcolor": "white",
            "linecolor": "white",
            "ticks": ""
           }
          },
          "title": {
           "x": 0.05
          },
          "xaxis": {
           "automargin": true,
           "gridcolor": "white",
           "linecolor": "white",
           "ticks": "",
           "title": {
            "standoff": 15
           },
           "zerolinecolor": "white",
           "zerolinewidth": 2
          },
          "yaxis": {
           "automargin": true,
           "gridcolor": "white",
           "linecolor": "white",
           "ticks": "",
           "title": {
            "standoff": 15
           },
           "zerolinecolor": "white",
           "zerolinewidth": 2
          }
         }
        },
        "title": {
         "text": "Attack Locations by Casualties"
        }
       }
      }
     },
     "metadata": {},
     "output_type": "display_data"
    }
   ],
   "source": [
    "df['Killed Max'] = pd.to_numeric(df['Killed Max'], errors='coerce')\n",
    "df['Injured Max'] = pd.to_numeric(df['Injured Max'], errors='coerce')\n",
    "\n",
    "# Drop rows with NaN values in 'Killed Max' or 'Injured Max'\n",
    "df = df.dropna(subset=['Killed Max', 'Injured Max'])\n",
    "\n",
    "# Plot attack locations on a map, color-coded by maximum casualties and size by maximum injured\n",
    "fig = px.scatter_geo(df, \n",
    "                     lat='Latitude', \n",
    "                     lon='Longitude', \n",
    "                     color='Killed Max',  # Adjust column name if needed\n",
    "                     size='Injured Max',  # Adjust column name if needed\n",
    "                     hover_name='Location',   # Adjust column name if needed\n",
    "                     hover_data=['Killed Max', 'Injured Max'],\n",
    "                     title='Attack Locations by Casualties',\n",
    "                     scope='asia',  # Limit map scope to Asia\n",
    "                     projection='natural earth')  # Adjust projection as needed\n",
    "fig.show()"
   ]
  },
  {
   "cell_type": "markdown",
   "metadata": {},
   "source": [
    "# Attack Characteristics\n"
   ]
  },
  {
   "cell_type": "code",
   "execution_count": 14,
   "metadata": {},
   "outputs": [
    {
     "data": {
      "application/vnd.plotly.v1+json": {
       "config": {
        "plotlyServerURL": "https://plot.ly"
       },
       "data": [
        {
         "alignmentgroup": "True",
         "hovertemplate": "Killed Min=%{y}<extra></extra>",
         "legendgroup": "",
         "marker": {
          "color": "#636efa"
         },
         "name": "",
         "notched": false,
         "offsetgroup": "",
         "orientation": "v",
         "showlegend": false,
         "type": "box",
         "x0": " ",
         "xaxis": "x",
         "y": [
          14,
          8,
          13,
          8,
          44,
          16,
          8,
          14,
          16,
          8,
          2,
          8,
          25,
          4,
          25,
          8,
          20,
          5,
          37,
          4,
          47,
          6,
          6,
          8,
          40,
          8,
          8,
          4,
          1,
          13,
          2,
          8,
          8,
          8,
          16,
          1,
          25,
          22,
          8,
          8,
          6,
          2,
          23,
          25,
          17,
          16,
          8,
          28,
          6,
          15,
          8,
          14,
          8,
          9,
          8,
          8,
          8,
          3,
          6,
          8,
          3,
          8,
          18,
          8,
          17,
          15,
          8,
          8,
          125,
          20,
          7,
          8,
          3,
          17,
          8,
          8,
          10,
          8,
          5,
          5,
          8,
          8,
          9,
          21,
          8,
          24,
          1,
          10,
          5,
          8,
          8,
          25,
          6,
          2,
          38,
          8,
          38,
          8,
          40,
          4,
          26,
          3,
          2,
          8,
          8,
          3,
          8,
          11,
          8,
          15,
          8,
          8,
          30,
          70,
          7,
          2,
          30,
          2,
          7,
          40,
          9,
          1,
          4,
          22,
          8,
          8,
          40,
          8,
          11,
          8,
          9,
          8,
          8,
          8,
          16,
          3,
          8,
          8,
          8,
          8,
          8,
          5,
          6,
          8,
          34,
          7,
          8,
          8,
          30,
          8,
          8,
          8,
          30,
          8,
          8,
          5,
          4,
          12,
          8,
          7,
          70,
          8,
          8,
          8,
          22,
          16,
          21,
          7,
          10,
          6,
          26,
          3,
          3,
          8,
          2,
          11,
          1,
          5,
          4,
          8,
          8,
          1,
          8,
          8,
          8,
          8,
          4,
          3,
          8,
          3,
          8,
          2,
          8,
          20,
          16,
          8,
          8,
          30,
          8,
          8,
          7,
          10,
          4,
          8,
          48,
          8,
          11,
          8,
          14,
          5,
          8,
          8,
          35,
          8,
          12,
          8,
          32,
          10,
          7,
          8,
          8,
          20,
          1,
          8,
          36,
          9,
          38,
          8,
          24,
          8,
          8,
          1,
          4,
          8,
          10,
          88,
          8,
          8,
          8,
          8,
          4,
          16,
          17,
          8,
          22,
          8,
          7,
          8,
          12,
          13,
          43,
          14,
          8,
          8,
          6,
          50,
          8,
          41,
          8,
          23,
          4,
          3,
          8,
          80,
          40,
          65,
          8,
          3,
          8,
          3,
          26,
          27,
          54,
          8,
          15,
          2,
          6,
          8,
          2,
          61,
          16,
          8,
          8,
          2,
          40,
          8,
          18,
          10,
          8,
          8,
          42,
          8,
          18,
          11,
          8,
          5,
          28,
          8,
          1,
          8,
          8,
          5,
          37,
          5,
          10,
          8,
          8,
          42,
          7,
          8,
          8,
          82,
          8,
          8,
          28,
          8,
          18,
          32,
          1,
          8,
          8,
          8,
          8,
          8,
          0,
          47,
          11,
          3,
          26,
          26,
          8,
          8,
          8,
          5,
          8,
          4,
          8,
          8,
          8,
          4,
          3,
          21,
          1,
          0,
          0,
          8,
          14,
          1,
          5,
          4,
          24,
          2,
          13,
          2,
          0,
          14,
          13,
          5,
          6,
          0,
          0,
          3,
          12,
          5,
          5,
          8,
          2,
          8,
          51,
          24,
          7,
          0,
          64,
          5,
          2,
          8,
          5,
          16,
          7,
          4,
          6,
          8,
          1,
          12,
          2,
          2,
          6,
          3,
          8,
          12,
          11,
          27,
          14,
          28,
          6,
          8,
          43,
          30,
          78,
          6,
          15,
          2,
          8,
          0,
          7,
          0,
          3,
          5,
          2,
          2,
          2,
          3,
          13,
          8,
          3,
          9,
          0,
          4,
          11,
          2,
          11,
          8,
          2,
          4,
          5,
          23,
          8,
          1,
          3,
          4,
          5,
          8,
          2,
          45,
          8,
          8,
          60,
          8,
          5,
          8,
          8,
          2,
          2,
          1,
          8,
          1,
          8,
          7,
          1,
          1,
          1,
          16,
          4,
          3,
          1,
          7,
          10,
          22,
          21,
          15,
          10,
          0,
          9,
          10,
          70,
          2,
          1,
          1,
          70,
          13,
          0,
          16,
          58,
          45,
          2,
          0,
          14,
          5,
          1,
          1,
          70,
          6,
          6,
          25,
          1,
          30,
          1,
          1,
          1,
          26,
          15,
          21,
          7,
          2,
          1,
          4,
          8,
          8,
          8,
          60,
          5,
          8,
          2,
          2,
          8,
          1,
          7,
          1,
          1,
          16,
          3,
          7,
          10,
          70,
          25,
          30,
          1,
          1,
          1,
          26,
          15,
          21
         ],
         "y0": " ",
         "yaxis": "y"
        }
       ],
       "layout": {
        "boxmode": "group",
        "legend": {
         "tracegroupgap": 0
        },
        "template": {
         "data": {
          "bar": [
           {
            "error_x": {
             "color": "#2a3f5f"
            },
            "error_y": {
             "color": "#2a3f5f"
            },
            "marker": {
             "line": {
              "color": "#E5ECF6",
              "width": 0.5
             },
             "pattern": {
              "fillmode": "overlay",
              "size": 10,
              "solidity": 0.2
             }
            },
            "type": "bar"
           }
          ],
          "barpolar": [
           {
            "marker": {
             "line": {
              "color": "#E5ECF6",
              "width": 0.5
             },
             "pattern": {
              "fillmode": "overlay",
              "size": 10,
              "solidity": 0.2
             }
            },
            "type": "barpolar"
           }
          ],
          "carpet": [
           {
            "aaxis": {
             "endlinecolor": "#2a3f5f",
             "gridcolor": "white",
             "linecolor": "white",
             "minorgridcolor": "white",
             "startlinecolor": "#2a3f5f"
            },
            "baxis": {
             "endlinecolor": "#2a3f5f",
             "gridcolor": "white",
             "linecolor": "white",
             "minorgridcolor": "white",
             "startlinecolor": "#2a3f5f"
            },
            "type": "carpet"
           }
          ],
          "choropleth": [
           {
            "colorbar": {
             "outlinewidth": 0,
             "ticks": ""
            },
            "type": "choropleth"
           }
          ],
          "contour": [
           {
            "colorbar": {
             "outlinewidth": 0,
             "ticks": ""
            },
            "colorscale": [
             [
              0,
              "#0d0887"
             ],
             [
              0.1111111111111111,
              "#46039f"
             ],
             [
              0.2222222222222222,
              "#7201a8"
             ],
             [
              0.3333333333333333,
              "#9c179e"
             ],
             [
              0.4444444444444444,
              "#bd3786"
             ],
             [
              0.5555555555555556,
              "#d8576b"
             ],
             [
              0.6666666666666666,
              "#ed7953"
             ],
             [
              0.7777777777777778,
              "#fb9f3a"
             ],
             [
              0.8888888888888888,
              "#fdca26"
             ],
             [
              1,
              "#f0f921"
             ]
            ],
            "type": "contour"
           }
          ],
          "contourcarpet": [
           {
            "colorbar": {
             "outlinewidth": 0,
             "ticks": ""
            },
            "type": "contourcarpet"
           }
          ],
          "heatmap": [
           {
            "colorbar": {
             "outlinewidth": 0,
             "ticks": ""
            },
            "colorscale": [
             [
              0,
              "#0d0887"
             ],
             [
              0.1111111111111111,
              "#46039f"
             ],
             [
              0.2222222222222222,
              "#7201a8"
             ],
             [
              0.3333333333333333,
              "#9c179e"
             ],
             [
              0.4444444444444444,
              "#bd3786"
             ],
             [
              0.5555555555555556,
              "#d8576b"
             ],
             [
              0.6666666666666666,
              "#ed7953"
             ],
             [
              0.7777777777777778,
              "#fb9f3a"
             ],
             [
              0.8888888888888888,
              "#fdca26"
             ],
             [
              1,
              "#f0f921"
             ]
            ],
            "type": "heatmap"
           }
          ],
          "heatmapgl": [
           {
            "colorbar": {
             "outlinewidth": 0,
             "ticks": ""
            },
            "colorscale": [
             [
              0,
              "#0d0887"
             ],
             [
              0.1111111111111111,
              "#46039f"
             ],
             [
              0.2222222222222222,
              "#7201a8"
             ],
             [
              0.3333333333333333,
              "#9c179e"
             ],
             [
              0.4444444444444444,
              "#bd3786"
             ],
             [
              0.5555555555555556,
              "#d8576b"
             ],
             [
              0.6666666666666666,
              "#ed7953"
             ],
             [
              0.7777777777777778,
              "#fb9f3a"
             ],
             [
              0.8888888888888888,
              "#fdca26"
             ],
             [
              1,
              "#f0f921"
             ]
            ],
            "type": "heatmapgl"
           }
          ],
          "histogram": [
           {
            "marker": {
             "pattern": {
              "fillmode": "overlay",
              "size": 10,
              "solidity": 0.2
             }
            },
            "type": "histogram"
           }
          ],
          "histogram2d": [
           {
            "colorbar": {
             "outlinewidth": 0,
             "ticks": ""
            },
            "colorscale": [
             [
              0,
              "#0d0887"
             ],
             [
              0.1111111111111111,
              "#46039f"
             ],
             [
              0.2222222222222222,
              "#7201a8"
             ],
             [
              0.3333333333333333,
              "#9c179e"
             ],
             [
              0.4444444444444444,
              "#bd3786"
             ],
             [
              0.5555555555555556,
              "#d8576b"
             ],
             [
              0.6666666666666666,
              "#ed7953"
             ],
             [
              0.7777777777777778,
              "#fb9f3a"
             ],
             [
              0.8888888888888888,
              "#fdca26"
             ],
             [
              1,
              "#f0f921"
             ]
            ],
            "type": "histogram2d"
           }
          ],
          "histogram2dcontour": [
           {
            "colorbar": {
             "outlinewidth": 0,
             "ticks": ""
            },
            "colorscale": [
             [
              0,
              "#0d0887"
             ],
             [
              0.1111111111111111,
              "#46039f"
             ],
             [
              0.2222222222222222,
              "#7201a8"
             ],
             [
              0.3333333333333333,
              "#9c179e"
             ],
             [
              0.4444444444444444,
              "#bd3786"
             ],
             [
              0.5555555555555556,
              "#d8576b"
             ],
             [
              0.6666666666666666,
              "#ed7953"
             ],
             [
              0.7777777777777778,
              "#fb9f3a"
             ],
             [
              0.8888888888888888,
              "#fdca26"
             ],
             [
              1,
              "#f0f921"
             ]
            ],
            "type": "histogram2dcontour"
           }
          ],
          "mesh3d": [
           {
            "colorbar": {
             "outlinewidth": 0,
             "ticks": ""
            },
            "type": "mesh3d"
           }
          ],
          "parcoords": [
           {
            "line": {
             "colorbar": {
              "outlinewidth": 0,
              "ticks": ""
             }
            },
            "type": "parcoords"
           }
          ],
          "pie": [
           {
            "automargin": true,
            "type": "pie"
           }
          ],
          "scatter": [
           {
            "fillpattern": {
             "fillmode": "overlay",
             "size": 10,
             "solidity": 0.2
            },
            "type": "scatter"
           }
          ],
          "scatter3d": [
           {
            "line": {
             "colorbar": {
              "outlinewidth": 0,
              "ticks": ""
             }
            },
            "marker": {
             "colorbar": {
              "outlinewidth": 0,
              "ticks": ""
             }
            },
            "type": "scatter3d"
           }
          ],
          "scattercarpet": [
           {
            "marker": {
             "colorbar": {
              "outlinewidth": 0,
              "ticks": ""
             }
            },
            "type": "scattercarpet"
           }
          ],
          "scattergeo": [
           {
            "marker": {
             "colorbar": {
              "outlinewidth": 0,
              "ticks": ""
             }
            },
            "type": "scattergeo"
           }
          ],
          "scattergl": [
           {
            "marker": {
             "colorbar": {
              "outlinewidth": 0,
              "ticks": ""
             }
            },
            "type": "scattergl"
           }
          ],
          "scattermapbox": [
           {
            "marker": {
             "colorbar": {
              "outlinewidth": 0,
              "ticks": ""
             }
            },
            "type": "scattermapbox"
           }
          ],
          "scatterpolar": [
           {
            "marker": {
             "colorbar": {
              "outlinewidth": 0,
              "ticks": ""
             }
            },
            "type": "scatterpolar"
           }
          ],
          "scatterpolargl": [
           {
            "marker": {
             "colorbar": {
              "outlinewidth": 0,
              "ticks": ""
             }
            },
            "type": "scatterpolargl"
           }
          ],
          "scatterternary": [
           {
            "marker": {
             "colorbar": {
              "outlinewidth": 0,
              "ticks": ""
             }
            },
            "type": "scatterternary"
           }
          ],
          "surface": [
           {
            "colorbar": {
             "outlinewidth": 0,
             "ticks": ""
            },
            "colorscale": [
             [
              0,
              "#0d0887"
             ],
             [
              0.1111111111111111,
              "#46039f"
             ],
             [
              0.2222222222222222,
              "#7201a8"
             ],
             [
              0.3333333333333333,
              "#9c179e"
             ],
             [
              0.4444444444444444,
              "#bd3786"
             ],
             [
              0.5555555555555556,
              "#d8576b"
             ],
             [
              0.6666666666666666,
              "#ed7953"
             ],
             [
              0.7777777777777778,
              "#fb9f3a"
             ],
             [
              0.8888888888888888,
              "#fdca26"
             ],
             [
              1,
              "#f0f921"
             ]
            ],
            "type": "surface"
           }
          ],
          "table": [
           {
            "cells": {
             "fill": {
              "color": "#EBF0F8"
             },
             "line": {
              "color": "white"
             }
            },
            "header": {
             "fill": {
              "color": "#C8D4E3"
             },
             "line": {
              "color": "white"
             }
            },
            "type": "table"
           }
          ]
         },
         "layout": {
          "annotationdefaults": {
           "arrowcolor": "#2a3f5f",
           "arrowhead": 0,
           "arrowwidth": 1
          },
          "autotypenumbers": "strict",
          "coloraxis": {
           "colorbar": {
            "outlinewidth": 0,
            "ticks": ""
           }
          },
          "colorscale": {
           "diverging": [
            [
             0,
             "#8e0152"
            ],
            [
             0.1,
             "#c51b7d"
            ],
            [
             0.2,
             "#de77ae"
            ],
            [
             0.3,
             "#f1b6da"
            ],
            [
             0.4,
             "#fde0ef"
            ],
            [
             0.5,
             "#f7f7f7"
            ],
            [
             0.6,
             "#e6f5d0"
            ],
            [
             0.7,
             "#b8e186"
            ],
            [
             0.8,
             "#7fbc41"
            ],
            [
             0.9,
             "#4d9221"
            ],
            [
             1,
             "#276419"
            ]
           ],
           "sequential": [
            [
             0,
             "#0d0887"
            ],
            [
             0.1111111111111111,
             "#46039f"
            ],
            [
             0.2222222222222222,
             "#7201a8"
            ],
            [
             0.3333333333333333,
             "#9c179e"
            ],
            [
             0.4444444444444444,
             "#bd3786"
            ],
            [
             0.5555555555555556,
             "#d8576b"
            ],
            [
             0.6666666666666666,
             "#ed7953"
            ],
            [
             0.7777777777777778,
             "#fb9f3a"
            ],
            [
             0.8888888888888888,
             "#fdca26"
            ],
            [
             1,
             "#f0f921"
            ]
           ],
           "sequentialminus": [
            [
             0,
             "#0d0887"
            ],
            [
             0.1111111111111111,
             "#46039f"
            ],
            [
             0.2222222222222222,
             "#7201a8"
            ],
            [
             0.3333333333333333,
             "#9c179e"
            ],
            [
             0.4444444444444444,
             "#bd3786"
            ],
            [
             0.5555555555555556,
             "#d8576b"
            ],
            [
             0.6666666666666666,
             "#ed7953"
            ],
            [
             0.7777777777777778,
             "#fb9f3a"
            ],
            [
             0.8888888888888888,
             "#fdca26"
            ],
            [
             1,
             "#f0f921"
            ]
           ]
          },
          "colorway": [
           "#636efa",
           "#EF553B",
           "#00cc96",
           "#ab63fa",
           "#FFA15A",
           "#19d3f3",
           "#FF6692",
           "#B6E880",
           "#FF97FF",
           "#FECB52"
          ],
          "font": {
           "color": "#2a3f5f"
          },
          "geo": {
           "bgcolor": "white",
           "lakecolor": "white",
           "landcolor": "#E5ECF6",
           "showlakes": true,
           "showland": true,
           "subunitcolor": "white"
          },
          "hoverlabel": {
           "align": "left"
          },
          "hovermode": "closest",
          "mapbox": {
           "style": "light"
          },
          "paper_bgcolor": "white",
          "plot_bgcolor": "#E5ECF6",
          "polar": {
           "angularaxis": {
            "gridcolor": "white",
            "linecolor": "white",
            "ticks": ""
           },
           "bgcolor": "#E5ECF6",
           "radialaxis": {
            "gridcolor": "white",
            "linecolor": "white",
            "ticks": ""
           }
          },
          "scene": {
           "xaxis": {
            "backgroundcolor": "#E5ECF6",
            "gridcolor": "white",
            "gridwidth": 2,
            "linecolor": "white",
            "showbackground": true,
            "ticks": "",
            "zerolinecolor": "white"
           },
           "yaxis": {
            "backgroundcolor": "#E5ECF6",
            "gridcolor": "white",
            "gridwidth": 2,
            "linecolor": "white",
            "showbackground": true,
            "ticks": "",
            "zerolinecolor": "white"
           },
           "zaxis": {
            "backgroundcolor": "#E5ECF6",
            "gridcolor": "white",
            "gridwidth": 2,
            "linecolor": "white",
            "showbackground": true,
            "ticks": "",
            "zerolinecolor": "white"
           }
          },
          "shapedefaults": {
           "line": {
            "color": "#2a3f5f"
           }
          },
          "ternary": {
           "aaxis": {
            "gridcolor": "white",
            "linecolor": "white",
            "ticks": ""
           },
           "baxis": {
            "gridcolor": "white",
            "linecolor": "white",
            "ticks": ""
           },
           "bgcolor": "#E5ECF6",
           "caxis": {
            "gridcolor": "white",
            "linecolor": "white",
            "ticks": ""
           }
          },
          "title": {
           "x": 0.05
          },
          "xaxis": {
           "automargin": true,
           "gridcolor": "white",
           "linecolor": "white",
           "ticks": "",
           "title": {
            "standoff": 15
           },
           "zerolinecolor": "white",
           "zerolinewidth": 2
          },
          "yaxis": {
           "automargin": true,
           "gridcolor": "white",
           "linecolor": "white",
           "ticks": "",
           "title": {
            "standoff": 15
           },
           "zerolinecolor": "white",
           "zerolinewidth": 2
          }
         }
        },
        "title": {
         "text": "Distribution of Killed"
        },
        "xaxis": {
         "anchor": "y",
         "domain": [
          0,
          1
         ]
        },
        "yaxis": {
         "anchor": "x",
         "domain": [
          0,
          1
         ],
         "title": {
          "text": "Killed Min"
         }
        }
       }
      }
     },
     "metadata": {},
     "output_type": "display_data"
    },
    {
     "data": {
      "application/vnd.plotly.v1+json": {
       "config": {
        "plotlyServerURL": "https://plot.ly"
       },
       "data": [
        {
         "alignmentgroup": "True",
         "hovertemplate": "Injured Min=%{y}<extra></extra>",
         "legendgroup": "",
         "marker": {
          "color": "#636efa"
         },
         "name": "",
         "notched": false,
         "offsetgroup": "",
         "orientation": "v",
         "showlegend": false,
         "type": "box",
         "x0": " ",
         "xaxis": "x",
         "y": [
          20,
          20,
          20,
          20,
          20,
          20,
          3,
          96,
          20,
          20,
          20,
          44,
          50,
          6,
          8,
          20,
          82,
          19,
          90,
          30,
          20,
          7,
          20,
          20,
          20,
          20,
          20,
          23,
          5,
          30,
          20,
          20,
          7,
          3,
          30,
          6,
          29,
          12,
          20,
          9,
          4,
          20,
          26,
          50,
          40,
          50,
          2,
          28,
          30,
          8,
          5,
          50,
          5,
          35,
          3,
          20,
          20,
          14,
          22,
          20,
          4,
          20,
          20,
          20,
          16,
          11,
          3,
          29,
          100,
          28,
          18,
          27,
          2,
          20,
          2,
          20,
          20,
          7,
          22,
          11,
          2,
          20,
          20,
          48,
          12,
          73,
          20,
          20,
          13,
          27,
          20,
          35,
          9,
          14,
          109,
          20,
          40,
          20,
          50,
          15,
          175,
          20,
          5,
          9,
          17,
          10,
          3,
          23,
          25,
          20,
          3,
          20,
          33,
          67,
          20,
          25,
          70,
          20,
          5,
          200,
          2,
          22,
          20,
          60,
          6,
          20,
          90,
          20,
          20,
          20,
          21,
          20,
          20,
          20,
          31,
          13,
          10,
          20,
          20,
          20,
          20,
          8,
          8,
          20,
          20,
          21,
          20,
          11,
          48,
          20,
          20,
          17,
          150,
          20,
          20,
          5,
          20,
          16,
          20,
          20,
          100,
          20,
          4,
          20,
          40,
          5,
          26,
          25,
          20,
          25,
          320,
          3,
          8,
          50,
          4,
          50,
          8,
          5,
          63,
          20,
          3,
          10,
          20,
          25,
          2,
          3,
          20,
          20,
          20,
          20,
          20,
          2,
          20,
          10,
          4,
          2,
          3,
          50,
          20,
          20,
          50,
          50,
          20,
          3,
          148,
          45,
          20,
          20,
          15,
          29,
          13,
          20,
          60,
          10,
          35,
          5,
          60,
          47,
          22,
          25,
          20,
          46,
          11,
          10,
          75,
          37,
          100,
          47,
          55,
          20,
          28,
          21,
          24,
          1,
          81,
          37,
          11,
          20,
          20,
          1,
          3,
          26,
          6,
          25,
          30,
          4,
          37,
          23,
          30,
          80,
          90,
          52,
          20,
          5,
          20,
          75,
          35,
          60,
          30,
          27,
          11,
          9,
          20,
          92,
          20,
          104,
          20,
          9,
          23,
          11,
          20,
          150,
          150,
          20,
          34,
          3,
          60,
          5,
          10,
          70,
          100,
          20,
          20,
          6,
          60,
          10,
          20,
          16,
          20,
          20,
          80,
          20,
          15,
          71,
          20,
          14,
          35,
          20,
          20,
          20,
          20,
          30,
          20,
          25,
          12,
          20,
          2,
          100,
          22,
          17,
          5,
          128,
          20,
          41,
          55,
          20,
          28,
          80,
          4,
          3,
          25,
          20,
          20,
          20,
          20,
          70,
          12,
          14,
          60,
          63,
          4,
          20,
          20,
          20,
          20,
          18,
          20,
          19,
          7,
          7,
          7,
          20,
          3,
          20,
          20,
          20,
          30,
          2,
          9,
          12,
          40,
          20,
          20,
          2,
          18,
          40,
          39,
          7,
          28,
          18,
          3,
          4,
          25,
          70,
          10,
          6,
          20,
          17,
          116,
          40,
          8,
          1,
          180,
          7,
          22,
          20,
          11,
          49,
          8,
          4,
          37,
          30,
          2,
          35,
          23,
          3,
          45,
          2,
          2,
          19,
          20,
          52,
          28,
          65,
          10,
          30,
          180,
          50,
          100,
          10,
          22,
          2,
          30,
          7,
          1,
          26,
          14,
          25,
          20,
          30,
          2,
          7,
          15,
          20,
          0,
          25,
          5,
          3,
          36,
          8,
          24,
          32,
          2,
          9,
          5,
          7,
          20,
          5,
          1,
          18,
          12,
          20,
          15,
          70,
          20,
          20,
          20,
          20,
          20,
          20,
          70,
          0,
          20,
          20,
          20,
          20,
          20,
          20,
          4,
          20,
          20,
          23,
          20,
          50,
          2,
          10,
          12,
          40,
          50,
          25,
          20,
          5,
          30,
          27,
          233,
          0,
          10,
          12,
          112,
          52,
          10,
          22,
          100,
          100,
          14,
          2,
          83,
          0,
          4,
          0,
          150,
          15,
          19,
          35,
          0,
          100,
          1,
          1,
          1,
          56,
          40,
          25,
          22,
          8,
          6,
          16,
          20,
          20,
          20,
          20,
          20,
          20,
          0,
          20,
          20,
          20,
          20,
          4,
          20,
          23,
          50,
          10,
          20,
          233,
          35,
          100,
          1,
          1,
          1,
          56,
          40,
          25
         ],
         "y0": " ",
         "yaxis": "y"
        }
       ],
       "layout": {
        "boxmode": "group",
        "legend": {
         "tracegroupgap": 0
        },
        "template": {
         "data": {
          "bar": [
           {
            "error_x": {
             "color": "#2a3f5f"
            },
            "error_y": {
             "color": "#2a3f5f"
            },
            "marker": {
             "line": {
              "color": "#E5ECF6",
              "width": 0.5
             },
             "pattern": {
              "fillmode": "overlay",
              "size": 10,
              "solidity": 0.2
             }
            },
            "type": "bar"
           }
          ],
          "barpolar": [
           {
            "marker": {
             "line": {
              "color": "#E5ECF6",
              "width": 0.5
             },
             "pattern": {
              "fillmode": "overlay",
              "size": 10,
              "solidity": 0.2
             }
            },
            "type": "barpolar"
           }
          ],
          "carpet": [
           {
            "aaxis": {
             "endlinecolor": "#2a3f5f",
             "gridcolor": "white",
             "linecolor": "white",
             "minorgridcolor": "white",
             "startlinecolor": "#2a3f5f"
            },
            "baxis": {
             "endlinecolor": "#2a3f5f",
             "gridcolor": "white",
             "linecolor": "white",
             "minorgridcolor": "white",
             "startlinecolor": "#2a3f5f"
            },
            "type": "carpet"
           }
          ],
          "choropleth": [
           {
            "colorbar": {
             "outlinewidth": 0,
             "ticks": ""
            },
            "type": "choropleth"
           }
          ],
          "contour": [
           {
            "colorbar": {
             "outlinewidth": 0,
             "ticks": ""
            },
            "colorscale": [
             [
              0,
              "#0d0887"
             ],
             [
              0.1111111111111111,
              "#46039f"
             ],
             [
              0.2222222222222222,
              "#7201a8"
             ],
             [
              0.3333333333333333,
              "#9c179e"
             ],
             [
              0.4444444444444444,
              "#bd3786"
             ],
             [
              0.5555555555555556,
              "#d8576b"
             ],
             [
              0.6666666666666666,
              "#ed7953"
             ],
             [
              0.7777777777777778,
              "#fb9f3a"
             ],
             [
              0.8888888888888888,
              "#fdca26"
             ],
             [
              1,
              "#f0f921"
             ]
            ],
            "type": "contour"
           }
          ],
          "contourcarpet": [
           {
            "colorbar": {
             "outlinewidth": 0,
             "ticks": ""
            },
            "type": "contourcarpet"
           }
          ],
          "heatmap": [
           {
            "colorbar": {
             "outlinewidth": 0,
             "ticks": ""
            },
            "colorscale": [
             [
              0,
              "#0d0887"
             ],
             [
              0.1111111111111111,
              "#46039f"
             ],
             [
              0.2222222222222222,
              "#7201a8"
             ],
             [
              0.3333333333333333,
              "#9c179e"
             ],
             [
              0.4444444444444444,
              "#bd3786"
             ],
             [
              0.5555555555555556,
              "#d8576b"
             ],
             [
              0.6666666666666666,
              "#ed7953"
             ],
             [
              0.7777777777777778,
              "#fb9f3a"
             ],
             [
              0.8888888888888888,
              "#fdca26"
             ],
             [
              1,
              "#f0f921"
             ]
            ],
            "type": "heatmap"
           }
          ],
          "heatmapgl": [
           {
            "colorbar": {
             "outlinewidth": 0,
             "ticks": ""
            },
            "colorscale": [
             [
              0,
              "#0d0887"
             ],
             [
              0.1111111111111111,
              "#46039f"
             ],
             [
              0.2222222222222222,
              "#7201a8"
             ],
             [
              0.3333333333333333,
              "#9c179e"
             ],
             [
              0.4444444444444444,
              "#bd3786"
             ],
             [
              0.5555555555555556,
              "#d8576b"
             ],
             [
              0.6666666666666666,
              "#ed7953"
             ],
             [
              0.7777777777777778,
              "#fb9f3a"
             ],
             [
              0.8888888888888888,
              "#fdca26"
             ],
             [
              1,
              "#f0f921"
             ]
            ],
            "type": "heatmapgl"
           }
          ],
          "histogram": [
           {
            "marker": {
             "pattern": {
              "fillmode": "overlay",
              "size": 10,
              "solidity": 0.2
             }
            },
            "type": "histogram"
           }
          ],
          "histogram2d": [
           {
            "colorbar": {
             "outlinewidth": 0,
             "ticks": ""
            },
            "colorscale": [
             [
              0,
              "#0d0887"
             ],
             [
              0.1111111111111111,
              "#46039f"
             ],
             [
              0.2222222222222222,
              "#7201a8"
             ],
             [
              0.3333333333333333,
              "#9c179e"
             ],
             [
              0.4444444444444444,
              "#bd3786"
             ],
             [
              0.5555555555555556,
              "#d8576b"
             ],
             [
              0.6666666666666666,
              "#ed7953"
             ],
             [
              0.7777777777777778,
              "#fb9f3a"
             ],
             [
              0.8888888888888888,
              "#fdca26"
             ],
             [
              1,
              "#f0f921"
             ]
            ],
            "type": "histogram2d"
           }
          ],
          "histogram2dcontour": [
           {
            "colorbar": {
             "outlinewidth": 0,
             "ticks": ""
            },
            "colorscale": [
             [
              0,
              "#0d0887"
             ],
             [
              0.1111111111111111,
              "#46039f"
             ],
             [
              0.2222222222222222,
              "#7201a8"
             ],
             [
              0.3333333333333333,
              "#9c179e"
             ],
             [
              0.4444444444444444,
              "#bd3786"
             ],
             [
              0.5555555555555556,
              "#d8576b"
             ],
             [
              0.6666666666666666,
              "#ed7953"
             ],
             [
              0.7777777777777778,
              "#fb9f3a"
             ],
             [
              0.8888888888888888,
              "#fdca26"
             ],
             [
              1,
              "#f0f921"
             ]
            ],
            "type": "histogram2dcontour"
           }
          ],
          "mesh3d": [
           {
            "colorbar": {
             "outlinewidth": 0,
             "ticks": ""
            },
            "type": "mesh3d"
           }
          ],
          "parcoords": [
           {
            "line": {
             "colorbar": {
              "outlinewidth": 0,
              "ticks": ""
             }
            },
            "type": "parcoords"
           }
          ],
          "pie": [
           {
            "automargin": true,
            "type": "pie"
           }
          ],
          "scatter": [
           {
            "fillpattern": {
             "fillmode": "overlay",
             "size": 10,
             "solidity": 0.2
            },
            "type": "scatter"
           }
          ],
          "scatter3d": [
           {
            "line": {
             "colorbar": {
              "outlinewidth": 0,
              "ticks": ""
             }
            },
            "marker": {
             "colorbar": {
              "outlinewidth": 0,
              "ticks": ""
             }
            },
            "type": "scatter3d"
           }
          ],
          "scattercarpet": [
           {
            "marker": {
             "colorbar": {
              "outlinewidth": 0,
              "ticks": ""
             }
            },
            "type": "scattercarpet"
           }
          ],
          "scattergeo": [
           {
            "marker": {
             "colorbar": {
              "outlinewidth": 0,
              "ticks": ""
             }
            },
            "type": "scattergeo"
           }
          ],
          "scattergl": [
           {
            "marker": {
             "colorbar": {
              "outlinewidth": 0,
              "ticks": ""
             }
            },
            "type": "scattergl"
           }
          ],
          "scattermapbox": [
           {
            "marker": {
             "colorbar": {
              "outlinewidth": 0,
              "ticks": ""
             }
            },
            "type": "scattermapbox"
           }
          ],
          "scatterpolar": [
           {
            "marker": {
             "colorbar": {
              "outlinewidth": 0,
              "ticks": ""
             }
            },
            "type": "scatterpolar"
           }
          ],
          "scatterpolargl": [
           {
            "marker": {
             "colorbar": {
              "outlinewidth": 0,
              "ticks": ""
             }
            },
            "type": "scatterpolargl"
           }
          ],
          "scatterternary": [
           {
            "marker": {
             "colorbar": {
              "outlinewidth": 0,
              "ticks": ""
             }
            },
            "type": "scatterternary"
           }
          ],
          "surface": [
           {
            "colorbar": {
             "outlinewidth": 0,
             "ticks": ""
            },
            "colorscale": [
             [
              0,
              "#0d0887"
             ],
             [
              0.1111111111111111,
              "#46039f"
             ],
             [
              0.2222222222222222,
              "#7201a8"
             ],
             [
              0.3333333333333333,
              "#9c179e"
             ],
             [
              0.4444444444444444,
              "#bd3786"
             ],
             [
              0.5555555555555556,
              "#d8576b"
             ],
             [
              0.6666666666666666,
              "#ed7953"
             ],
             [
              0.7777777777777778,
              "#fb9f3a"
             ],
             [
              0.8888888888888888,
              "#fdca26"
             ],
             [
              1,
              "#f0f921"
             ]
            ],
            "type": "surface"
           }
          ],
          "table": [
           {
            "cells": {
             "fill": {
              "color": "#EBF0F8"
             },
             "line": {
              "color": "white"
             }
            },
            "header": {
             "fill": {
              "color": "#C8D4E3"
             },
             "line": {
              "color": "white"
             }
            },
            "type": "table"
           }
          ]
         },
         "layout": {
          "annotationdefaults": {
           "arrowcolor": "#2a3f5f",
           "arrowhead": 0,
           "arrowwidth": 1
          },
          "autotypenumbers": "strict",
          "coloraxis": {
           "colorbar": {
            "outlinewidth": 0,
            "ticks": ""
           }
          },
          "colorscale": {
           "diverging": [
            [
             0,
             "#8e0152"
            ],
            [
             0.1,
             "#c51b7d"
            ],
            [
             0.2,
             "#de77ae"
            ],
            [
             0.3,
             "#f1b6da"
            ],
            [
             0.4,
             "#fde0ef"
            ],
            [
             0.5,
             "#f7f7f7"
            ],
            [
             0.6,
             "#e6f5d0"
            ],
            [
             0.7,
             "#b8e186"
            ],
            [
             0.8,
             "#7fbc41"
            ],
            [
             0.9,
             "#4d9221"
            ],
            [
             1,
             "#276419"
            ]
           ],
           "sequential": [
            [
             0,
             "#0d0887"
            ],
            [
             0.1111111111111111,
             "#46039f"
            ],
            [
             0.2222222222222222,
             "#7201a8"
            ],
            [
             0.3333333333333333,
             "#9c179e"
            ],
            [
             0.4444444444444444,
             "#bd3786"
            ],
            [
             0.5555555555555556,
             "#d8576b"
            ],
            [
             0.6666666666666666,
             "#ed7953"
            ],
            [
             0.7777777777777778,
             "#fb9f3a"
            ],
            [
             0.8888888888888888,
             "#fdca26"
            ],
            [
             1,
             "#f0f921"
            ]
           ],
           "sequentialminus": [
            [
             0,
             "#0d0887"
            ],
            [
             0.1111111111111111,
             "#46039f"
            ],
            [
             0.2222222222222222,
             "#7201a8"
            ],
            [
             0.3333333333333333,
             "#9c179e"
            ],
            [
             0.4444444444444444,
             "#bd3786"
            ],
            [
             0.5555555555555556,
             "#d8576b"
            ],
            [
             0.6666666666666666,
             "#ed7953"
            ],
            [
             0.7777777777777778,
             "#fb9f3a"
            ],
            [
             0.8888888888888888,
             "#fdca26"
            ],
            [
             1,
             "#f0f921"
            ]
           ]
          },
          "colorway": [
           "#636efa",
           "#EF553B",
           "#00cc96",
           "#ab63fa",
           "#FFA15A",
           "#19d3f3",
           "#FF6692",
           "#B6E880",
           "#FF97FF",
           "#FECB52"
          ],
          "font": {
           "color": "#2a3f5f"
          },
          "geo": {
           "bgcolor": "white",
           "lakecolor": "white",
           "landcolor": "#E5ECF6",
           "showlakes": true,
           "showland": true,
           "subunitcolor": "white"
          },
          "hoverlabel": {
           "align": "left"
          },
          "hovermode": "closest",
          "mapbox": {
           "style": "light"
          },
          "paper_bgcolor": "white",
          "plot_bgcolor": "#E5ECF6",
          "polar": {
           "angularaxis": {
            "gridcolor": "white",
            "linecolor": "white",
            "ticks": ""
           },
           "bgcolor": "#E5ECF6",
           "radialaxis": {
            "gridcolor": "white",
            "linecolor": "white",
            "ticks": ""
           }
          },
          "scene": {
           "xaxis": {
            "backgroundcolor": "#E5ECF6",
            "gridcolor": "white",
            "gridwidth": 2,
            "linecolor": "white",
            "showbackground": true,
            "ticks": "",
            "zerolinecolor": "white"
           },
           "yaxis": {
            "backgroundcolor": "#E5ECF6",
            "gridcolor": "white",
            "gridwidth": 2,
            "linecolor": "white",
            "showbackground": true,
            "ticks": "",
            "zerolinecolor": "white"
           },
           "zaxis": {
            "backgroundcolor": "#E5ECF6",
            "gridcolor": "white",
            "gridwidth": 2,
            "linecolor": "white",
            "showbackground": true,
            "ticks": "",
            "zerolinecolor": "white"
           }
          },
          "shapedefaults": {
           "line": {
            "color": "#2a3f5f"
           }
          },
          "ternary": {
           "aaxis": {
            "gridcolor": "white",
            "linecolor": "white",
            "ticks": ""
           },
           "baxis": {
            "gridcolor": "white",
            "linecolor": "white",
            "ticks": ""
           },
           "bgcolor": "#E5ECF6",
           "caxis": {
            "gridcolor": "white",
            "linecolor": "white",
            "ticks": ""
           }
          },
          "title": {
           "x": 0.05
          },
          "xaxis": {
           "automargin": true,
           "gridcolor": "white",
           "linecolor": "white",
           "ticks": "",
           "title": {
            "standoff": 15
           },
           "zerolinecolor": "white",
           "zerolinewidth": 2
          },
          "yaxis": {
           "automargin": true,
           "gridcolor": "white",
           "linecolor": "white",
           "ticks": "",
           "title": {
            "standoff": 15
           },
           "zerolinecolor": "white",
           "zerolinewidth": 2
          }
         }
        },
        "title": {
         "text": "Distribution of Injured"
        },
        "xaxis": {
         "anchor": "y",
         "domain": [
          0,
          1
         ]
        },
        "yaxis": {
         "anchor": "x",
         "domain": [
          0,
          1
         ],
         "title": {
          "text": "Injured Min"
         }
        }
       }
      }
     },
     "metadata": {},
     "output_type": "display_data"
    }
   ],
   "source": [
    "# 10. Casualty Distribution\n",
    "fig9 = px.box(df_cleaned, y='Killed Min', title='Distribution of Killed')\n",
    "fig9.show()\n",
    "\n",
    "fig10 = px.box(df_cleaned, y='Injured Min', title='Distribution of Injured')\n",
    "fig10.show()"
   ]
  },
  {
   "cell_type": "markdown",
   "metadata": {},
   "source": [
    "# Casualty Analysis\n"
   ]
  },
  {
   "cell_type": "code",
   "execution_count": 15,
   "metadata": {},
   "outputs": [
    {
     "data": {
      "application/vnd.plotly.v1+json": {
       "config": {
        "plotlyServerURL": "https://plot.ly"
       },
       "data": [
        {
         "name": "Killed",
         "type": "bar",
         "x": [
          1995,
          2000,
          2002,
          2002,
          2003,
          2003,
          2004,
          2004,
          2004,
          2004,
          2004,
          2004,
          2004,
          2004,
          2005,
          2005,
          2005,
          2005,
          2006,
          2006,
          2006,
          2006,
          2006,
          2006,
          2006,
          2006,
          2006,
          2007,
          2007,
          2007,
          2007,
          2007,
          2007,
          2007,
          2007,
          2007,
          2007,
          2007,
          2007,
          2007,
          2007,
          2007,
          2007,
          2007,
          2007,
          2007,
          2007,
          2007,
          2007,
          2007,
          2007,
          2007,
          2007,
          2007,
          2007,
          2007,
          2007,
          2007,
          2007,
          2007,
          2007,
          2007,
          2007,
          2007,
          2007,
          2007,
          2007,
          2007,
          2007,
          2007,
          2007,
          2007,
          2007,
          2007,
          2007,
          2007,
          2007,
          2007,
          2007,
          2007,
          2007,
          2007,
          2007,
          2007,
          2008,
          2008,
          2008,
          2008,
          2008,
          2008,
          2008,
          2008,
          2008,
          2008,
          2008,
          2008,
          2008,
          2008,
          2008,
          2008,
          2008,
          2008,
          2008,
          2008,
          2008,
          2008,
          2008,
          2008,
          2008,
          2008,
          2008,
          2008,
          2008,
          2008,
          2008,
          2008,
          2008,
          2008,
          2008,
          2008,
          2008,
          2008,
          2008,
          2008,
          2008,
          2008,
          2008,
          2008,
          2008,
          2008,
          2008,
          2008,
          2008,
          2008,
          2008,
          2008,
          2008,
          2008,
          2008,
          2008,
          2008,
          2008,
          2008,
          2008,
          2008,
          2009,
          2009,
          2009,
          2009,
          2009,
          2009,
          2009,
          2009,
          2009,
          2009,
          2009,
          2009,
          2009,
          2009,
          2009,
          2009,
          2009,
          2009,
          2009,
          2009,
          2009,
          2009,
          2009,
          2009,
          2009,
          2009,
          2009,
          2009,
          2009,
          2009,
          2009,
          2009,
          2009,
          2009,
          2009,
          2009,
          2009,
          2009,
          2009,
          2009,
          2009,
          2009,
          2009,
          2009,
          2009,
          2009,
          2009,
          2009,
          2009,
          2009,
          2009,
          2009,
          2009,
          2009,
          2009,
          2009,
          2009,
          2009,
          2009,
          2009,
          2009,
          2009,
          2009,
          2009,
          2009,
          2009,
          2009,
          2009,
          2009,
          2009,
          2009,
          2009,
          2009,
          2009,
          2009,
          2009,
          2009,
          2009,
          2009,
          2009,
          2009,
          2009,
          2009,
          2009,
          2009,
          2009,
          2009,
          2009,
          2009,
          2009,
          2010,
          2010,
          2010,
          2010,
          2010,
          2010,
          2010,
          2010,
          2010,
          2010,
          2010,
          2010,
          2010,
          2010,
          2010,
          2010,
          2010,
          2010,
          2010,
          2010,
          2010,
          2010,
          2010,
          2010,
          2010,
          2010,
          2010,
          2010,
          2010,
          2010,
          2010,
          2010,
          2010,
          2010,
          2010,
          2010,
          2010,
          2010,
          2010,
          2010,
          2010,
          2010,
          2010,
          2010,
          2010,
          2010,
          2010,
          2010,
          2010,
          2010,
          2010,
          2010,
          2010,
          2010,
          2010,
          2010,
          2010,
          2011,
          2011,
          2011,
          2011,
          2011,
          2011,
          2011,
          2011,
          2011,
          2011,
          2011,
          2011,
          2011,
          2011,
          2011,
          2011,
          2011,
          2011,
          2011,
          2011,
          2011,
          2011,
          2011,
          2011,
          2011,
          2011,
          2011,
          2011,
          2011,
          2011,
          2011,
          2011,
          2011,
          2011,
          2011,
          2011,
          2011,
          2011,
          2011,
          2011,
          2011,
          2011,
          2011,
          2011,
          2012,
          2012,
          2012,
          2012,
          2012,
          2012,
          2012,
          2012,
          2012,
          2012,
          2012,
          2012,
          2012,
          2012,
          2012,
          2012,
          2012,
          2012,
          2012,
          2012,
          2012,
          2012,
          2012,
          2012,
          2012,
          2012,
          2012,
          2012,
          2012,
          2012,
          2012,
          2012,
          2013,
          2013,
          2013,
          2013,
          2013,
          2013,
          2013,
          2013,
          2013,
          2013,
          2013,
          2013,
          2013,
          2013,
          2013,
          2013,
          2013,
          2013,
          2013,
          2013,
          2013,
          2013,
          2013,
          2013,
          2013,
          2013,
          2013,
          2013,
          2013,
          2013,
          2013,
          2013,
          2013,
          2013,
          2013,
          2013,
          2013,
          2013,
          2013,
          2013,
          2013,
          2014,
          2014,
          2014,
          2014,
          2014,
          2014,
          2014,
          2014,
          2014,
          2014,
          2014,
          2014,
          2014,
          2014,
          2014,
          2014,
          2014,
          2014,
          2014,
          2014,
          2014,
          2014,
          2014,
          2014,
          2014,
          2014,
          2014,
          2015,
          2015,
          2015,
          2015,
          2015,
          2015,
          2015,
          2015,
          2015,
          2015,
          2015,
          2015,
          2015,
          2015,
          2015,
          2009,
          2009,
          2009,
          2009,
          2009,
          2009,
          2009,
          2009,
          2009,
          2009,
          2009,
          2009,
          2009,
          2009,
          2009,
          2009,
          2016,
          2009,
          2009,
          2009,
          2009,
          2009,
          2009,
          2009,
          2009,
          2009,
          2009,
          2009,
          2009,
          2009,
          2009,
          2009,
          2009,
          2009,
          2009,
          2009,
          2009,
          2009,
          2009,
          2009,
          2009,
          2009,
          2009,
          2009,
          2009,
          2014,
          2014,
          2014,
          2015,
          2015,
          2015,
          2015,
          2015,
          2015,
          2015,
          2015,
          2015,
          2015,
          2009,
          2009,
          2009,
          2009,
          2009,
          2009,
          2009,
          2009,
          2009,
          2009,
          2009,
          2009,
          2009
         ],
         "y": [
          14,
          8,
          13,
          8,
          44,
          16,
          8,
          14,
          16,
          8,
          2,
          8,
          25,
          4,
          25,
          8,
          20,
          5,
          37,
          4,
          47,
          6,
          6,
          8,
          40,
          8,
          8,
          4,
          1,
          13,
          2,
          8,
          8,
          8,
          16,
          1,
          25,
          22,
          8,
          8,
          6,
          2,
          23,
          25,
          17,
          16,
          8,
          28,
          6,
          15,
          8,
          14,
          8,
          9,
          8,
          8,
          8,
          3,
          6,
          8,
          3,
          8,
          18,
          8,
          17,
          15,
          8,
          8,
          125,
          20,
          7,
          8,
          3,
          17,
          8,
          8,
          10,
          8,
          5,
          5,
          8,
          8,
          9,
          21,
          8,
          24,
          1,
          10,
          5,
          8,
          8,
          25,
          6,
          2,
          38,
          8,
          38,
          8,
          40,
          4,
          26,
          3,
          2,
          8,
          8,
          3,
          8,
          11,
          8,
          15,
          8,
          8,
          30,
          70,
          7,
          2,
          30,
          2,
          7,
          40,
          9,
          1,
          4,
          22,
          8,
          8,
          40,
          8,
          11,
          8,
          9,
          8,
          8,
          8,
          16,
          3,
          8,
          8,
          8,
          8,
          8,
          5,
          6,
          8,
          34,
          7,
          8,
          8,
          30,
          8,
          8,
          8,
          30,
          8,
          8,
          5,
          4,
          12,
          8,
          7,
          70,
          8,
          8,
          8,
          22,
          16,
          21,
          7,
          10,
          6,
          26,
          3,
          3,
          8,
          2,
          11,
          1,
          5,
          4,
          8,
          8,
          1,
          8,
          8,
          8,
          8,
          4,
          3,
          8,
          3,
          8,
          2,
          8,
          20,
          16,
          8,
          8,
          30,
          8,
          8,
          7,
          10,
          4,
          8,
          48,
          8,
          11,
          8,
          14,
          5,
          8,
          8,
          35,
          8,
          12,
          8,
          32,
          10,
          7,
          8,
          8,
          20,
          1,
          8,
          36,
          9,
          38,
          8,
          24,
          8,
          8,
          1,
          4,
          8,
          10,
          88,
          8,
          8,
          8,
          8,
          4,
          16,
          17,
          8,
          22,
          8,
          7,
          8,
          12,
          13,
          43,
          14,
          8,
          8,
          6,
          50,
          8,
          41,
          8,
          23,
          4,
          3,
          8,
          80,
          40,
          65,
          8,
          3,
          8,
          3,
          26,
          27,
          54,
          8,
          15,
          2,
          6,
          8,
          2,
          61,
          16,
          8,
          8,
          2,
          40,
          8,
          18,
          10,
          8,
          8,
          42,
          8,
          18,
          11,
          8,
          5,
          28,
          8,
          1,
          8,
          8,
          5,
          37,
          5,
          10,
          8,
          8,
          42,
          7,
          8,
          8,
          82,
          8,
          8,
          28,
          8,
          18,
          32,
          1,
          8,
          8,
          8,
          8,
          8,
          0,
          47,
          11,
          3,
          26,
          26,
          8,
          8,
          8,
          5,
          8,
          4,
          8,
          8,
          8,
          4,
          3,
          21,
          1,
          0,
          0,
          8,
          14,
          1,
          5,
          4,
          24,
          2,
          13,
          2,
          0,
          14,
          13,
          5,
          6,
          0,
          0,
          3,
          12,
          5,
          5,
          8,
          2,
          8,
          51,
          24,
          7,
          0,
          64,
          5,
          2,
          8,
          5,
          16,
          7,
          4,
          6,
          8,
          1,
          12,
          2,
          2,
          6,
          3,
          8,
          12,
          11,
          27,
          14,
          28,
          6,
          8,
          43,
          30,
          78,
          6,
          15,
          2,
          8,
          0,
          7,
          0,
          3,
          5,
          2,
          2,
          2,
          3,
          13,
          8,
          3,
          9,
          0,
          4,
          11,
          2,
          11,
          8,
          2,
          4,
          5,
          23,
          8,
          1,
          3,
          4,
          5,
          8,
          2,
          45,
          8,
          8,
          60,
          8,
          5,
          8,
          8,
          2,
          2,
          1,
          8,
          1,
          8,
          7,
          1,
          1,
          1,
          16,
          4,
          3,
          1,
          7,
          10,
          22,
          21,
          15,
          10,
          0,
          9,
          10,
          70,
          2,
          1,
          1,
          70,
          13,
          0,
          16,
          58,
          45,
          2,
          0,
          14,
          5,
          1,
          1,
          70,
          6,
          6,
          25,
          1,
          30,
          1,
          1,
          1,
          26,
          15,
          21,
          7,
          2,
          1,
          4,
          8,
          8,
          8,
          60,
          5,
          8,
          2,
          2,
          8,
          1,
          7,
          1,
          1,
          16,
          3,
          7,
          10,
          70,
          25,
          30,
          1,
          1,
          1,
          26,
          15,
          21
         ]
        },
        {
         "name": "Injured",
         "type": "bar",
         "x": [
          1995,
          2000,
          2002,
          2002,
          2003,
          2003,
          2004,
          2004,
          2004,
          2004,
          2004,
          2004,
          2004,
          2004,
          2005,
          2005,
          2005,
          2005,
          2006,
          2006,
          2006,
          2006,
          2006,
          2006,
          2006,
          2006,
          2006,
          2007,
          2007,
          2007,
          2007,
          2007,
          2007,
          2007,
          2007,
          2007,
          2007,
          2007,
          2007,
          2007,
          2007,
          2007,
          2007,
          2007,
          2007,
          2007,
          2007,
          2007,
          2007,
          2007,
          2007,
          2007,
          2007,
          2007,
          2007,
          2007,
          2007,
          2007,
          2007,
          2007,
          2007,
          2007,
          2007,
          2007,
          2007,
          2007,
          2007,
          2007,
          2007,
          2007,
          2007,
          2007,
          2007,
          2007,
          2007,
          2007,
          2007,
          2007,
          2007,
          2007,
          2007,
          2007,
          2007,
          2007,
          2008,
          2008,
          2008,
          2008,
          2008,
          2008,
          2008,
          2008,
          2008,
          2008,
          2008,
          2008,
          2008,
          2008,
          2008,
          2008,
          2008,
          2008,
          2008,
          2008,
          2008,
          2008,
          2008,
          2008,
          2008,
          2008,
          2008,
          2008,
          2008,
          2008,
          2008,
          2008,
          2008,
          2008,
          2008,
          2008,
          2008,
          2008,
          2008,
          2008,
          2008,
          2008,
          2008,
          2008,
          2008,
          2008,
          2008,
          2008,
          2008,
          2008,
          2008,
          2008,
          2008,
          2008,
          2008,
          2008,
          2008,
          2008,
          2008,
          2008,
          2008,
          2009,
          2009,
          2009,
          2009,
          2009,
          2009,
          2009,
          2009,
          2009,
          2009,
          2009,
          2009,
          2009,
          2009,
          2009,
          2009,
          2009,
          2009,
          2009,
          2009,
          2009,
          2009,
          2009,
          2009,
          2009,
          2009,
          2009,
          2009,
          2009,
          2009,
          2009,
          2009,
          2009,
          2009,
          2009,
          2009,
          2009,
          2009,
          2009,
          2009,
          2009,
          2009,
          2009,
          2009,
          2009,
          2009,
          2009,
          2009,
          2009,
          2009,
          2009,
          2009,
          2009,
          2009,
          2009,
          2009,
          2009,
          2009,
          2009,
          2009,
          2009,
          2009,
          2009,
          2009,
          2009,
          2009,
          2009,
          2009,
          2009,
          2009,
          2009,
          2009,
          2009,
          2009,
          2009,
          2009,
          2009,
          2009,
          2009,
          2009,
          2009,
          2009,
          2009,
          2009,
          2009,
          2009,
          2009,
          2009,
          2009,
          2009,
          2010,
          2010,
          2010,
          2010,
          2010,
          2010,
          2010,
          2010,
          2010,
          2010,
          2010,
          2010,
          2010,
          2010,
          2010,
          2010,
          2010,
          2010,
          2010,
          2010,
          2010,
          2010,
          2010,
          2010,
          2010,
          2010,
          2010,
          2010,
          2010,
          2010,
          2010,
          2010,
          2010,
          2010,
          2010,
          2010,
          2010,
          2010,
          2010,
          2010,
          2010,
          2010,
          2010,
          2010,
          2010,
          2010,
          2010,
          2010,
          2010,
          2010,
          2010,
          2010,
          2010,
          2010,
          2010,
          2010,
          2010,
          2011,
          2011,
          2011,
          2011,
          2011,
          2011,
          2011,
          2011,
          2011,
          2011,
          2011,
          2011,
          2011,
          2011,
          2011,
          2011,
          2011,
          2011,
          2011,
          2011,
          2011,
          2011,
          2011,
          2011,
          2011,
          2011,
          2011,
          2011,
          2011,
          2011,
          2011,
          2011,
          2011,
          2011,
          2011,
          2011,
          2011,
          2011,
          2011,
          2011,
          2011,
          2011,
          2011,
          2011,
          2012,
          2012,
          2012,
          2012,
          2012,
          2012,
          2012,
          2012,
          2012,
          2012,
          2012,
          2012,
          2012,
          2012,
          2012,
          2012,
          2012,
          2012,
          2012,
          2012,
          2012,
          2012,
          2012,
          2012,
          2012,
          2012,
          2012,
          2012,
          2012,
          2012,
          2012,
          2012,
          2013,
          2013,
          2013,
          2013,
          2013,
          2013,
          2013,
          2013,
          2013,
          2013,
          2013,
          2013,
          2013,
          2013,
          2013,
          2013,
          2013,
          2013,
          2013,
          2013,
          2013,
          2013,
          2013,
          2013,
          2013,
          2013,
          2013,
          2013,
          2013,
          2013,
          2013,
          2013,
          2013,
          2013,
          2013,
          2013,
          2013,
          2013,
          2013,
          2013,
          2013,
          2014,
          2014,
          2014,
          2014,
          2014,
          2014,
          2014,
          2014,
          2014,
          2014,
          2014,
          2014,
          2014,
          2014,
          2014,
          2014,
          2014,
          2014,
          2014,
          2014,
          2014,
          2014,
          2014,
          2014,
          2014,
          2014,
          2014,
          2015,
          2015,
          2015,
          2015,
          2015,
          2015,
          2015,
          2015,
          2015,
          2015,
          2015,
          2015,
          2015,
          2015,
          2015,
          2009,
          2009,
          2009,
          2009,
          2009,
          2009,
          2009,
          2009,
          2009,
          2009,
          2009,
          2009,
          2009,
          2009,
          2009,
          2009,
          2016,
          2009,
          2009,
          2009,
          2009,
          2009,
          2009,
          2009,
          2009,
          2009,
          2009,
          2009,
          2009,
          2009,
          2009,
          2009,
          2009,
          2009,
          2009,
          2009,
          2009,
          2009,
          2009,
          2009,
          2009,
          2009,
          2009,
          2009,
          2009,
          2014,
          2014,
          2014,
          2015,
          2015,
          2015,
          2015,
          2015,
          2015,
          2015,
          2015,
          2015,
          2015,
          2009,
          2009,
          2009,
          2009,
          2009,
          2009,
          2009,
          2009,
          2009,
          2009,
          2009,
          2009,
          2009
         ],
         "y": [
          20,
          20,
          20,
          20,
          20,
          20,
          3,
          96,
          20,
          20,
          20,
          44,
          50,
          6,
          8,
          20,
          82,
          19,
          90,
          30,
          20,
          7,
          20,
          20,
          20,
          20,
          20,
          23,
          5,
          30,
          20,
          20,
          7,
          3,
          30,
          6,
          29,
          12,
          20,
          9,
          4,
          20,
          26,
          50,
          40,
          50,
          2,
          28,
          30,
          8,
          5,
          50,
          5,
          35,
          3,
          20,
          20,
          14,
          22,
          20,
          4,
          20,
          20,
          20,
          16,
          11,
          3,
          29,
          100,
          28,
          18,
          27,
          2,
          20,
          2,
          20,
          20,
          7,
          22,
          11,
          2,
          20,
          20,
          48,
          12,
          73,
          20,
          20,
          13,
          27,
          20,
          35,
          9,
          14,
          109,
          20,
          40,
          20,
          50,
          15,
          175,
          20,
          5,
          9,
          17,
          10,
          3,
          23,
          25,
          20,
          3,
          20,
          33,
          67,
          20,
          25,
          70,
          20,
          5,
          200,
          2,
          22,
          20,
          60,
          6,
          20,
          90,
          20,
          20,
          20,
          21,
          20,
          20,
          20,
          31,
          13,
          10,
          20,
          20,
          20,
          20,
          8,
          8,
          20,
          20,
          21,
          20,
          11,
          48,
          20,
          20,
          17,
          150,
          20,
          20,
          5,
          20,
          16,
          20,
          20,
          100,
          20,
          4,
          20,
          40,
          5,
          26,
          25,
          20,
          25,
          320,
          3,
          8,
          50,
          4,
          50,
          8,
          5,
          63,
          20,
          3,
          10,
          20,
          25,
          2,
          3,
          20,
          20,
          20,
          20,
          20,
          2,
          20,
          10,
          4,
          2,
          3,
          50,
          20,
          20,
          50,
          50,
          20,
          3,
          148,
          45,
          20,
          20,
          15,
          29,
          13,
          20,
          60,
          10,
          35,
          5,
          60,
          47,
          22,
          25,
          20,
          46,
          11,
          10,
          75,
          37,
          100,
          47,
          55,
          20,
          28,
          21,
          24,
          1,
          81,
          37,
          11,
          20,
          20,
          1,
          3,
          26,
          6,
          25,
          30,
          4,
          37,
          23,
          30,
          80,
          90,
          52,
          20,
          5,
          20,
          75,
          35,
          60,
          30,
          27,
          11,
          9,
          20,
          92,
          20,
          104,
          20,
          9,
          23,
          11,
          20,
          150,
          150,
          20,
          34,
          3,
          60,
          5,
          10,
          70,
          100,
          20,
          20,
          6,
          60,
          10,
          20,
          16,
          20,
          20,
          80,
          20,
          15,
          71,
          20,
          14,
          35,
          20,
          20,
          20,
          20,
          30,
          20,
          25,
          12,
          20,
          2,
          100,
          22,
          17,
          5,
          128,
          20,
          41,
          55,
          20,
          28,
          80,
          4,
          3,
          25,
          20,
          20,
          20,
          20,
          70,
          12,
          14,
          60,
          63,
          4,
          20,
          20,
          20,
          20,
          18,
          20,
          19,
          7,
          7,
          7,
          20,
          3,
          20,
          20,
          20,
          30,
          2,
          9,
          12,
          40,
          20,
          20,
          2,
          18,
          40,
          39,
          7,
          28,
          18,
          3,
          4,
          25,
          70,
          10,
          6,
          20,
          17,
          116,
          40,
          8,
          1,
          180,
          7,
          22,
          20,
          11,
          49,
          8,
          4,
          37,
          30,
          2,
          35,
          23,
          3,
          45,
          2,
          2,
          19,
          20,
          52,
          28,
          65,
          10,
          30,
          180,
          50,
          100,
          10,
          22,
          2,
          30,
          7,
          1,
          26,
          14,
          25,
          20,
          30,
          2,
          7,
          15,
          20,
          0,
          25,
          5,
          3,
          36,
          8,
          24,
          32,
          2,
          9,
          5,
          7,
          20,
          5,
          1,
          18,
          12,
          20,
          15,
          70,
          20,
          20,
          20,
          20,
          20,
          20,
          70,
          0,
          20,
          20,
          20,
          20,
          20,
          20,
          4,
          20,
          20,
          23,
          20,
          50,
          2,
          10,
          12,
          40,
          50,
          25,
          20,
          5,
          30,
          27,
          233,
          0,
          10,
          12,
          112,
          52,
          10,
          22,
          100,
          100,
          14,
          2,
          83,
          0,
          4,
          0,
          150,
          15,
          19,
          35,
          0,
          100,
          1,
          1,
          1,
          56,
          40,
          25,
          22,
          8,
          6,
          16,
          20,
          20,
          20,
          20,
          20,
          20,
          0,
          20,
          20,
          20,
          20,
          4,
          20,
          23,
          50,
          10,
          20,
          233,
          35,
          100,
          1,
          1,
          1,
          56,
          40,
          25
         ]
        }
       ],
       "layout": {
        "barmode": "stack",
        "template": {
         "data": {
          "bar": [
           {
            "error_x": {
             "color": "#2a3f5f"
            },
            "error_y": {
             "color": "#2a3f5f"
            },
            "marker": {
             "line": {
              "color": "#E5ECF6",
              "width": 0.5
             },
             "pattern": {
              "fillmode": "overlay",
              "size": 10,
              "solidity": 0.2
             }
            },
            "type": "bar"
           }
          ],
          "barpolar": [
           {
            "marker": {
             "line": {
              "color": "#E5ECF6",
              "width": 0.5
             },
             "pattern": {
              "fillmode": "overlay",
              "size": 10,
              "solidity": 0.2
             }
            },
            "type": "barpolar"
           }
          ],
          "carpet": [
           {
            "aaxis": {
             "endlinecolor": "#2a3f5f",
             "gridcolor": "white",
             "linecolor": "white",
             "minorgridcolor": "white",
             "startlinecolor": "#2a3f5f"
            },
            "baxis": {
             "endlinecolor": "#2a3f5f",
             "gridcolor": "white",
             "linecolor": "white",
             "minorgridcolor": "white",
             "startlinecolor": "#2a3f5f"
            },
            "type": "carpet"
           }
          ],
          "choropleth": [
           {
            "colorbar": {
             "outlinewidth": 0,
             "ticks": ""
            },
            "type": "choropleth"
           }
          ],
          "contour": [
           {
            "colorbar": {
             "outlinewidth": 0,
             "ticks": ""
            },
            "colorscale": [
             [
              0,
              "#0d0887"
             ],
             [
              0.1111111111111111,
              "#46039f"
             ],
             [
              0.2222222222222222,
              "#7201a8"
             ],
             [
              0.3333333333333333,
              "#9c179e"
             ],
             [
              0.4444444444444444,
              "#bd3786"
             ],
             [
              0.5555555555555556,
              "#d8576b"
             ],
             [
              0.6666666666666666,
              "#ed7953"
             ],
             [
              0.7777777777777778,
              "#fb9f3a"
             ],
             [
              0.8888888888888888,
              "#fdca26"
             ],
             [
              1,
              "#f0f921"
             ]
            ],
            "type": "contour"
           }
          ],
          "contourcarpet": [
           {
            "colorbar": {
             "outlinewidth": 0,
             "ticks": ""
            },
            "type": "contourcarpet"
           }
          ],
          "heatmap": [
           {
            "colorbar": {
             "outlinewidth": 0,
             "ticks": ""
            },
            "colorscale": [
             [
              0,
              "#0d0887"
             ],
             [
              0.1111111111111111,
              "#46039f"
             ],
             [
              0.2222222222222222,
              "#7201a8"
             ],
             [
              0.3333333333333333,
              "#9c179e"
             ],
             [
              0.4444444444444444,
              "#bd3786"
             ],
             [
              0.5555555555555556,
              "#d8576b"
             ],
             [
              0.6666666666666666,
              "#ed7953"
             ],
             [
              0.7777777777777778,
              "#fb9f3a"
             ],
             [
              0.8888888888888888,
              "#fdca26"
             ],
             [
              1,
              "#f0f921"
             ]
            ],
            "type": "heatmap"
           }
          ],
          "heatmapgl": [
           {
            "colorbar": {
             "outlinewidth": 0,
             "ticks": ""
            },
            "colorscale": [
             [
              0,
              "#0d0887"
             ],
             [
              0.1111111111111111,
              "#46039f"
             ],
             [
              0.2222222222222222,
              "#7201a8"
             ],
             [
              0.3333333333333333,
              "#9c179e"
             ],
             [
              0.4444444444444444,
              "#bd3786"
             ],
             [
              0.5555555555555556,
              "#d8576b"
             ],
             [
              0.6666666666666666,
              "#ed7953"
             ],
             [
              0.7777777777777778,
              "#fb9f3a"
             ],
             [
              0.8888888888888888,
              "#fdca26"
             ],
             [
              1,
              "#f0f921"
             ]
            ],
            "type": "heatmapgl"
           }
          ],
          "histogram": [
           {
            "marker": {
             "pattern": {
              "fillmode": "overlay",
              "size": 10,
              "solidity": 0.2
             }
            },
            "type": "histogram"
           }
          ],
          "histogram2d": [
           {
            "colorbar": {
             "outlinewidth": 0,
             "ticks": ""
            },
            "colorscale": [
             [
              0,
              "#0d0887"
             ],
             [
              0.1111111111111111,
              "#46039f"
             ],
             [
              0.2222222222222222,
              "#7201a8"
             ],
             [
              0.3333333333333333,
              "#9c179e"
             ],
             [
              0.4444444444444444,
              "#bd3786"
             ],
             [
              0.5555555555555556,
              "#d8576b"
             ],
             [
              0.6666666666666666,
              "#ed7953"
             ],
             [
              0.7777777777777778,
              "#fb9f3a"
             ],
             [
              0.8888888888888888,
              "#fdca26"
             ],
             [
              1,
              "#f0f921"
             ]
            ],
            "type": "histogram2d"
           }
          ],
          "histogram2dcontour": [
           {
            "colorbar": {
             "outlinewidth": 0,
             "ticks": ""
            },
            "colorscale": [
             [
              0,
              "#0d0887"
             ],
             [
              0.1111111111111111,
              "#46039f"
             ],
             [
              0.2222222222222222,
              "#7201a8"
             ],
             [
              0.3333333333333333,
              "#9c179e"
             ],
             [
              0.4444444444444444,
              "#bd3786"
             ],
             [
              0.5555555555555556,
              "#d8576b"
             ],
             [
              0.6666666666666666,
              "#ed7953"
             ],
             [
              0.7777777777777778,
              "#fb9f3a"
             ],
             [
              0.8888888888888888,
              "#fdca26"
             ],
             [
              1,
              "#f0f921"
             ]
            ],
            "type": "histogram2dcontour"
           }
          ],
          "mesh3d": [
           {
            "colorbar": {
             "outlinewidth": 0,
             "ticks": ""
            },
            "type": "mesh3d"
           }
          ],
          "parcoords": [
           {
            "line": {
             "colorbar": {
              "outlinewidth": 0,
              "ticks": ""
             }
            },
            "type": "parcoords"
           }
          ],
          "pie": [
           {
            "automargin": true,
            "type": "pie"
           }
          ],
          "scatter": [
           {
            "fillpattern": {
             "fillmode": "overlay",
             "size": 10,
             "solidity": 0.2
            },
            "type": "scatter"
           }
          ],
          "scatter3d": [
           {
            "line": {
             "colorbar": {
              "outlinewidth": 0,
              "ticks": ""
             }
            },
            "marker": {
             "colorbar": {
              "outlinewidth": 0,
              "ticks": ""
             }
            },
            "type": "scatter3d"
           }
          ],
          "scattercarpet": [
           {
            "marker": {
             "colorbar": {
              "outlinewidth": 0,
              "ticks": ""
             }
            },
            "type": "scattercarpet"
           }
          ],
          "scattergeo": [
           {
            "marker": {
             "colorbar": {
              "outlinewidth": 0,
              "ticks": ""
             }
            },
            "type": "scattergeo"
           }
          ],
          "scattergl": [
           {
            "marker": {
             "colorbar": {
              "outlinewidth": 0,
              "ticks": ""
             }
            },
            "type": "scattergl"
           }
          ],
          "scattermapbox": [
           {
            "marker": {
             "colorbar": {
              "outlinewidth": 0,
              "ticks": ""
             }
            },
            "type": "scattermapbox"
           }
          ],
          "scatterpolar": [
           {
            "marker": {
             "colorbar": {
              "outlinewidth": 0,
              "ticks": ""
             }
            },
            "type": "scatterpolar"
           }
          ],
          "scatterpolargl": [
           {
            "marker": {
             "colorbar": {
              "outlinewidth": 0,
              "ticks": ""
             }
            },
            "type": "scatterpolargl"
           }
          ],
          "scatterternary": [
           {
            "marker": {
             "colorbar": {
              "outlinewidth": 0,
              "ticks": ""
             }
            },
            "type": "scatterternary"
           }
          ],
          "surface": [
           {
            "colorbar": {
             "outlinewidth": 0,
             "ticks": ""
            },
            "colorscale": [
             [
              0,
              "#0d0887"
             ],
             [
              0.1111111111111111,
              "#46039f"
             ],
             [
              0.2222222222222222,
              "#7201a8"
             ],
             [
              0.3333333333333333,
              "#9c179e"
             ],
             [
              0.4444444444444444,
              "#bd3786"
             ],
             [
              0.5555555555555556,
              "#d8576b"
             ],
             [
              0.6666666666666666,
              "#ed7953"
             ],
             [
              0.7777777777777778,
              "#fb9f3a"
             ],
             [
              0.8888888888888888,
              "#fdca26"
             ],
             [
              1,
              "#f0f921"
             ]
            ],
            "type": "surface"
           }
          ],
          "table": [
           {
            "cells": {
             "fill": {
              "color": "#EBF0F8"
             },
             "line": {
              "color": "white"
             }
            },
            "header": {
             "fill": {
              "color": "#C8D4E3"
             },
             "line": {
              "color": "white"
             }
            },
            "type": "table"
           }
          ]
         },
         "layout": {
          "annotationdefaults": {
           "arrowcolor": "#2a3f5f",
           "arrowhead": 0,
           "arrowwidth": 1
          },
          "autotypenumbers": "strict",
          "coloraxis": {
           "colorbar": {
            "outlinewidth": 0,
            "ticks": ""
           }
          },
          "colorscale": {
           "diverging": [
            [
             0,
             "#8e0152"
            ],
            [
             0.1,
             "#c51b7d"
            ],
            [
             0.2,
             "#de77ae"
            ],
            [
             0.3,
             "#f1b6da"
            ],
            [
             0.4,
             "#fde0ef"
            ],
            [
             0.5,
             "#f7f7f7"
            ],
            [
             0.6,
             "#e6f5d0"
            ],
            [
             0.7,
             "#b8e186"
            ],
            [
             0.8,
             "#7fbc41"
            ],
            [
             0.9,
             "#4d9221"
            ],
            [
             1,
             "#276419"
            ]
           ],
           "sequential": [
            [
             0,
             "#0d0887"
            ],
            [
             0.1111111111111111,
             "#46039f"
            ],
            [
             0.2222222222222222,
             "#7201a8"
            ],
            [
             0.3333333333333333,
             "#9c179e"
            ],
            [
             0.4444444444444444,
             "#bd3786"
            ],
            [
             0.5555555555555556,
             "#d8576b"
            ],
            [
             0.6666666666666666,
             "#ed7953"
            ],
            [
             0.7777777777777778,
             "#fb9f3a"
            ],
            [
             0.8888888888888888,
             "#fdca26"
            ],
            [
             1,
             "#f0f921"
            ]
           ],
           "sequentialminus": [
            [
             0,
             "#0d0887"
            ],
            [
             0.1111111111111111,
             "#46039f"
            ],
            [
             0.2222222222222222,
             "#7201a8"
            ],
            [
             0.3333333333333333,
             "#9c179e"
            ],
            [
             0.4444444444444444,
             "#bd3786"
            ],
            [
             0.5555555555555556,
             "#d8576b"
            ],
            [
             0.6666666666666666,
             "#ed7953"
            ],
            [
             0.7777777777777778,
             "#fb9f3a"
            ],
            [
             0.8888888888888888,
             "#fdca26"
            ],
            [
             1,
             "#f0f921"
            ]
           ]
          },
          "colorway": [
           "#636efa",
           "#EF553B",
           "#00cc96",
           "#ab63fa",
           "#FFA15A",
           "#19d3f3",
           "#FF6692",
           "#B6E880",
           "#FF97FF",
           "#FECB52"
          ],
          "font": {
           "color": "#2a3f5f"
          },
          "geo": {
           "bgcolor": "white",
           "lakecolor": "white",
           "landcolor": "#E5ECF6",
           "showlakes": true,
           "showland": true,
           "subunitcolor": "white"
          },
          "hoverlabel": {
           "align": "left"
          },
          "hovermode": "closest",
          "mapbox": {
           "style": "light"
          },
          "paper_bgcolor": "white",
          "plot_bgcolor": "#E5ECF6",
          "polar": {
           "angularaxis": {
            "gridcolor": "white",
            "linecolor": "white",
            "ticks": ""
           },
           "bgcolor": "#E5ECF6",
           "radialaxis": {
            "gridcolor": "white",
            "linecolor": "white",
            "ticks": ""
           }
          },
          "scene": {
           "xaxis": {
            "backgroundcolor": "#E5ECF6",
            "gridcolor": "white",
            "gridwidth": 2,
            "linecolor": "white",
            "showbackground": true,
            "ticks": "",
            "zerolinecolor": "white"
           },
           "yaxis": {
            "backgroundcolor": "#E5ECF6",
            "gridcolor": "white",
            "gridwidth": 2,
            "linecolor": "white",
            "showbackground": true,
            "ticks": "",
            "zerolinecolor": "white"
           },
           "zaxis": {
            "backgroundcolor": "#E5ECF6",
            "gridcolor": "white",
            "gridwidth": 2,
            "linecolor": "white",
            "showbackground": true,
            "ticks": "",
            "zerolinecolor": "white"
           }
          },
          "shapedefaults": {
           "line": {
            "color": "#2a3f5f"
           }
          },
          "ternary": {
           "aaxis": {
            "gridcolor": "white",
            "linecolor": "white",
            "ticks": ""
           },
           "baxis": {
            "gridcolor": "white",
            "linecolor": "white",
            "ticks": ""
           },
           "bgcolor": "#E5ECF6",
           "caxis": {
            "gridcolor": "white",
            "linecolor": "white",
            "ticks": ""
           }
          },
          "title": {
           "x": 0.05
          },
          "xaxis": {
           "automargin": true,
           "gridcolor": "white",
           "linecolor": "white",
           "ticks": "",
           "title": {
            "standoff": 15
           },
           "zerolinecolor": "white",
           "zerolinewidth": 2
          },
          "yaxis": {
           "automargin": true,
           "gridcolor": "white",
           "linecolor": "white",
           "ticks": "",
           "title": {
            "standoff": 15
           },
           "zerolinecolor": "white",
           "zerolinewidth": 2
          }
         }
        },
        "title": {
         "text": "Killed vs. Injured Over Time"
        }
       }
      }
     },
     "metadata": {},
     "output_type": "display_data"
    },
    {
     "data": {
      "application/vnd.plotly.v1+json": {
       "config": {
        "plotlyServerURL": "https://plot.ly"
       },
       "data": [
        {
         "alignmentgroup": "True",
         "bingroup": "x",
         "hovertemplate": "Casualty Ratio=%{x}<br>count=%{y}<extra></extra>",
         "legendgroup": "",
         "marker": {
          "color": "#636efa",
          "pattern": {
           "shape": ""
          }
         },
         "name": "",
         "offsetgroup": "",
         "orientation": "v",
         "showlegend": false,
         "type": "histogram",
         "x": [
          0.7,
          0.4,
          0.65,
          0.4,
          2.2,
          0.8,
          2.6666666666666665,
          0.14583333333333334,
          0.8,
          0.4,
          0.1,
          0.18181818181818182,
          0.5,
          0.6666666666666666,
          3.125,
          0.4,
          0.24390243902439024,
          0.2631578947368421,
          0.4111111111111111,
          0.13333333333333333,
          2.35,
          0.8571428571428571,
          0.3,
          0.4,
          2,
          0.4,
          0.4,
          0.17391304347826086,
          0.2,
          0.43333333333333335,
          0.1,
          0.4,
          1.1428571428571428,
          2.6666666666666665,
          0.5333333333333333,
          0.16666666666666666,
          0.8620689655172413,
          1.8333333333333333,
          0.4,
          0.8888888888888888,
          1.5,
          0.1,
          0.8846153846153846,
          0.5,
          0.425,
          0.32,
          4,
          1,
          0.2,
          1.875,
          1.6,
          0.28,
          1.6,
          0.2571428571428571,
          2.6666666666666665,
          0.4,
          0.4,
          0.21428571428571427,
          0.2727272727272727,
          0.4,
          0.75,
          0.4,
          0.9,
          0.4,
          1.0625,
          1.3636363636363635,
          2.6666666666666665,
          0.27586206896551724,
          1.25,
          0.7142857142857143,
          0.3888888888888889,
          0.2962962962962963,
          1.5,
          0.85,
          4,
          0.4,
          0.5,
          1.1428571428571428,
          0.22727272727272727,
          0.45454545454545453,
          4,
          0.4,
          0.45,
          0.4375,
          0.6666666666666666,
          0.3287671232876712,
          0.05,
          0.5,
          0.38461538461538464,
          0.2962962962962963,
          0.4,
          0.7142857142857143,
          0.6666666666666666,
          0.14285714285714285,
          0.3486238532110092,
          0.4,
          0.95,
          0.4,
          0.8,
          0.26666666666666666,
          0.14857142857142858,
          0.15,
          0.4,
          0.8888888888888888,
          0.47058823529411764,
          0.3,
          2.6666666666666665,
          0.4782608695652174,
          0.32,
          0.75,
          2.6666666666666665,
          0.4,
          0.9090909090909091,
          1.044776119402985,
          0.35,
          0.08,
          0.42857142857142855,
          0.1,
          1.4,
          0.2,
          4.5,
          0.045454545454545456,
          0.2,
          0.36666666666666664,
          1.3333333333333333,
          0.4,
          0.4444444444444444,
          0.4,
          0.55,
          0.4,
          0.42857142857142855,
          0.4,
          0.4,
          0.4,
          0.5161290322580645,
          0.23076923076923078,
          0.8,
          0.4,
          0.4,
          0.4,
          0.4,
          0.625,
          0.75,
          0.4,
          1.7,
          0.3333333333333333,
          0.4,
          0.7272727272727273,
          0.625,
          0.4,
          0.4,
          0.47058823529411764,
          0.2,
          0.4,
          0.4,
          1,
          0.2,
          0.75,
          0.4,
          0.35,
          0.7,
          0.4,
          2,
          0.4,
          0.55,
          3.2,
          0.8076923076923077,
          0.28,
          0.5,
          0.24,
          0.08125,
          1,
          0.375,
          0.16,
          0.5,
          0.22,
          0.125,
          1,
          0.06349206349206349,
          0.4,
          2.6666666666666665,
          0.1,
          0.4,
          0.32,
          4,
          2.6666666666666665,
          0.2,
          0.15,
          0.4,
          0.15,
          0.4,
          1,
          0.4,
          2,
          4,
          4,
          2.6666666666666665,
          0.6,
          0.4,
          0.4,
          0.14,
          0.2,
          0.2,
          2.6666666666666665,
          0.32432432432432434,
          0.17777777777777778,
          0.55,
          0.4,
          0.9333333333333333,
          0.1724137931034483,
          0.6153846153846154,
          0.4,
          0.5833333333333334,
          0.8,
          0.34285714285714286,
          1.6,
          0.5333333333333333,
          0.2127659574468085,
          0.3181818181818182,
          0.32,
          0.4,
          0.43478260869565216,
          0.09090909090909091,
          0.8,
          0.48,
          0.24324324324324326,
          0.38,
          0.1702127659574468,
          0.43636363636363634,
          0.4,
          0.2857142857142857,
          0.047619047619047616,
          0.16666666666666666,
          8,
          0.12345679012345678,
          2.3783783783783785,
          0.7272727272727273,
          0.4,
          0.4,
          8,
          1.3333333333333333,
          0.6153846153846154,
          2.8333333333333335,
          0.32,
          0.7333333333333333,
          2,
          0.1891891891891892,
          0.34782608695652173,
          0.4,
          0.1625,
          0.4777777777777778,
          0.2692307692307692,
          0.4,
          1.6,
          0.3,
          0.6666666666666666,
          0.22857142857142856,
          0.6833333333333333,
          0.26666666666666666,
          0.8518518518518519,
          0.36363636363636365,
          0.3333333333333333,
          0.4,
          0.8695652173913043,
          2,
          0.625,
          0.4,
          0.3333333333333333,
          0.34782608695652173,
          0.2727272727272727,
          1.3,
          0.18,
          0.36,
          0.4,
          0.4411764705882353,
          0.6666666666666666,
          0.1,
          1.6,
          0.2,
          0.8714285714285714,
          0.16,
          0.4,
          0.4,
          0.3333333333333333,
          0.6666666666666666,
          0.8,
          0.9,
          0.625,
          0.4,
          0.4,
          0.525,
          0.4,
          1.2,
          0.15492957746478872,
          0.4,
          0.35714285714285715,
          0.8,
          0.4,
          0.05,
          0.4,
          0.4,
          0.16666666666666666,
          1.85,
          0.2,
          0.8333333333333334,
          0.4,
          4,
          0.42,
          0.3181818181818182,
          0.47058823529411764,
          1.6,
          0.640625,
          0.4,
          0.1951219512195122,
          0.509090909090909,
          0.4,
          0.6428571428571429,
          0.4,
          0.25,
          2.6666666666666665,
          0.32,
          0.4,
          0.4,
          0.4,
          0,
          0.6714285714285714,
          0.9166666666666666,
          0.21428571428571427,
          0.43333333333333335,
          0.4126984126984127,
          2,
          0.4,
          0.4,
          0.25,
          0.4,
          0.2222222222222222,
          0.4,
          0.42105263157894735,
          1.1428571428571428,
          0.5714285714285714,
          0.42857142857142855,
          1.05,
          0.3333333333333333,
          0,
          0,
          0.4,
          0.4666666666666667,
          0.5,
          0.5555555555555556,
          0.3333333333333333,
          0.6,
          0.1,
          0.65,
          1,
          0,
          0.35,
          0.3333333333333333,
          0.7142857142857143,
          0.21428571428571427,
          0,
          0,
          0.75,
          0.48,
          0.07142857142857142,
          0.5,
          1.3333333333333333,
          0.1,
          0.47058823529411764,
          0.4396551724137931,
          0.6,
          0.875,
          0,
          0.35555555555555557,
          0.7142857142857143,
          0.09090909090909091,
          0.4,
          0.45454545454545453,
          0.32653061224489793,
          0.875,
          1,
          0.16216216216216217,
          0.26666666666666666,
          0.5,
          0.34285714285714286,
          0.08695652173913043,
          0.6666666666666666,
          0.13333333333333333,
          1.5,
          4,
          0.631578947368421,
          0.55,
          0.5192307692307693,
          0.5,
          0.4307692307692308,
          0.6,
          0.26666666666666666,
          0.2388888888888889,
          0.6,
          0.78,
          0.6,
          0.6818181818181818,
          1,
          0.26666666666666666,
          0,
          7,
          0,
          0.21428571428571427,
          0.2,
          0.1,
          0.06666666666666667,
          1,
          0.42857142857142855,
          0.8666666666666667,
          0.4,
          null,
          0.36,
          0,
          1.3333333333333333,
          0.3055555555555556,
          0.25,
          0.4583333333333333,
          0.25,
          1,
          0.4444444444444444,
          1,
          3.2857142857142856,
          0.4,
          0.2,
          3,
          0.2222222222222222,
          0.4166666666666667,
          0.4,
          0.13333333333333333,
          0.6428571428571429,
          0.4,
          0.4,
          3,
          0.4,
          0.25,
          0.4,
          0.11428571428571428,
          null,
          0.1,
          0.05,
          0.4,
          0.05,
          0.4,
          0.35,
          0.25,
          0.05,
          0.05,
          0.6956521739130435,
          0.2,
          0.06,
          0.5,
          0.7,
          0.8333333333333334,
          0.55,
          0.42,
          0.6,
          0.5,
          0,
          0.3,
          0.37037037037037035,
          0.30042918454935624,
          null,
          0.1,
          0.08333333333333333,
          0.625,
          0.25,
          0,
          0.7272727272727273,
          0.58,
          0.45,
          0.14285714285714285,
          0,
          0.1686746987951807,
          null,
          0.25,
          null,
          0.4666666666666667,
          0.4,
          0.3157894736842105,
          0.7142857142857143,
          null,
          0.3,
          1,
          1,
          1,
          0.4642857142857143,
          0.375,
          0.84,
          0.3181818181818182,
          0.25,
          0.16666666666666666,
          0.25,
          0.4,
          0.4,
          0.4,
          3,
          0.25,
          0.4,
          null,
          0.1,
          0.4,
          0.05,
          0.35,
          0.25,
          0.05,
          0.6956521739130435,
          0.06,
          0.7,
          0.5,
          0.30042918454935624,
          0.7142857142857143,
          0.3,
          1,
          1,
          1,
          0.4642857142857143,
          0.375,
          0.84
         ],
         "xaxis": "x",
         "yaxis": "y"
        }
       ],
       "layout": {
        "barmode": "relative",
        "legend": {
         "tracegroupgap": 0
        },
        "template": {
         "data": {
          "bar": [
           {
            "error_x": {
             "color": "#2a3f5f"
            },
            "error_y": {
             "color": "#2a3f5f"
            },
            "marker": {
             "line": {
              "color": "#E5ECF6",
              "width": 0.5
             },
             "pattern": {
              "fillmode": "overlay",
              "size": 10,
              "solidity": 0.2
             }
            },
            "type": "bar"
           }
          ],
          "barpolar": [
           {
            "marker": {
             "line": {
              "color": "#E5ECF6",
              "width": 0.5
             },
             "pattern": {
              "fillmode": "overlay",
              "size": 10,
              "solidity": 0.2
             }
            },
            "type": "barpolar"
           }
          ],
          "carpet": [
           {
            "aaxis": {
             "endlinecolor": "#2a3f5f",
             "gridcolor": "white",
             "linecolor": "white",
             "minorgridcolor": "white",
             "startlinecolor": "#2a3f5f"
            },
            "baxis": {
             "endlinecolor": "#2a3f5f",
             "gridcolor": "white",
             "linecolor": "white",
             "minorgridcolor": "white",
             "startlinecolor": "#2a3f5f"
            },
            "type": "carpet"
           }
          ],
          "choropleth": [
           {
            "colorbar": {
             "outlinewidth": 0,
             "ticks": ""
            },
            "type": "choropleth"
           }
          ],
          "contour": [
           {
            "colorbar": {
             "outlinewidth": 0,
             "ticks": ""
            },
            "colorscale": [
             [
              0,
              "#0d0887"
             ],
             [
              0.1111111111111111,
              "#46039f"
             ],
             [
              0.2222222222222222,
              "#7201a8"
             ],
             [
              0.3333333333333333,
              "#9c179e"
             ],
             [
              0.4444444444444444,
              "#bd3786"
             ],
             [
              0.5555555555555556,
              "#d8576b"
             ],
             [
              0.6666666666666666,
              "#ed7953"
             ],
             [
              0.7777777777777778,
              "#fb9f3a"
             ],
             [
              0.8888888888888888,
              "#fdca26"
             ],
             [
              1,
              "#f0f921"
             ]
            ],
            "type": "contour"
           }
          ],
          "contourcarpet": [
           {
            "colorbar": {
             "outlinewidth": 0,
             "ticks": ""
            },
            "type": "contourcarpet"
           }
          ],
          "heatmap": [
           {
            "colorbar": {
             "outlinewidth": 0,
             "ticks": ""
            },
            "colorscale": [
             [
              0,
              "#0d0887"
             ],
             [
              0.1111111111111111,
              "#46039f"
             ],
             [
              0.2222222222222222,
              "#7201a8"
             ],
             [
              0.3333333333333333,
              "#9c179e"
             ],
             [
              0.4444444444444444,
              "#bd3786"
             ],
             [
              0.5555555555555556,
              "#d8576b"
             ],
             [
              0.6666666666666666,
              "#ed7953"
             ],
             [
              0.7777777777777778,
              "#fb9f3a"
             ],
             [
              0.8888888888888888,
              "#fdca26"
             ],
             [
              1,
              "#f0f921"
             ]
            ],
            "type": "heatmap"
           }
          ],
          "heatmapgl": [
           {
            "colorbar": {
             "outlinewidth": 0,
             "ticks": ""
            },
            "colorscale": [
             [
              0,
              "#0d0887"
             ],
             [
              0.1111111111111111,
              "#46039f"
             ],
             [
              0.2222222222222222,
              "#7201a8"
             ],
             [
              0.3333333333333333,
              "#9c179e"
             ],
             [
              0.4444444444444444,
              "#bd3786"
             ],
             [
              0.5555555555555556,
              "#d8576b"
             ],
             [
              0.6666666666666666,
              "#ed7953"
             ],
             [
              0.7777777777777778,
              "#fb9f3a"
             ],
             [
              0.8888888888888888,
              "#fdca26"
             ],
             [
              1,
              "#f0f921"
             ]
            ],
            "type": "heatmapgl"
           }
          ],
          "histogram": [
           {
            "marker": {
             "pattern": {
              "fillmode": "overlay",
              "size": 10,
              "solidity": 0.2
             }
            },
            "type": "histogram"
           }
          ],
          "histogram2d": [
           {
            "colorbar": {
             "outlinewidth": 0,
             "ticks": ""
            },
            "colorscale": [
             [
              0,
              "#0d0887"
             ],
             [
              0.1111111111111111,
              "#46039f"
             ],
             [
              0.2222222222222222,
              "#7201a8"
             ],
             [
              0.3333333333333333,
              "#9c179e"
             ],
             [
              0.4444444444444444,
              "#bd3786"
             ],
             [
              0.5555555555555556,
              "#d8576b"
             ],
             [
              0.6666666666666666,
              "#ed7953"
             ],
             [
              0.7777777777777778,
              "#fb9f3a"
             ],
             [
              0.8888888888888888,
              "#fdca26"
             ],
             [
              1,
              "#f0f921"
             ]
            ],
            "type": "histogram2d"
           }
          ],
          "histogram2dcontour": [
           {
            "colorbar": {
             "outlinewidth": 0,
             "ticks": ""
            },
            "colorscale": [
             [
              0,
              "#0d0887"
             ],
             [
              0.1111111111111111,
              "#46039f"
             ],
             [
              0.2222222222222222,
              "#7201a8"
             ],
             [
              0.3333333333333333,
              "#9c179e"
             ],
             [
              0.4444444444444444,
              "#bd3786"
             ],
             [
              0.5555555555555556,
              "#d8576b"
             ],
             [
              0.6666666666666666,
              "#ed7953"
             ],
             [
              0.7777777777777778,
              "#fb9f3a"
             ],
             [
              0.8888888888888888,
              "#fdca26"
             ],
             [
              1,
              "#f0f921"
             ]
            ],
            "type": "histogram2dcontour"
           }
          ],
          "mesh3d": [
           {
            "colorbar": {
             "outlinewidth": 0,
             "ticks": ""
            },
            "type": "mesh3d"
           }
          ],
          "parcoords": [
           {
            "line": {
             "colorbar": {
              "outlinewidth": 0,
              "ticks": ""
             }
            },
            "type": "parcoords"
           }
          ],
          "pie": [
           {
            "automargin": true,
            "type": "pie"
           }
          ],
          "scatter": [
           {
            "fillpattern": {
             "fillmode": "overlay",
             "size": 10,
             "solidity": 0.2
            },
            "type": "scatter"
           }
          ],
          "scatter3d": [
           {
            "line": {
             "colorbar": {
              "outlinewidth": 0,
              "ticks": ""
             }
            },
            "marker": {
             "colorbar": {
              "outlinewidth": 0,
              "ticks": ""
             }
            },
            "type": "scatter3d"
           }
          ],
          "scattercarpet": [
           {
            "marker": {
             "colorbar": {
              "outlinewidth": 0,
              "ticks": ""
             }
            },
            "type": "scattercarpet"
           }
          ],
          "scattergeo": [
           {
            "marker": {
             "colorbar": {
              "outlinewidth": 0,
              "ticks": ""
             }
            },
            "type": "scattergeo"
           }
          ],
          "scattergl": [
           {
            "marker": {
             "colorbar": {
              "outlinewidth": 0,
              "ticks": ""
             }
            },
            "type": "scattergl"
           }
          ],
          "scattermapbox": [
           {
            "marker": {
             "colorbar": {
              "outlinewidth": 0,
              "ticks": ""
             }
            },
            "type": "scattermapbox"
           }
          ],
          "scatterpolar": [
           {
            "marker": {
             "colorbar": {
              "outlinewidth": 0,
              "ticks": ""
             }
            },
            "type": "scatterpolar"
           }
          ],
          "scatterpolargl": [
           {
            "marker": {
             "colorbar": {
              "outlinewidth": 0,
              "ticks": ""
             }
            },
            "type": "scatterpolargl"
           }
          ],
          "scatterternary": [
           {
            "marker": {
             "colorbar": {
              "outlinewidth": 0,
              "ticks": ""
             }
            },
            "type": "scatterternary"
           }
          ],
          "surface": [
           {
            "colorbar": {
             "outlinewidth": 0,
             "ticks": ""
            },
            "colorscale": [
             [
              0,
              "#0d0887"
             ],
             [
              0.1111111111111111,
              "#46039f"
             ],
             [
              0.2222222222222222,
              "#7201a8"
             ],
             [
              0.3333333333333333,
              "#9c179e"
             ],
             [
              0.4444444444444444,
              "#bd3786"
             ],
             [
              0.5555555555555556,
              "#d8576b"
             ],
             [
              0.6666666666666666,
              "#ed7953"
             ],
             [
              0.7777777777777778,
              "#fb9f3a"
             ],
             [
              0.8888888888888888,
              "#fdca26"
             ],
             [
              1,
              "#f0f921"
             ]
            ],
            "type": "surface"
           }
          ],
          "table": [
           {
            "cells": {
             "fill": {
              "color": "#EBF0F8"
             },
             "line": {
              "color": "white"
             }
            },
            "header": {
             "fill": {
              "color": "#C8D4E3"
             },
             "line": {
              "color": "white"
             }
            },
            "type": "table"
           }
          ]
         },
         "layout": {
          "annotationdefaults": {
           "arrowcolor": "#2a3f5f",
           "arrowhead": 0,
           "arrowwidth": 1
          },
          "autotypenumbers": "strict",
          "coloraxis": {
           "colorbar": {
            "outlinewidth": 0,
            "ticks": ""
           }
          },
          "colorscale": {
           "diverging": [
            [
             0,
             "#8e0152"
            ],
            [
             0.1,
             "#c51b7d"
            ],
            [
             0.2,
             "#de77ae"
            ],
            [
             0.3,
             "#f1b6da"
            ],
            [
             0.4,
             "#fde0ef"
            ],
            [
             0.5,
             "#f7f7f7"
            ],
            [
             0.6,
             "#e6f5d0"
            ],
            [
             0.7,
             "#b8e186"
            ],
            [
             0.8,
             "#7fbc41"
            ],
            [
             0.9,
             "#4d9221"
            ],
            [
             1,
             "#276419"
            ]
           ],
           "sequential": [
            [
             0,
             "#0d0887"
            ],
            [
             0.1111111111111111,
             "#46039f"
            ],
            [
             0.2222222222222222,
             "#7201a8"
            ],
            [
             0.3333333333333333,
             "#9c179e"
            ],
            [
             0.4444444444444444,
             "#bd3786"
            ],
            [
             0.5555555555555556,
             "#d8576b"
            ],
            [
             0.6666666666666666,
             "#ed7953"
            ],
            [
             0.7777777777777778,
             "#fb9f3a"
            ],
            [
             0.8888888888888888,
             "#fdca26"
            ],
            [
             1,
             "#f0f921"
            ]
           ],
           "sequentialminus": [
            [
             0,
             "#0d0887"
            ],
            [
             0.1111111111111111,
             "#46039f"
            ],
            [
             0.2222222222222222,
             "#7201a8"
            ],
            [
             0.3333333333333333,
             "#9c179e"
            ],
            [
             0.4444444444444444,
             "#bd3786"
            ],
            [
             0.5555555555555556,
             "#d8576b"
            ],
            [
             0.6666666666666666,
             "#ed7953"
            ],
            [
             0.7777777777777778,
             "#fb9f3a"
            ],
            [
             0.8888888888888888,
             "#fdca26"
            ],
            [
             1,
             "#f0f921"
            ]
           ]
          },
          "colorway": [
           "#636efa",
           "#EF553B",
           "#00cc96",
           "#ab63fa",
           "#FFA15A",
           "#19d3f3",
           "#FF6692",
           "#B6E880",
           "#FF97FF",
           "#FECB52"
          ],
          "font": {
           "color": "#2a3f5f"
          },
          "geo": {
           "bgcolor": "white",
           "lakecolor": "white",
           "landcolor": "#E5ECF6",
           "showlakes": true,
           "showland": true,
           "subunitcolor": "white"
          },
          "hoverlabel": {
           "align": "left"
          },
          "hovermode": "closest",
          "mapbox": {
           "style": "light"
          },
          "paper_bgcolor": "white",
          "plot_bgcolor": "#E5ECF6",
          "polar": {
           "angularaxis": {
            "gridcolor": "white",
            "linecolor": "white",
            "ticks": ""
           },
           "bgcolor": "#E5ECF6",
           "radialaxis": {
            "gridcolor": "white",
            "linecolor": "white",
            "ticks": ""
           }
          },
          "scene": {
           "xaxis": {
            "backgroundcolor": "#E5ECF6",
            "gridcolor": "white",
            "gridwidth": 2,
            "linecolor": "white",
            "showbackground": true,
            "ticks": "",
            "zerolinecolor": "white"
           },
           "yaxis": {
            "backgroundcolor": "#E5ECF6",
            "gridcolor": "white",
            "gridwidth": 2,
            "linecolor": "white",
            "showbackground": true,
            "ticks": "",
            "zerolinecolor": "white"
           },
           "zaxis": {
            "backgroundcolor": "#E5ECF6",
            "gridcolor": "white",
            "gridwidth": 2,
            "linecolor": "white",
            "showbackground": true,
            "ticks": "",
            "zerolinecolor": "white"
           }
          },
          "shapedefaults": {
           "line": {
            "color": "#2a3f5f"
           }
          },
          "ternary": {
           "aaxis": {
            "gridcolor": "white",
            "linecolor": "white",
            "ticks": ""
           },
           "baxis": {
            "gridcolor": "white",
            "linecolor": "white",
            "ticks": ""
           },
           "bgcolor": "#E5ECF6",
           "caxis": {
            "gridcolor": "white",
            "linecolor": "white",
            "ticks": ""
           }
          },
          "title": {
           "x": 0.05
          },
          "xaxis": {
           "automargin": true,
           "gridcolor": "white",
           "linecolor": "white",
           "ticks": "",
           "title": {
            "standoff": 15
           },
           "zerolinecolor": "white",
           "zerolinewidth": 2
          },
          "yaxis": {
           "automargin": true,
           "gridcolor": "white",
           "linecolor": "white",
           "ticks": "",
           "title": {
            "standoff": 15
           },
           "zerolinecolor": "white",
           "zerolinewidth": 2
          }
         }
        },
        "title": {
         "text": "Distribution of Casualty Ratio"
        },
        "xaxis": {
         "anchor": "y",
         "domain": [
          0,
          1
         ],
         "title": {
          "text": "Casualty Ratio"
         }
        },
        "yaxis": {
         "anchor": "x",
         "domain": [
          0,
          1
         ],
         "title": {
          "text": "count"
         }
        }
       }
      }
     },
     "metadata": {},
     "output_type": "display_data"
    }
   ],
   "source": [
    "# 12. Killed vs. Injured\n",
    "fig11 = go.Figure(data=[\n",
    "    go.Bar(name='Killed', x=df_cleaned['Year'], y=df_cleaned['Killed Min']),\n",
    "    go.Bar(name='Injured', x=df_cleaned['Year'], y=df_cleaned['Injured Min'])\n",
    "])\n",
    "fig11.update_layout(barmode='stack', title='Killed vs. Injured Over Time')\n",
    "fig11.show()\n",
    "\n",
    "# 13. Casualty Ratio\n",
    "df_cleaned['Casualty Ratio'] = df_cleaned['Killed Min'] / df_cleaned['Injured Min']\n",
    "fig12 = px.histogram(df_cleaned, x='Casualty Ratio', title='Distribution of Casualty Ratio')\n",
    "fig12.show()"
   ]
  },
  {
   "cell_type": "markdown",
   "metadata": {},
   "source": [
    "# Additional Visualizations\n"
   ]
  },
  {
   "cell_type": "code",
   "execution_count": 16,
   "metadata": {},
   "outputs": [
    {
     "data": {
      "application/vnd.plotly.v1+json": {
       "config": {
        "plotlyServerURL": "https://plot.ly"
       },
       "data": [
        {
         "hovertemplate": "Killed Min=%{x}<br>Injured Min=%{y}<extra></extra>",
         "legendgroup": "",
         "marker": {
          "color": "#636efa",
          "symbol": "circle"
         },
         "mode": "markers",
         "name": "",
         "orientation": "v",
         "showlegend": false,
         "type": "scatter",
         "x": [
          14,
          8,
          13,
          8,
          44,
          16,
          8,
          14,
          16,
          8,
          2,
          8,
          25,
          4,
          25,
          8,
          20,
          5,
          37,
          4,
          47,
          6,
          6,
          8,
          40,
          8,
          8,
          4,
          1,
          13,
          2,
          8,
          8,
          8,
          16,
          1,
          25,
          22,
          8,
          8,
          6,
          2,
          23,
          25,
          17,
          16,
          8,
          28,
          6,
          15,
          8,
          14,
          8,
          9,
          8,
          8,
          8,
          3,
          6,
          8,
          3,
          8,
          18,
          8,
          17,
          15,
          8,
          8,
          125,
          20,
          7,
          8,
          3,
          17,
          8,
          8,
          10,
          8,
          5,
          5,
          8,
          8,
          9,
          21,
          8,
          24,
          1,
          10,
          5,
          8,
          8,
          25,
          6,
          2,
          38,
          8,
          38,
          8,
          40,
          4,
          26,
          3,
          2,
          8,
          8,
          3,
          8,
          11,
          8,
          15,
          8,
          8,
          30,
          70,
          7,
          2,
          30,
          2,
          7,
          40,
          9,
          1,
          4,
          22,
          8,
          8,
          40,
          8,
          11,
          8,
          9,
          8,
          8,
          8,
          16,
          3,
          8,
          8,
          8,
          8,
          8,
          5,
          6,
          8,
          34,
          7,
          8,
          8,
          30,
          8,
          8,
          8,
          30,
          8,
          8,
          5,
          4,
          12,
          8,
          7,
          70,
          8,
          8,
          8,
          22,
          16,
          21,
          7,
          10,
          6,
          26,
          3,
          3,
          8,
          2,
          11,
          1,
          5,
          4,
          8,
          8,
          1,
          8,
          8,
          8,
          8,
          4,
          3,
          8,
          3,
          8,
          2,
          8,
          20,
          16,
          8,
          8,
          30,
          8,
          8,
          7,
          10,
          4,
          8,
          48,
          8,
          11,
          8,
          14,
          5,
          8,
          8,
          35,
          8,
          12,
          8,
          32,
          10,
          7,
          8,
          8,
          20,
          1,
          8,
          36,
          9,
          38,
          8,
          24,
          8,
          8,
          1,
          4,
          8,
          10,
          88,
          8,
          8,
          8,
          8,
          4,
          16,
          17,
          8,
          22,
          8,
          7,
          8,
          12,
          13,
          43,
          14,
          8,
          8,
          6,
          50,
          8,
          41,
          8,
          23,
          4,
          3,
          8,
          80,
          40,
          65,
          8,
          3,
          8,
          3,
          26,
          27,
          54,
          8,
          15,
          2,
          6,
          8,
          2,
          61,
          16,
          8,
          8,
          2,
          40,
          8,
          18,
          10,
          8,
          8,
          42,
          8,
          18,
          11,
          8,
          5,
          28,
          8,
          1,
          8,
          8,
          5,
          37,
          5,
          10,
          8,
          8,
          42,
          7,
          8,
          8,
          82,
          8,
          8,
          28,
          8,
          18,
          32,
          1,
          8,
          8,
          8,
          8,
          8,
          0,
          47,
          11,
          3,
          26,
          26,
          8,
          8,
          8,
          5,
          8,
          4,
          8,
          8,
          8,
          4,
          3,
          21,
          1,
          0,
          0,
          8,
          14,
          1,
          5,
          4,
          24,
          2,
          13,
          2,
          0,
          14,
          13,
          5,
          6,
          0,
          0,
          3,
          12,
          5,
          5,
          8,
          2,
          8,
          51,
          24,
          7,
          0,
          64,
          5,
          2,
          8,
          5,
          16,
          7,
          4,
          6,
          8,
          1,
          12,
          2,
          2,
          6,
          3,
          8,
          12,
          11,
          27,
          14,
          28,
          6,
          8,
          43,
          30,
          78,
          6,
          15,
          2,
          8,
          0,
          7,
          0,
          3,
          5,
          2,
          2,
          2,
          3,
          13,
          8,
          3,
          9,
          0,
          4,
          11,
          2,
          11,
          8,
          2,
          4,
          5,
          23,
          8,
          1,
          3,
          4,
          5,
          8,
          2,
          45,
          8,
          8,
          60,
          8,
          5,
          8,
          8,
          2,
          2,
          1,
          8,
          1,
          8,
          7,
          1,
          1,
          1,
          16,
          4,
          3,
          1,
          7,
          10,
          22,
          21,
          15,
          10,
          0,
          9,
          10,
          70,
          2,
          1,
          1,
          70,
          13,
          0,
          16,
          58,
          45,
          2,
          0,
          14,
          5,
          1,
          1,
          70,
          6,
          6,
          25,
          1,
          30,
          1,
          1,
          1,
          26,
          15,
          21,
          7,
          2,
          1,
          4,
          8,
          8,
          8,
          60,
          5,
          8,
          2,
          2,
          8,
          1,
          7,
          1,
          1,
          16,
          3,
          7,
          10,
          70,
          25,
          30,
          1,
          1,
          1,
          26,
          15,
          21
         ],
         "xaxis": "x",
         "y": [
          20,
          20,
          20,
          20,
          20,
          20,
          3,
          96,
          20,
          20,
          20,
          44,
          50,
          6,
          8,
          20,
          82,
          19,
          90,
          30,
          20,
          7,
          20,
          20,
          20,
          20,
          20,
          23,
          5,
          30,
          20,
          20,
          7,
          3,
          30,
          6,
          29,
          12,
          20,
          9,
          4,
          20,
          26,
          50,
          40,
          50,
          2,
          28,
          30,
          8,
          5,
          50,
          5,
          35,
          3,
          20,
          20,
          14,
          22,
          20,
          4,
          20,
          20,
          20,
          16,
          11,
          3,
          29,
          100,
          28,
          18,
          27,
          2,
          20,
          2,
          20,
          20,
          7,
          22,
          11,
          2,
          20,
          20,
          48,
          12,
          73,
          20,
          20,
          13,
          27,
          20,
          35,
          9,
          14,
          109,
          20,
          40,
          20,
          50,
          15,
          175,
          20,
          5,
          9,
          17,
          10,
          3,
          23,
          25,
          20,
          3,
          20,
          33,
          67,
          20,
          25,
          70,
          20,
          5,
          200,
          2,
          22,
          20,
          60,
          6,
          20,
          90,
          20,
          20,
          20,
          21,
          20,
          20,
          20,
          31,
          13,
          10,
          20,
          20,
          20,
          20,
          8,
          8,
          20,
          20,
          21,
          20,
          11,
          48,
          20,
          20,
          17,
          150,
          20,
          20,
          5,
          20,
          16,
          20,
          20,
          100,
          20,
          4,
          20,
          40,
          5,
          26,
          25,
          20,
          25,
          320,
          3,
          8,
          50,
          4,
          50,
          8,
          5,
          63,
          20,
          3,
          10,
          20,
          25,
          2,
          3,
          20,
          20,
          20,
          20,
          20,
          2,
          20,
          10,
          4,
          2,
          3,
          50,
          20,
          20,
          50,
          50,
          20,
          3,
          148,
          45,
          20,
          20,
          15,
          29,
          13,
          20,
          60,
          10,
          35,
          5,
          60,
          47,
          22,
          25,
          20,
          46,
          11,
          10,
          75,
          37,
          100,
          47,
          55,
          20,
          28,
          21,
          24,
          1,
          81,
          37,
          11,
          20,
          20,
          1,
          3,
          26,
          6,
          25,
          30,
          4,
          37,
          23,
          30,
          80,
          90,
          52,
          20,
          5,
          20,
          75,
          35,
          60,
          30,
          27,
          11,
          9,
          20,
          92,
          20,
          104,
          20,
          9,
          23,
          11,
          20,
          150,
          150,
          20,
          34,
          3,
          60,
          5,
          10,
          70,
          100,
          20,
          20,
          6,
          60,
          10,
          20,
          16,
          20,
          20,
          80,
          20,
          15,
          71,
          20,
          14,
          35,
          20,
          20,
          20,
          20,
          30,
          20,
          25,
          12,
          20,
          2,
          100,
          22,
          17,
          5,
          128,
          20,
          41,
          55,
          20,
          28,
          80,
          4,
          3,
          25,
          20,
          20,
          20,
          20,
          70,
          12,
          14,
          60,
          63,
          4,
          20,
          20,
          20,
          20,
          18,
          20,
          19,
          7,
          7,
          7,
          20,
          3,
          20,
          20,
          20,
          30,
          2,
          9,
          12,
          40,
          20,
          20,
          2,
          18,
          40,
          39,
          7,
          28,
          18,
          3,
          4,
          25,
          70,
          10,
          6,
          20,
          17,
          116,
          40,
          8,
          1,
          180,
          7,
          22,
          20,
          11,
          49,
          8,
          4,
          37,
          30,
          2,
          35,
          23,
          3,
          45,
          2,
          2,
          19,
          20,
          52,
          28,
          65,
          10,
          30,
          180,
          50,
          100,
          10,
          22,
          2,
          30,
          7,
          1,
          26,
          14,
          25,
          20,
          30,
          2,
          7,
          15,
          20,
          0,
          25,
          5,
          3,
          36,
          8,
          24,
          32,
          2,
          9,
          5,
          7,
          20,
          5,
          1,
          18,
          12,
          20,
          15,
          70,
          20,
          20,
          20,
          20,
          20,
          20,
          70,
          0,
          20,
          20,
          20,
          20,
          20,
          20,
          4,
          20,
          20,
          23,
          20,
          50,
          2,
          10,
          12,
          40,
          50,
          25,
          20,
          5,
          30,
          27,
          233,
          0,
          10,
          12,
          112,
          52,
          10,
          22,
          100,
          100,
          14,
          2,
          83,
          0,
          4,
          0,
          150,
          15,
          19,
          35,
          0,
          100,
          1,
          1,
          1,
          56,
          40,
          25,
          22,
          8,
          6,
          16,
          20,
          20,
          20,
          20,
          20,
          20,
          0,
          20,
          20,
          20,
          20,
          4,
          20,
          23,
          50,
          10,
          20,
          233,
          35,
          100,
          1,
          1,
          1,
          56,
          40,
          25
         ],
         "yaxis": "y"
        }
       ],
       "layout": {
        "legend": {
         "tracegroupgap": 0
        },
        "template": {
         "data": {
          "bar": [
           {
            "error_x": {
             "color": "#2a3f5f"
            },
            "error_y": {
             "color": "#2a3f5f"
            },
            "marker": {
             "line": {
              "color": "#E5ECF6",
              "width": 0.5
             },
             "pattern": {
              "fillmode": "overlay",
              "size": 10,
              "solidity": 0.2
             }
            },
            "type": "bar"
           }
          ],
          "barpolar": [
           {
            "marker": {
             "line": {
              "color": "#E5ECF6",
              "width": 0.5
             },
             "pattern": {
              "fillmode": "overlay",
              "size": 10,
              "solidity": 0.2
             }
            },
            "type": "barpolar"
           }
          ],
          "carpet": [
           {
            "aaxis": {
             "endlinecolor": "#2a3f5f",
             "gridcolor": "white",
             "linecolor": "white",
             "minorgridcolor": "white",
             "startlinecolor": "#2a3f5f"
            },
            "baxis": {
             "endlinecolor": "#2a3f5f",
             "gridcolor": "white",
             "linecolor": "white",
             "minorgridcolor": "white",
             "startlinecolor": "#2a3f5f"
            },
            "type": "carpet"
           }
          ],
          "choropleth": [
           {
            "colorbar": {
             "outlinewidth": 0,
             "ticks": ""
            },
            "type": "choropleth"
           }
          ],
          "contour": [
           {
            "colorbar": {
             "outlinewidth": 0,
             "ticks": ""
            },
            "colorscale": [
             [
              0,
              "#0d0887"
             ],
             [
              0.1111111111111111,
              "#46039f"
             ],
             [
              0.2222222222222222,
              "#7201a8"
             ],
             [
              0.3333333333333333,
              "#9c179e"
             ],
             [
              0.4444444444444444,
              "#bd3786"
             ],
             [
              0.5555555555555556,
              "#d8576b"
             ],
             [
              0.6666666666666666,
              "#ed7953"
             ],
             [
              0.7777777777777778,
              "#fb9f3a"
             ],
             [
              0.8888888888888888,
              "#fdca26"
             ],
             [
              1,
              "#f0f921"
             ]
            ],
            "type": "contour"
           }
          ],
          "contourcarpet": [
           {
            "colorbar": {
             "outlinewidth": 0,
             "ticks": ""
            },
            "type": "contourcarpet"
           }
          ],
          "heatmap": [
           {
            "colorbar": {
             "outlinewidth": 0,
             "ticks": ""
            },
            "colorscale": [
             [
              0,
              "#0d0887"
             ],
             [
              0.1111111111111111,
              "#46039f"
             ],
             [
              0.2222222222222222,
              "#7201a8"
             ],
             [
              0.3333333333333333,
              "#9c179e"
             ],
             [
              0.4444444444444444,
              "#bd3786"
             ],
             [
              0.5555555555555556,
              "#d8576b"
             ],
             [
              0.6666666666666666,
              "#ed7953"
             ],
             [
              0.7777777777777778,
              "#fb9f3a"
             ],
             [
              0.8888888888888888,
              "#fdca26"
             ],
             [
              1,
              "#f0f921"
             ]
            ],
            "type": "heatmap"
           }
          ],
          "heatmapgl": [
           {
            "colorbar": {
             "outlinewidth": 0,
             "ticks": ""
            },
            "colorscale": [
             [
              0,
              "#0d0887"
             ],
             [
              0.1111111111111111,
              "#46039f"
             ],
             [
              0.2222222222222222,
              "#7201a8"
             ],
             [
              0.3333333333333333,
              "#9c179e"
             ],
             [
              0.4444444444444444,
              "#bd3786"
             ],
             [
              0.5555555555555556,
              "#d8576b"
             ],
             [
              0.6666666666666666,
              "#ed7953"
             ],
             [
              0.7777777777777778,
              "#fb9f3a"
             ],
             [
              0.8888888888888888,
              "#fdca26"
             ],
             [
              1,
              "#f0f921"
             ]
            ],
            "type": "heatmapgl"
           }
          ],
          "histogram": [
           {
            "marker": {
             "pattern": {
              "fillmode": "overlay",
              "size": 10,
              "solidity": 0.2
             }
            },
            "type": "histogram"
           }
          ],
          "histogram2d": [
           {
            "colorbar": {
             "outlinewidth": 0,
             "ticks": ""
            },
            "colorscale": [
             [
              0,
              "#0d0887"
             ],
             [
              0.1111111111111111,
              "#46039f"
             ],
             [
              0.2222222222222222,
              "#7201a8"
             ],
             [
              0.3333333333333333,
              "#9c179e"
             ],
             [
              0.4444444444444444,
              "#bd3786"
             ],
             [
              0.5555555555555556,
              "#d8576b"
             ],
             [
              0.6666666666666666,
              "#ed7953"
             ],
             [
              0.7777777777777778,
              "#fb9f3a"
             ],
             [
              0.8888888888888888,
              "#fdca26"
             ],
             [
              1,
              "#f0f921"
             ]
            ],
            "type": "histogram2d"
           }
          ],
          "histogram2dcontour": [
           {
            "colorbar": {
             "outlinewidth": 0,
             "ticks": ""
            },
            "colorscale": [
             [
              0,
              "#0d0887"
             ],
             [
              0.1111111111111111,
              "#46039f"
             ],
             [
              0.2222222222222222,
              "#7201a8"
             ],
             [
              0.3333333333333333,
              "#9c179e"
             ],
             [
              0.4444444444444444,
              "#bd3786"
             ],
             [
              0.5555555555555556,
              "#d8576b"
             ],
             [
              0.6666666666666666,
              "#ed7953"
             ],
             [
              0.7777777777777778,
              "#fb9f3a"
             ],
             [
              0.8888888888888888,
              "#fdca26"
             ],
             [
              1,
              "#f0f921"
             ]
            ],
            "type": "histogram2dcontour"
           }
          ],
          "mesh3d": [
           {
            "colorbar": {
             "outlinewidth": 0,
             "ticks": ""
            },
            "type": "mesh3d"
           }
          ],
          "parcoords": [
           {
            "line": {
             "colorbar": {
              "outlinewidth": 0,
              "ticks": ""
             }
            },
            "type": "parcoords"
           }
          ],
          "pie": [
           {
            "automargin": true,
            "type": "pie"
           }
          ],
          "scatter": [
           {
            "fillpattern": {
             "fillmode": "overlay",
             "size": 10,
             "solidity": 0.2
            },
            "type": "scatter"
           }
          ],
          "scatter3d": [
           {
            "line": {
             "colorbar": {
              "outlinewidth": 0,
              "ticks": ""
             }
            },
            "marker": {
             "colorbar": {
              "outlinewidth": 0,
              "ticks": ""
             }
            },
            "type": "scatter3d"
           }
          ],
          "scattercarpet": [
           {
            "marker": {
             "colorbar": {
              "outlinewidth": 0,
              "ticks": ""
             }
            },
            "type": "scattercarpet"
           }
          ],
          "scattergeo": [
           {
            "marker": {
             "colorbar": {
              "outlinewidth": 0,
              "ticks": ""
             }
            },
            "type": "scattergeo"
           }
          ],
          "scattergl": [
           {
            "marker": {
             "colorbar": {
              "outlinewidth": 0,
              "ticks": ""
             }
            },
            "type": "scattergl"
           }
          ],
          "scattermapbox": [
           {
            "marker": {
             "colorbar": {
              "outlinewidth": 0,
              "ticks": ""
             }
            },
            "type": "scattermapbox"
           }
          ],
          "scatterpolar": [
           {
            "marker": {
             "colorbar": {
              "outlinewidth": 0,
              "ticks": ""
             }
            },
            "type": "scatterpolar"
           }
          ],
          "scatterpolargl": [
           {
            "marker": {
             "colorbar": {
              "outlinewidth": 0,
              "ticks": ""
             }
            },
            "type": "scatterpolargl"
           }
          ],
          "scatterternary": [
           {
            "marker": {
             "colorbar": {
              "outlinewidth": 0,
              "ticks": ""
             }
            },
            "type": "scatterternary"
           }
          ],
          "surface": [
           {
            "colorbar": {
             "outlinewidth": 0,
             "ticks": ""
            },
            "colorscale": [
             [
              0,
              "#0d0887"
             ],
             [
              0.1111111111111111,
              "#46039f"
             ],
             [
              0.2222222222222222,
              "#7201a8"
             ],
             [
              0.3333333333333333,
              "#9c179e"
             ],
             [
              0.4444444444444444,
              "#bd3786"
             ],
             [
              0.5555555555555556,
              "#d8576b"
             ],
             [
              0.6666666666666666,
              "#ed7953"
             ],
             [
              0.7777777777777778,
              "#fb9f3a"
             ],
             [
              0.8888888888888888,
              "#fdca26"
             ],
             [
              1,
              "#f0f921"
             ]
            ],
            "type": "surface"
           }
          ],
          "table": [
           {
            "cells": {
             "fill": {
              "color": "#EBF0F8"
             },
             "line": {
              "color": "white"
             }
            },
            "header": {
             "fill": {
              "color": "#C8D4E3"
             },
             "line": {
              "color": "white"
             }
            },
            "type": "table"
           }
          ]
         },
         "layout": {
          "annotationdefaults": {
           "arrowcolor": "#2a3f5f",
           "arrowhead": 0,
           "arrowwidth": 1
          },
          "autotypenumbers": "strict",
          "coloraxis": {
           "colorbar": {
            "outlinewidth": 0,
            "ticks": ""
           }
          },
          "colorscale": {
           "diverging": [
            [
             0,
             "#8e0152"
            ],
            [
             0.1,
             "#c51b7d"
            ],
            [
             0.2,
             "#de77ae"
            ],
            [
             0.3,
             "#f1b6da"
            ],
            [
             0.4,
             "#fde0ef"
            ],
            [
             0.5,
             "#f7f7f7"
            ],
            [
             0.6,
             "#e6f5d0"
            ],
            [
             0.7,
             "#b8e186"
            ],
            [
             0.8,
             "#7fbc41"
            ],
            [
             0.9,
             "#4d9221"
            ],
            [
             1,
             "#276419"
            ]
           ],
           "sequential": [
            [
             0,
             "#0d0887"
            ],
            [
             0.1111111111111111,
             "#46039f"
            ],
            [
             0.2222222222222222,
             "#7201a8"
            ],
            [
             0.3333333333333333,
             "#9c179e"
            ],
            [
             0.4444444444444444,
             "#bd3786"
            ],
            [
             0.5555555555555556,
             "#d8576b"
            ],
            [
             0.6666666666666666,
             "#ed7953"
            ],
            [
             0.7777777777777778,
             "#fb9f3a"
            ],
            [
             0.8888888888888888,
             "#fdca26"
            ],
            [
             1,
             "#f0f921"
            ]
           ],
           "sequentialminus": [
            [
             0,
             "#0d0887"
            ],
            [
             0.1111111111111111,
             "#46039f"
            ],
            [
             0.2222222222222222,
             "#7201a8"
            ],
            [
             0.3333333333333333,
             "#9c179e"
            ],
            [
             0.4444444444444444,
             "#bd3786"
            ],
            [
             0.5555555555555556,
             "#d8576b"
            ],
            [
             0.6666666666666666,
             "#ed7953"
            ],
            [
             0.7777777777777778,
             "#fb9f3a"
            ],
            [
             0.8888888888888888,
             "#fdca26"
            ],
            [
             1,
             "#f0f921"
            ]
           ]
          },
          "colorway": [
           "#636efa",
           "#EF553B",
           "#00cc96",
           "#ab63fa",
           "#FFA15A",
           "#19d3f3",
           "#FF6692",
           "#B6E880",
           "#FF97FF",
           "#FECB52"
          ],
          "font": {
           "color": "#2a3f5f"
          },
          "geo": {
           "bgcolor": "white",
           "lakecolor": "white",
           "landcolor": "#E5ECF6",
           "showlakes": true,
           "showland": true,
           "subunitcolor": "white"
          },
          "hoverlabel": {
           "align": "left"
          },
          "hovermode": "closest",
          "mapbox": {
           "style": "light"
          },
          "paper_bgcolor": "white",
          "plot_bgcolor": "#E5ECF6",
          "polar": {
           "angularaxis": {
            "gridcolor": "white",
            "linecolor": "white",
            "ticks": ""
           },
           "bgcolor": "#E5ECF6",
           "radialaxis": {
            "gridcolor": "white",
            "linecolor": "white",
            "ticks": ""
           }
          },
          "scene": {
           "xaxis": {
            "backgroundcolor": "#E5ECF6",
            "gridcolor": "white",
            "gridwidth": 2,
            "linecolor": "white",
            "showbackground": true,
            "ticks": "",
            "zerolinecolor": "white"
           },
           "yaxis": {
            "backgroundcolor": "#E5ECF6",
            "gridcolor": "white",
            "gridwidth": 2,
            "linecolor": "white",
            "showbackground": true,
            "ticks": "",
            "zerolinecolor": "white"
           },
           "zaxis": {
            "backgroundcolor": "#E5ECF6",
            "gridcolor": "white",
            "gridwidth": 2,
            "linecolor": "white",
            "showbackground": true,
            "ticks": "",
            "zerolinecolor": "white"
           }
          },
          "shapedefaults": {
           "line": {
            "color": "#2a3f5f"
           }
          },
          "ternary": {
           "aaxis": {
            "gridcolor": "white",
            "linecolor": "white",
            "ticks": ""
           },
           "baxis": {
            "gridcolor": "white",
            "linecolor": "white",
            "ticks": ""
           },
           "bgcolor": "#E5ECF6",
           "caxis": {
            "gridcolor": "white",
            "linecolor": "white",
            "ticks": ""
           }
          },
          "title": {
           "x": 0.05
          },
          "xaxis": {
           "automargin": true,
           "gridcolor": "white",
           "linecolor": "white",
           "ticks": "",
           "title": {
            "standoff": 15
           },
           "zerolinecolor": "white",
           "zerolinewidth": 2
          },
          "yaxis": {
           "automargin": true,
           "gridcolor": "white",
           "linecolor": "white",
           "ticks": "",
           "title": {
            "standoff": 15
           },
           "zerolinecolor": "white",
           "zerolinewidth": 2
          }
         }
        },
        "title": {
         "text": "Scatter plot of Killed Min vs Injured Min"
        },
        "xaxis": {
         "anchor": "y",
         "domain": [
          0,
          1
         ],
         "title": {
          "text": "Killed Min"
         }
        },
        "yaxis": {
         "anchor": "x",
         "domain": [
          0,
          1
         ],
         "title": {
          "text": "Injured Min"
         }
        }
       }
      }
     },
     "metadata": {},
     "output_type": "display_data"
    }
   ],
   "source": [
    "# 16. Scatter plot of Killed Min vs Injured Min\n",
    "fig14 = px.scatter(df_cleaned, x='Killed Min', y='Injured Min', title='Scatter plot of Killed Min vs Injured Min')\n",
    "fig14.show()"
   ]
  },
  {
   "cell_type": "code",
   "execution_count": 17,
   "metadata": {},
   "outputs": [
    {
     "data": {
      "application/vnd.plotly.v1+json": {
       "config": {
        "plotlyServerURL": "https://plot.ly"
       },
       "data": [
        {
         "alignmentgroup": "True",
         "hovertemplate": "Target Type=%{x}<br>Frequency=%{y}<extra></extra>",
         "legendgroup": "",
         "marker": {
          "color": "#636efa",
          "pattern": {
           "shape": ""
          }
         },
         "name": "",
         "offsetgroup": "",
         "orientation": "v",
         "showlegend": false,
         "textposition": "auto",
         "type": "bar",
         "x": [
          "Military",
          "Police",
          "Civilian",
          "Government Official",
          "Religious",
          "Anti-Militants",
          "Foreigner",
          "civilian",
          "Government official",
          "religious",
          "foreigner",
          "police",
          "Media",
          "Army",
          "advocates (lawyers)",
          "Shia sect",
          "Civilian Judges",
          "Children/Women",
          "Frontier Corps ",
          "Civilian & Police",
          "Judges & lawyers"
         ],
         "xaxis": "x",
         "y": [
          231,
          229,
          150,
          84,
          66,
          48,
          28,
          22,
          16,
          12,
          6,
          4,
          4,
          4,
          2,
          2,
          2,
          2,
          2,
          2,
          2
         ],
         "yaxis": "y"
        }
       ],
       "layout": {
        "barmode": "relative",
        "legend": {
         "tracegroupgap": 0
        },
        "template": {
         "data": {
          "bar": [
           {
            "error_x": {
             "color": "#2a3f5f"
            },
            "error_y": {
             "color": "#2a3f5f"
            },
            "marker": {
             "line": {
              "color": "#E5ECF6",
              "width": 0.5
             },
             "pattern": {
              "fillmode": "overlay",
              "size": 10,
              "solidity": 0.2
             }
            },
            "type": "bar"
           }
          ],
          "barpolar": [
           {
            "marker": {
             "line": {
              "color": "#E5ECF6",
              "width": 0.5
             },
             "pattern": {
              "fillmode": "overlay",
              "size": 10,
              "solidity": 0.2
             }
            },
            "type": "barpolar"
           }
          ],
          "carpet": [
           {
            "aaxis": {
             "endlinecolor": "#2a3f5f",
             "gridcolor": "white",
             "linecolor": "white",
             "minorgridcolor": "white",
             "startlinecolor": "#2a3f5f"
            },
            "baxis": {
             "endlinecolor": "#2a3f5f",
             "gridcolor": "white",
             "linecolor": "white",
             "minorgridcolor": "white",
             "startlinecolor": "#2a3f5f"
            },
            "type": "carpet"
           }
          ],
          "choropleth": [
           {
            "colorbar": {
             "outlinewidth": 0,
             "ticks": ""
            },
            "type": "choropleth"
           }
          ],
          "contour": [
           {
            "colorbar": {
             "outlinewidth": 0,
             "ticks": ""
            },
            "colorscale": [
             [
              0,
              "#0d0887"
             ],
             [
              0.1111111111111111,
              "#46039f"
             ],
             [
              0.2222222222222222,
              "#7201a8"
             ],
             [
              0.3333333333333333,
              "#9c179e"
             ],
             [
              0.4444444444444444,
              "#bd3786"
             ],
             [
              0.5555555555555556,
              "#d8576b"
             ],
             [
              0.6666666666666666,
              "#ed7953"
             ],
             [
              0.7777777777777778,
              "#fb9f3a"
             ],
             [
              0.8888888888888888,
              "#fdca26"
             ],
             [
              1,
              "#f0f921"
             ]
            ],
            "type": "contour"
           }
          ],
          "contourcarpet": [
           {
            "colorbar": {
             "outlinewidth": 0,
             "ticks": ""
            },
            "type": "contourcarpet"
           }
          ],
          "heatmap": [
           {
            "colorbar": {
             "outlinewidth": 0,
             "ticks": ""
            },
            "colorscale": [
             [
              0,
              "#0d0887"
             ],
             [
              0.1111111111111111,
              "#46039f"
             ],
             [
              0.2222222222222222,
              "#7201a8"
             ],
             [
              0.3333333333333333,
              "#9c179e"
             ],
             [
              0.4444444444444444,
              "#bd3786"
             ],
             [
              0.5555555555555556,
              "#d8576b"
             ],
             [
              0.6666666666666666,
              "#ed7953"
             ],
             [
              0.7777777777777778,
              "#fb9f3a"
             ],
             [
              0.8888888888888888,
              "#fdca26"
             ],
             [
              1,
              "#f0f921"
             ]
            ],
            "type": "heatmap"
           }
          ],
          "heatmapgl": [
           {
            "colorbar": {
             "outlinewidth": 0,
             "ticks": ""
            },
            "colorscale": [
             [
              0,
              "#0d0887"
             ],
             [
              0.1111111111111111,
              "#46039f"
             ],
             [
              0.2222222222222222,
              "#7201a8"
             ],
             [
              0.3333333333333333,
              "#9c179e"
             ],
             [
              0.4444444444444444,
              "#bd3786"
             ],
             [
              0.5555555555555556,
              "#d8576b"
             ],
             [
              0.6666666666666666,
              "#ed7953"
             ],
             [
              0.7777777777777778,
              "#fb9f3a"
             ],
             [
              0.8888888888888888,
              "#fdca26"
             ],
             [
              1,
              "#f0f921"
             ]
            ],
            "type": "heatmapgl"
           }
          ],
          "histogram": [
           {
            "marker": {
             "pattern": {
              "fillmode": "overlay",
              "size": 10,
              "solidity": 0.2
             }
            },
            "type": "histogram"
           }
          ],
          "histogram2d": [
           {
            "colorbar": {
             "outlinewidth": 0,
             "ticks": ""
            },
            "colorscale": [
             [
              0,
              "#0d0887"
             ],
             [
              0.1111111111111111,
              "#46039f"
             ],
             [
              0.2222222222222222,
              "#7201a8"
             ],
             [
              0.3333333333333333,
              "#9c179e"
             ],
             [
              0.4444444444444444,
              "#bd3786"
             ],
             [
              0.5555555555555556,
              "#d8576b"
             ],
             [
              0.6666666666666666,
              "#ed7953"
             ],
             [
              0.7777777777777778,
              "#fb9f3a"
             ],
             [
              0.8888888888888888,
              "#fdca26"
             ],
             [
              1,
              "#f0f921"
             ]
            ],
            "type": "histogram2d"
           }
          ],
          "histogram2dcontour": [
           {
            "colorbar": {
             "outlinewidth": 0,
             "ticks": ""
            },
            "colorscale": [
             [
              0,
              "#0d0887"
             ],
             [
              0.1111111111111111,
              "#46039f"
             ],
             [
              0.2222222222222222,
              "#7201a8"
             ],
             [
              0.3333333333333333,
              "#9c179e"
             ],
             [
              0.4444444444444444,
              "#bd3786"
             ],
             [
              0.5555555555555556,
              "#d8576b"
             ],
             [
              0.6666666666666666,
              "#ed7953"
             ],
             [
              0.7777777777777778,
              "#fb9f3a"
             ],
             [
              0.8888888888888888,
              "#fdca26"
             ],
             [
              1,
              "#f0f921"
             ]
            ],
            "type": "histogram2dcontour"
           }
          ],
          "mesh3d": [
           {
            "colorbar": {
             "outlinewidth": 0,
             "ticks": ""
            },
            "type": "mesh3d"
           }
          ],
          "parcoords": [
           {
            "line": {
             "colorbar": {
              "outlinewidth": 0,
              "ticks": ""
             }
            },
            "type": "parcoords"
           }
          ],
          "pie": [
           {
            "automargin": true,
            "type": "pie"
           }
          ],
          "scatter": [
           {
            "fillpattern": {
             "fillmode": "overlay",
             "size": 10,
             "solidity": 0.2
            },
            "type": "scatter"
           }
          ],
          "scatter3d": [
           {
            "line": {
             "colorbar": {
              "outlinewidth": 0,
              "ticks": ""
             }
            },
            "marker": {
             "colorbar": {
              "outlinewidth": 0,
              "ticks": ""
             }
            },
            "type": "scatter3d"
           }
          ],
          "scattercarpet": [
           {
            "marker": {
             "colorbar": {
              "outlinewidth": 0,
              "ticks": ""
             }
            },
            "type": "scattercarpet"
           }
          ],
          "scattergeo": [
           {
            "marker": {
             "colorbar": {
              "outlinewidth": 0,
              "ticks": ""
             }
            },
            "type": "scattergeo"
           }
          ],
          "scattergl": [
           {
            "marker": {
             "colorbar": {
              "outlinewidth": 0,
              "ticks": ""
             }
            },
            "type": "scattergl"
           }
          ],
          "scattermapbox": [
           {
            "marker": {
             "colorbar": {
              "outlinewidth": 0,
              "ticks": ""
             }
            },
            "type": "scattermapbox"
           }
          ],
          "scatterpolar": [
           {
            "marker": {
             "colorbar": {
              "outlinewidth": 0,
              "ticks": ""
             }
            },
            "type": "scatterpolar"
           }
          ],
          "scatterpolargl": [
           {
            "marker": {
             "colorbar": {
              "outlinewidth": 0,
              "ticks": ""
             }
            },
            "type": "scatterpolargl"
           }
          ],
          "scatterternary": [
           {
            "marker": {
             "colorbar": {
              "outlinewidth": 0,
              "ticks": ""
             }
            },
            "type": "scatterternary"
           }
          ],
          "surface": [
           {
            "colorbar": {
             "outlinewidth": 0,
             "ticks": ""
            },
            "colorscale": [
             [
              0,
              "#0d0887"
             ],
             [
              0.1111111111111111,
              "#46039f"
             ],
             [
              0.2222222222222222,
              "#7201a8"
             ],
             [
              0.3333333333333333,
              "#9c179e"
             ],
             [
              0.4444444444444444,
              "#bd3786"
             ],
             [
              0.5555555555555556,
              "#d8576b"
             ],
             [
              0.6666666666666666,
              "#ed7953"
             ],
             [
              0.7777777777777778,
              "#fb9f3a"
             ],
             [
              0.8888888888888888,
              "#fdca26"
             ],
             [
              1,
              "#f0f921"
             ]
            ],
            "type": "surface"
           }
          ],
          "table": [
           {
            "cells": {
             "fill": {
              "color": "#EBF0F8"
             },
             "line": {
              "color": "white"
             }
            },
            "header": {
             "fill": {
              "color": "#C8D4E3"
             },
             "line": {
              "color": "white"
             }
            },
            "type": "table"
           }
          ]
         },
         "layout": {
          "annotationdefaults": {
           "arrowcolor": "#2a3f5f",
           "arrowhead": 0,
           "arrowwidth": 1
          },
          "autotypenumbers": "strict",
          "coloraxis": {
           "colorbar": {
            "outlinewidth": 0,
            "ticks": ""
           }
          },
          "colorscale": {
           "diverging": [
            [
             0,
             "#8e0152"
            ],
            [
             0.1,
             "#c51b7d"
            ],
            [
             0.2,
             "#de77ae"
            ],
            [
             0.3,
             "#f1b6da"
            ],
            [
             0.4,
             "#fde0ef"
            ],
            [
             0.5,
             "#f7f7f7"
            ],
            [
             0.6,
             "#e6f5d0"
            ],
            [
             0.7,
             "#b8e186"
            ],
            [
             0.8,
             "#7fbc41"
            ],
            [
             0.9,
             "#4d9221"
            ],
            [
             1,
             "#276419"
            ]
           ],
           "sequential": [
            [
             0,
             "#0d0887"
            ],
            [
             0.1111111111111111,
             "#46039f"
            ],
            [
             0.2222222222222222,
             "#7201a8"
            ],
            [
             0.3333333333333333,
             "#9c179e"
            ],
            [
             0.4444444444444444,
             "#bd3786"
            ],
            [
             0.5555555555555556,
             "#d8576b"
            ],
            [
             0.6666666666666666,
             "#ed7953"
            ],
            [
             0.7777777777777778,
             "#fb9f3a"
            ],
            [
             0.8888888888888888,
             "#fdca26"
            ],
            [
             1,
             "#f0f921"
            ]
           ],
           "sequentialminus": [
            [
             0,
             "#0d0887"
            ],
            [
             0.1111111111111111,
             "#46039f"
            ],
            [
             0.2222222222222222,
             "#7201a8"
            ],
            [
             0.3333333333333333,
             "#9c179e"
            ],
            [
             0.4444444444444444,
             "#bd3786"
            ],
            [
             0.5555555555555556,
             "#d8576b"
            ],
            [
             0.6666666666666666,
             "#ed7953"
            ],
            [
             0.7777777777777778,
             "#fb9f3a"
            ],
            [
             0.8888888888888888,
             "#fdca26"
            ],
            [
             1,
             "#f0f921"
            ]
           ]
          },
          "colorway": [
           "#636efa",
           "#EF553B",
           "#00cc96",
           "#ab63fa",
           "#FFA15A",
           "#19d3f3",
           "#FF6692",
           "#B6E880",
           "#FF97FF",
           "#FECB52"
          ],
          "font": {
           "color": "#2a3f5f"
          },
          "geo": {
           "bgcolor": "white",
           "lakecolor": "white",
           "landcolor": "#E5ECF6",
           "showlakes": true,
           "showland": true,
           "subunitcolor": "white"
          },
          "hoverlabel": {
           "align": "left"
          },
          "hovermode": "closest",
          "mapbox": {
           "style": "light"
          },
          "paper_bgcolor": "white",
          "plot_bgcolor": "#E5ECF6",
          "polar": {
           "angularaxis": {
            "gridcolor": "white",
            "linecolor": "white",
            "ticks": ""
           },
           "bgcolor": "#E5ECF6",
           "radialaxis": {
            "gridcolor": "white",
            "linecolor": "white",
            "ticks": ""
           }
          },
          "scene": {
           "xaxis": {
            "backgroundcolor": "#E5ECF6",
            "gridcolor": "white",
            "gridwidth": 2,
            "linecolor": "white",
            "showbackground": true,
            "ticks": "",
            "zerolinecolor": "white"
           },
           "yaxis": {
            "backgroundcolor": "#E5ECF6",
            "gridcolor": "white",
            "gridwidth": 2,
            "linecolor": "white",
            "showbackground": true,
            "ticks": "",
            "zerolinecolor": "white"
           },
           "zaxis": {
            "backgroundcolor": "#E5ECF6",
            "gridcolor": "white",
            "gridwidth": 2,
            "linecolor": "white",
            "showbackground": true,
            "ticks": "",
            "zerolinecolor": "white"
           }
          },
          "shapedefaults": {
           "line": {
            "color": "#2a3f5f"
           }
          },
          "ternary": {
           "aaxis": {
            "gridcolor": "white",
            "linecolor": "white",
            "ticks": ""
           },
           "baxis": {
            "gridcolor": "white",
            "linecolor": "white",
            "ticks": ""
           },
           "bgcolor": "#E5ECF6",
           "caxis": {
            "gridcolor": "white",
            "linecolor": "white",
            "ticks": ""
           }
          },
          "title": {
           "x": 0.05
          },
          "xaxis": {
           "automargin": true,
           "gridcolor": "white",
           "linecolor": "white",
           "ticks": "",
           "title": {
            "standoff": 15
           },
           "zerolinecolor": "white",
           "zerolinewidth": 2
          },
          "yaxis": {
           "automargin": true,
           "gridcolor": "white",
           "linecolor": "white",
           "ticks": "",
           "title": {
            "standoff": 15
           },
           "zerolinecolor": "white",
           "zerolinewidth": 2
          }
         }
        },
        "title": {
         "text": "Most Frequent Target Types"
        },
        "xaxis": {
         "anchor": "y",
         "domain": [
          0,
          1
         ],
         "title": {
          "text": "Target Type"
         }
        },
        "yaxis": {
         "anchor": "x",
         "domain": [
          0,
          1
         ],
         "title": {
          "text": "Frequency"
         }
        }
       }
      }
     },
     "metadata": {},
     "output_type": "display_data"
    }
   ],
   "source": [
    "# Group by target type to find the most frequent types\n",
    "target_types = df['Target Type'].value_counts().reset_index()\n",
    "target_types.columns = ['target_type', 'count']\n",
    "\n",
    "# Plot the most frequent target types\n",
    "fig = px.bar(target_types, x='target_type', y='count', \n",
    "             title='Most Frequent Target Types', \n",
    "             labels={'target_type': 'Target Type', 'count': 'Frequency'})\n",
    "fig.show()\n"
   ]
  },
  {
   "cell_type": "code",
   "execution_count": 18,
   "metadata": {},
   "outputs": [
    {
     "data": {
      "image/png": "[encoded data removed]",
      "text/plain": [
       "<Figure size 800x800 with 1 Axes>"
      ]
     },
     "metadata": {},
     "output_type": "display_data"
    }
   ],
   "source": [
    "import matplotlib.pyplot as plt\n",
    "import pandas as pd\n",
    "from math import pi\n",
    "\n",
    "# Extract day of the week from the date\n",
    "df['day_of_week'] = pd.to_datetime(df['Date']).dt.day_name()\n",
    "\n",
    "# Aggregate the data by day of the week\n",
    "day_counts = df['day_of_week'].value_counts().reindex(['Monday', 'Tuesday', 'Wednesday', 'Thursday', 'Friday', 'Saturday', 'Sunday']).fillna(0)\n",
    "\n",
    "# Prepare data for Radar Chart\n",
    "categories = list(day_counts.index)\n",
    "values = day_counts.values.tolist()\n",
    "values += values[:1]  # To complete the loop\n",
    "\n",
    "# Create the Radar Chart\n",
    "fig, ax = plt.subplots(figsize=(8, 8), subplot_kw=dict(polar=True))\n",
    "ax.set_theta_offset(pi / 2)\n",
    "ax.set_theta_direction(-1)\n",
    "plt.xticks(range(len(categories)), categories)\n",
    "ax.plot(range(len(categories) + 1), values, linewidth=2, linestyle='solid')\n",
    "ax.fill(range(len(categories) + 1), values, 'b', alpha=0.1)\n",
    "plt.title('Number of Blasts by Day of the Week')\n",
    "plt.show()\n"
   ]
  },
  {
   "cell_type": "code",
   "execution_count": 20,
   "metadata": {},
   "outputs": [
    {
     "name": "stderr",
     "output_type": "stream",
     "text": [
      "C:\\Users\\Lenovo\\AppData\\Roaming\\Python\\Python312\\site-packages\\pandas\\core\\nanops.py:1016: RuntimeWarning:\n",
      "\n",
      "invalid value encountered in subtract\n",
      "\n"
     ]
    },
    {
     "data": {
      "text/html": [
       "<div>\n",
       "<style scoped>\n",
       "    .dataframe tbody tr th:only-of-type {\n",
       "        vertical-align: middle;\n",
       "    }\n",
       "\n",
       "    .dataframe tbody tr th {\n",
       "        vertical-align: top;\n",
       "    }\n",
       "\n",
       "    .dataframe thead th {\n",
       "        text-align: right;\n",
       "    }\n",
       "</style>\n",
       "<table border=\"1\" class=\"dataframe\">\n",
       "  <thead>\n",
       "    <tr style=\"text-align: right;\">\n",
       "      <th></th>\n",
       "      <th>count</th>\n",
       "      <th>mean</th>\n",
       "      <th>min</th>\n",
       "      <th>25%</th>\n",
       "      <th>50%</th>\n",
       "      <th>75%</th>\n",
       "      <th>max</th>\n",
       "      <th>std</th>\n",
       "    </tr>\n",
       "  </thead>\n",
       "  <tbody>\n",
       "    <tr>\n",
       "      <th>Date</th>\n",
       "      <td>522</td>\n",
       "      <td>2010-04-30 09:44:49.655172352</td>\n",
       "      <td>1995-11-19 00:00:00</td>\n",
       "      <td>2008-10-31 12:00:00</td>\n",
       "      <td>2009-12-24 00:00:00</td>\n",
       "      <td>2011-11-17 12:00:00</td>\n",
       "      <td>2016-05-30 00:00:00</td>\n",
       "      <td>NaN</td>\n",
       "    </tr>\n",
       "    <tr>\n",
       "      <th>Latitude</th>\n",
       "      <td>522.0</td>\n",
       "      <td>32.580081</td>\n",
       "      <td>24.879503</td>\n",
       "      <td>31.8238</td>\n",
       "      <td>33.5833</td>\n",
       "      <td>34.0043</td>\n",
       "      <td>35.3833</td>\n",
       "      <td>2.485035</td>\n",
       "    </tr>\n",
       "    <tr>\n",
       "      <th>Killed Min</th>\n",
       "      <td>522.0</td>\n",
       "      <td>12.772031</td>\n",
       "      <td>0.0</td>\n",
       "      <td>5.0</td>\n",
       "      <td>8.0</td>\n",
       "      <td>14.0</td>\n",
       "      <td>125.0</td>\n",
       "      <td>15.201517</td>\n",
       "    </tr>\n",
       "    <tr>\n",
       "      <th>Killed Max</th>\n",
       "      <td>522.0</td>\n",
       "      <td>15.559968</td>\n",
       "      <td>0.0</td>\n",
       "      <td>3.0</td>\n",
       "      <td>8.0</td>\n",
       "      <td>18.0</td>\n",
       "      <td>148.0</td>\n",
       "      <td>20.869644</td>\n",
       "    </tr>\n",
       "    <tr>\n",
       "      <th>Injured Min</th>\n",
       "      <td>522.0</td>\n",
       "      <td>28.542146</td>\n",
       "      <td>0.0</td>\n",
       "      <td>10.0</td>\n",
       "      <td>20.0</td>\n",
       "      <td>29.75</td>\n",
       "      <td>320.0</td>\n",
       "      <td>34.167915</td>\n",
       "    </tr>\n",
       "    <tr>\n",
       "      <th>No. of Suicide Blasts</th>\n",
       "      <td>522.0</td>\n",
       "      <td>1.095785</td>\n",
       "      <td>1.0</td>\n",
       "      <td>1.0</td>\n",
       "      <td>1.0</td>\n",
       "      <td>1.0</td>\n",
       "      <td>4.0</td>\n",
       "      <td>0.364475</td>\n",
       "    </tr>\n",
       "    <tr>\n",
       "      <th>Temperature(C)</th>\n",
       "      <td>522.0</td>\n",
       "      <td>21.387605</td>\n",
       "      <td>-2.37</td>\n",
       "      <td>15.075</td>\n",
       "      <td>21.9475</td>\n",
       "      <td>28.35125</td>\n",
       "      <td>44.0</td>\n",
       "      <td>8.439283</td>\n",
       "    </tr>\n",
       "    <tr>\n",
       "      <th>Temperature(F)</th>\n",
       "      <td>522.0</td>\n",
       "      <td>70.442874</td>\n",
       "      <td>27.734</td>\n",
       "      <td>59.135</td>\n",
       "      <td>71.411</td>\n",
       "      <td>82.859</td>\n",
       "      <td>111.0</td>\n",
       "      <td>15.144656</td>\n",
       "    </tr>\n",
       "    <tr>\n",
       "      <th>Year</th>\n",
       "      <td>522.0</td>\n",
       "      <td>2009.775862</td>\n",
       "      <td>1995.0</td>\n",
       "      <td>2008.0</td>\n",
       "      <td>2009.0</td>\n",
       "      <td>2011.0</td>\n",
       "      <td>2016.0</td>\n",
       "      <td>2.644219</td>\n",
       "    </tr>\n",
       "    <tr>\n",
       "      <th>Month</th>\n",
       "      <td>522.0</td>\n",
       "      <td>6.494253</td>\n",
       "      <td>1.0</td>\n",
       "      <td>4.0</td>\n",
       "      <td>6.0</td>\n",
       "      <td>9.75</td>\n",
       "      <td>12.0</td>\n",
       "      <td>3.408942</td>\n",
       "    </tr>\n",
       "    <tr>\n",
       "      <th>Day</th>\n",
       "      <td>522.0</td>\n",
       "      <td>14.883142</td>\n",
       "      <td>1.0</td>\n",
       "      <td>8.0</td>\n",
       "      <td>15.0</td>\n",
       "      <td>21.0</td>\n",
       "      <td>31.0</td>\n",
       "      <td>8.360619</td>\n",
       "    </tr>\n",
       "    <tr>\n",
       "      <th>DayOfWeek</th>\n",
       "      <td>522.0</td>\n",
       "      <td>2.904215</td>\n",
       "      <td>0.0</td>\n",
       "      <td>1.0</td>\n",
       "      <td>3.0</td>\n",
       "      <td>4.0</td>\n",
       "      <td>6.0</td>\n",
       "      <td>1.835464</td>\n",
       "    </tr>\n",
       "    <tr>\n",
       "      <th>Hour</th>\n",
       "      <td>522.0</td>\n",
       "      <td>12.488506</td>\n",
       "      <td>4.0</td>\n",
       "      <td>12.5</td>\n",
       "      <td>12.5</td>\n",
       "      <td>12.5</td>\n",
       "      <td>23.0</td>\n",
       "      <td>1.660152</td>\n",
       "    </tr>\n",
       "    <tr>\n",
       "      <th>Casualty Ratio</th>\n",
       "      <td>522.0</td>\n",
       "      <td>inf</td>\n",
       "      <td>0.0</td>\n",
       "      <td>0.28</td>\n",
       "      <td>0.4</td>\n",
       "      <td>0.727273</td>\n",
       "      <td>inf</td>\n",
       "      <td>NaN</td>\n",
       "    </tr>\n",
       "  </tbody>\n",
       "</table>\n",
       "</div>"
      ],
      "text/plain": [
       "                       count                           mean  \\\n",
       "Date                     522  2010-04-30 09:44:49.655172352   \n",
       "Latitude               522.0                      32.580081   \n",
       "Killed Min             522.0                      12.772031   \n",
       "Killed Max             522.0                      15.559968   \n",
       "Injured Min            522.0                      28.542146   \n",
       "No. of Suicide Blasts  522.0                       1.095785   \n",
       "Temperature(C)         522.0                      21.387605   \n",
       "Temperature(F)         522.0                      70.442874   \n",
       "Year                   522.0                    2009.775862   \n",
       "Month                  522.0                       6.494253   \n",
       "Day                    522.0                      14.883142   \n",
       "DayOfWeek              522.0                       2.904215   \n",
       "Hour                   522.0                      12.488506   \n",
       "Casualty Ratio         522.0                            inf   \n",
       "\n",
       "                                       min                  25%  \\\n",
       "Date                   1995-11-19 00:00:00  2008-10-31 12:00:00   \n",
       "Latitude                         24.879503              31.8238   \n",
       "Killed Min                             0.0                  5.0   \n",
       "Killed Max                             0.0                  3.0   \n",
       "Injured Min                            0.0                 10.0   \n",
       "No. of Suicide Blasts                  1.0                  1.0   \n",
       "Temperature(C)                       -2.37               15.075   \n",
       "Temperature(F)                      27.734               59.135   \n",
       "Year                                1995.0               2008.0   \n",
       "Month                                  1.0                  4.0   \n",
       "Day                                    1.0                  8.0   \n",
       "DayOfWeek                              0.0                  1.0   \n",
       "Hour                                   4.0                 12.5   \n",
       "Casualty Ratio                         0.0                 0.28   \n",
       "\n",
       "                                       50%                  75%  \\\n",
       "Date                   2009-12-24 00:00:00  2011-11-17 12:00:00   \n",
       "Latitude                           33.5833              34.0043   \n",
       "Killed Min                             8.0                 14.0   \n",
       "Killed Max                             8.0                 18.0   \n",
       "Injured Min                           20.0                29.75   \n",
       "No. of Suicide Blasts                  1.0                  1.0   \n",
       "Temperature(C)                     21.9475             28.35125   \n",
       "Temperature(F)                      71.411               82.859   \n",
       "Year                                2009.0               2011.0   \n",
       "Month                                  6.0                 9.75   \n",
       "Day                                   15.0                 21.0   \n",
       "DayOfWeek                              3.0                  4.0   \n",
       "Hour                                  12.5                 12.5   \n",
       "Casualty Ratio                         0.4             0.727273   \n",
       "\n",
       "                                       max        std  \n",
       "Date                   2016-05-30 00:00:00        NaN  \n",
       "Latitude                           35.3833   2.485035  \n",
       "Killed Min                           125.0  15.201517  \n",
       "Killed Max                           148.0  20.869644  \n",
       "Injured Min                          320.0  34.167915  \n",
       "No. of Suicide Blasts                  4.0   0.364475  \n",
       "Temperature(C)                        44.0   8.439283  \n",
       "Temperature(F)                       111.0  15.144656  \n",
       "Year                                2016.0   2.644219  \n",
       "Month                                 12.0   3.408942  \n",
       "Day                                   31.0   8.360619  \n",
       "DayOfWeek                              6.0   1.835464  \n",
       "Hour                                  23.0   1.660152  \n",
       "Casualty Ratio                         inf        NaN  "
      ]
     },
     "execution_count": 20,
     "metadata": {},
     "output_type": "execute_result"
    }
   ],
   "source": [
    "df_cleaned.describe().T"
   ]
  },
  {
   "cell_type": "code",
   "execution_count": null,
   "metadata": {},
   "outputs": [],
   "source": []
  }
 ],
 "metadata": {
  "kernelspec": {
   "display_name": "Python 3",
   "language": "python",
   "name": "python3"
  },
  "language_info": {
   "codemirror_mode": {
    "name": "ipython",
    "version": 3
   },
   "file_extension": ".py",
   "mimetype": "text/x-python",
   "name": "python",
   "nbconvert_exporter": "python",
   "pygments_lexer": "ipython3",
   "version": "3.12.2"
  }
 },
 "nbformat": 4,
 "nbformat_minor": 2
}
